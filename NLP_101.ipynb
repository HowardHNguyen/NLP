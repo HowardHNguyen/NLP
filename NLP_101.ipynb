{
  "nbformat": 4,
  "nbformat_minor": 0,
  "metadata": {
    "colab": {
      "provenance": [],
      "authorship_tag": "ABX9TyPx2Vtax9cyiHiDietvsuAs",
      "include_colab_link": true
    },
    "kernelspec": {
      "name": "python3",
      "display_name": "Python 3"
    },
    "language_info": {
      "name": "python"
    }
  },
  "cells": [
    {
      "cell_type": "markdown",
      "metadata": {
        "id": "view-in-github",
        "colab_type": "text"
      },
      "source": [
        "<a href=\"https://colab.research.google.com/github/HowardHNguyen/Natural_Language_Processing-NLP/blob/main/NLP_101.ipynb\" target=\"_parent\"><img src=\"https://colab.research.google.com/assets/colab-badge.svg\" alt=\"Open In Colab\"/></a>"
      ]
    },
    {
      "cell_type": "code",
      "source": [
        "import nltk\n",
        "from nltk.tokenize import TweetTokenizer\n",
        "import time\n",
        "import spacy\n",
        "nltk.download('punkt')"
      ],
      "metadata": {
        "colab": {
          "base_uri": "https://localhost:8080/"
        },
        "id": "2GPNw1Qx5RLG",
        "outputId": "f202c26a-4868-4b52-bc95-5d63084eeea4"
      },
      "execution_count": 137,
      "outputs": [
        {
          "output_type": "stream",
          "name": "stderr",
          "text": [
            "[nltk_data] Downloading package punkt to /root/nltk_data...\n",
            "[nltk_data]   Package punkt is already up-to-date!\n"
          ]
        },
        {
          "output_type": "execute_result",
          "data": {
            "text/plain": [
              "True"
            ]
          },
          "metadata": {},
          "execution_count": 137
        }
      ]
    },
    {
      "cell_type": "code",
      "source": [
        "tokenizer = nltk.data.load('tokenizers/punkt/english.pickle')"
      ],
      "metadata": {
        "id": "j7rzTAdWPsw_"
      },
      "execution_count": 138,
      "outputs": []
    },
    {
      "cell_type": "code",
      "source": [
        "nlp = spacy.load('en_core_web_sm')"
      ],
      "metadata": {
        "id": "gztabxVS5RHx"
      },
      "execution_count": 139,
      "outputs": []
    },
    {
      "cell_type": "code",
      "source": [
        "def read_text_file(filename):\n",
        "    file = open(filename, \"r\", encoding=\"utf-8\")\n",
        "    return file.read()\n",
        "\n",
        "def preprocess_text(text):\n",
        "    text = text.replace(\"\\n\", \" \")\n",
        "    return text\n",
        "\n",
        "def divide_into_sentences_nltk(text):\n",
        "    sentences = tokenizer.tokenize(text)\n",
        "    return sentences\n",
        "\n",
        "def divide_into_sentences_spacy(text):\n",
        "    doc = nlp(text)\n",
        "    return [sentence.text for sentence in doc.sents]\n",
        "\n",
        "def divide_into_sentences(text):\n",
        "    return divide_into_sentences_nltk(text)"
      ],
      "metadata": {
        "id": "n1kPixl-5RE2"
      },
      "execution_count": 140,
      "outputs": []
    },
    {
      "cell_type": "code",
      "source": [
        "from google.colab import drive\n",
        "drive.mount('/content/drive')"
      ],
      "metadata": {
        "colab": {
          "base_uri": "https://localhost:8080/"
        },
        "id": "QC2xfaBA5tEw",
        "outputId": "8d166048-1122-456b-a9e2-8b73e4e470b0"
      },
      "execution_count": 141,
      "outputs": [
        {
          "output_type": "stream",
          "name": "stdout",
          "text": [
            "Drive already mounted at /content/drive; to attempt to forcibly remount, call drive.mount(\"/content/drive\", force_remount=True).\n"
          ]
        }
      ]
    },
    {
      "cell_type": "code",
      "source": [
        "filename = \"/content/drive/MyDrive/_Python/Python-Natural-Language-Processing/Chapter01/sherlock_holmes_1.txt\"\n",
        "file = open(filename, \"r\", encoding=\"utf-8\")\n",
        "text = file.read()"
      ],
      "metadata": {
        "id": "1k0l-xJB5tA3"
      },
      "execution_count": 142,
      "outputs": []
    },
    {
      "cell_type": "code",
      "source": [
        "text"
      ],
      "metadata": {
        "colab": {
          "base_uri": "https://localhost:8080/",
          "height": 174
        },
        "id": "_r-1idprSHXD",
        "outputId": "677982d5-3a15-474b-923a-0e0bf8ca977d"
      },
      "execution_count": 143,
      "outputs": [
        {
          "output_type": "execute_result",
          "data": {
            "text/plain": [
              "'To Sherlock Holmes she is always _the_ woman. I have seldom heard him\\nmention her under any other name. In his eyes she eclipses and\\npredominates the whole of her sex. It was not that he felt any emotion\\nakin to love for Irene Adler. All emotions, and that one particularly,\\nwere abhorrent to his cold, precise but admirably balanced mind. He\\nwas, I take it, the most perfect reasoning and observing machine that\\nthe world has seen, but as a lover he would have placed himself in a\\nfalse position. He never spoke of the softer passions, save with a gibe\\nand a sneer. They were admirable things for the observer—excellent for\\ndrawing the veil from men’s motives and actions. But for the trained\\nreasoner to admit such intrusions into his own delicate and finely\\nadjusted temperament was to introduce a distracting factor which might\\nthrow a doubt upon all his mental results. Grit in a sensitive\\ninstrument, or a crack in one of his own high-power lenses, would not\\nbe more disturbing than a strong emotion in a nature such as his. And\\nyet there was but one woman to him, and that woman was the late Irene\\nAdler, of dubious and questionable memory.'"
            ],
            "application/vnd.google.colaboratory.intrinsic+json": {
              "type": "string"
            }
          },
          "metadata": {},
          "execution_count": 143
        }
      ]
    },
    {
      "cell_type": "code",
      "source": [
        "# replace newlines with spaces\n",
        "text = text.replace(\"\\n\", \" \")"
      ],
      "metadata": {
        "id": "Nv4cxKK45RBL"
      },
      "execution_count": 144,
      "outputs": []
    },
    {
      "cell_type": "code",
      "source": [
        "# initialize an NLTK tokenizer. This uses the punkt model we downloaded earlier\n",
        "tokenizer = nltk.data.load('tokenizers/punkt/english.pickle')"
      ],
      "metadata": {
        "id": "tvzqJug55xu7"
      },
      "execution_count": 145,
      "outputs": []
    },
    {
      "cell_type": "code",
      "source": [
        "# divide the text into sentences\n",
        "sentences = tokenizer.tokenize(text)"
      ],
      "metadata": {
        "id": "azLTgWAw5xrW"
      },
      "execution_count": 146,
      "outputs": []
    },
    {
      "cell_type": "code",
      "source": [
        "# here is the results:\n",
        "sentences"
      ],
      "metadata": {
        "colab": {
          "base_uri": "https://localhost:8080/"
        },
        "id": "ocU0RgNg5xns",
        "outputId": "48a857dd-0ab8-4e5d-f1d5-de6ef1938788"
      },
      "execution_count": 147,
      "outputs": [
        {
          "output_type": "execute_result",
          "data": {
            "text/plain": [
              "['To Sherlock Holmes she is always _the_ woman.',\n",
              " 'I have seldom heard him mention her under any other name.',\n",
              " 'In his eyes she eclipses and predominates the whole of her sex.',\n",
              " 'It was not that he felt any emotion akin to love for Irene Adler.',\n",
              " 'All emotions, and that one particularly, were abhorrent to his cold, precise but admirably balanced mind.',\n",
              " 'He was, I take it, the most perfect reasoning and observing machine that the world has seen, but as a lover he would have placed himself in a false position.',\n",
              " 'He never spoke of the softer passions, save with a gibe and a sneer.',\n",
              " 'They were admirable things for the observer—excellent for drawing the veil from men’s motives and actions.',\n",
              " 'But for the trained reasoner to admit such intrusions into his own delicate and finely adjusted temperament was to introduce a distracting factor which might throw a doubt upon all his mental results.',\n",
              " 'Grit in a sensitive instrument, or a crack in one of his own high-power lenses, would not be more disturbing than a strong emotion in a nature such as his.',\n",
              " 'And yet there was but one woman to him, and that woman was the late Irene Adler, of dubious and questionable memory.']"
            ]
          },
          "metadata": {},
          "execution_count": 147
        }
      ]
    },
    {
      "cell_type": "markdown",
      "source": [
        "# Dividing sentences into words - Tokenization\n",
        "In many instances, we rely on individual words when we do NLP tasks. This happens, for example, when we build semantic models of texts by relying on the semantics of individual words, or when we are looking for words with a specific part of speech. To divide text into words, we can use NLTK and spaCy."
      ],
      "metadata": {
        "id": "_W51K3dOS__x"
      }
    },
    {
      "cell_type": "code",
      "source": [
        "# from previous steps to the 'sentences'\n",
        "words = nltk.tokenize.word_tokenize(text)"
      ],
      "metadata": {
        "id": "GlPGj9QY5FSL"
      },
      "execution_count": 148,
      "outputs": []
    },
    {
      "cell_type": "code",
      "source": [
        "# the results of tokenize words\n",
        "print(words)"
      ],
      "metadata": {
        "colab": {
          "base_uri": "https://localhost:8080/"
        },
        "id": "7Hwb2tcSTcTI",
        "outputId": "eafbbfb6-02e9-44c6-f1c2-4eee617104e9"
      },
      "execution_count": 149,
      "outputs": [
        {
          "output_type": "stream",
          "name": "stdout",
          "text": [
            "['To', 'Sherlock', 'Holmes', 'she', 'is', 'always', '_the_', 'woman', '.', 'I', 'have', 'seldom', 'heard', 'him', 'mention', 'her', 'under', 'any', 'other', 'name', '.', 'In', 'his', 'eyes', 'she', 'eclipses', 'and', 'predominates', 'the', 'whole', 'of', 'her', 'sex', '.', 'It', 'was', 'not', 'that', 'he', 'felt', 'any', 'emotion', 'akin', 'to', 'love', 'for', 'Irene', 'Adler', '.', 'All', 'emotions', ',', 'and', 'that', 'one', 'particularly', ',', 'were', 'abhorrent', 'to', 'his', 'cold', ',', 'precise', 'but', 'admirably', 'balanced', 'mind', '.', 'He', 'was', ',', 'I', 'take', 'it', ',', 'the', 'most', 'perfect', 'reasoning', 'and', 'observing', 'machine', 'that', 'the', 'world', 'has', 'seen', ',', 'but', 'as', 'a', 'lover', 'he', 'would', 'have', 'placed', 'himself', 'in', 'a', 'false', 'position', '.', 'He', 'never', 'spoke', 'of', 'the', 'softer', 'passions', ',', 'save', 'with', 'a', 'gibe', 'and', 'a', 'sneer', '.', 'They', 'were', 'admirable', 'things', 'for', 'the', 'observer—excellent', 'for', 'drawing', 'the', 'veil', 'from', 'men', '’', 's', 'motives', 'and', 'actions', '.', 'But', 'for', 'the', 'trained', 'reasoner', 'to', 'admit', 'such', 'intrusions', 'into', 'his', 'own', 'delicate', 'and', 'finely', 'adjusted', 'temperament', 'was', 'to', 'introduce', 'a', 'distracting', 'factor', 'which', 'might', 'throw', 'a', 'doubt', 'upon', 'all', 'his', 'mental', 'results', '.', 'Grit', 'in', 'a', 'sensitive', 'instrument', ',', 'or', 'a', 'crack', 'in', 'one', 'of', 'his', 'own', 'high-power', 'lenses', ',', 'would', 'not', 'be', 'more', 'disturbing', 'than', 'a', 'strong', 'emotion', 'in', 'a', 'nature', 'such', 'as', 'his', '.', 'And', 'yet', 'there', 'was', 'but', 'one', 'woman', 'to', 'him', ',', 'and', 'that', 'woman', 'was', 'the', 'late', 'Irene', 'Adler', ',', 'of', 'dubious', 'and', 'questionable', 'memory', '.']\n"
          ]
        }
      ]
    },
    {
      "cell_type": "code",
      "source": [
        "import nltk\n",
        "nltk.download('stopwords')"
      ],
      "metadata": {
        "colab": {
          "base_uri": "https://localhost:8080/"
        },
        "id": "YedMyQj0U6PA",
        "outputId": "e0a98746-3d29-4f88-e480-31d347232820"
      },
      "execution_count": 150,
      "outputs": [
        {
          "output_type": "stream",
          "name": "stderr",
          "text": [
            "[nltk_data] Downloading package stopwords to /root/nltk_data...\n",
            "[nltk_data]   Package stopwords is already up-to-date!\n"
          ]
        },
        {
          "output_type": "execute_result",
          "data": {
            "text/plain": [
              "True"
            ]
          },
          "metadata": {},
          "execution_count": 150
        }
      ]
    },
    {
      "cell_type": "code",
      "source": [
        "from nltk.corpus import stopwords\n",
        "stop_words = set(stopwords.words('english'))\n",
        "nltk.download('stopwords')"
      ],
      "metadata": {
        "colab": {
          "base_uri": "https://localhost:8080/"
        },
        "id": "4vpDvqDcU8eS",
        "outputId": "4a49651c-352b-4746-e888-96136bb31ae9"
      },
      "execution_count": 151,
      "outputs": [
        {
          "output_type": "stream",
          "name": "stderr",
          "text": [
            "[nltk_data] Downloading package stopwords to /root/nltk_data...\n",
            "[nltk_data]   Package stopwords is already up-to-date!\n"
          ]
        },
        {
          "output_type": "execute_result",
          "data": {
            "text/plain": [
              "True"
            ]
          },
          "metadata": {},
          "execution_count": 151
        }
      ]
    },
    {
      "cell_type": "code",
      "source": [
        "# remove the stopwords\n",
        "words = [word for word in words if word not in stop_words]"
      ],
      "metadata": {
        "id": "eFyNYZM1Th3F"
      },
      "execution_count": 152,
      "outputs": []
    },
    {
      "cell_type": "code",
      "source": [
        "print(words)"
      ],
      "metadata": {
        "colab": {
          "base_uri": "https://localhost:8080/"
        },
        "id": "nRLvY6M5UiPh",
        "outputId": "564168c1-c4b8-45a9-8a4b-5ff9766380a8"
      },
      "execution_count": 153,
      "outputs": [
        {
          "output_type": "stream",
          "name": "stdout",
          "text": [
            "['To', 'Sherlock', 'Holmes', 'always', '_the_', 'woman', '.', 'I', 'seldom', 'heard', 'mention', 'name', '.', 'In', 'eyes', 'eclipses', 'predominates', 'whole', 'sex', '.', 'It', 'felt', 'emotion', 'akin', 'love', 'Irene', 'Adler', '.', 'All', 'emotions', ',', 'one', 'particularly', ',', 'abhorrent', 'cold', ',', 'precise', 'admirably', 'balanced', 'mind', '.', 'He', ',', 'I', 'take', ',', 'perfect', 'reasoning', 'observing', 'machine', 'world', 'seen', ',', 'lover', 'would', 'placed', 'false', 'position', '.', 'He', 'never', 'spoke', 'softer', 'passions', ',', 'save', 'gibe', 'sneer', '.', 'They', 'admirable', 'things', 'observer—excellent', 'drawing', 'veil', 'men', '’', 'motives', 'actions', '.', 'But', 'trained', 'reasoner', 'admit', 'intrusions', 'delicate', 'finely', 'adjusted', 'temperament', 'introduce', 'distracting', 'factor', 'might', 'throw', 'doubt', 'upon', 'mental', 'results', '.', 'Grit', 'sensitive', 'instrument', ',', 'crack', 'one', 'high-power', 'lenses', ',', 'would', 'disturbing', 'strong', 'emotion', 'nature', '.', 'And', 'yet', 'one', 'woman', ',', 'woman', 'late', 'Irene', 'Adler', ',', 'dubious', 'questionable', 'memory', '.']\n"
          ]
        }
      ]
    },
    {
      "cell_type": "code",
      "source": [
        "from nltk.tokenize import word_tokenize\n",
        "from collections import Counter"
      ],
      "metadata": {
        "id": "tPUZldVeVZpA"
      },
      "execution_count": 154,
      "outputs": []
    },
    {
      "cell_type": "code",
      "source": [
        "# tokenization\n",
        "tokens = word_tokenize(text)"
      ],
      "metadata": {
        "id": "ZQaXntTJG9_w"
      },
      "execution_count": 155,
      "outputs": []
    },
    {
      "cell_type": "code",
      "source": [
        "# normalization (convert to lowercase)\n",
        "token_lower = [word.lower() for word in tokens]"
      ],
      "metadata": {
        "id": "rpZVvIZgHDpg"
      },
      "execution_count": 156,
      "outputs": []
    },
    {
      "cell_type": "code",
      "source": [
        "# counting words\n",
        "word_counts = Counter(token_lower)"
      ],
      "metadata": {
        "id": "rznCJr6oHRin"
      },
      "execution_count": 157,
      "outputs": []
    },
    {
      "cell_type": "code",
      "source": [
        "# print word counts\n",
        "for word, count in word_counts.most_common(10):\n",
        "    print(word, count)"
      ],
      "metadata": {
        "colab": {
          "base_uri": "https://localhost:8080/"
        },
        "id": "XH1kxOxsHYDp",
        "outputId": "e4c8eec2-6596-4cff-944c-e54f4f7da715"
      },
      "execution_count": 158,
      "outputs": [
        {
          "output_type": "stream",
          "name": "stdout",
          "text": [
            ". 11\n",
            ", 11\n",
            "a 10\n",
            "and 9\n",
            "the 8\n",
            "to 6\n",
            "his 6\n",
            "in 5\n",
            "was 5\n",
            "of 4\n"
          ]
        }
      ]
    },
    {
      "cell_type": "code",
      "source": [
        "for word, count in word_counts.items():\n",
        "    print(f\"{word}, {count}\")"
      ],
      "metadata": {
        "colab": {
          "base_uri": "https://localhost:8080/"
        },
        "id": "DZODz2OsHdZ_",
        "outputId": "61d08122-5aae-4879-b4a6-570271cf0b99"
      },
      "execution_count": 159,
      "outputs": [
        {
          "output_type": "stream",
          "name": "stdout",
          "text": [
            "to, 6\n",
            "sherlock, 1\n",
            "holmes, 1\n",
            "she, 2\n",
            "is, 1\n",
            "always, 1\n",
            "_the_, 1\n",
            "woman, 3\n",
            "., 11\n",
            "i, 2\n",
            "have, 2\n",
            "seldom, 1\n",
            "heard, 1\n",
            "him, 2\n",
            "mention, 1\n",
            "her, 2\n",
            "under, 1\n",
            "any, 2\n",
            "other, 1\n",
            "name, 1\n",
            "in, 5\n",
            "his, 6\n",
            "eyes, 1\n",
            "eclipses, 1\n",
            "and, 9\n",
            "predominates, 1\n",
            "the, 8\n",
            "whole, 1\n",
            "of, 4\n",
            "sex, 1\n",
            "it, 2\n",
            "was, 5\n",
            "not, 2\n",
            "that, 4\n",
            "he, 4\n",
            "felt, 1\n",
            "emotion, 2\n",
            "akin, 1\n",
            "love, 1\n",
            "for, 4\n",
            "irene, 2\n",
            "adler, 2\n",
            "all, 2\n",
            "emotions, 1\n",
            ",, 11\n",
            "one, 3\n",
            "particularly, 1\n",
            "were, 2\n",
            "abhorrent, 1\n",
            "cold, 1\n",
            "precise, 1\n",
            "but, 4\n",
            "admirably, 1\n",
            "balanced, 1\n",
            "mind, 1\n",
            "take, 1\n",
            "most, 1\n",
            "perfect, 1\n",
            "reasoning, 1\n",
            "observing, 1\n",
            "machine, 1\n",
            "world, 1\n",
            "has, 1\n",
            "seen, 1\n",
            "as, 2\n",
            "a, 10\n",
            "lover, 1\n",
            "would, 2\n",
            "placed, 1\n",
            "himself, 1\n",
            "false, 1\n",
            "position, 1\n",
            "never, 1\n",
            "spoke, 1\n",
            "softer, 1\n",
            "passions, 1\n",
            "save, 1\n",
            "with, 1\n",
            "gibe, 1\n",
            "sneer, 1\n",
            "they, 1\n",
            "admirable, 1\n",
            "things, 1\n",
            "observer—excellent, 1\n",
            "drawing, 1\n",
            "veil, 1\n",
            "from, 1\n",
            "men, 1\n",
            "’, 1\n",
            "s, 1\n",
            "motives, 1\n",
            "actions, 1\n",
            "trained, 1\n",
            "reasoner, 1\n",
            "admit, 1\n",
            "such, 2\n",
            "intrusions, 1\n",
            "into, 1\n",
            "own, 2\n",
            "delicate, 1\n",
            "finely, 1\n",
            "adjusted, 1\n",
            "temperament, 1\n",
            "introduce, 1\n",
            "distracting, 1\n",
            "factor, 1\n",
            "which, 1\n",
            "might, 1\n",
            "throw, 1\n",
            "doubt, 1\n",
            "upon, 1\n",
            "mental, 1\n",
            "results, 1\n",
            "grit, 1\n",
            "sensitive, 1\n",
            "instrument, 1\n",
            "or, 1\n",
            "crack, 1\n",
            "high-power, 1\n",
            "lenses, 1\n",
            "be, 1\n",
            "more, 1\n",
            "disturbing, 1\n",
            "than, 1\n",
            "strong, 1\n",
            "nature, 1\n",
            "yet, 1\n",
            "there, 1\n",
            "late, 1\n",
            "dubious, 1\n",
            "questionable, 1\n",
            "memory, 1\n"
          ]
        }
      ]
    },
    {
      "cell_type": "code",
      "source": [
        "# plotting\n",
        "import matplotlib.pyplot as plt\n",
        "words, counts = zip(*word_counts.most_common(30))\n",
        "plt.figure(figsize=(10, 5))\n",
        "plt.bar(words, counts)\n",
        "plt.xticks(rotation=45)\n",
        "plt.title(\"Top 30 words in Sherlock Holmes\")\n",
        "plt.xlabel(\"Words\")\n",
        "plt.ylabel(\"Counts\")\n",
        "plt.tight_layout()\n",
        "plt.show()"
      ],
      "metadata": {
        "colab": {
          "base_uri": "https://localhost:8080/",
          "height": 507
        },
        "id": "pXj8uHtoH5Ws",
        "outputId": "e2b16bca-d7f1-4a25-be0b-5e1437840bf5"
      },
      "execution_count": 160,
      "outputs": [
        {
          "output_type": "display_data",
          "data": {
            "text/plain": [
              "<Figure size 1000x500 with 1 Axes>"
            ],
            "image/png": "[encoded data removed]"
          },
          "metadata": {}
        }
      ]
    },
    {
      "cell_type": "markdown",
      "source": [
        "# **Playing with Grammar**\n",
        "Grammar is one of the main building blocks of language. Each human language, and programming language for that matter, has a set of rules that every person speaking it has to follow because otherwise, they risk not being understood. These grammatical rules can be uncovered using NLP and are useful for extracting data from sentences. For example, using information about the grammatical structure of text, we can parse out subjects, objects, and relationships between different entities."
      ],
      "metadata": {
        "id": "5HmqPSQFKEv1"
      }
    },
    {
      "cell_type": "code",
      "source": [
        "!pip install inflect\n",
        "!pip install textacy"
      ],
      "metadata": {
        "colab": {
          "base_uri": "https://localhost:8080/"
        },
        "id": "9s6rR2mqIgM-",
        "outputId": "eb1fd4d8-176c-47df-a544-33fc06c678e8"
      },
      "execution_count": 161,
      "outputs": [
        {
          "output_type": "stream",
          "name": "stdout",
          "text": [
            "Requirement already satisfied: inflect in /usr/local/lib/python3.10/dist-packages (7.0.0)\n",
            "Requirement already satisfied: pydantic>=1.9.1 in /usr/local/lib/python3.10/dist-packages (from inflect) (2.7.0)\n",
            "Requirement already satisfied: typing-extensions in /usr/local/lib/python3.10/dist-packages (from inflect) (4.11.0)\n",
            "Requirement already satisfied: annotated-types>=0.4.0 in /usr/local/lib/python3.10/dist-packages (from pydantic>=1.9.1->inflect) (0.6.0)\n",
            "Requirement already satisfied: pydantic-core==2.18.1 in /usr/local/lib/python3.10/dist-packages (from pydantic>=1.9.1->inflect) (2.18.1)\n",
            "Requirement already satisfied: textacy in /usr/local/lib/python3.10/dist-packages (0.13.0)\n",
            "Requirement already satisfied: cachetools>=4.0.0 in /usr/local/lib/python3.10/dist-packages (from textacy) (5.3.3)\n",
            "Requirement already satisfied: catalogue~=2.0 in /usr/local/lib/python3.10/dist-packages (from textacy) (2.0.10)\n",
            "Requirement already satisfied: cytoolz>=0.10.1 in /usr/local/lib/python3.10/dist-packages (from textacy) (0.12.3)\n",
            "Requirement already satisfied: floret~=0.10.0 in /usr/local/lib/python3.10/dist-packages (from textacy) (0.10.5)\n",
            "Requirement already satisfied: jellyfish>=0.8.0 in /usr/local/lib/python3.10/dist-packages (from textacy) (1.0.3)\n",
            "Requirement already satisfied: joblib>=0.13.0 in /usr/local/lib/python3.10/dist-packages (from textacy) (1.4.0)\n",
            "Requirement already satisfied: networkx>=2.7 in /usr/local/lib/python3.10/dist-packages (from textacy) (3.3)\n",
            "Requirement already satisfied: numpy>=1.17.0 in /usr/local/lib/python3.10/dist-packages (from textacy) (1.25.2)\n",
            "Requirement already satisfied: pyphen>=0.10.0 in /usr/local/lib/python3.10/dist-packages (from textacy) (0.15.0)\n",
            "Requirement already satisfied: requests>=2.10.0 in /usr/local/lib/python3.10/dist-packages (from textacy) (2.31.0)\n",
            "Requirement already satisfied: scipy>=1.8.0 in /usr/local/lib/python3.10/dist-packages (from textacy) (1.11.4)\n",
            "Requirement already satisfied: scikit-learn>=1.0 in /usr/local/lib/python3.10/dist-packages (from textacy) (1.2.2)\n",
            "Requirement already satisfied: spacy~=3.0 in /usr/local/lib/python3.10/dist-packages (from textacy) (3.7.4)\n",
            "Requirement already satisfied: tqdm>=4.19.6 in /usr/local/lib/python3.10/dist-packages (from textacy) (4.66.2)\n",
            "Requirement already satisfied: toolz>=0.8.0 in /usr/local/lib/python3.10/dist-packages (from cytoolz>=0.10.1->textacy) (0.12.1)\n",
            "Requirement already satisfied: charset-normalizer<4,>=2 in /usr/local/lib/python3.10/dist-packages (from requests>=2.10.0->textacy) (3.3.2)\n",
            "Requirement already satisfied: idna<4,>=2.5 in /usr/local/lib/python3.10/dist-packages (from requests>=2.10.0->textacy) (3.7)\n",
            "Requirement already satisfied: urllib3<3,>=1.21.1 in /usr/local/lib/python3.10/dist-packages (from requests>=2.10.0->textacy) (2.0.7)\n",
            "Requirement already satisfied: certifi>=2017.4.17 in /usr/local/lib/python3.10/dist-packages (from requests>=2.10.0->textacy) (2024.2.2)\n",
            "Requirement already satisfied: threadpoolctl>=2.0.0 in /usr/local/lib/python3.10/dist-packages (from scikit-learn>=1.0->textacy) (3.4.0)\n",
            "Requirement already satisfied: spacy-legacy<3.1.0,>=3.0.11 in /usr/local/lib/python3.10/dist-packages (from spacy~=3.0->textacy) (3.0.12)\n",
            "Requirement already satisfied: spacy-loggers<2.0.0,>=1.0.0 in /usr/local/lib/python3.10/dist-packages (from spacy~=3.0->textacy) (1.0.5)\n",
            "Requirement already satisfied: murmurhash<1.1.0,>=0.28.0 in /usr/local/lib/python3.10/dist-packages (from spacy~=3.0->textacy) (1.0.10)\n",
            "Requirement already satisfied: cymem<2.1.0,>=2.0.2 in /usr/local/lib/python3.10/dist-packages (from spacy~=3.0->textacy) (2.0.8)\n",
            "Requirement already satisfied: preshed<3.1.0,>=3.0.2 in /usr/local/lib/python3.10/dist-packages (from spacy~=3.0->textacy) (3.0.9)\n",
            "Requirement already satisfied: thinc<8.3.0,>=8.2.2 in /usr/local/lib/python3.10/dist-packages (from spacy~=3.0->textacy) (8.2.3)\n",
            "Requirement already satisfied: wasabi<1.2.0,>=0.9.1 in /usr/local/lib/python3.10/dist-packages (from spacy~=3.0->textacy) (1.1.2)\n",
            "Requirement already satisfied: srsly<3.0.0,>=2.4.3 in /usr/local/lib/python3.10/dist-packages (from spacy~=3.0->textacy) (2.4.8)\n",
            "Requirement already satisfied: weasel<0.4.0,>=0.1.0 in /usr/local/lib/python3.10/dist-packages (from spacy~=3.0->textacy) (0.3.4)\n",
            "Requirement already satisfied: typer<0.10.0,>=0.3.0 in /usr/local/lib/python3.10/dist-packages (from spacy~=3.0->textacy) (0.9.4)\n",
            "Requirement already satisfied: smart-open<7.0.0,>=5.2.1 in /usr/local/lib/python3.10/dist-packages (from spacy~=3.0->textacy) (6.4.0)\n",
            "Requirement already satisfied: pydantic!=1.8,!=1.8.1,<3.0.0,>=1.7.4 in /usr/local/lib/python3.10/dist-packages (from spacy~=3.0->textacy) (2.7.0)\n",
            "Requirement already satisfied: jinja2 in /usr/local/lib/python3.10/dist-packages (from spacy~=3.0->textacy) (3.1.3)\n",
            "Requirement already satisfied: setuptools in /usr/local/lib/python3.10/dist-packages (from spacy~=3.0->textacy) (67.7.2)\n",
            "Requirement already satisfied: packaging>=20.0 in /usr/local/lib/python3.10/dist-packages (from spacy~=3.0->textacy) (24.0)\n",
            "Requirement already satisfied: langcodes<4.0.0,>=3.2.0 in /usr/local/lib/python3.10/dist-packages (from spacy~=3.0->textacy) (3.3.0)\n",
            "Requirement already satisfied: annotated-types>=0.4.0 in /usr/local/lib/python3.10/dist-packages (from pydantic!=1.8,!=1.8.1,<3.0.0,>=1.7.4->spacy~=3.0->textacy) (0.6.0)\n",
            "Requirement already satisfied: pydantic-core==2.18.1 in /usr/local/lib/python3.10/dist-packages (from pydantic!=1.8,!=1.8.1,<3.0.0,>=1.7.4->spacy~=3.0->textacy) (2.18.1)\n",
            "Requirement already satisfied: typing-extensions>=4.6.1 in /usr/local/lib/python3.10/dist-packages (from pydantic!=1.8,!=1.8.1,<3.0.0,>=1.7.4->spacy~=3.0->textacy) (4.11.0)\n",
            "Requirement already satisfied: blis<0.8.0,>=0.7.8 in /usr/local/lib/python3.10/dist-packages (from thinc<8.3.0,>=8.2.2->spacy~=3.0->textacy) (0.7.11)\n",
            "Requirement already satisfied: confection<1.0.0,>=0.0.1 in /usr/local/lib/python3.10/dist-packages (from thinc<8.3.0,>=8.2.2->spacy~=3.0->textacy) (0.1.4)\n",
            "Requirement already satisfied: click<9.0.0,>=7.1.1 in /usr/local/lib/python3.10/dist-packages (from typer<0.10.0,>=0.3.0->spacy~=3.0->textacy) (8.1.7)\n",
            "Requirement already satisfied: cloudpathlib<0.17.0,>=0.7.0 in /usr/local/lib/python3.10/dist-packages (from weasel<0.4.0,>=0.1.0->spacy~=3.0->textacy) (0.16.0)\n",
            "Requirement already satisfied: MarkupSafe>=2.0 in /usr/local/lib/python3.10/dist-packages (from jinja2->spacy~=3.0->textacy) (2.1.5)\n"
          ]
        }
      ]
    },
    {
      "cell_type": "code",
      "source": [
        "!pip install neuralcoref"
      ],
      "metadata": {
        "colab": {
          "base_uri": "https://localhost:8080/"
        },
        "id": "A7W1P6gZKfHK",
        "outputId": "08107849-5b05-403b-bfff-07f01b4006c5"
      },
      "execution_count": 162,
      "outputs": [
        {
          "output_type": "stream",
          "name": "stdout",
          "text": [
            "Collecting neuralcoref\n",
            "  Using cached neuralcoref-4.0.tar.gz (368 kB)\n",
            "  Preparing metadata (setup.py) ... \u001b[?25l\u001b[?25hdone\n",
            "Requirement already satisfied: numpy>=1.15.0 in /usr/local/lib/python3.10/dist-packages (from neuralcoref) (1.25.2)\n",
            "Collecting boto3 (from neuralcoref)\n",
            "  Using cached boto3-1.34.93-py3-none-any.whl (139 kB)\n",
            "Requirement already satisfied: requests<3.0.0,>=2.13.0 in /usr/local/lib/python3.10/dist-packages (from neuralcoref) (2.31.0)\n",
            "Requirement already satisfied: spacy>=2.1.0 in /usr/local/lib/python3.10/dist-packages (from neuralcoref) (3.7.4)\n",
            "Requirement already satisfied: charset-normalizer<4,>=2 in /usr/local/lib/python3.10/dist-packages (from requests<3.0.0,>=2.13.0->neuralcoref) (3.3.2)\n",
            "Requirement already satisfied: idna<4,>=2.5 in /usr/local/lib/python3.10/dist-packages (from requests<3.0.0,>=2.13.0->neuralcoref) (3.7)\n",
            "Requirement already satisfied: urllib3<3,>=1.21.1 in /usr/local/lib/python3.10/dist-packages (from requests<3.0.0,>=2.13.0->neuralcoref) (2.0.7)\n",
            "Requirement already satisfied: certifi>=2017.4.17 in /usr/local/lib/python3.10/dist-packages (from requests<3.0.0,>=2.13.0->neuralcoref) (2024.2.2)\n",
            "Requirement already satisfied: spacy-legacy<3.1.0,>=3.0.11 in /usr/local/lib/python3.10/dist-packages (from spacy>=2.1.0->neuralcoref) (3.0.12)\n",
            "Requirement already satisfied: spacy-loggers<2.0.0,>=1.0.0 in /usr/local/lib/python3.10/dist-packages (from spacy>=2.1.0->neuralcoref) (1.0.5)\n",
            "Requirement already satisfied: murmurhash<1.1.0,>=0.28.0 in /usr/local/lib/python3.10/dist-packages (from spacy>=2.1.0->neuralcoref) (1.0.10)\n",
            "Requirement already satisfied: cymem<2.1.0,>=2.0.2 in /usr/local/lib/python3.10/dist-packages (from spacy>=2.1.0->neuralcoref) (2.0.8)\n",
            "Requirement already satisfied: preshed<3.1.0,>=3.0.2 in /usr/local/lib/python3.10/dist-packages (from spacy>=2.1.0->neuralcoref) (3.0.9)\n",
            "Requirement already satisfied: thinc<8.3.0,>=8.2.2 in /usr/local/lib/python3.10/dist-packages (from spacy>=2.1.0->neuralcoref) (8.2.3)\n",
            "Requirement already satisfied: wasabi<1.2.0,>=0.9.1 in /usr/local/lib/python3.10/dist-packages (from spacy>=2.1.0->neuralcoref) (1.1.2)\n",
            "Requirement already satisfied: srsly<3.0.0,>=2.4.3 in /usr/local/lib/python3.10/dist-packages (from spacy>=2.1.0->neuralcoref) (2.4.8)\n",
            "Requirement already satisfied: catalogue<2.1.0,>=2.0.6 in /usr/local/lib/python3.10/dist-packages (from spacy>=2.1.0->neuralcoref) (2.0.10)\n",
            "Requirement already satisfied: weasel<0.4.0,>=0.1.0 in /usr/local/lib/python3.10/dist-packages (from spacy>=2.1.0->neuralcoref) (0.3.4)\n",
            "Requirement already satisfied: typer<0.10.0,>=0.3.0 in /usr/local/lib/python3.10/dist-packages (from spacy>=2.1.0->neuralcoref) (0.9.4)\n",
            "Requirement already satisfied: smart-open<7.0.0,>=5.2.1 in /usr/local/lib/python3.10/dist-packages (from spacy>=2.1.0->neuralcoref) (6.4.0)\n",
            "Requirement already satisfied: tqdm<5.0.0,>=4.38.0 in /usr/local/lib/python3.10/dist-packages (from spacy>=2.1.0->neuralcoref) (4.66.2)\n",
            "Requirement already satisfied: pydantic!=1.8,!=1.8.1,<3.0.0,>=1.7.4 in /usr/local/lib/python3.10/dist-packages (from spacy>=2.1.0->neuralcoref) (2.7.0)\n",
            "Requirement already satisfied: jinja2 in /usr/local/lib/python3.10/dist-packages (from spacy>=2.1.0->neuralcoref) (3.1.3)\n",
            "Requirement already satisfied: setuptools in /usr/local/lib/python3.10/dist-packages (from spacy>=2.1.0->neuralcoref) (67.7.2)\n",
            "Requirement already satisfied: packaging>=20.0 in /usr/local/lib/python3.10/dist-packages (from spacy>=2.1.0->neuralcoref) (24.0)\n",
            "Requirement already satisfied: langcodes<4.0.0,>=3.2.0 in /usr/local/lib/python3.10/dist-packages (from spacy>=2.1.0->neuralcoref) (3.3.0)\n",
            "Collecting botocore<1.35.0,>=1.34.93 (from boto3->neuralcoref)\n",
            "  Using cached botocore-1.34.93-py3-none-any.whl (12.2 MB)\n",
            "Collecting jmespath<2.0.0,>=0.7.1 (from boto3->neuralcoref)\n",
            "  Using cached jmespath-1.0.1-py3-none-any.whl (20 kB)\n",
            "Collecting s3transfer<0.11.0,>=0.10.0 (from boto3->neuralcoref)\n",
            "  Using cached s3transfer-0.10.1-py3-none-any.whl (82 kB)\n",
            "Requirement already satisfied: python-dateutil<3.0.0,>=2.1 in /usr/local/lib/python3.10/dist-packages (from botocore<1.35.0,>=1.34.93->boto3->neuralcoref) (2.8.2)\n",
            "Requirement already satisfied: annotated-types>=0.4.0 in /usr/local/lib/python3.10/dist-packages (from pydantic!=1.8,!=1.8.1,<3.0.0,>=1.7.4->spacy>=2.1.0->neuralcoref) (0.6.0)\n",
            "Requirement already satisfied: pydantic-core==2.18.1 in /usr/local/lib/python3.10/dist-packages (from pydantic!=1.8,!=1.8.1,<3.0.0,>=1.7.4->spacy>=2.1.0->neuralcoref) (2.18.1)\n",
            "Requirement already satisfied: typing-extensions>=4.6.1 in /usr/local/lib/python3.10/dist-packages (from pydantic!=1.8,!=1.8.1,<3.0.0,>=1.7.4->spacy>=2.1.0->neuralcoref) (4.11.0)\n",
            "Requirement already satisfied: blis<0.8.0,>=0.7.8 in /usr/local/lib/python3.10/dist-packages (from thinc<8.3.0,>=8.2.2->spacy>=2.1.0->neuralcoref) (0.7.11)\n",
            "Requirement already satisfied: confection<1.0.0,>=0.0.1 in /usr/local/lib/python3.10/dist-packages (from thinc<8.3.0,>=8.2.2->spacy>=2.1.0->neuralcoref) (0.1.4)\n",
            "Requirement already satisfied: click<9.0.0,>=7.1.1 in /usr/local/lib/python3.10/dist-packages (from typer<0.10.0,>=0.3.0->spacy>=2.1.0->neuralcoref) (8.1.7)\n",
            "Requirement already satisfied: cloudpathlib<0.17.0,>=0.7.0 in /usr/local/lib/python3.10/dist-packages (from weasel<0.4.0,>=0.1.0->spacy>=2.1.0->neuralcoref) (0.16.0)\n",
            "Requirement already satisfied: MarkupSafe>=2.0 in /usr/local/lib/python3.10/dist-packages (from jinja2->spacy>=2.1.0->neuralcoref) (2.1.5)\n",
            "Requirement already satisfied: six>=1.5 in /usr/local/lib/python3.10/dist-packages (from python-dateutil<3.0.0,>=2.1->botocore<1.35.0,>=1.34.93->boto3->neuralcoref) (1.16.0)\n",
            "Building wheels for collected packages: neuralcoref\n",
            "  \u001b[1;31merror\u001b[0m: \u001b[1msubprocess-exited-with-error\u001b[0m\n",
            "  \n",
            "  \u001b[31m×\u001b[0m \u001b[32mpython setup.py bdist_wheel\u001b[0m did not run successfully.\n",
            "  \u001b[31m│\u001b[0m exit code: \u001b[1;36m1\u001b[0m\n",
            "  \u001b[31m╰─>\u001b[0m See above for output.\n",
            "  \n",
            "  \u001b[1;35mnote\u001b[0m: This error originates from a subprocess, and is likely not a problem with pip.\n",
            "  Building wheel for neuralcoref (setup.py) ... \u001b[?25lerror\n",
            "\u001b[31m  ERROR: Failed building wheel for neuralcoref\u001b[0m\u001b[31m\n",
            "\u001b[0m\u001b[?25h  Running setup.py clean for neuralcoref\n",
            "Failed to build neuralcoref\n",
            "\u001b[31mERROR: Could not build wheels for neuralcoref, which is required to install pyproject.toml-based projects\u001b[0m\u001b[31m\n",
            "\u001b[0m"
          ]
        }
      ]
    },
    {
      "cell_type": "code",
      "source": [
        "# !pip uninstall neuralcoref\n",
        "# git clone https://github.com/huggingface/neuralcoref.git\n",
        "# cd neuralcoref\n",
        "# !pip install -r requirements.txt\n",
        "# !pip install -e"
      ],
      "metadata": {
        "id": "5WILBsTsKxDF"
      },
      "execution_count": 163,
      "outputs": []
    },
    {
      "cell_type": "code",
      "source": [
        "import nltk\n",
        "import time\n",
        "nltk.download('averaged_perceptron_tagger')"
      ],
      "metadata": {
        "colab": {
          "base_uri": "https://localhost:8080/"
        },
        "id": "UNTVgjcaNewK",
        "outputId": "9432b458-b4cc-4d04-ea89-b7ea0711f383"
      },
      "execution_count": 164,
      "outputs": [
        {
          "output_type": "stream",
          "name": "stderr",
          "text": [
            "[nltk_data] Downloading package averaged_perceptron_tagger to\n",
            "[nltk_data]     /root/nltk_data...\n",
            "[nltk_data]   Package averaged_perceptron_tagger is already up-to-\n",
            "[nltk_data]       date!\n"
          ]
        },
        {
          "output_type": "execute_result",
          "data": {
            "text/plain": [
              "True"
            ]
          },
          "metadata": {},
          "execution_count": 164
        }
      ]
    },
    {
      "cell_type": "code",
      "source": [
        "def read_text_file(filename):\n",
        "    file = open(filename, \"r\", encoding=\"utf-8\")\n",
        "    return file.read()\n",
        "\n",
        "def preprocess_text(text):\n",
        "    text = text.replace(\"\\n\", \" \")\n",
        "    return text\n",
        "\n",
        "def pos_tag_spacy(text):\n",
        "    doc = nlp(text)\n",
        "    words = [token.text for token in doc]\n",
        "    pos = [token.pos_ for token in doc]\n",
        "    return list(zip(words, pos))\n",
        "\n",
        "def pos_tag(text):\n",
        "    text = preprocess_text(text)\n",
        "    words_with_pos = pos_tag_nltk(text)\n",
        "    return words_with_pos\n",
        "\n",
        "def tokenize_nltk(text):\n",
        "    return nltk.word_tokenize(text)\n",
        "\n",
        "def pos_tag_nltk(text):\n",
        "    words = tokenize_nltk(text)\n",
        "    words_with_pos = nltk.pos_tag(words)\n",
        "    return words_with_pos\n",
        "\n",
        "def main():\n",
        "    sherlock_holmes_text = read_text_file(\"/content/drive/MyDrive/_Python/Python-Natural-Language-Processing/Chapter01/sherlock_holmes_1.txt\")\n",
        "    sherlock_holmes_text = preprocess_text(sherlock_holmes_text)\n",
        "    words_with_pos = pos_tag(sherlock_holmes_text)\n",
        "    print(words_with_pos)\n",
        "\n",
        "if __name__ == '__main__':\n",
        "    start = time.time()\n",
        "    main()\n",
        "    print(\"%s s\" % (time.time() - start))"
      ],
      "metadata": {
        "colab": {
          "base_uri": "https://localhost:8080/"
        },
        "id": "jrffq3N3LwMS",
        "outputId": "7cdfb737-c39e-4c2e-86ca-04bd37d47554"
      },
      "execution_count": 165,
      "outputs": [
        {
          "output_type": "stream",
          "name": "stdout",
          "text": [
            "[('To', 'TO'), ('Sherlock', 'NNP'), ('Holmes', 'NNP'), ('she', 'PRP'), ('is', 'VBZ'), ('always', 'RB'), ('_the_', 'JJ'), ('woman', 'NN'), ('.', '.'), ('I', 'PRP'), ('have', 'VBP'), ('seldom', 'VBN'), ('heard', 'RB'), ('him', 'PRP'), ('mention', 'VB'), ('her', 'PRP'), ('under', 'IN'), ('any', 'DT'), ('other', 'JJ'), ('name', 'NN'), ('.', '.'), ('In', 'IN'), ('his', 'PRP$'), ('eyes', 'NNS'), ('she', 'PRP'), ('eclipses', 'VBZ'), ('and', 'CC'), ('predominates', 'VBZ'), ('the', 'DT'), ('whole', 'NN'), ('of', 'IN'), ('her', 'PRP$'), ('sex', 'NN'), ('.', '.'), ('It', 'PRP'), ('was', 'VBD'), ('not', 'RB'), ('that', 'IN'), ('he', 'PRP'), ('felt', 'VBD'), ('any', 'DT'), ('emotion', 'NN'), ('akin', 'NN'), ('to', 'TO'), ('love', 'VB'), ('for', 'IN'), ('Irene', 'NNP'), ('Adler', 'NNP'), ('.', '.'), ('All', 'DT'), ('emotions', 'NNS'), (',', ','), ('and', 'CC'), ('that', 'IN'), ('one', 'CD'), ('particularly', 'RB'), (',', ','), ('were', 'VBD'), ('abhorrent', 'JJ'), ('to', 'TO'), ('his', 'PRP$'), ('cold', 'NN'), (',', ','), ('precise', 'NN'), ('but', 'CC'), ('admirably', 'RB'), ('balanced', 'VBD'), ('mind', 'NN'), ('.', '.'), ('He', 'PRP'), ('was', 'VBD'), (',', ','), ('I', 'PRP'), ('take', 'VBP'), ('it', 'PRP'), (',', ','), ('the', 'DT'), ('most', 'RBS'), ('perfect', 'JJ'), ('reasoning', 'NN'), ('and', 'CC'), ('observing', 'VBG'), ('machine', 'NN'), ('that', 'IN'), ('the', 'DT'), ('world', 'NN'), ('has', 'VBZ'), ('seen', 'VBN'), (',', ','), ('but', 'CC'), ('as', 'IN'), ('a', 'DT'), ('lover', 'NN'), ('he', 'PRP'), ('would', 'MD'), ('have', 'VB'), ('placed', 'VBN'), ('himself', 'PRP'), ('in', 'IN'), ('a', 'DT'), ('false', 'JJ'), ('position', 'NN'), ('.', '.'), ('He', 'PRP'), ('never', 'RB'), ('spoke', 'VBD'), ('of', 'IN'), ('the', 'DT'), ('softer', 'JJR'), ('passions', 'NNS'), (',', ','), ('save', 'VBP'), ('with', 'IN'), ('a', 'DT'), ('gibe', 'NN'), ('and', 'CC'), ('a', 'DT'), ('sneer', 'NN'), ('.', '.'), ('They', 'PRP'), ('were', 'VBD'), ('admirable', 'JJ'), ('things', 'NNS'), ('for', 'IN'), ('the', 'DT'), ('observer—excellent', 'NN'), ('for', 'IN'), ('drawing', 'VBG'), ('the', 'DT'), ('veil', 'NN'), ('from', 'IN'), ('men', 'NNS'), ('’', 'VBP'), ('s', 'JJ'), ('motives', 'NNS'), ('and', 'CC'), ('actions', 'NNS'), ('.', '.'), ('But', 'CC'), ('for', 'IN'), ('the', 'DT'), ('trained', 'JJ'), ('reasoner', 'NN'), ('to', 'TO'), ('admit', 'VB'), ('such', 'JJ'), ('intrusions', 'NNS'), ('into', 'IN'), ('his', 'PRP$'), ('own', 'JJ'), ('delicate', 'NN'), ('and', 'CC'), ('finely', 'RB'), ('adjusted', 'VBD'), ('temperament', 'NN'), ('was', 'VBD'), ('to', 'TO'), ('introduce', 'VB'), ('a', 'DT'), ('distracting', 'NN'), ('factor', 'NN'), ('which', 'WDT'), ('might', 'MD'), ('throw', 'VB'), ('a', 'DT'), ('doubt', 'NN'), ('upon', 'IN'), ('all', 'PDT'), ('his', 'PRP$'), ('mental', 'JJ'), ('results', 'NNS'), ('.', '.'), ('Grit', 'NNP'), ('in', 'IN'), ('a', 'DT'), ('sensitive', 'JJ'), ('instrument', 'NN'), (',', ','), ('or', 'CC'), ('a', 'DT'), ('crack', 'NN'), ('in', 'IN'), ('one', 'CD'), ('of', 'IN'), ('his', 'PRP$'), ('own', 'JJ'), ('high-power', 'NN'), ('lenses', 'NNS'), (',', ','), ('would', 'MD'), ('not', 'RB'), ('be', 'VB'), ('more', 'RBR'), ('disturbing', 'JJ'), ('than', 'IN'), ('a', 'DT'), ('strong', 'JJ'), ('emotion', 'NN'), ('in', 'IN'), ('a', 'DT'), ('nature', 'NN'), ('such', 'JJ'), ('as', 'IN'), ('his', 'PRP$'), ('.', '.'), ('And', 'CC'), ('yet', 'RB'), ('there', 'EX'), ('was', 'VBD'), ('but', 'CC'), ('one', 'CD'), ('woman', 'NN'), ('to', 'TO'), ('him', 'PRP'), (',', ','), ('and', 'CC'), ('that', 'IN'), ('woman', 'NN'), ('was', 'VBD'), ('the', 'DT'), ('late', 'JJ'), ('Irene', 'NNP'), ('Adler', 'NNP'), (',', ','), ('of', 'IN'), ('dubious', 'JJ'), ('and', 'CC'), ('questionable', 'JJ'), ('memory', 'NN'), ('.', '.')]\n",
            "0.04171109199523926 s\n"
          ]
        }
      ]
    },
    {
      "cell_type": "code",
      "source": [
        "import nltk\n",
        "from nltk.stem import WordNetLemmatizer\n",
        "import inflect"
      ],
      "metadata": {
        "id": "6LYd4_hLK71O"
      },
      "execution_count": 166,
      "outputs": []
    },
    {
      "cell_type": "code",
      "source": [
        "# read the text file\n",
        "file = open(\"/content/drive/MyDrive/_Python/Python-Natural-Language-Processing/Chapter01/sherlock_holmes_1.txt\", \"r\", encoding=\"utf-8\")\n",
        "sherlock_holmes_text = file.read()"
      ],
      "metadata": {
        "id": "Aa95e0frL2wW"
      },
      "execution_count": 167,
      "outputs": []
    },
    {
      "cell_type": "code",
      "source": [
        "# remove newlines for better readability\n",
        "sherlock_holmes_text = sherlock_holmes_text.replace(\"\\n\", \" \")"
      ],
      "metadata": {
        "id": "rS_BOiWpMLej"
      },
      "execution_count": 168,
      "outputs": []
    },
    {
      "cell_type": "code",
      "source": [
        "# do part of speech tagging\n",
        "words_with_pos = pos_tag_nltk(sherlock_holmes_text)"
      ],
      "metadata": {
        "id": "kqVQatYuMQ1D"
      },
      "execution_count": 169,
      "outputs": []
    },
    {
      "cell_type": "code",
      "source": [
        "# define the get_nouns function, whic will filter out the nouns from all the words\n",
        "def get_nouns(words_with_pos):\n",
        "  noun_set = [\"NN\", \"NNS\", \"NNP\", \"NNPS\"]\n",
        "  nouns = [word for word in words_with_pos if word[1] in noun_set]\n",
        "  return nouns"
      ],
      "metadata": {
        "id": "BJwBrYAZMdjP"
      },
      "execution_count": 170,
      "outputs": []
    },
    {
      "cell_type": "code",
      "source": [
        "# run the preceding function on the list of POS-tagged words and prints it\n",
        "nouns = get_nouns(words_with_pos)\n",
        "print(nouns)"
      ],
      "metadata": {
        "colab": {
          "base_uri": "https://localhost:8080/"
        },
        "id": "6rYbliMYOLXd",
        "outputId": "7892fa10-d61e-4c65-96f9-c813ec4d1a36"
      },
      "execution_count": 171,
      "outputs": [
        {
          "output_type": "stream",
          "name": "stdout",
          "text": [
            "[('Sherlock', 'NNP'), ('Holmes', 'NNP'), ('woman', 'NN'), ('name', 'NN'), ('eyes', 'NNS'), ('whole', 'NN'), ('sex', 'NN'), ('emotion', 'NN'), ('akin', 'NN'), ('Irene', 'NNP'), ('Adler', 'NNP'), ('emotions', 'NNS'), ('cold', 'NN'), ('precise', 'NN'), ('mind', 'NN'), ('reasoning', 'NN'), ('machine', 'NN'), ('world', 'NN'), ('lover', 'NN'), ('position', 'NN'), ('passions', 'NNS'), ('gibe', 'NN'), ('sneer', 'NN'), ('things', 'NNS'), ('observer—excellent', 'NN'), ('veil', 'NN'), ('men', 'NNS'), ('motives', 'NNS'), ('actions', 'NNS'), ('reasoner', 'NN'), ('intrusions', 'NNS'), ('delicate', 'NN'), ('temperament', 'NN'), ('distracting', 'NN'), ('factor', 'NN'), ('doubt', 'NN'), ('results', 'NNS'), ('Grit', 'NNP'), ('instrument', 'NN'), ('crack', 'NN'), ('high-power', 'NN'), ('lenses', 'NNS'), ('emotion', 'NN'), ('nature', 'NN'), ('woman', 'NN'), ('woman', 'NN'), ('Irene', 'NNP'), ('Adler', 'NNP'), ('memory', 'NN')]\n"
          ]
        }
      ]
    },
    {
      "cell_type": "code",
      "source": [
        "import pandas as pd"
      ],
      "metadata": {
        "id": "_lBsxtPwXXmz"
      },
      "execution_count": 172,
      "outputs": []
    },
    {
      "cell_type": "code",
      "source": [
        "# to view the result in table\n",
        "# convert the list of noun tuples into a pandas df\n",
        "df = pd.DataFrame(nouns, columns=[\"word\", \"pos\"])\n",
        "df.head()"
      ],
      "metadata": {
        "colab": {
          "base_uri": "https://localhost:8080/",
          "height": 206
        },
        "id": "OMJBIRtEOU-R",
        "outputId": "309e8128-500b-48ec-9db6-f4152bb542f9"
      },
      "execution_count": 173,
      "outputs": [
        {
          "output_type": "execute_result",
          "data": {
            "text/plain": [
              "       word  pos\n",
              "0  Sherlock  NNP\n",
              "1    Holmes  NNP\n",
              "2     woman   NN\n",
              "3      name   NN\n",
              "4      eyes  NNS"
            ],
            "text/html": [
              "\n",
              "  <div id=\"df-b3f13929-73f4-4115-9b58-ef3d49358d6a\" class=\"colab-df-container\">\n",
              "    <div>\n",
              "<style scoped>\n",
              "    .dataframe tbody tr th:only-of-type {\n",
              "        vertical-align: middle;\n",
              "    }\n",
              "\n",
              "    .dataframe tbody tr th {\n",
              "        vertical-align: top;\n",
              "    }\n",
              "\n",
              "    .dataframe thead th {\n",
              "        text-align: right;\n",
              "    }\n",
              "</style>\n",
              "<table border=\"1\" class=\"dataframe\">\n",
              "  <thead>\n",
              "    <tr style=\"text-align: right;\">\n",
              "      <th></th>\n",
              "      <th>word</th>\n",
              "      <th>pos</th>\n",
              "    </tr>\n",
              "  </thead>\n",
              "  <tbody>\n",
              "    <tr>\n",
              "      <th>0</th>\n",
              "      <td>Sherlock</td>\n",
              "      <td>NNP</td>\n",
              "    </tr>\n",
              "    <tr>\n",
              "      <th>1</th>\n",
              "      <td>Holmes</td>\n",
              "      <td>NNP</td>\n",
              "    </tr>\n",
              "    <tr>\n",
              "      <th>2</th>\n",
              "      <td>woman</td>\n",
              "      <td>NN</td>\n",
              "    </tr>\n",
              "    <tr>\n",
              "      <th>3</th>\n",
              "      <td>name</td>\n",
              "      <td>NN</td>\n",
              "    </tr>\n",
              "    <tr>\n",
              "      <th>4</th>\n",
              "      <td>eyes</td>\n",
              "      <td>NNS</td>\n",
              "    </tr>\n",
              "  </tbody>\n",
              "</table>\n",
              "</div>\n",
              "    <div class=\"colab-df-buttons\">\n",
              "\n",
              "  <div class=\"colab-df-container\">\n",
              "    <button class=\"colab-df-convert\" onclick=\"convertToInteractive('df-b3f13929-73f4-4115-9b58-ef3d49358d6a')\"\n",
              "            title=\"Convert this dataframe to an interactive table.\"\n",
              "            style=\"display:none;\">\n",
              "\n",
              "  <svg xmlns=\"http://www.w3.org/2000/svg\" height=\"24px\" viewBox=\"0 -960 960 960\">\n",
              "    <path d=\"M120-120v-720h720v720H120Zm60-500h600v-160H180v160Zm220 220h160v-160H400v160Zm0 220h160v-160H400v160ZM180-400h160v-160H180v160Zm440 0h160v-160H620v160ZM180-180h160v-160H180v160Zm440 0h160v-160H620v160Z\"/>\n",
              "  </svg>\n",
              "    </button>\n",
              "\n",
              "  <style>\n",
              "    .colab-df-container {\n",
              "      display:flex;\n",
              "      gap: 12px;\n",
              "    }\n",
              "\n",
              "    .colab-df-convert {\n",
              "      background-color: #E8F0FE;\n",
              "      border: none;\n",
              "      border-radius: 50%;\n",
              "      cursor: pointer;\n",
              "      display: none;\n",
              "      fill: #1967D2;\n",
              "      height: 32px;\n",
              "      padding: 0 0 0 0;\n",
              "      width: 32px;\n",
              "    }\n",
              "\n",
              "    .colab-df-convert:hover {\n",
              "      background-color: #E2EBFA;\n",
              "      box-shadow: 0px 1px 2px rgba(60, 64, 67, 0.3), 0px 1px 3px 1px rgba(60, 64, 67, 0.15);\n",
              "      fill: #174EA6;\n",
              "    }\n",
              "\n",
              "    .colab-df-buttons div {\n",
              "      margin-bottom: 4px;\n",
              "    }\n",
              "\n",
              "    [theme=dark] .colab-df-convert {\n",
              "      background-color: #3B4455;\n",
              "      fill: #D2E3FC;\n",
              "    }\n",
              "\n",
              "    [theme=dark] .colab-df-convert:hover {\n",
              "      background-color: #434B5C;\n",
              "      box-shadow: 0px 1px 3px 1px rgba(0, 0, 0, 0.15);\n",
              "      filter: drop-shadow(0px 1px 2px rgba(0, 0, 0, 0.3));\n",
              "      fill: #FFFFFF;\n",
              "    }\n",
              "  </style>\n",
              "\n",
              "    <script>\n",
              "      const buttonEl =\n",
              "        document.querySelector('#df-b3f13929-73f4-4115-9b58-ef3d49358d6a button.colab-df-convert');\n",
              "      buttonEl.style.display =\n",
              "        google.colab.kernel.accessAllowed ? 'block' : 'none';\n",
              "\n",
              "      async function convertToInteractive(key) {\n",
              "        const element = document.querySelector('#df-b3f13929-73f4-4115-9b58-ef3d49358d6a');\n",
              "        const dataTable =\n",
              "          await google.colab.kernel.invokeFunction('convertToInteractive',\n",
              "                                                    [key], {});\n",
              "        if (!dataTable) return;\n",
              "\n",
              "        const docLinkHtml = 'Like what you see? Visit the ' +\n",
              "          '<a target=\"_blank\" href=https://colab.research.google.com/notebooks/data_table.ipynb>data table notebook</a>'\n",
              "          + ' to learn more about interactive tables.';\n",
              "        element.innerHTML = '';\n",
              "        dataTable['output_type'] = 'display_data';\n",
              "        await google.colab.output.renderOutput(dataTable, element);\n",
              "        const docLink = document.createElement('div');\n",
              "        docLink.innerHTML = docLinkHtml;\n",
              "        element.appendChild(docLink);\n",
              "      }\n",
              "    </script>\n",
              "  </div>\n",
              "\n",
              "\n",
              "<div id=\"df-9b5b9867-115e-47df-8535-24a1660d6715\">\n",
              "  <button class=\"colab-df-quickchart\" onclick=\"quickchart('df-9b5b9867-115e-47df-8535-24a1660d6715')\"\n",
              "            title=\"Suggest charts\"\n",
              "            style=\"display:none;\">\n",
              "\n",
              "<svg xmlns=\"http://www.w3.org/2000/svg\" height=\"24px\"viewBox=\"0 0 24 24\"\n",
              "     width=\"24px\">\n",
              "    <g>\n",
              "        <path d=\"M19 3H5c-1.1 0-2 .9-2 2v14c0 1.1.9 2 2 2h14c1.1 0 2-.9 2-2V5c0-1.1-.9-2-2-2zM9 17H7v-7h2v7zm4 0h-2V7h2v10zm4 0h-2v-4h2v4z\"/>\n",
              "    </g>\n",
              "</svg>\n",
              "  </button>\n",
              "\n",
              "<style>\n",
              "  .colab-df-quickchart {\n",
              "      --bg-color: #E8F0FE;\n",
              "      --fill-color: #1967D2;\n",
              "      --hover-bg-color: #E2EBFA;\n",
              "      --hover-fill-color: #174EA6;\n",
              "      --disabled-fill-color: #AAA;\n",
              "      --disabled-bg-color: #DDD;\n",
              "  }\n",
              "\n",
              "  [theme=dark] .colab-df-quickchart {\n",
              "      --bg-color: #3B4455;\n",
              "      --fill-color: #D2E3FC;\n",
              "      --hover-bg-color: #434B5C;\n",
              "      --hover-fill-color: #FFFFFF;\n",
              "      --disabled-bg-color: #3B4455;\n",
              "      --disabled-fill-color: #666;\n",
              "  }\n",
              "\n",
              "  .colab-df-quickchart {\n",
              "    background-color: var(--bg-color);\n",
              "    border: none;\n",
              "    border-radius: 50%;\n",
              "    cursor: pointer;\n",
              "    display: none;\n",
              "    fill: var(--fill-color);\n",
              "    height: 32px;\n",
              "    padding: 0;\n",
              "    width: 32px;\n",
              "  }\n",
              "\n",
              "  .colab-df-quickchart:hover {\n",
              "    background-color: var(--hover-bg-color);\n",
              "    box-shadow: 0 1px 2px rgba(60, 64, 67, 0.3), 0 1px 3px 1px rgba(60, 64, 67, 0.15);\n",
              "    fill: var(--button-hover-fill-color);\n",
              "  }\n",
              "\n",
              "  .colab-df-quickchart-complete:disabled,\n",
              "  .colab-df-quickchart-complete:disabled:hover {\n",
              "    background-color: var(--disabled-bg-color);\n",
              "    fill: var(--disabled-fill-color);\n",
              "    box-shadow: none;\n",
              "  }\n",
              "\n",
              "  .colab-df-spinner {\n",
              "    border: 2px solid var(--fill-color);\n",
              "    border-color: transparent;\n",
              "    border-bottom-color: var(--fill-color);\n",
              "    animation:\n",
              "      spin 1s steps(1) infinite;\n",
              "  }\n",
              "\n",
              "  @keyframes spin {\n",
              "    0% {\n",
              "      border-color: transparent;\n",
              "      border-bottom-color: var(--fill-color);\n",
              "      border-left-color: var(--fill-color);\n",
              "    }\n",
              "    20% {\n",
              "      border-color: transparent;\n",
              "      border-left-color: var(--fill-color);\n",
              "      border-top-color: var(--fill-color);\n",
              "    }\n",
              "    30% {\n",
              "      border-color: transparent;\n",
              "      border-left-color: var(--fill-color);\n",
              "      border-top-color: var(--fill-color);\n",
              "      border-right-color: var(--fill-color);\n",
              "    }\n",
              "    40% {\n",
              "      border-color: transparent;\n",
              "      border-right-color: var(--fill-color);\n",
              "      border-top-color: var(--fill-color);\n",
              "    }\n",
              "    60% {\n",
              "      border-color: transparent;\n",
              "      border-right-color: var(--fill-color);\n",
              "    }\n",
              "    80% {\n",
              "      border-color: transparent;\n",
              "      border-right-color: var(--fill-color);\n",
              "      border-bottom-color: var(--fill-color);\n",
              "    }\n",
              "    90% {\n",
              "      border-color: transparent;\n",
              "      border-bottom-color: var(--fill-color);\n",
              "    }\n",
              "  }\n",
              "</style>\n",
              "\n",
              "  <script>\n",
              "    async function quickchart(key) {\n",
              "      const quickchartButtonEl =\n",
              "        document.querySelector('#' + key + ' button');\n",
              "      quickchartButtonEl.disabled = true;  // To prevent multiple clicks.\n",
              "      quickchartButtonEl.classList.add('colab-df-spinner');\n",
              "      try {\n",
              "        const charts = await google.colab.kernel.invokeFunction(\n",
              "            'suggestCharts', [key], {});\n",
              "      } catch (error) {\n",
              "        console.error('Error during call to suggestCharts:', error);\n",
              "      }\n",
              "      quickchartButtonEl.classList.remove('colab-df-spinner');\n",
              "      quickchartButtonEl.classList.add('colab-df-quickchart-complete');\n",
              "    }\n",
              "    (() => {\n",
              "      let quickchartButtonEl =\n",
              "        document.querySelector('#df-9b5b9867-115e-47df-8535-24a1660d6715 button');\n",
              "      quickchartButtonEl.style.display =\n",
              "        google.colab.kernel.accessAllowed ? 'block' : 'none';\n",
              "    })();\n",
              "  </script>\n",
              "</div>\n",
              "\n",
              "    </div>\n",
              "  </div>\n"
            ],
            "application/vnd.google.colaboratory.intrinsic+json": {
              "type": "dataframe",
              "variable_name": "df",
              "summary": "{\n  \"name\": \"df\",\n  \"rows\": 49,\n  \"fields\": [\n    {\n      \"column\": \"word\",\n      \"properties\": {\n        \"dtype\": \"string\",\n        \"num_unique_values\": 44,\n        \"samples\": [\n          \"Grit\",\n          \"observer\\u2014excellent\",\n          \"veil\"\n        ],\n        \"semantic_type\": \"\",\n        \"description\": \"\"\n      }\n    },\n    {\n      \"column\": \"pos\",\n      \"properties\": {\n        \"dtype\": \"category\",\n        \"num_unique_values\": 3,\n        \"samples\": [\n          \"NNP\",\n          \"NN\",\n          \"NNS\"\n        ],\n        \"semantic_type\": \"\",\n        \"description\": \"\"\n      }\n    }\n  ]\n}"
            }
          },
          "metadata": {},
          "execution_count": 173
        }
      ]
    },
    {
      "cell_type": "markdown",
      "source": [
        "To determine whether a noun is singular or plural, we have two options. The first option is to use the NLTK tags, where NN indicates a singular noun and NNS indicates a plural noun. The following function uses the NLTK tags and returns True if the input noun is plural"
      ],
      "metadata": {
        "id": "aClWrhO6Q-JZ"
      }
    },
    {
      "cell_type": "code",
      "source": [
        "def is_plural_nltk(noun_info):\n",
        "  pos = noun_info[1]\n",
        "  if (pos == \"NNS\"):\n",
        "    return True\n",
        "  else:\n",
        "    return False"
      ],
      "metadata": {
        "id": "AvIAPm_kPjMP"
      },
      "execution_count": 174,
      "outputs": []
    },
    {
      "cell_type": "markdown",
      "source": [
        "The other option is to use the WordNetLemmatizer class in the nltk.stem package. The following function returns True if the noun is plural"
      ],
      "metadata": {
        "id": "tTeJl9WKRa1y"
      }
    },
    {
      "cell_type": "code",
      "source": [
        "def is_plural_wn(noun):\n",
        "  wnl = WordNetLemmatizer()\n",
        "  lemma = wnl.lemmatize(noun, 'n')\n",
        "  plural = True if noun is not lemma else False\n",
        "  return plural"
      ],
      "metadata": {
        "id": "1070k1RsP6y9"
      },
      "execution_count": 175,
      "outputs": []
    },
    {
      "cell_type": "code",
      "source": [
        "# The following function will change a singular noun into plural\n",
        "def get_plural(singular_noun):\n",
        "  p = inflect.engine()\n",
        "  return p.plural(singular_noun)"
      ],
      "metadata": {
        "id": "eSuRw-r5RytL"
      },
      "execution_count": 176,
      "outputs": []
    },
    {
      "cell_type": "code",
      "source": [
        "# The followint function will change a plural nounr into singular\n",
        "def get_singular(plural_noun):\n",
        "  p = inflect.engine()\n",
        "  plural = p.singular_noun(plural_noun)\n",
        "  if (plural):\n",
        "    return plural\n",
        "  else:\n",
        "    plural_noun"
      ],
      "metadata": {
        "id": "lMBEvSEtSIXx"
      },
      "execution_count": 177,
      "outputs": []
    },
    {
      "cell_type": "markdown",
      "source": [
        "We can now use the two preceding functions to return a list of nouns changed into plural or singular, depending on the original noun. The following code uses the is_plural_wn function to determine if the noun is plural. We can also use the is_plural_nltk function"
      ],
      "metadata": {
        "id": "J7AmwMxZSpyQ"
      }
    },
    {
      "cell_type": "code",
      "source": [
        "def plurals_wn(words_with_pos):\n",
        "  other_nouns = []\n",
        "  for noun_info in words_with_pos:\n",
        "    word = noun_info[0]\n",
        "    plural = is_plural_wn(word)\n",
        "    if (plural):\n",
        "      singular = get_singular(word)\n",
        "      other_nouns.append(singular)\n",
        "    else:\n",
        "      plural = get_plural(word)\n",
        "      other_nouns.append(plural)\n",
        "  return other_nouns"
      ],
      "metadata": {
        "id": "81_GAA6RSkET"
      },
      "execution_count": 178,
      "outputs": []
    },
    {
      "cell_type": "code",
      "source": [
        "nltk.download('wordnet')"
      ],
      "metadata": {
        "colab": {
          "base_uri": "https://localhost:8080/"
        },
        "id": "7qsthihNT8Uu",
        "outputId": "b2efc629-5469-4780-b40e-3fd54062e78d"
      },
      "execution_count": 179,
      "outputs": [
        {
          "output_type": "stream",
          "name": "stderr",
          "text": [
            "[nltk_data] Downloading package wordnet to /root/nltk_data...\n",
            "[nltk_data]   Package wordnet is already up-to-date!\n"
          ]
        },
        {
          "output_type": "execute_result",
          "data": {
            "text/plain": [
              "True"
            ]
          },
          "metadata": {},
          "execution_count": 179
        }
      ]
    },
    {
      "cell_type": "code",
      "source": [
        "# use the preceding function to return a list of changed nouns\n",
        "other_nouns_wn = plurals_wn(nouns)\n",
        "print(other_nouns_wn)"
      ],
      "metadata": {
        "colab": {
          "base_uri": "https://localhost:8080/"
        },
        "id": "CUuuaSFTSr_A",
        "outputId": "dafb6e6e-55ee-47ed-c68b-7c2e82408ffc"
      },
      "execution_count": 180,
      "outputs": [
        {
          "output_type": "stream",
          "name": "stdout",
          "text": [
            "['Sherlocks', 'Holmeses', 'women', 'names', 'eye', 'wholes', 'sexes', 'emotions', 'akins', 'Irenes', 'Adlers', 'emotion', 'colds', 'precises', 'minds', 'reasonings', 'machines', 'worlds', 'lovers', 'positions', 'passion', 'gibes', 'sneers', 'thing', 'observer—excellents', 'veils', 'mens', 'motive', 'action', 'reasoners', 'intrusion', 'delicates', 'temperaments', 'distractings', 'factors', 'doubts', 'result', 'Grits', 'instruments', 'cracks', 'high-powers', 'lens', 'emotions', 'natures', 'women', 'women', 'Irenes', 'Adlers', 'memories']\n"
          ]
        }
      ]
    },
    {
      "cell_type": "markdown",
      "source": [
        "# **Getting the dependency parse**\n",
        "A dependency parse is a tool that shows dependencies in a sentence. For example, in the sentence The cat wore a hat, the root of the sentence in the verb, wore, and both the subject, the cat, and the object, a hat, are dependents. The dependency parse can be very useful in many NLP tasks since it shows the grammatical structure of the sentence, along with the subject, the main verb, the object, and so on. It can be then used in downstream processing."
      ],
      "metadata": {
        "id": "cmdIvftZUQ_r"
      }
    },
    {
      "cell_type": "code",
      "source": [
        "import spacy"
      ],
      "metadata": {
        "id": "3d1XFQuRTXk7"
      },
      "execution_count": 181,
      "outputs": []
    },
    {
      "cell_type": "code",
      "source": [
        "# load the sentence to be parsed\n",
        "sentence = 'I have seldom heard him mention her under any other name.'"
      ],
      "metadata": {
        "id": "3CV2ymGGUxxW"
      },
      "execution_count": 182,
      "outputs": []
    },
    {
      "cell_type": "code",
      "source": [
        "# load the spacy engine\n",
        "nlp = spacy.load('en_core_web_sm')"
      ],
      "metadata": {
        "id": "zB_URG7VVBRc"
      },
      "execution_count": 183,
      "outputs": []
    },
    {
      "cell_type": "code",
      "source": [
        "# process the sentence using the spacy engine\n",
        "doc = nlp(sentence)"
      ],
      "metadata": {
        "id": "cWSQMu2qVFTg"
      },
      "execution_count": 184,
      "outputs": []
    },
    {
      "cell_type": "code",
      "source": [
        "# the dependency info will be contained in the doc object.\n",
        "# we can see the dependency tags by looping throught the tokens in doc\n",
        "for token in doc:\n",
        "  print(token.text, \"\\t\", token.dep_, \"\\t\", spacy.explain(token.dep_))"
      ],
      "metadata": {
        "colab": {
          "base_uri": "https://localhost:8080/"
        },
        "id": "Y_V1l7I5VLWF",
        "outputId": "b886d0fa-1c0a-4d07-d2be-00ab03b86fac"
      },
      "execution_count": 185,
      "outputs": [
        {
          "output_type": "stream",
          "name": "stdout",
          "text": [
            "I \t nsubj \t nominal subject\n",
            "have \t aux \t auxiliary\n",
            "seldom \t advmod \t adverbial modifier\n",
            "heard \t ROOT \t root\n",
            "him \t nsubj \t nominal subject\n",
            "mention \t ccomp \t clausal complement\n",
            "her \t dobj \t direct object\n",
            "under \t prep \t prepositional modifier\n",
            "any \t det \t determiner\n",
            "other \t amod \t adjectival modifier\n",
            "name \t pobj \t object of preposition\n",
            ". \t punct \t punctuation\n"
          ]
        }
      ]
    },
    {
      "cell_type": "markdown",
      "source": [
        "To explore the dependency parse structure, we can use the attributes of the Token class. Using its ancestors and children attributes, we can get the tokens that this token depends on and the tokens that depend on it, respectively."
      ],
      "metadata": {
        "id": "vMqrd2zCbqE-"
      }
    },
    {
      "cell_type": "code",
      "source": [
        "for token in doc:\n",
        "  print(token.text)\n",
        "  ancestors = [ancestor.text for ancestor in token.ancestors]\n",
        "  print(ancestors)\n",
        "#  children = [t.text for t in token.children]\n",
        "#  print(children)"
      ],
      "metadata": {
        "colab": {
          "base_uri": "https://localhost:8080/"
        },
        "id": "rQgJtKytVjzs",
        "outputId": "49f41f83-63da-4c20-862b-a39612553400"
      },
      "execution_count": 186,
      "outputs": [
        {
          "output_type": "stream",
          "name": "stdout",
          "text": [
            "I\n",
            "['heard']\n",
            "have\n",
            "['heard']\n",
            "seldom\n",
            "['heard']\n",
            "heard\n",
            "[]\n",
            "him\n",
            "['mention', 'heard']\n",
            "mention\n",
            "['heard']\n",
            "her\n",
            "['mention', 'heard']\n",
            "under\n",
            "['mention', 'heard']\n",
            "any\n",
            "['name', 'under', 'mention', 'heard']\n",
            "other\n",
            "['name', 'under', 'mention', 'heard']\n",
            "name\n",
            "['under', 'mention', 'heard']\n",
            ".\n",
            "['heard']\n"
          ]
        }
      ]
    },
    {
      "cell_type": "code",
      "source": [
        "# to see all the children token\n",
        "for token in doc:\n",
        "  print(token.text)\n",
        "  children = [t.text for t in token.children]\n",
        "  print(children)"
      ],
      "metadata": {
        "colab": {
          "base_uri": "https://localhost:8080/"
        },
        "id": "Y1vJWK5VbqZN",
        "outputId": "e435e3bb-f331-45ea-b956-9219380ae554"
      },
      "execution_count": 187,
      "outputs": [
        {
          "output_type": "stream",
          "name": "stdout",
          "text": [
            "I\n",
            "[]\n",
            "have\n",
            "[]\n",
            "seldom\n",
            "[]\n",
            "heard\n",
            "['I', 'have', 'seldom', 'mention', '.']\n",
            "him\n",
            "[]\n",
            "mention\n",
            "['him', 'her', 'under']\n",
            "her\n",
            "[]\n",
            "under\n",
            "['name']\n",
            "any\n",
            "[]\n",
            "other\n",
            "[]\n",
            "name\n",
            "['any', 'other']\n",
            ".\n",
            "[]\n"
          ]
        }
      ]
    },
    {
      "cell_type": "code",
      "source": [
        "# we also can see the subtree that the token is in\n",
        "for token in doc:\n",
        "  print(token.text)\n",
        "  subtree = [t.text for t in token.subtree]\n",
        "  print(subtree)"
      ],
      "metadata": {
        "colab": {
          "base_uri": "https://localhost:8080/"
        },
        "id": "zG5ZWlSZc05_",
        "outputId": "27a66445-1a40-482e-dd95-9a365b236bc5"
      },
      "execution_count": 188,
      "outputs": [
        {
          "output_type": "stream",
          "name": "stdout",
          "text": [
            "I\n",
            "['I']\n",
            "have\n",
            "['have']\n",
            "seldom\n",
            "['seldom']\n",
            "heard\n",
            "['I', 'have', 'seldom', 'heard', 'him', 'mention', 'her', 'under', 'any', 'other', 'name', '.']\n",
            "him\n",
            "['him']\n",
            "mention\n",
            "['him', 'mention', 'her', 'under', 'any', 'other', 'name']\n",
            "her\n",
            "['her']\n",
            "under\n",
            "['under', 'any', 'other', 'name']\n",
            "any\n",
            "['any']\n",
            "other\n",
            "['other']\n",
            "name\n",
            "['any', 'other', 'name']\n",
            ".\n",
            "['.']\n"
          ]
        }
      ]
    },
    {
      "cell_type": "markdown",
      "source": [
        "# **Splitting sentences into clauses**\n",
        "When we work with text, we frequently deal with compound (sentences with two parts that are equally important) and complex sentences (sentences with one part depending on another). It is sometimes useful to split these composite sentences into its component clauses for easier processing down the line.\n",
        "\n",
        "We will work with two sentences, He eats cheese, but he won't eat ice cream and If it rains later, we won't be able to go to the park. Other sentences may turn out to be more complicated to deal with..."
      ],
      "metadata": {
        "id": "IQN9WNzRdIJ1"
      }
    },
    {
      "cell_type": "code",
      "source": [
        "import spacy"
      ],
      "metadata": {
        "id": "GC_XPIiwdCrZ"
      },
      "execution_count": 189,
      "outputs": []
    },
    {
      "cell_type": "code",
      "source": [
        "# load the spacy engine\n",
        "nlp = spacy.load('en_core_web_sm')"
      ],
      "metadata": {
        "id": "ML4JPiTreGPi"
      },
      "execution_count": 190,
      "outputs": []
    },
    {
      "cell_type": "code",
      "source": [
        "# set the sentence\n",
        "sentence = \"He eats cheese, but he won't eat ice cream.\""
      ],
      "metadata": {
        "id": "MprDHMMzeNx_"
      },
      "execution_count": 191,
      "outputs": []
    },
    {
      "cell_type": "code",
      "source": [
        "# process the sentence with spacy engine\n",
        "doc = nlp(sentence)"
      ],
      "metadata": {
        "id": "UFAeUfR7eWqi"
      },
      "execution_count": 192,
      "outputs": []
    },
    {
      "cell_type": "markdown",
      "source": [
        "It is instructive to look at the structure of the input sentence by printing out the part of speech, dependency tag, ancestors, and children of each token. This can be accomplished using the following code:"
      ],
      "metadata": {
        "id": "gGay4crXeiKA"
      }
    },
    {
      "cell_type": "code",
      "source": [
        "for token in doc:\n",
        "  ancestors = [ancestor.text for ancestor in token.ancestors]\n",
        "  children = [t.text for t in token.children]\n",
        "  print(token.text, \"\\t\", token.pos_, \"\\t\", token.dep_, \"\\t\", ancestors)"
      ],
      "metadata": {
        "colab": {
          "base_uri": "https://localhost:8080/"
        },
        "id": "FaR2bafseb-D",
        "outputId": "dcbb6fb1-e331-4e8b-e8d9-4032929e472c"
      },
      "execution_count": 193,
      "outputs": [
        {
          "output_type": "stream",
          "name": "stdout",
          "text": [
            "He \t PRON \t nsubj \t ['eats']\n",
            "eats \t VERB \t ROOT \t []\n",
            "cheese \t NOUN \t dobj \t ['eats']\n",
            ", \t PUNCT \t punct \t ['eats']\n",
            "but \t CCONJ \t cc \t ['eats']\n",
            "he \t PRON \t nsubj \t ['eat', 'eats']\n",
            "wo \t AUX \t aux \t ['eat', 'eats']\n",
            "n't \t PART \t neg \t ['eat', 'eats']\n",
            "eat \t VERB \t conj \t ['eats']\n",
            "ice \t NOUN \t compound \t ['cream', 'eat', 'eats']\n",
            "cream \t NOUN \t dobj \t ['eat', 'eats']\n",
            ". \t PUNCT \t punct \t ['eat', 'eats']\n"
          ]
        }
      ]
    },
    {
      "cell_type": "code",
      "source": [
        "for token in doc:\n",
        "  ancestors = [t.text for t in token.ancestors]\n",
        "  children = [t.text for t in token.children]\n",
        "  print(token.text, \"\\t\", token.i, \"\\t\",\n",
        "        token.pos_, \"\\t\", token.dep_, \"\\t\",\n",
        "        ancestors, \"\\t\", children)"
      ],
      "metadata": {
        "colab": {
          "base_uri": "https://localhost:8080/"
        },
        "id": "MH8Aa-1te23l",
        "outputId": "b9149ddc-2040-4bc4-d991-6ac8f46c9575"
      },
      "execution_count": 194,
      "outputs": [
        {
          "output_type": "stream",
          "name": "stdout",
          "text": [
            "He \t 0 \t PRON \t nsubj \t ['eats'] \t []\n",
            "eats \t 1 \t VERB \t ROOT \t [] \t ['He', 'cheese', ',', 'but', 'eat']\n",
            "cheese \t 2 \t NOUN \t dobj \t ['eats'] \t []\n",
            ", \t 3 \t PUNCT \t punct \t ['eats'] \t []\n",
            "but \t 4 \t CCONJ \t cc \t ['eats'] \t []\n",
            "he \t 5 \t PRON \t nsubj \t ['eat', 'eats'] \t []\n",
            "wo \t 6 \t AUX \t aux \t ['eat', 'eats'] \t []\n",
            "n't \t 7 \t PART \t neg \t ['eat', 'eats'] \t []\n",
            "eat \t 8 \t VERB \t conj \t ['eats'] \t ['he', 'wo', \"n't\", 'cream', '.']\n",
            "ice \t 9 \t NOUN \t compound \t ['cream', 'eat', 'eats'] \t []\n",
            "cream \t 10 \t NOUN \t dobj \t ['eat', 'eats'] \t ['ice']\n",
            ". \t 11 \t PUNCT \t punct \t ['eat', 'eats'] \t []\n"
          ]
        }
      ]
    },
    {
      "cell_type": "markdown",
      "source": [
        "We will use the following function to find the root token of the sentence, which is usually the main verb. In instances where there is a dependent clause, it is the verb of the independent clause:"
      ],
      "metadata": {
        "id": "4oXpX80uiEyR"
      }
    },
    {
      "cell_type": "code",
      "source": [
        "def find_root_of_sentence(doc):\n",
        "  root_token = None\n",
        "  for token in doc:\n",
        "    if token.dep_ == 'ROOT':\n",
        "      root_token = token\n",
        "      break\n",
        "  return root_token"
      ],
      "metadata": {
        "id": "11qf434ufRzy"
      },
      "execution_count": 195,
      "outputs": []
    },
    {
      "cell_type": "code",
      "source": [
        "# find the root token of the sentence\n",
        "root_token = find_root_of_sentence(doc)\n",
        "print(root_token)"
      ],
      "metadata": {
        "colab": {
          "base_uri": "https://localhost:8080/"
        },
        "id": "0ZkhBAwaii0L",
        "outputId": "2c50380e-eaa1-4287-9c52-ff8d34305739"
      },
      "execution_count": 196,
      "outputs": [
        {
          "output_type": "stream",
          "name": "stdout",
          "text": [
            "eats\n"
          ]
        }
      ]
    },
    {
      "cell_type": "code",
      "source": [
        "# We can now use the following function to find the other verbs in the sentence\n",
        "def find_other_verbs(doc, root_token):\n",
        "  other_verbs = []\n",
        "  for token in doc:\n",
        "    ancestors = list(token.ancestors)\n",
        "    if (token.pos_ == \"VERB\" and len(ancestors) == 1\n",
        "        and ancestors[0] == root_token):\n",
        "      other_verbs.append(token)\n",
        "      return other_verbs"
      ],
      "metadata": {
        "id": "_H_phylVircc"
      },
      "execution_count": 197,
      "outputs": []
    },
    {
      "cell_type": "code",
      "source": [
        "# Use the preceding function to find the remaining verbs in the sentence\n",
        "other_verbs = find_other_verbs(doc, root_token)\n",
        "print(other_verbs)"
      ],
      "metadata": {
        "colab": {
          "base_uri": "https://localhost:8080/"
        },
        "id": "rnejQrIajFhD",
        "outputId": "745768f9-afee-476b-aa8d-edd9a157ddc8"
      },
      "execution_count": 198,
      "outputs": [
        {
          "output_type": "stream",
          "name": "stdout",
          "text": [
            "[eat]\n"
          ]
        }
      ]
    },
    {
      "cell_type": "code",
      "source": [
        "# We will use the following function to find the token spans for each verb\n",
        "def get_clause_token_span_for_verb(verb, doc, all_verbs):\n",
        "    first_token_index = len(doc)\n",
        "    last_token_index = 0\n",
        "    this_verb_children = list(verb.children)\n",
        "    for child in this_verb_children:\n",
        "        if (child not in all_verbs):\n",
        "            if (child.i < first_token_index):\n",
        "                first_token_index = child.i\n",
        "            if (child.i > last_token_index):\n",
        "                last_token_index = child.i\n",
        "    return(first_token_index, last_token_index)"
      ],
      "metadata": {
        "id": "xpxrZYFhjLzm"
      },
      "execution_count": 199,
      "outputs": []
    },
    {
      "cell_type": "markdown",
      "source": [
        "We will put together all the verbs in one array and process each using the preceding function. This will return a tuple of start and end indices for each verb's clause"
      ],
      "metadata": {
        "id": "dBDWyXztjYPo"
      }
    },
    {
      "cell_type": "code",
      "source": [
        "token_spans = []\n",
        "all_verbs = [root_token] + other_verbs\n",
        "for other_verb in all_verbs:\n",
        "    (first_token_index, last_token_index) = \\\n",
        "     get_clause_token_span_for_verb(other_verb,\n",
        "                                    doc, all_verbs)\n",
        "    token_spans.append((first_token_index,\n",
        "                        last_token_index))"
      ],
      "metadata": {
        "id": "MhIOp772jSjq"
      },
      "execution_count": 200,
      "outputs": []
    },
    {
      "cell_type": "markdown",
      "source": [
        "Using the start and end indices, we can now put together token spans for each clause. We sort the sentence_clauses list at the end so that the clauses are in the order they appear in the sentence:"
      ],
      "metadata": {
        "id": "dDD3T16Vjcx5"
      }
    },
    {
      "cell_type": "code",
      "source": [
        "sentence_clauses = []\n",
        "for token_span in token_spans:\n",
        "    start = token_span[0]\n",
        "    end = token_span[1]\n",
        "    if (start < end):\n",
        "        clause = doc[start:end]\n",
        "        sentence_clauses.append(clause)\n",
        "sentence_clauses = sorted(sentence_clauses,\n",
        "                          key=lambda tup: tup[0])"
      ],
      "metadata": {
        "id": "xjixgt_OjaVe"
      },
      "execution_count": 201,
      "outputs": []
    },
    {
      "cell_type": "markdown",
      "source": [
        "Now, we can print the final result of the processing for our initial sentence; that is, He eats cheese, but he won't eat ice cream"
      ],
      "metadata": {
        "id": "AUx_v_01jj4e"
      }
    },
    {
      "cell_type": "code",
      "source": [
        "clauses_text = [clause.text for clause in sentence_clauses]\n",
        "print(clauses_text)"
      ],
      "metadata": {
        "colab": {
          "base_uri": "https://localhost:8080/"
        },
        "id": "wIjIP2ajjhWd",
        "outputId": "91fa4263-b31a-4b23-85f7-b5aafbd37b7e"
      },
      "execution_count": 202,
      "outputs": [
        {
          "output_type": "stream",
          "name": "stdout",
          "text": [
            "['He eats cheese,', \"he won't eat ice cream\"]\n"
          ]
        }
      ]
    },
    {
      "cell_type": "markdown",
      "source": [
        "# **Extracting noun chunks**\n",
        "Noun chunks are known in linguistics as noun phrases. They represent nouns and any words that depend on and accompany nouns. For example, in the sentence The big red apple fell on the scared cat, the noun chunks are the big red apple and the scared cat. Extracting these noun chunks is instrumental to many other downstream NLP tasks, such as named entity recognition and processing entities and relationships between them. In this section, we will explore how to extract named entities from a piece of text."
      ],
      "metadata": {
        "id": "CuJG7KTVjzaZ"
      }
    },
    {
      "cell_type": "code",
      "source": [
        "# read the text\n",
        "text = read_text_file(\"/content/drive/MyDrive/_Python/Python-Natural-Language-Processing/Chapter01/sherlock_holmes_1.txt\")"
      ],
      "metadata": {
        "id": "wJKK7UeIjqDW"
      },
      "execution_count": 203,
      "outputs": []
    },
    {
      "cell_type": "code",
      "source": [
        "# initialize the spacy engine and then use it to process the text\n",
        "nlp = spacy.load('en_core_web_sm')\n",
        "doc = nlp(text)"
      ],
      "metadata": {
        "id": "1SsPXLqHkFxo"
      },
      "execution_count": 204,
      "outputs": []
    },
    {
      "cell_type": "code",
      "source": [
        "# the noun chunks are contained in the doc.noun_chunks class variable. We can print out the chunks\n",
        "for noun_chunks in doc.noun_chunks:\n",
        "  print(noun_chunks.text)"
      ],
      "metadata": {
        "colab": {
          "base_uri": "https://localhost:8080/"
        },
        "id": "ny8UMBUBkmoc",
        "outputId": "e030a8fa-bfa4-4298-9ee4-adbc92e96623"
      },
      "execution_count": 205,
      "outputs": [
        {
          "output_type": "stream",
          "name": "stdout",
          "text": [
            "Sherlock Holmes\n",
            "she\n",
            "the_ woman\n",
            "I\n",
            "him\n",
            "her\n",
            "any other name\n",
            "his eyes\n",
            "she\n",
            "the whole\n",
            "her sex\n",
            "It\n",
            "he\n",
            "any emotion\n",
            "Irene Adler\n",
            "All emotions\n",
            "his cold, precise but admirably balanced mind\n",
            "He\n",
            "I\n",
            "it\n",
            "the world\n",
            "a lover\n",
            "he\n",
            "himself\n",
            "a\n",
            "false position\n",
            "He\n",
            "the softer passions\n",
            "a gibe\n",
            "a sneer\n",
            "They\n",
            "admirable things\n",
            "the observer\n",
            "the veil\n",
            "men’s motives\n",
            "actions\n",
            "the trained\n",
            "reasoner\n",
            "such intrusions\n",
            "his own delicate and finely\n",
            "adjusted temperament\n",
            "a distracting factor\n",
            "which\n",
            "a doubt\n",
            "all his mental results\n",
            "Grit\n",
            "a sensitive\n",
            "instrument\n",
            "a crack\n",
            "his own high-power lenses\n",
            "a strong emotion\n",
            "a nature\n",
            "his\n",
            "one woman\n",
            "him\n",
            "that woman\n",
            "the late Irene\n",
            "Adler\n",
            "dubious and questionable memory\n"
          ]
        }
      ]
    },
    {
      "cell_type": "markdown",
      "source": [
        "# There's more…\n",
        "Noun chunks are spaCy Span objects and have all their properties. See the official documentation at https://spacy.io/api/token.\n",
        "\n",
        "Let's explore some properties of noun chunks:"
      ],
      "metadata": {
        "id": "4ztUBOQKnD1M"
      }
    },
    {
      "cell_type": "code",
      "source": [
        "import spacy\n",
        "nlp = spacy.load('en_core_web_sm')"
      ],
      "metadata": {
        "id": "UqV-s9yok1xu"
      },
      "execution_count": 206,
      "outputs": []
    },
    {
      "cell_type": "markdown",
      "source": [
        "Set the sentence to All emotions, and that one particularly, were abhorrent to his cold, precise but admirably balanced mind:"
      ],
      "metadata": {
        "id": "ySfAnqOonp1R"
      }
    },
    {
      "cell_type": "code",
      "source": [
        "sentence = \"All emotions, and that one particularly, were abhorrent to his cold, precise but admirably balanced mind.\""
      ],
      "metadata": {
        "id": "h-R1IKbonLVH"
      },
      "execution_count": 207,
      "outputs": []
    },
    {
      "cell_type": "code",
      "source": [
        "# process the sentence wth the spacy engine\n",
        "doc = nlp(sentence)"
      ],
      "metadata": {
        "id": "QXnyJ8rCnsIf"
      },
      "execution_count": 208,
      "outputs": []
    },
    {
      "cell_type": "code",
      "source": [
        "# let's look at the nound chunks in this sentence\n",
        "for noun_chunks in doc.noun_chunks:\n",
        "  print(noun_chunks.text)"
      ],
      "metadata": {
        "colab": {
          "base_uri": "https://localhost:8080/"
        },
        "id": "ab13s18Onxky",
        "outputId": "fda2e01a-34c5-45ae-e82e-6acb60a597eb"
      },
      "execution_count": 209,
      "outputs": [
        {
          "output_type": "stream",
          "name": "stdout",
          "text": [
            "All emotions\n",
            "his cold, precise but admirably balanced mind\n"
          ]
        }
      ]
    },
    {
      "cell_type": "code",
      "source": [
        "# some of the basic properties of noun chunks are its start and end offsets; we can print them out\n",
        "# toheter with the noun chunks\n",
        "for noun_chunks in doc.noun_chunks:\n",
        "  print(noun_chunks.text, \"\\t\", noun_chunks.start, \"\\t\", noun_chunks.end)"
      ],
      "metadata": {
        "colab": {
          "base_uri": "https://localhost:8080/"
        },
        "id": "4c_oDGmEo3Ku",
        "outputId": "67797999-88de-4ac0-c6b9-4f1c2f7edb7c"
      },
      "execution_count": 210,
      "outputs": [
        {
          "output_type": "stream",
          "name": "stdout",
          "text": [
            "All emotions \t 0 \t 2\n",
            "his cold, precise but admirably balanced mind \t 11 \t 19\n"
          ]
        }
      ]
    },
    {
      "cell_type": "code",
      "source": [
        "# we can print out the sentence where the nound chunk belongs\n",
        "for noun_chunks in doc.noun_chunks:\n",
        "  print(noun_chunks.text, \"\\t\", noun_chunks.sent)"
      ],
      "metadata": {
        "colab": {
          "base_uri": "https://localhost:8080/"
        },
        "id": "bM-DJwwHpp0u",
        "outputId": "81b7a62c-b3d4-417d-856c-369db8e65cc0"
      },
      "execution_count": 211,
      "outputs": [
        {
          "output_type": "stream",
          "name": "stdout",
          "text": [
            "All emotions \t All emotions, and that one particularly, were abhorrent to his cold, precise but admirably balanced mind.\n",
            "his cold, precise but admirably balanced mind \t All emotions, and that one particularly, were abhorrent to his cold, precise but admirably balanced mind.\n"
          ]
        }
      ]
    },
    {
      "cell_type": "code",
      "source": [
        "# Just like a sentence, any noun chunk includes a root, which is the token that all other\n",
        "# tokens depend on. In a noun phrase, that is the noun:\n",
        "for noun_chunks in doc.noun_chunks:\n",
        "  print(noun_chunks.text, \"\\t\", noun_chunks.root.text)"
      ],
      "metadata": {
        "colab": {
          "base_uri": "https://localhost:8080/"
        },
        "id": "cN11TPoAqJrj",
        "outputId": "7daab6bd-355c-4d6f-93a0-0a3c41a56ceb"
      },
      "execution_count": 212,
      "outputs": [
        {
          "output_type": "stream",
          "name": "stdout",
          "text": [
            "All emotions \t emotions\n",
            "his cold, precise but admirably balanced mind \t mind\n"
          ]
        }
      ]
    },
    {
      "cell_type": "markdown",
      "source": [
        "Another very useful property of Span is similarity, which is the semantic similarity of different texts. Let's try it out. We will load another noun chunk, emotions, and process it using spacy:"
      ],
      "metadata": {
        "id": "iojvpvfXqnuf"
      }
    },
    {
      "cell_type": "code",
      "source": [
        "other_span = \"emotions\"\n",
        "other_doc = nlp(other_span)"
      ],
      "metadata": {
        "id": "726SFQNWqhFk"
      },
      "execution_count": 213,
      "outputs": []
    },
    {
      "cell_type": "code",
      "source": [
        "# we can now compare it to the noun chunks in the sentence by using this code\n",
        "for noun_chunks in doc.noun_chunks:\n",
        "  print(noun_chunks.similarity(other_doc))"
      ],
      "metadata": {
        "colab": {
          "base_uri": "https://localhost:8080/"
        },
        "id": "mJl7Vy4sqsTb",
        "outputId": "7901b31a-d34c-4f85-d957-5d411eb3c956"
      },
      "execution_count": 214,
      "outputs": [
        {
          "output_type": "stream",
          "name": "stdout",
          "text": [
            "0.4026422320920005\n",
            "-0.036891266129449506\n"
          ]
        },
        {
          "output_type": "stream",
          "name": "stderr",
          "text": [
            "<ipython-input-214-0a2799a3871f>:3: UserWarning: [W007] The model you're using has no word vectors loaded, so the result of the Span.similarity method will be based on the tagger, parser and NER, which may not give useful similarity judgements. This may happen if you're using one of the small models, e.g. `en_core_web_sm`, which don't ship with word vectors and only use context-sensitive tensors. You can always add your own word vectors, or use one of the larger models instead if available.\n",
            "  print(noun_chunks.similarity(other_doc))\n"
          ]
        }
      ]
    },
    {
      "cell_type": "markdown",
      "source": [
        "Although the result makes sense, with all emotions being more similar to emotions than to his cold, precise but admirably balanced mind, we get a warning. In order to fix this, we will use the medium spacy model, which contains vector representations for words. Substitute this line for the line in step 2; the rest of the code will remain the same:"
      ],
      "metadata": {
        "id": "W_a_Bx2FrLCP"
      }
    },
    {
      "cell_type": "code",
      "source": [
        "!python -m spacy download en_core_web_md"
      ],
      "metadata": {
        "colab": {
          "base_uri": "https://localhost:8080/"
        },
        "id": "vi4YEhbvsdkT",
        "outputId": "2ede6669-3b7b-4538-e108-35f20d9e8a35"
      },
      "execution_count": 215,
      "outputs": [
        {
          "output_type": "stream",
          "name": "stdout",
          "text": [
            "Collecting en-core-web-md==3.7.1\n",
            "  Downloading https://github.com/explosion/spacy-models/releases/download/en_core_web_md-3.7.1/en_core_web_md-3.7.1-py3-none-any.whl (42.8 MB)\n",
            "\u001b[2K     \u001b[90m━━━━━━━━━━━━━━━━━━━━━━━━━━━━━━━━━━━━━━━━\u001b[0m \u001b[32m42.8/42.8 MB\u001b[0m \u001b[31m5.6 MB/s\u001b[0m eta \u001b[36m0:00:00\u001b[0m\n",
            "\u001b[?25hRequirement already satisfied: spacy<3.8.0,>=3.7.2 in /usr/local/lib/python3.10/dist-packages (from en-core-web-md==3.7.1) (3.7.4)\n",
            "Requirement already satisfied: spacy-legacy<3.1.0,>=3.0.11 in /usr/local/lib/python3.10/dist-packages (from spacy<3.8.0,>=3.7.2->en-core-web-md==3.7.1) (3.0.12)\n",
            "Requirement already satisfied: spacy-loggers<2.0.0,>=1.0.0 in /usr/local/lib/python3.10/dist-packages (from spacy<3.8.0,>=3.7.2->en-core-web-md==3.7.1) (1.0.5)\n",
            "Requirement already satisfied: murmurhash<1.1.0,>=0.28.0 in /usr/local/lib/python3.10/dist-packages (from spacy<3.8.0,>=3.7.2->en-core-web-md==3.7.1) (1.0.10)\n",
            "Requirement already satisfied: cymem<2.1.0,>=2.0.2 in /usr/local/lib/python3.10/dist-packages (from spacy<3.8.0,>=3.7.2->en-core-web-md==3.7.1) (2.0.8)\n",
            "Requirement already satisfied: preshed<3.1.0,>=3.0.2 in /usr/local/lib/python3.10/dist-packages (from spacy<3.8.0,>=3.7.2->en-core-web-md==3.7.1) (3.0.9)\n",
            "Requirement already satisfied: thinc<8.3.0,>=8.2.2 in /usr/local/lib/python3.10/dist-packages (from spacy<3.8.0,>=3.7.2->en-core-web-md==3.7.1) (8.2.3)\n",
            "Requirement already satisfied: wasabi<1.2.0,>=0.9.1 in /usr/local/lib/python3.10/dist-packages (from spacy<3.8.0,>=3.7.2->en-core-web-md==3.7.1) (1.1.2)\n",
            "Requirement already satisfied: srsly<3.0.0,>=2.4.3 in /usr/local/lib/python3.10/dist-packages (from spacy<3.8.0,>=3.7.2->en-core-web-md==3.7.1) (2.4.8)\n",
            "Requirement already satisfied: catalogue<2.1.0,>=2.0.6 in /usr/local/lib/python3.10/dist-packages (from spacy<3.8.0,>=3.7.2->en-core-web-md==3.7.1) (2.0.10)\n",
            "Requirement already satisfied: weasel<0.4.0,>=0.1.0 in /usr/local/lib/python3.10/dist-packages (from spacy<3.8.0,>=3.7.2->en-core-web-md==3.7.1) (0.3.4)\n",
            "Requirement already satisfied: typer<0.10.0,>=0.3.0 in /usr/local/lib/python3.10/dist-packages (from spacy<3.8.0,>=3.7.2->en-core-web-md==3.7.1) (0.9.4)\n",
            "Requirement already satisfied: smart-open<7.0.0,>=5.2.1 in /usr/local/lib/python3.10/dist-packages (from spacy<3.8.0,>=3.7.2->en-core-web-md==3.7.1) (6.4.0)\n",
            "Requirement already satisfied: tqdm<5.0.0,>=4.38.0 in /usr/local/lib/python3.10/dist-packages (from spacy<3.8.0,>=3.7.2->en-core-web-md==3.7.1) (4.66.2)\n",
            "Requirement already satisfied: requests<3.0.0,>=2.13.0 in /usr/local/lib/python3.10/dist-packages (from spacy<3.8.0,>=3.7.2->en-core-web-md==3.7.1) (2.31.0)\n",
            "Requirement already satisfied: pydantic!=1.8,!=1.8.1,<3.0.0,>=1.7.4 in /usr/local/lib/python3.10/dist-packages (from spacy<3.8.0,>=3.7.2->en-core-web-md==3.7.1) (2.7.0)\n",
            "Requirement already satisfied: jinja2 in /usr/local/lib/python3.10/dist-packages (from spacy<3.8.0,>=3.7.2->en-core-web-md==3.7.1) (3.1.3)\n",
            "Requirement already satisfied: setuptools in /usr/local/lib/python3.10/dist-packages (from spacy<3.8.0,>=3.7.2->en-core-web-md==3.7.1) (67.7.2)\n",
            "Requirement already satisfied: packaging>=20.0 in /usr/local/lib/python3.10/dist-packages (from spacy<3.8.0,>=3.7.2->en-core-web-md==3.7.1) (24.0)\n",
            "Requirement already satisfied: langcodes<4.0.0,>=3.2.0 in /usr/local/lib/python3.10/dist-packages (from spacy<3.8.0,>=3.7.2->en-core-web-md==3.7.1) (3.3.0)\n",
            "Requirement already satisfied: numpy>=1.19.0 in /usr/local/lib/python3.10/dist-packages (from spacy<3.8.0,>=3.7.2->en-core-web-md==3.7.1) (1.25.2)\n",
            "Requirement already satisfied: annotated-types>=0.4.0 in /usr/local/lib/python3.10/dist-packages (from pydantic!=1.8,!=1.8.1,<3.0.0,>=1.7.4->spacy<3.8.0,>=3.7.2->en-core-web-md==3.7.1) (0.6.0)\n",
            "Requirement already satisfied: pydantic-core==2.18.1 in /usr/local/lib/python3.10/dist-packages (from pydantic!=1.8,!=1.8.1,<3.0.0,>=1.7.4->spacy<3.8.0,>=3.7.2->en-core-web-md==3.7.1) (2.18.1)\n",
            "Requirement already satisfied: typing-extensions>=4.6.1 in /usr/local/lib/python3.10/dist-packages (from pydantic!=1.8,!=1.8.1,<3.0.0,>=1.7.4->spacy<3.8.0,>=3.7.2->en-core-web-md==3.7.1) (4.11.0)\n",
            "Requirement already satisfied: charset-normalizer<4,>=2 in /usr/local/lib/python3.10/dist-packages (from requests<3.0.0,>=2.13.0->spacy<3.8.0,>=3.7.2->en-core-web-md==3.7.1) (3.3.2)\n",
            "Requirement already satisfied: idna<4,>=2.5 in /usr/local/lib/python3.10/dist-packages (from requests<3.0.0,>=2.13.0->spacy<3.8.0,>=3.7.2->en-core-web-md==3.7.1) (3.7)\n",
            "Requirement already satisfied: urllib3<3,>=1.21.1 in /usr/local/lib/python3.10/dist-packages (from requests<3.0.0,>=2.13.0->spacy<3.8.0,>=3.7.2->en-core-web-md==3.7.1) (2.0.7)\n",
            "Requirement already satisfied: certifi>=2017.4.17 in /usr/local/lib/python3.10/dist-packages (from requests<3.0.0,>=2.13.0->spacy<3.8.0,>=3.7.2->en-core-web-md==3.7.1) (2024.2.2)\n",
            "Requirement already satisfied: blis<0.8.0,>=0.7.8 in /usr/local/lib/python3.10/dist-packages (from thinc<8.3.0,>=8.2.2->spacy<3.8.0,>=3.7.2->en-core-web-md==3.7.1) (0.7.11)\n",
            "Requirement already satisfied: confection<1.0.0,>=0.0.1 in /usr/local/lib/python3.10/dist-packages (from thinc<8.3.0,>=8.2.2->spacy<3.8.0,>=3.7.2->en-core-web-md==3.7.1) (0.1.4)\n",
            "Requirement already satisfied: click<9.0.0,>=7.1.1 in /usr/local/lib/python3.10/dist-packages (from typer<0.10.0,>=0.3.0->spacy<3.8.0,>=3.7.2->en-core-web-md==3.7.1) (8.1.7)\n",
            "Requirement already satisfied: cloudpathlib<0.17.0,>=0.7.0 in /usr/local/lib/python3.10/dist-packages (from weasel<0.4.0,>=0.1.0->spacy<3.8.0,>=3.7.2->en-core-web-md==3.7.1) (0.16.0)\n",
            "Requirement already satisfied: MarkupSafe>=2.0 in /usr/local/lib/python3.10/dist-packages (from jinja2->spacy<3.8.0,>=3.7.2->en-core-web-md==3.7.1) (2.1.5)\n",
            "\u001b[38;5;2m✔ Download and installation successful\u001b[0m\n",
            "You can now load the package via spacy.load('en_core_web_md')\n",
            "\u001b[38;5;3m⚠ Restart to reload dependencies\u001b[0m\n",
            "If you are in a Jupyter or Colab notebook, you may need to restart Python in\n",
            "order to load all the package's dependencies. You can do this by selecting the\n",
            "'Restart kernel' or 'Restart runtime' option.\n"
          ]
        }
      ]
    },
    {
      "cell_type": "code",
      "source": [
        "nlp = spacy.load('en_core_web_md')"
      ],
      "metadata": {
        "id": "eYgIXvE6q3PC"
      },
      "execution_count": 216,
      "outputs": []
    },
    {
      "cell_type": "code",
      "source": [
        "sentence = \"All emotions, and that one particularly, were abhorrent to his cold, precise but admirably balanced mind.\"\n",
        "doc = nlp(sentence)\n",
        "for noun_chunks in doc.noun_chunks:\n",
        "  print(noun_chunks.text)"
      ],
      "metadata": {
        "colab": {
          "base_uri": "https://localhost:8080/"
        },
        "id": "e88Dc-Gts7Zl",
        "outputId": "8b733fa5-a7af-4840-c24a-f47ad19b7dec"
      },
      "execution_count": 217,
      "outputs": [
        {
          "output_type": "stream",
          "name": "stdout",
          "text": [
            "All emotions\n",
            "that one\n",
            "his cold, precise but admirably balanced mind\n"
          ]
        }
      ]
    },
    {
      "cell_type": "code",
      "source": [
        "for noun_chunk in doc.noun_chunks:\n",
        "    print(noun_chunk.text, \"\\t\", noun_chunk.start, \"\\t\",\n",
        "          noun_chunk.end)"
      ],
      "metadata": {
        "colab": {
          "base_uri": "https://localhost:8080/"
        },
        "id": "6RRnzsbxs7Rf",
        "outputId": "f912d749-15ae-49f6-899f-8cd559fa2cf2"
      },
      "execution_count": 218,
      "outputs": [
        {
          "output_type": "stream",
          "name": "stdout",
          "text": [
            "All emotions \t 0 \t 2\n",
            "that one \t 4 \t 6\n",
            "his cold, precise but admirably balanced mind \t 11 \t 19\n"
          ]
        }
      ]
    },
    {
      "cell_type": "code",
      "source": [
        "for noun_chunk in doc.noun_chunks:\n",
        "    print(noun_chunk.text, \"\\t\", noun_chunk.sent)"
      ],
      "metadata": {
        "colab": {
          "base_uri": "https://localhost:8080/"
        },
        "id": "9ed80HCwtO4j",
        "outputId": "7f1653b4-8d43-4ee0-8215-9b4d2b66d751"
      },
      "execution_count": 219,
      "outputs": [
        {
          "output_type": "stream",
          "name": "stdout",
          "text": [
            "All emotions \t All emotions, and that one particularly, were abhorrent to his cold, precise but admirably balanced mind.\n",
            "that one \t All emotions, and that one particularly, were abhorrent to his cold, precise but admirably balanced mind.\n",
            "his cold, precise but admirably balanced mind \t All emotions, and that one particularly, were abhorrent to his cold, precise but admirably balanced mind.\n"
          ]
        }
      ]
    },
    {
      "cell_type": "markdown",
      "source": [
        "Just like a sentence, any noun chunk includes a root, which is the token that all other tokens depend on. In a noun phrase, that is the noun"
      ],
      "metadata": {
        "id": "XMQlHj25tbh_"
      }
    },
    {
      "cell_type": "code",
      "source": [
        "for noun_chunk in doc.noun_chunks:\n",
        "    print(noun_chunk.text, \"\\t\", noun_chunk.root.text)"
      ],
      "metadata": {
        "colab": {
          "base_uri": "https://localhost:8080/"
        },
        "id": "oSd3LHlZtOzy",
        "outputId": "765e2933-0f26-45b0-efa8-86550fc2d85d"
      },
      "execution_count": 220,
      "outputs": [
        {
          "output_type": "stream",
          "name": "stdout",
          "text": [
            "All emotions \t emotions\n",
            "that one \t one\n",
            "his cold, precise but admirably balanced mind \t mind\n"
          ]
        }
      ]
    },
    {
      "cell_type": "markdown",
      "source": [
        "Another very useful property of Span is similarity, which is the semantic similarity of different texts. Let's try it out. We will load another noun chunk, emotions, and process it using spacy:"
      ],
      "metadata": {
        "id": "J98ZX_8ftfAf"
      }
    },
    {
      "cell_type": "code",
      "source": [
        "other_span = \"emotions\"\n",
        "other_doc = nlp(other_span)"
      ],
      "metadata": {
        "id": "5tGChv67tVhB"
      },
      "execution_count": 221,
      "outputs": []
    },
    {
      "cell_type": "code",
      "source": [
        "# run the code to get the result\n",
        "for noun_chunks in doc.noun_chunks:\n",
        "  print(noun_chunks.similarity(other_doc))"
      ],
      "metadata": {
        "colab": {
          "base_uri": "https://localhost:8080/"
        },
        "id": "zB2ID9-Dr-4O",
        "outputId": "16d1800d-90a9-4847-9573-ba7465d5f9fb"
      },
      "execution_count": 222,
      "outputs": [
        {
          "output_type": "stream",
          "name": "stdout",
          "text": [
            "0.6302678068015664\n",
            "0.4765202563771464\n",
            "0.5749083803745656\n"
          ]
        }
      ]
    },
    {
      "cell_type": "markdown",
      "source": [
        "The result shows the similarity of all emotions to emotions are the highest, 0.63, and to his cold, precise but admirably balanced mind, 0.57. We can also see that the larger model detects another noun chunk, that one.\n",
        "\n",
        "***Important note***\n",
        "\n",
        "A larger spaCy model, such as en_core_web_md, takes up more space, but is more precise."
      ],
      "metadata": {
        "id": "AVTGHdK_uKX3"
      }
    },
    {
      "cell_type": "markdown",
      "source": [
        "# **Extracting entities and relations**\n",
        "It is possible to extract triplets of the subject entity-relation-object entity from documents, which are frequently used in knowledge graphs. These triplets can then be analyzed for further relations and inform other NLP tasks, such as searches.\n",
        "\n",
        "**Getting ready**\n",
        "\n",
        "For this section, we will need another Python package based on spacy, called textacy. The main advantage of this package is that it allows regular expression-like searching for tokens based on their part of speech tags."
      ],
      "metadata": {
        "id": "D5H9wJrbvVED"
      }
    },
    {
      "cell_type": "code",
      "source": [
        "import spacy\n",
        "\n",
        "compound_sentence = \"He eats cheese, but he won’t eat ice cream.\"\n",
        "complex_sentence = \"If it rains later, we won't be able to go to the park.\"\n",
        "nlp = spacy.load('en_core_web_sm')\n",
        "\n",
        "verb_pos_set = [\"VERB\"]\n",
        "\n",
        "def find_root_of_sentence(doc):\n",
        "    root_token = None\n",
        "    for token in doc:\n",
        "        if (token.dep_ == \"ROOT\"):\n",
        "            root_token = token\n",
        "    return root_token\n",
        "\n",
        "def find_other_verbs(doc, root_token):\n",
        "    other_verbs = []\n",
        "    for token in doc:\n",
        "        ancestors = list(token.ancestors)\n",
        "        if (token.pos_ == \"VERB\" and len(ancestors) == 1 and ancestors[0] == root_token):\n",
        "            other_verbs.append(token)\n",
        "    return other_verbs\n",
        "\n",
        "def get_clause_token_span_for_verb(verb, doc, all_verbs):\n",
        "    first_token_index = len(doc)\n",
        "    last_token_index = 0\n",
        "    this_verb_children = list(verb.children)\n",
        "    for child in this_verb_children:\n",
        "        if (child not in all_verbs):\n",
        "            if (child.i < first_token_index):\n",
        "                first_token_index = child.i\n",
        "            if (child.i > last_token_index):\n",
        "                last_token_index = child.i\n",
        "    return(first_token_index, last_token_index)\n",
        "\n",
        "def potential_clause_contains_subj(clause):\n",
        "    contains_subj = False\n",
        "    for token in clause:\n",
        "        if (token.dep_ == \"nsubj\"):\n",
        "            contains_subj = True\n",
        "    return contains_subj\n",
        "\n",
        "def print_doc_info(doc):\n",
        "    for token in doc:\n",
        "        ancestors = [t.text for t in token.ancestors]\n",
        "        children = [t.text for t in token.children]\n",
        "        print(token.text, \"\\t\", token.i, \"\\t\", token.pos_, \"\\t\", token.dep_, \"\\t\", ancestors, \"\\t\", children)\n",
        "\n",
        "\n",
        "def get_clauses(sentence):\n",
        "    doc = nlp(sentence)\n",
        "    print_doc_info(doc)\n",
        "    # Find the root token\n",
        "    root_token = find_root_of_sentence(doc)\n",
        "    # Find the other verbs\n",
        "    other_verbs = find_other_verbs(doc, root_token)\n",
        "    token_spans = []\n",
        "    # Find the token span for each of the other verbs\n",
        "    all_verbs = [root_token] + other_verbs\n",
        "    for other_verb in all_verbs:\n",
        "        (first_token_index, last_token_index) = get_clause_token_span_for_verb(other_verb, doc, all_verbs)\n",
        "        token_spans.append((first_token_index, last_token_index))\n",
        "    sentence_clauses = []\n",
        "    for token_span in token_spans:\n",
        "        start = token_span[0]\n",
        "        end = token_span[1]\n",
        "        if (start < end):\n",
        "            clause = doc[start:end]\n",
        "            #if (potential_clause_contains_subj(clause)):\n",
        "            sentence_clauses.append(clause)\n",
        "    sentence_clauses = sorted(sentence_clauses, key=lambda tup: tup[0])\n",
        "    return sentence_clauses\n",
        "\n",
        "def main():\n",
        "    clauses = get_clauses(complex_sentence)\n",
        "    clauses_text = [clause.text for clause in clauses]\n",
        "    print(clauses_text)\n",
        "\n",
        "if (__name__ == \"__main__\"):\n",
        "    main()"
      ],
      "metadata": {
        "colab": {
          "base_uri": "https://localhost:8080/"
        },
        "id": "0Fcdy5jqw8X9",
        "outputId": "a568a49e-ed63-4f5d-8b26-d5757e645bcd"
      },
      "execution_count": 223,
      "outputs": [
        {
          "output_type": "stream",
          "name": "stdout",
          "text": [
            "If \t 0 \t SCONJ \t mark \t ['rains', 'be'] \t []\n",
            "it \t 1 \t PRON \t nsubj \t ['rains', 'be'] \t []\n",
            "rains \t 2 \t VERB \t advcl \t ['be'] \t ['If', 'it', 'later']\n",
            "later \t 3 \t ADV \t advmod \t ['rains', 'be'] \t []\n",
            ", \t 4 \t PUNCT \t punct \t ['be'] \t []\n",
            "we \t 5 \t PRON \t nsubj \t ['be'] \t []\n",
            "wo \t 6 \t AUX \t aux \t ['be'] \t []\n",
            "n't \t 7 \t PART \t neg \t ['be'] \t []\n",
            "be \t 8 \t AUX \t ROOT \t [] \t ['rains', ',', 'we', 'wo', \"n't\", 'able', '.']\n",
            "able \t 9 \t ADJ \t acomp \t ['be'] \t ['go']\n",
            "to \t 10 \t PART \t aux \t ['go', 'able', 'be'] \t []\n",
            "go \t 11 \t VERB \t xcomp \t ['able', 'be'] \t ['to', 'to']\n",
            "to \t 12 \t ADP \t prep \t ['go', 'able', 'be'] \t ['park']\n",
            "the \t 13 \t DET \t det \t ['park', 'to', 'go', 'able', 'be'] \t []\n",
            "park \t 14 \t NOUN \t pobj \t ['to', 'go', 'able', 'be'] \t ['the']\n",
            ". \t 15 \t PUNCT \t punct \t ['be'] \t []\n",
            "['If it rains', \", we won't be able to go to the park\"]\n"
          ]
        }
      ]
    }
  ]
}