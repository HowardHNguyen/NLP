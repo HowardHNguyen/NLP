{
  "nbformat": 4,
  "nbformat_minor": 0,
  "metadata": {
    "colab": {
      "provenance": [],
      "authorship_tag": "ABX9TyOQYaxfqm5+8zDxLn2inC20",
      "include_colab_link": true
    },
    "kernelspec": {
      "name": "python3",
      "display_name": "Python 3"
    },
    "language_info": {
      "name": "python"
    }
  },
  "cells": [
    {
      "cell_type": "markdown",
      "metadata": {
        "id": "view-in-github",
        "colab_type": "text"
      },
      "source": [
        "<a href=\"https://colab.research.google.com/github/HowardHNguyen/Natural_Language_Processing-NLP/blob/main/NLP_Multilingual_Analysis_Kieu_Sentiment_Emotion_MLs_DLs.ipynb\" target=\"_parent\"><img src=\"https://colab.research.google.com/assets/colab-badge.svg\" alt=\"Open In Colab\"/></a>"
      ]
    },
    {
      "cell_type": "markdown",
      "source": [
        "# Applying for Tale of Kieu (Vietnamese + English) datasets\n",
        "# Step 1: Loading EmoLex\n",
        "Assuming you have a CSV file where each row represents a word and each column represents an emotion with boolean values:"
      ],
      "metadata": {
        "id": "Fj9Xj3DI5MTc"
      }
    },
    {
      "cell_type": "code",
      "source": [
        "import pandas as pd\n",
        "\n",
        "# Load EmoLex from a CSV file\n",
        "emolex_df = pd.read_csv('/content/drive/MyDrive/data/NRC-Emotion-Lexicon-Wordlevel-v092_en.csv')\n",
        "emolex_words = emolex_df.pivot(index='word', columns='emotion', values='association').reset_index()\n",
        "emotions = emolex_words.columns.drop('word')"
      ],
      "metadata": {
        "id": "RUXU_JC7DH1C"
      },
      "execution_count": 4,
      "outputs": []
    },
    {
      "cell_type": "markdown",
      "source": [
        "# Step 2: Preprocessing Text Data\n",
        "We'll use NLTK for tokenization and other preprocessing tasks:"
      ],
      "metadata": {
        "id": "pwzzzq3EDMxn"
      }
    },
    {
      "cell_type": "code",
      "source": [
        "import nltk\n",
        "from nltk.corpus import stopwords\n",
        "from nltk.tokenize import word_tokenize\n",
        "\n",
        "# Download necessary NLTK resources\n",
        "nltk.download('punkt')\n",
        "nltk.download('stopwords')\n",
        "\n",
        "# Set of English stopwords\n",
        "stop_words = set(stopwords.words('english'))"
      ],
      "metadata": {
        "colab": {
          "base_uri": "https://localhost:8080/"
        },
        "id": "QgkomkcKDOWu",
        "outputId": "b93c5b6a-9bc2-4782-adda-7f5b80de1316"
      },
      "execution_count": 5,
      "outputs": [
        {
          "output_type": "stream",
          "name": "stderr",
          "text": [
            "[nltk_data] Downloading package punkt to /root/nltk_data...\n",
            "[nltk_data]   Unzipping tokenizers/punkt.zip.\n",
            "[nltk_data] Downloading package stopwords to /root/nltk_data...\n",
            "[nltk_data]   Unzipping corpora/stopwords.zip.\n"
          ]
        }
      ]
    },
    {
      "cell_type": "code",
      "source": [
        "def preprocess(text):\n",
        "    # Convert text to lowercase\n",
        "    text = text.lower()\n",
        "    # Tokenize text\n",
        "    tokens = word_tokenize(text)\n",
        "    # Remove stopwords and punctuation\n",
        "    tokens = [word for word in tokens if word.isalnum() and not word in stop_words]\n",
        "    return tokens"
      ],
      "metadata": {
        "id": "rNnAmuuxDSbF"
      },
      "execution_count": 6,
      "outputs": []
    },
    {
      "cell_type": "code",
      "source": [
        "from google.colab import drive\n",
        "drive.mount('/content/drive')"
      ],
      "metadata": {
        "colab": {
          "base_uri": "https://localhost:8080/"
        },
        "id": "dc3a_KJg6Fff",
        "outputId": "d0b83135-28d0-45a4-e9c7-544a23670853"
      },
      "execution_count": 1,
      "outputs": [
        {
          "output_type": "stream",
          "name": "stdout",
          "text": [
            "Mounted at /content/drive\n"
          ]
        }
      ]
    },
    {
      "cell_type": "code",
      "source": [
        "import pandas as pd\n",
        "tale_of_kieu_en = pd.read_csv('/content/drive/MyDrive/data/tale_of_kieu_en.csv')\n",
        "tale_of_kieu_vi = pd.read_csv('/content/drive/MyDrive/data/tale_of_kieu_vi.csv')"
      ],
      "metadata": {
        "id": "uB6TjqWQ5Rir"
      },
      "execution_count": 7,
      "outputs": []
    },
    {
      "cell_type": "markdown",
      "source": [
        "# Step 3: Analyzing Emotions in Text\n",
        "Here's how to map the preprocessed text to the emotions from EmoLex:"
      ],
      "metadata": {
        "id": "Mcl10bXb5ymU"
      }
    },
    {
      "cell_type": "code",
      "source": [
        "def analyze_emotions(text, emolex_words):\n",
        "    tokens = preprocess(text)\n",
        "    # Initialize a dictionary to count each emotion\n",
        "    emotion_counts = {emotion: 0 for emotion in emotions}\n",
        "\n",
        "    # Count each emotion in the text\n",
        "    for word in tokens:\n",
        "        if word in emolex_words.index:\n",
        "            for emotion in emotions:\n",
        "                if emolex_words.loc[word][emotion] == 1:\n",
        "                    emotion_counts[emotion] += 1\n",
        "    return emotion_counts"
      ],
      "metadata": {
        "id": "QnbQfWBxCydj"
      },
      "execution_count": 8,
      "outputs": []
    },
    {
      "cell_type": "code",
      "source": [
        "# Apply the analyze_emotions function to each text entry\n",
        "tale_of_kieu_en['emotions'] = tale_of_kieu_en['sentence'].apply(lambda x: analyze_emotions(x, emolex_words.set_index('word')))\n",
        "tale_of_kieu_vi['emotions'] = tale_of_kieu_vi['sentence'].apply(lambda x: analyze_emotions(x, emolex_words.set_index('word')))"
      ],
      "metadata": {
        "id": "nftcIru85d13"
      },
      "execution_count": 9,
      "outputs": []
    },
    {
      "cell_type": "code",
      "source": [
        "tale_of_kieu_en.head()"
      ],
      "metadata": {
        "colab": {
          "base_uri": "https://localhost:8080/",
          "height": 206
        },
        "id": "DAMfeZDesy29",
        "outputId": "bab28459-b4ae-4d48-e198-3225a73c767b"
      },
      "execution_count": 10,
      "outputs": [
        {
          "output_type": "execute_result",
          "data": {
            "text/plain": [
              "                                            sentence  \\\n",
              "0  Within a hundred-year lifespan in this earthly...   \n",
              "1  Genius and Destiny have a tendency to oppose e...   \n",
              "2  A turbulent mulberry-field-covered-by-sea peri...   \n",
              "3  The things that we saw still deeply pain our h...   \n",
              "4     It’s not strange that beauty may beget misery.   \n",
              "\n",
              "                                            emotions  \n",
              "0  {'anger': 0, 'anticipation': 0, 'disgust': 0, ...  \n",
              "1  {'anger': 0, 'anticipation': 0, 'disgust': 0, ...  \n",
              "2  {'anger': 0, 'anticipation': 0, 'disgust': 0, ...  \n",
              "3  {'anger': 0, 'anticipation': 0, 'disgust': 0, ...  \n",
              "4  {'anger': 1, 'anticipation': 0, 'disgust': 1, ...  "
            ],
            "text/html": [
              "\n",
              "  <div id=\"df-7bf0cf39-f642-4be8-b570-8e9b5ebb8ad0\" class=\"colab-df-container\">\n",
              "    <div>\n",
              "<style scoped>\n",
              "    .dataframe tbody tr th:only-of-type {\n",
              "        vertical-align: middle;\n",
              "    }\n",
              "\n",
              "    .dataframe tbody tr th {\n",
              "        vertical-align: top;\n",
              "    }\n",
              "\n",
              "    .dataframe thead th {\n",
              "        text-align: right;\n",
              "    }\n",
              "</style>\n",
              "<table border=\"1\" class=\"dataframe\">\n",
              "  <thead>\n",
              "    <tr style=\"text-align: right;\">\n",
              "      <th></th>\n",
              "      <th>sentence</th>\n",
              "      <th>emotions</th>\n",
              "    </tr>\n",
              "  </thead>\n",
              "  <tbody>\n",
              "    <tr>\n",
              "      <th>0</th>\n",
              "      <td>Within a hundred-year lifespan in this earthly...</td>\n",
              "      <td>{'anger': 0, 'anticipation': 0, 'disgust': 0, ...</td>\n",
              "    </tr>\n",
              "    <tr>\n",
              "      <th>1</th>\n",
              "      <td>Genius and Destiny have a tendency to oppose e...</td>\n",
              "      <td>{'anger': 0, 'anticipation': 0, 'disgust': 0, ...</td>\n",
              "    </tr>\n",
              "    <tr>\n",
              "      <th>2</th>\n",
              "      <td>A turbulent mulberry-field-covered-by-sea peri...</td>\n",
              "      <td>{'anger': 0, 'anticipation': 0, 'disgust': 0, ...</td>\n",
              "    </tr>\n",
              "    <tr>\n",
              "      <th>3</th>\n",
              "      <td>The things that we saw still deeply pain our h...</td>\n",
              "      <td>{'anger': 0, 'anticipation': 0, 'disgust': 0, ...</td>\n",
              "    </tr>\n",
              "    <tr>\n",
              "      <th>4</th>\n",
              "      <td>It’s not strange that beauty may beget misery.</td>\n",
              "      <td>{'anger': 1, 'anticipation': 0, 'disgust': 1, ...</td>\n",
              "    </tr>\n",
              "  </tbody>\n",
              "</table>\n",
              "</div>\n",
              "    <div class=\"colab-df-buttons\">\n",
              "\n",
              "  <div class=\"colab-df-container\">\n",
              "    <button class=\"colab-df-convert\" onclick=\"convertToInteractive('df-7bf0cf39-f642-4be8-b570-8e9b5ebb8ad0')\"\n",
              "            title=\"Convert this dataframe to an interactive table.\"\n",
              "            style=\"display:none;\">\n",
              "\n",
              "  <svg xmlns=\"http://www.w3.org/2000/svg\" height=\"24px\" viewBox=\"0 -960 960 960\">\n",
              "    <path d=\"M120-120v-720h720v720H120Zm60-500h600v-160H180v160Zm220 220h160v-160H400v160Zm0 220h160v-160H400v160ZM180-400h160v-160H180v160Zm440 0h160v-160H620v160ZM180-180h160v-160H180v160Zm440 0h160v-160H620v160Z\"/>\n",
              "  </svg>\n",
              "    </button>\n",
              "\n",
              "  <style>\n",
              "    .colab-df-container {\n",
              "      display:flex;\n",
              "      gap: 12px;\n",
              "    }\n",
              "\n",
              "    .colab-df-convert {\n",
              "      background-color: #E8F0FE;\n",
              "      border: none;\n",
              "      border-radius: 50%;\n",
              "      cursor: pointer;\n",
              "      display: none;\n",
              "      fill: #1967D2;\n",
              "      height: 32px;\n",
              "      padding: 0 0 0 0;\n",
              "      width: 32px;\n",
              "    }\n",
              "\n",
              "    .colab-df-convert:hover {\n",
              "      background-color: #E2EBFA;\n",
              "      box-shadow: 0px 1px 2px rgba(60, 64, 67, 0.3), 0px 1px 3px 1px rgba(60, 64, 67, 0.15);\n",
              "      fill: #174EA6;\n",
              "    }\n",
              "\n",
              "    .colab-df-buttons div {\n",
              "      margin-bottom: 4px;\n",
              "    }\n",
              "\n",
              "    [theme=dark] .colab-df-convert {\n",
              "      background-color: #3B4455;\n",
              "      fill: #D2E3FC;\n",
              "    }\n",
              "\n",
              "    [theme=dark] .colab-df-convert:hover {\n",
              "      background-color: #434B5C;\n",
              "      box-shadow: 0px 1px 3px 1px rgba(0, 0, 0, 0.15);\n",
              "      filter: drop-shadow(0px 1px 2px rgba(0, 0, 0, 0.3));\n",
              "      fill: #FFFFFF;\n",
              "    }\n",
              "  </style>\n",
              "\n",
              "    <script>\n",
              "      const buttonEl =\n",
              "        document.querySelector('#df-7bf0cf39-f642-4be8-b570-8e9b5ebb8ad0 button.colab-df-convert');\n",
              "      buttonEl.style.display =\n",
              "        google.colab.kernel.accessAllowed ? 'block' : 'none';\n",
              "\n",
              "      async function convertToInteractive(key) {\n",
              "        const element = document.querySelector('#df-7bf0cf39-f642-4be8-b570-8e9b5ebb8ad0');\n",
              "        const dataTable =\n",
              "          await google.colab.kernel.invokeFunction('convertToInteractive',\n",
              "                                                    [key], {});\n",
              "        if (!dataTable) return;\n",
              "\n",
              "        const docLinkHtml = 'Like what you see? Visit the ' +\n",
              "          '<a target=\"_blank\" href=https://colab.research.google.com/notebooks/data_table.ipynb>data table notebook</a>'\n",
              "          + ' to learn more about interactive tables.';\n",
              "        element.innerHTML = '';\n",
              "        dataTable['output_type'] = 'display_data';\n",
              "        await google.colab.output.renderOutput(dataTable, element);\n",
              "        const docLink = document.createElement('div');\n",
              "        docLink.innerHTML = docLinkHtml;\n",
              "        element.appendChild(docLink);\n",
              "      }\n",
              "    </script>\n",
              "  </div>\n",
              "\n",
              "\n",
              "<div id=\"df-930e9e2f-1979-4b2a-a184-2c39903b664b\">\n",
              "  <button class=\"colab-df-quickchart\" onclick=\"quickchart('df-930e9e2f-1979-4b2a-a184-2c39903b664b')\"\n",
              "            title=\"Suggest charts\"\n",
              "            style=\"display:none;\">\n",
              "\n",
              "<svg xmlns=\"http://www.w3.org/2000/svg\" height=\"24px\"viewBox=\"0 0 24 24\"\n",
              "     width=\"24px\">\n",
              "    <g>\n",
              "        <path d=\"M19 3H5c-1.1 0-2 .9-2 2v14c0 1.1.9 2 2 2h14c1.1 0 2-.9 2-2V5c0-1.1-.9-2-2-2zM9 17H7v-7h2v7zm4 0h-2V7h2v10zm4 0h-2v-4h2v4z\"/>\n",
              "    </g>\n",
              "</svg>\n",
              "  </button>\n",
              "\n",
              "<style>\n",
              "  .colab-df-quickchart {\n",
              "      --bg-color: #E8F0FE;\n",
              "      --fill-color: #1967D2;\n",
              "      --hover-bg-color: #E2EBFA;\n",
              "      --hover-fill-color: #174EA6;\n",
              "      --disabled-fill-color: #AAA;\n",
              "      --disabled-bg-color: #DDD;\n",
              "  }\n",
              "\n",
              "  [theme=dark] .colab-df-quickchart {\n",
              "      --bg-color: #3B4455;\n",
              "      --fill-color: #D2E3FC;\n",
              "      --hover-bg-color: #434B5C;\n",
              "      --hover-fill-color: #FFFFFF;\n",
              "      --disabled-bg-color: #3B4455;\n",
              "      --disabled-fill-color: #666;\n",
              "  }\n",
              "\n",
              "  .colab-df-quickchart {\n",
              "    background-color: var(--bg-color);\n",
              "    border: none;\n",
              "    border-radius: 50%;\n",
              "    cursor: pointer;\n",
              "    display: none;\n",
              "    fill: var(--fill-color);\n",
              "    height: 32px;\n",
              "    padding: 0;\n",
              "    width: 32px;\n",
              "  }\n",
              "\n",
              "  .colab-df-quickchart:hover {\n",
              "    background-color: var(--hover-bg-color);\n",
              "    box-shadow: 0 1px 2px rgba(60, 64, 67, 0.3), 0 1px 3px 1px rgba(60, 64, 67, 0.15);\n",
              "    fill: var(--button-hover-fill-color);\n",
              "  }\n",
              "\n",
              "  .colab-df-quickchart-complete:disabled,\n",
              "  .colab-df-quickchart-complete:disabled:hover {\n",
              "    background-color: var(--disabled-bg-color);\n",
              "    fill: var(--disabled-fill-color);\n",
              "    box-shadow: none;\n",
              "  }\n",
              "\n",
              "  .colab-df-spinner {\n",
              "    border: 2px solid var(--fill-color);\n",
              "    border-color: transparent;\n",
              "    border-bottom-color: var(--fill-color);\n",
              "    animation:\n",
              "      spin 1s steps(1) infinite;\n",
              "  }\n",
              "\n",
              "  @keyframes spin {\n",
              "    0% {\n",
              "      border-color: transparent;\n",
              "      border-bottom-color: var(--fill-color);\n",
              "      border-left-color: var(--fill-color);\n",
              "    }\n",
              "    20% {\n",
              "      border-color: transparent;\n",
              "      border-left-color: var(--fill-color);\n",
              "      border-top-color: var(--fill-color);\n",
              "    }\n",
              "    30% {\n",
              "      border-color: transparent;\n",
              "      border-left-color: var(--fill-color);\n",
              "      border-top-color: var(--fill-color);\n",
              "      border-right-color: var(--fill-color);\n",
              "    }\n",
              "    40% {\n",
              "      border-color: transparent;\n",
              "      border-right-color: var(--fill-color);\n",
              "      border-top-color: var(--fill-color);\n",
              "    }\n",
              "    60% {\n",
              "      border-color: transparent;\n",
              "      border-right-color: var(--fill-color);\n",
              "    }\n",
              "    80% {\n",
              "      border-color: transparent;\n",
              "      border-right-color: var(--fill-color);\n",
              "      border-bottom-color: var(--fill-color);\n",
              "    }\n",
              "    90% {\n",
              "      border-color: transparent;\n",
              "      border-bottom-color: var(--fill-color);\n",
              "    }\n",
              "  }\n",
              "</style>\n",
              "\n",
              "  <script>\n",
              "    async function quickchart(key) {\n",
              "      const quickchartButtonEl =\n",
              "        document.querySelector('#' + key + ' button');\n",
              "      quickchartButtonEl.disabled = true;  // To prevent multiple clicks.\n",
              "      quickchartButtonEl.classList.add('colab-df-spinner');\n",
              "      try {\n",
              "        const charts = await google.colab.kernel.invokeFunction(\n",
              "            'suggestCharts', [key], {});\n",
              "      } catch (error) {\n",
              "        console.error('Error during call to suggestCharts:', error);\n",
              "      }\n",
              "      quickchartButtonEl.classList.remove('colab-df-spinner');\n",
              "      quickchartButtonEl.classList.add('colab-df-quickchart-complete');\n",
              "    }\n",
              "    (() => {\n",
              "      let quickchartButtonEl =\n",
              "        document.querySelector('#df-930e9e2f-1979-4b2a-a184-2c39903b664b button');\n",
              "      quickchartButtonEl.style.display =\n",
              "        google.colab.kernel.accessAllowed ? 'block' : 'none';\n",
              "    })();\n",
              "  </script>\n",
              "</div>\n",
              "\n",
              "    </div>\n",
              "  </div>\n"
            ],
            "application/vnd.google.colaboratory.intrinsic+json": {
              "type": "dataframe",
              "variable_name": "tale_of_kieu_en",
              "summary": "{\n  \"name\": \"tale_of_kieu_en\",\n  \"rows\": 3254,\n  \"fields\": [\n    {\n      \"column\": \"sentence\",\n      \"properties\": {\n        \"dtype\": \"string\",\n        \"num_unique_values\": 3254,\n        \"samples\": [\n          \"They were half terrified, and half happy for her.\",\n          \"Seemed to be a young scholar riding on a horse,\",\n          \"she had lost about three or four tenths of her freshness.\"\n        ],\n        \"semantic_type\": \"\",\n        \"description\": \"\"\n      }\n    },\n    {\n      \"column\": \"emotions\",\n      \"properties\": {\n        \"dtype\": \"object\",\n        \"semantic_type\": \"\",\n        \"description\": \"\"\n      }\n    }\n  ]\n}"
            }
          },
          "metadata": {},
          "execution_count": 10
        }
      ]
    },
    {
      "cell_type": "code",
      "source": [
        "tale_of_kieu_vi.head()"
      ],
      "metadata": {
        "colab": {
          "base_uri": "https://localhost:8080/",
          "height": 206
        },
        "id": "jS6tUJ2as438",
        "outputId": "c609c734-ffd9-4f6d-95aa-07078596d759"
      },
      "execution_count": 11,
      "outputs": [
        {
          "output_type": "execute_result",
          "data": {
            "text/plain": [
              "                                 sentence  \\\n",
              "0            Trăm năm trong cõi người ta,   \n",
              "1     Chữ tài chữ mệnh khéo là ghét nhau.   \n",
              "2               Trải qua một cuộc bể dâu,   \n",
              "3  Những điều trông thấy mà đau đớn lòng.   \n",
              "4                  Lạ gì bỉ sắc tư phong,   \n",
              "\n",
              "                                            emotions  \n",
              "0  {'anger': 0, 'anticipation': 0, 'disgust': 0, ...  \n",
              "1  {'anger': 0, 'anticipation': 0, 'disgust': 0, ...  \n",
              "2  {'anger': 0, 'anticipation': 0, 'disgust': 0, ...  \n",
              "3  {'anger': 0, 'anticipation': 0, 'disgust': 0, ...  \n",
              "4  {'anger': 0, 'anticipation': 0, 'disgust': 0, ...  "
            ],
            "text/html": [
              "\n",
              "  <div id=\"df-dfb24daf-a816-4d93-ae29-52380ff20875\" class=\"colab-df-container\">\n",
              "    <div>\n",
              "<style scoped>\n",
              "    .dataframe tbody tr th:only-of-type {\n",
              "        vertical-align: middle;\n",
              "    }\n",
              "\n",
              "    .dataframe tbody tr th {\n",
              "        vertical-align: top;\n",
              "    }\n",
              "\n",
              "    .dataframe thead th {\n",
              "        text-align: right;\n",
              "    }\n",
              "</style>\n",
              "<table border=\"1\" class=\"dataframe\">\n",
              "  <thead>\n",
              "    <tr style=\"text-align: right;\">\n",
              "      <th></th>\n",
              "      <th>sentence</th>\n",
              "      <th>emotions</th>\n",
              "    </tr>\n",
              "  </thead>\n",
              "  <tbody>\n",
              "    <tr>\n",
              "      <th>0</th>\n",
              "      <td>Trăm năm trong cõi người ta,</td>\n",
              "      <td>{'anger': 0, 'anticipation': 0, 'disgust': 0, ...</td>\n",
              "    </tr>\n",
              "    <tr>\n",
              "      <th>1</th>\n",
              "      <td>Chữ tài chữ mệnh khéo là ghét nhau.</td>\n",
              "      <td>{'anger': 0, 'anticipation': 0, 'disgust': 0, ...</td>\n",
              "    </tr>\n",
              "    <tr>\n",
              "      <th>2</th>\n",
              "      <td>Trải qua một cuộc bể dâu,</td>\n",
              "      <td>{'anger': 0, 'anticipation': 0, 'disgust': 0, ...</td>\n",
              "    </tr>\n",
              "    <tr>\n",
              "      <th>3</th>\n",
              "      <td>Những điều trông thấy mà đau đớn lòng.</td>\n",
              "      <td>{'anger': 0, 'anticipation': 0, 'disgust': 0, ...</td>\n",
              "    </tr>\n",
              "    <tr>\n",
              "      <th>4</th>\n",
              "      <td>Lạ gì bỉ sắc tư phong,</td>\n",
              "      <td>{'anger': 0, 'anticipation': 0, 'disgust': 0, ...</td>\n",
              "    </tr>\n",
              "  </tbody>\n",
              "</table>\n",
              "</div>\n",
              "    <div class=\"colab-df-buttons\">\n",
              "\n",
              "  <div class=\"colab-df-container\">\n",
              "    <button class=\"colab-df-convert\" onclick=\"convertToInteractive('df-dfb24daf-a816-4d93-ae29-52380ff20875')\"\n",
              "            title=\"Convert this dataframe to an interactive table.\"\n",
              "            style=\"display:none;\">\n",
              "\n",
              "  <svg xmlns=\"http://www.w3.org/2000/svg\" height=\"24px\" viewBox=\"0 -960 960 960\">\n",
              "    <path d=\"M120-120v-720h720v720H120Zm60-500h600v-160H180v160Zm220 220h160v-160H400v160Zm0 220h160v-160H400v160ZM180-400h160v-160H180v160Zm440 0h160v-160H620v160ZM180-180h160v-160H180v160Zm440 0h160v-160H620v160Z\"/>\n",
              "  </svg>\n",
              "    </button>\n",
              "\n",
              "  <style>\n",
              "    .colab-df-container {\n",
              "      display:flex;\n",
              "      gap: 12px;\n",
              "    }\n",
              "\n",
              "    .colab-df-convert {\n",
              "      background-color: #E8F0FE;\n",
              "      border: none;\n",
              "      border-radius: 50%;\n",
              "      cursor: pointer;\n",
              "      display: none;\n",
              "      fill: #1967D2;\n",
              "      height: 32px;\n",
              "      padding: 0 0 0 0;\n",
              "      width: 32px;\n",
              "    }\n",
              "\n",
              "    .colab-df-convert:hover {\n",
              "      background-color: #E2EBFA;\n",
              "      box-shadow: 0px 1px 2px rgba(60, 64, 67, 0.3), 0px 1px 3px 1px rgba(60, 64, 67, 0.15);\n",
              "      fill: #174EA6;\n",
              "    }\n",
              "\n",
              "    .colab-df-buttons div {\n",
              "      margin-bottom: 4px;\n",
              "    }\n",
              "\n",
              "    [theme=dark] .colab-df-convert {\n",
              "      background-color: #3B4455;\n",
              "      fill: #D2E3FC;\n",
              "    }\n",
              "\n",
              "    [theme=dark] .colab-df-convert:hover {\n",
              "      background-color: #434B5C;\n",
              "      box-shadow: 0px 1px 3px 1px rgba(0, 0, 0, 0.15);\n",
              "      filter: drop-shadow(0px 1px 2px rgba(0, 0, 0, 0.3));\n",
              "      fill: #FFFFFF;\n",
              "    }\n",
              "  </style>\n",
              "\n",
              "    <script>\n",
              "      const buttonEl =\n",
              "        document.querySelector('#df-dfb24daf-a816-4d93-ae29-52380ff20875 button.colab-df-convert');\n",
              "      buttonEl.style.display =\n",
              "        google.colab.kernel.accessAllowed ? 'block' : 'none';\n",
              "\n",
              "      async function convertToInteractive(key) {\n",
              "        const element = document.querySelector('#df-dfb24daf-a816-4d93-ae29-52380ff20875');\n",
              "        const dataTable =\n",
              "          await google.colab.kernel.invokeFunction('convertToInteractive',\n",
              "                                                    [key], {});\n",
              "        if (!dataTable) return;\n",
              "\n",
              "        const docLinkHtml = 'Like what you see? Visit the ' +\n",
              "          '<a target=\"_blank\" href=https://colab.research.google.com/notebooks/data_table.ipynb>data table notebook</a>'\n",
              "          + ' to learn more about interactive tables.';\n",
              "        element.innerHTML = '';\n",
              "        dataTable['output_type'] = 'display_data';\n",
              "        await google.colab.output.renderOutput(dataTable, element);\n",
              "        const docLink = document.createElement('div');\n",
              "        docLink.innerHTML = docLinkHtml;\n",
              "        element.appendChild(docLink);\n",
              "      }\n",
              "    </script>\n",
              "  </div>\n",
              "\n",
              "\n",
              "<div id=\"df-4c0d15d7-27b2-4e97-9f76-56b8ffd5be16\">\n",
              "  <button class=\"colab-df-quickchart\" onclick=\"quickchart('df-4c0d15d7-27b2-4e97-9f76-56b8ffd5be16')\"\n",
              "            title=\"Suggest charts\"\n",
              "            style=\"display:none;\">\n",
              "\n",
              "<svg xmlns=\"http://www.w3.org/2000/svg\" height=\"24px\"viewBox=\"0 0 24 24\"\n",
              "     width=\"24px\">\n",
              "    <g>\n",
              "        <path d=\"M19 3H5c-1.1 0-2 .9-2 2v14c0 1.1.9 2 2 2h14c1.1 0 2-.9 2-2V5c0-1.1-.9-2-2-2zM9 17H7v-7h2v7zm4 0h-2V7h2v10zm4 0h-2v-4h2v4z\"/>\n",
              "    </g>\n",
              "</svg>\n",
              "  </button>\n",
              "\n",
              "<style>\n",
              "  .colab-df-quickchart {\n",
              "      --bg-color: #E8F0FE;\n",
              "      --fill-color: #1967D2;\n",
              "      --hover-bg-color: #E2EBFA;\n",
              "      --hover-fill-color: #174EA6;\n",
              "      --disabled-fill-color: #AAA;\n",
              "      --disabled-bg-color: #DDD;\n",
              "  }\n",
              "\n",
              "  [theme=dark] .colab-df-quickchart {\n",
              "      --bg-color: #3B4455;\n",
              "      --fill-color: #D2E3FC;\n",
              "      --hover-bg-color: #434B5C;\n",
              "      --hover-fill-color: #FFFFFF;\n",
              "      --disabled-bg-color: #3B4455;\n",
              "      --disabled-fill-color: #666;\n",
              "  }\n",
              "\n",
              "  .colab-df-quickchart {\n",
              "    background-color: var(--bg-color);\n",
              "    border: none;\n",
              "    border-radius: 50%;\n",
              "    cursor: pointer;\n",
              "    display: none;\n",
              "    fill: var(--fill-color);\n",
              "    height: 32px;\n",
              "    padding: 0;\n",
              "    width: 32px;\n",
              "  }\n",
              "\n",
              "  .colab-df-quickchart:hover {\n",
              "    background-color: var(--hover-bg-color);\n",
              "    box-shadow: 0 1px 2px rgba(60, 64, 67, 0.3), 0 1px 3px 1px rgba(60, 64, 67, 0.15);\n",
              "    fill: var(--button-hover-fill-color);\n",
              "  }\n",
              "\n",
              "  .colab-df-quickchart-complete:disabled,\n",
              "  .colab-df-quickchart-complete:disabled:hover {\n",
              "    background-color: var(--disabled-bg-color);\n",
              "    fill: var(--disabled-fill-color);\n",
              "    box-shadow: none;\n",
              "  }\n",
              "\n",
              "  .colab-df-spinner {\n",
              "    border: 2px solid var(--fill-color);\n",
              "    border-color: transparent;\n",
              "    border-bottom-color: var(--fill-color);\n",
              "    animation:\n",
              "      spin 1s steps(1) infinite;\n",
              "  }\n",
              "\n",
              "  @keyframes spin {\n",
              "    0% {\n",
              "      border-color: transparent;\n",
              "      border-bottom-color: var(--fill-color);\n",
              "      border-left-color: var(--fill-color);\n",
              "    }\n",
              "    20% {\n",
              "      border-color: transparent;\n",
              "      border-left-color: var(--fill-color);\n",
              "      border-top-color: var(--fill-color);\n",
              "    }\n",
              "    30% {\n",
              "      border-color: transparent;\n",
              "      border-left-color: var(--fill-color);\n",
              "      border-top-color: var(--fill-color);\n",
              "      border-right-color: var(--fill-color);\n",
              "    }\n",
              "    40% {\n",
              "      border-color: transparent;\n",
              "      border-right-color: var(--fill-color);\n",
              "      border-top-color: var(--fill-color);\n",
              "    }\n",
              "    60% {\n",
              "      border-color: transparent;\n",
              "      border-right-color: var(--fill-color);\n",
              "    }\n",
              "    80% {\n",
              "      border-color: transparent;\n",
              "      border-right-color: var(--fill-color);\n",
              "      border-bottom-color: var(--fill-color);\n",
              "    }\n",
              "    90% {\n",
              "      border-color: transparent;\n",
              "      border-bottom-color: var(--fill-color);\n",
              "    }\n",
              "  }\n",
              "</style>\n",
              "\n",
              "  <script>\n",
              "    async function quickchart(key) {\n",
              "      const quickchartButtonEl =\n",
              "        document.querySelector('#' + key + ' button');\n",
              "      quickchartButtonEl.disabled = true;  // To prevent multiple clicks.\n",
              "      quickchartButtonEl.classList.add('colab-df-spinner');\n",
              "      try {\n",
              "        const charts = await google.colab.kernel.invokeFunction(\n",
              "            'suggestCharts', [key], {});\n",
              "      } catch (error) {\n",
              "        console.error('Error during call to suggestCharts:', error);\n",
              "      }\n",
              "      quickchartButtonEl.classList.remove('colab-df-spinner');\n",
              "      quickchartButtonEl.classList.add('colab-df-quickchart-complete');\n",
              "    }\n",
              "    (() => {\n",
              "      let quickchartButtonEl =\n",
              "        document.querySelector('#df-4c0d15d7-27b2-4e97-9f76-56b8ffd5be16 button');\n",
              "      quickchartButtonEl.style.display =\n",
              "        google.colab.kernel.accessAllowed ? 'block' : 'none';\n",
              "    })();\n",
              "  </script>\n",
              "</div>\n",
              "\n",
              "    </div>\n",
              "  </div>\n"
            ],
            "application/vnd.google.colaboratory.intrinsic+json": {
              "type": "dataframe",
              "variable_name": "tale_of_kieu_vi",
              "summary": "{\n  \"name\": \"tale_of_kieu_vi\",\n  \"rows\": 3254,\n  \"fields\": [\n    {\n      \"column\": \"sentence\",\n      \"properties\": {\n        \"dtype\": \"string\",\n        \"num_unique_values\": 3254,\n        \"samples\": [\n          \"N\\u1eeda ph\\u1ea7n khi\\u1ebfp s\\u1ee3, n\\u1eeda ph\\u1ea7n m\\u1eebng vui.\",\n          \"Tr\\u00f4ng ch\\u1eebng th\\u1ea5y m\\u1ed9t v\\u0103n nh\\u00e2n,\",\n          \"M\\u01b0\\u1eddi ph\\u1ea7n xu\\u00e2n c\\u00f3 g\\u1ea7y ba b\\u1ed1n ph\\u1ea7n.\"\n        ],\n        \"semantic_type\": \"\",\n        \"description\": \"\"\n      }\n    },\n    {\n      \"column\": \"emotions\",\n      \"properties\": {\n        \"dtype\": \"object\",\n        \"semantic_type\": \"\",\n        \"description\": \"\"\n      }\n    }\n  ]\n}"
            }
          },
          "metadata": {},
          "execution_count": 11
        }
      ]
    },
    {
      "cell_type": "code",
      "source": [
        "# expanding the dictionary into separate columns\n",
        "emotions_df_en = tale_of_kieu_en['emotions'].apply(pd.Series)\n",
        "emotions_df_vi = tale_of_kieu_vi['emotions'].apply(pd.Series)"
      ],
      "metadata": {
        "id": "flZmy0e_6CYr"
      },
      "execution_count": 12,
      "outputs": []
    },
    {
      "cell_type": "code",
      "source": [
        "# join the expanded emotions back to the original df\n",
        "tale_of_kieu_en = pd.concat([tale_of_kieu_en, emotions_df_en], axis=1)\n",
        "tale_of_kieu_vi = pd.concat([tale_of_kieu_vi, emotions_df_vi], axis=1)"
      ],
      "metadata": {
        "id": "DU0dJA7F61jM"
      },
      "execution_count": 13,
      "outputs": []
    },
    {
      "cell_type": "code",
      "source": [
        "# drop the original emotions column as it's no longer needed\n",
        "tale_of_kieu_en.drop('emotions', axis=1, inplace=True)\n",
        "tale_of_kieu_vi.drop('emotions', axis=1, inplace=True)"
      ],
      "metadata": {
        "id": "C2K-Gz3Z7ENO"
      },
      "execution_count": 14,
      "outputs": []
    },
    {
      "cell_type": "code",
      "source": [
        "# save the result to a new CSV file\n",
        "tale_of_kieu_en.to_csv('/content/drive/MyDrive/data/tale_of_kieu_en_with_emotions.csv', index=False)\n",
        "tale_of_kieu_vi.to_csv('/content/drive/MyDrive/data/tale_of_kieu_vi_with_emotions.csv', index=False)"
      ],
      "metadata": {
        "id": "wWvnSLgB7OCe"
      },
      "execution_count": 15,
      "outputs": []
    },
    {
      "cell_type": "markdown",
      "source": [
        "# Step 4: Visualization and Summary Statistics\n",
        "We might also want to visualize or generate summary statistics from our results to better understand the distribution of emotions in our text data."
      ],
      "metadata": {
        "id": "-QUnEYgp7kUy"
      }
    },
    {
      "cell_type": "code",
      "source": [
        "import matplotlib.pyplot as plt\n",
        "\n",
        "# Summing up each emotion column to see the total counts of each emotion\n",
        "emotion_totals_en = emotions_df_en.sum().sort_values()\n",
        "emotion_totals_vi = emotions_df_vi.sum().sort_values()"
      ],
      "metadata": {
        "id": "SwKaVFph7UTn"
      },
      "execution_count": 16,
      "outputs": []
    },
    {
      "cell_type": "code",
      "source": [
        "# Creating a bar plot for visualizing the counts of each emotion\n",
        "emotion_totals_en.plot(kind='bar')\n",
        "plt.title('Distribution of Emotions in Tale of Kieu (English) Data')\n",
        "plt.xlabel('Emotions')\n",
        "plt.ylabel('Counts')\n",
        "plt.show()"
      ],
      "metadata": {
        "colab": {
          "base_uri": "https://localhost:8080/",
          "height": 540
        },
        "id": "lrLwHbfw7reW",
        "outputId": "044958fa-2e14-49f7-c467-d5fb00482332"
      },
      "execution_count": 17,
      "outputs": [
        {
          "output_type": "display_data",
          "data": {
            "text/plain": [
              "<Figure size 640x480 with 1 Axes>"
            ],
            "image/png": "[encoded data removed]"
          },
          "metadata": {}
        }
      ]
    },
    {
      "cell_type": "code",
      "source": [
        "# Creating a bar plot for visualizing the counts of each emotion\n",
        "emotion_totals_vi.plot(kind='bar')\n",
        "plt.title('Distribution of Emotions in Tale of Kieu (Vietnamese) Data')\n",
        "plt.xlabel('Emotions')\n",
        "plt.ylabel('Counts')\n",
        "plt.show()"
      ],
      "metadata": {
        "colab": {
          "base_uri": "https://localhost:8080/",
          "height": 540
        },
        "id": "pPYQ5wTm7tfX",
        "outputId": "160d022a-0702-4150-9554-f38a23cdfb09"
      },
      "execution_count": 18,
      "outputs": [
        {
          "output_type": "display_data",
          "data": {
            "text/plain": [
              "<Figure size 640x480 with 1 Axes>"
            ],
            "image/png": "[encoded data removed]"
          },
          "metadata": {}
        }
      ]
    },
    {
      "cell_type": "markdown",
      "source": [
        "# Model Evaluation"
      ],
      "metadata": {
        "id": "-Y5HfzdQKj0J"
      }
    },
    {
      "cell_type": "code",
      "source": [
        "from sklearn.metrics import accuracy_score, precision_recall_fscore_support, confusion_matrix\n",
        "\n",
        "# Let's say we have the true labels and the predictions\n",
        "true_labels = ['joy', 'sadness', 'fear', 'joy', 'anger', 'surprise', 'trust',\n",
        "               'disgust', 'anticipation', 'negative']  # manually annotated emotion labels\n",
        "predicted_labels = ['joy', 'sadness', 'anticipation', 'joy', 'trust',\n",
        "                    'surprise', 'fear', 'disgust', 'anticipation', 'positive']  # Emotion labels predicted by EmoLex"
      ],
      "metadata": {
        "id": "G9atsxU69bJj"
      },
      "execution_count": 19,
      "outputs": []
    },
    {
      "cell_type": "code",
      "source": [
        "# Calculate metrics\n",
        "accuracy = accuracy_score(true_labels, predicted_labels)\n",
        "precision, recall, f1, _ = precision_recall_fscore_support(true_labels, predicted_labels, average='weighted')"
      ],
      "metadata": {
        "colab": {
          "base_uri": "https://localhost:8080/"
        },
        "id": "KyJMiOe1MtD7",
        "outputId": "464ec9b9-c41b-4b48-f10e-749a09dee858"
      },
      "execution_count": 20,
      "outputs": [
        {
          "output_type": "stream",
          "name": "stderr",
          "text": [
            "/usr/local/lib/python3.10/dist-packages/sklearn/metrics/_classification.py:1344: UndefinedMetricWarning: Precision and F-score are ill-defined and being set to 0.0 in labels with no predicted samples. Use `zero_division` parameter to control this behavior.\n",
            "  _warn_prf(average, modifier, msg_start, len(result))\n",
            "/usr/local/lib/python3.10/dist-packages/sklearn/metrics/_classification.py:1344: UndefinedMetricWarning: Recall and F-score are ill-defined and being set to 0.0 in labels with no true samples. Use `zero_division` parameter to control this behavior.\n",
            "  _warn_prf(average, modifier, msg_start, len(result))\n"
          ]
        }
      ]
    },
    {
      "cell_type": "code",
      "source": [
        "# Print out the metrics\n",
        "print(f'Accuracy: {accuracy}')\n",
        "print(f'Precision: {precision}')\n",
        "print(f'Recall: {recall}')\n",
        "print(f'F1 Score: {f1}')\n",
        "\n",
        "# Confusion Matrix for each class\n",
        "conf_matrix = confusion_matrix(true_labels,\n",
        "                               predicted_labels, labels=['joy', 'sadness', 'anticipation',\n",
        "                                                         'joy', 'trust', 'surprise', 'fear',\n",
        "                                                         'disgust', 'anticipation', 'positive'])"
      ],
      "metadata": {
        "colab": {
          "base_uri": "https://localhost:8080/"
        },
        "id": "Vp9YvxjSMv5E",
        "outputId": "273f6b26-0b24-4f22-d4ad-d2873704194b"
      },
      "execution_count": 21,
      "outputs": [
        {
          "output_type": "stream",
          "name": "stdout",
          "text": [
            "Accuracy: 0.6\n",
            "Precision: 0.55\n",
            "Recall: 0.6\n",
            "F1 Score: 0.5666666666666667\n"
          ]
        }
      ]
    },
    {
      "cell_type": "markdown",
      "source": [
        "- Accuracy (0.6): This means that 60% of the total predictions made by our model were correct. In other words, for every 100 texts, the model correctly identified the emotions in 60 of them.\n",
        "\n",
        "- Precision (0.55): Precision measures the accuracy of the positive predictions. In this context, a precision of 0.55 indicates that when the model predicted a certain emotion, that prediction was correct 55% of the time. It is a measure of quality or purity of the model's positive predictions.\n",
        "\n",
        "- Recall (0.6): Recall, also known as sensitivity, measures the model's ability to correctly identify all relevant instances. A recall of 0.6 means that the model correctly identified 60% of all the actual emotions present in the texts. It is a measure of completeness or inclusivity of the model's positive predictions.\n",
        "\n",
        "- F1 Score (0.5667): The F1 score is the harmonic mean of precision and recall and is a single metric that combines both. An F1 score of 0.5667 suggests a balance between precision and recall. This is typically more useful than accuracy, especially when the classes are imbalanced. The closer the F1 score is to 1, the better the model's predictive power and balance between precision and recall.\n",
        "\n",
        "In summary, these results suggest that the model has a fairly moderate performance in identifying emotions. The accuracy is relatively high at 60%, but the precision is somewhat lower, which means there are a fair number of false positives (instances where the model incorrectly predicted an emotion). The recall is equal to accuracy in this case, which indicates the model is relatively balanced in terms of the rate at which it finds all relevant instances.\n",
        "\n",
        "The F1 score, while not low, shows that there's room for improvement. Ideally, we want the F1 score to be closer to 1, indicating high precision and high recall. An F1 score of around 0.57 suggests that we may need to look into our model to identify why some emotions are being misclassified, whether it's due to the model itself or the quality of the data it's being trained on."
      ],
      "metadata": {
        "id": "btH5pESRPPHZ"
      }
    },
    {
      "cell_type": "markdown",
      "source": [
        "# **Re-Evaluate and work on Vietnamese dataset with VNEmoLex Model**"
      ],
      "metadata": {
        "id": "nuytIGN6QN8p"
      }
    },
    {
      "cell_type": "markdown",
      "source": [
        "# Step 1: Load VNEmoLex into a DataFrame\n",
        "First, we need to read your VNEmoLex into a pandas DataFrame."
      ],
      "metadata": {
        "id": "cudB5ANTQhJO"
      }
    },
    {
      "cell_type": "code",
      "source": [
        "import pandas as pd\n",
        "\n",
        "# Load the Vietnamese Emotion Lexicon\n",
        "vnemolex_df = pd.read_csv('/content/drive/MyDrive/data/VnEmoLex_1442024.csv')\n",
        "# Set the 'words' column as the index for easy lookup\n",
        "vnemolex_df.set_index('words', inplace=True)"
      ],
      "metadata": {
        "id": "ZyY7efAYPWMN"
      },
      "execution_count": 23,
      "outputs": []
    },
    {
      "cell_type": "markdown",
      "source": [
        "# Step 2: Preprocess vi_text.csv File\n",
        "Now, load our vi_text.csv file and preprocess it. Preprocessing might include cleaning and tokenizing the text."
      ],
      "metadata": {
        "id": "wN-JucVbQ9Wj"
      }
    },
    {
      "cell_type": "code",
      "source": [
        "# Load your text data\n",
        "vi_text_df = pd.read_csv('/content/drive/MyDrive/data/tale_of_kieu_vi.csv')\n",
        "\n",
        "# Assume the column containing Vietnamese text is named 'text'\n",
        "# Preprocessing function example\n",
        "def preprocess(sentence):\n",
        "    # Add any specific preprocessing steps here, such as:\n",
        "    # - Tokenization\n",
        "    # - Removing punctuation\n",
        "    # - Lowercasing\n",
        "    return sentence.lower().split()  # This is a placeholder"
      ],
      "metadata": {
        "id": "ReRIfZaaRGAu"
      },
      "execution_count": 24,
      "outputs": []
    },
    {
      "cell_type": "markdown",
      "source": [
        "# Step 3: Define Emotion Calculation Function\n",
        "Next, we need a function to calculate the emotion scores for each text row based on VNEmoLex."
      ],
      "metadata": {
        "id": "7dcDCClPRhOJ"
      }
    },
    {
      "cell_type": "code",
      "source": [
        "# def calculate_emotions(sentence, lexicon):\n",
        "    # Preprocess the text\n",
        "#    tokens = preprocess(sentence)\n",
        "    # Initialize emotion counts\n",
        "#    emotions = {emotion: 0 for emotion in lexicon.columns}\n",
        "\n",
        "    # Sum emotion values for each word in the text\n",
        "#    for token in tokens:\n",
        "#        if token in lexicon.index:\n",
        "#            emotions = emotions + lexicon.loc[token]\n",
        "\n",
        "    # Return the emotion counts\n",
        "#    return emotions"
      ],
      "metadata": {
        "id": "4LrtOLGxRdx_"
      },
      "execution_count": null,
      "outputs": []
    },
    {
      "cell_type": "code",
      "source": [
        "def calculate_emotions(text, lexicon):\n",
        "    # Preprocess the text\n",
        "    tokens = preprocess(text)\n",
        "    # Initialize emotion counts\n",
        "    emotions = {emotion: 0 for emotion in lexicon.columns}\n",
        "\n",
        "    # Sum emotion values for each word in the text\n",
        "    for token in tokens:\n",
        "        if token in lexicon.index:\n",
        "            for emotion in lexicon.columns:\n",
        "                # Ensure that the lexicon value is not NaN before adding\n",
        "                lexicon_value = lexicon.loc[token][emotion]\n",
        "                if pd.notna(lexicon_value):\n",
        "                    emotions[emotion] += int(lexicon_value)\n",
        "\n",
        "    # Return the emotion counts\n",
        "    return emotions"
      ],
      "metadata": {
        "id": "dRbhnIp_WYhk"
      },
      "execution_count": 25,
      "outputs": []
    },
    {
      "cell_type": "markdown",
      "source": [
        "# Step 4: Apply the Emotion Calculation to Our Dataset\n",
        "Use the apply method to calculate emotions for each row in our dataset."
      ],
      "metadata": {
        "id": "7VY3x-93RriC"
      }
    },
    {
      "cell_type": "code",
      "source": [
        "# Calculate emotions for each row of text data\n",
        "vi_text_df['emotions'] = vi_text_df['sentence'].apply(lambda x: calculate_emotions(x, vnemolex_df))"
      ],
      "metadata": {
        "id": "FOayZGJfUfam"
      },
      "execution_count": 26,
      "outputs": []
    },
    {
      "cell_type": "code",
      "source": [
        "# This will give us a column of dictionaries with emotion counts\n",
        "# If we want to split the dictionaries into separate columns:\n",
        "emotions_df = vi_text_df['emotions'].apply(pd.Series)\n",
        "\n",
        "# Join the emotion counts back to your original DataFrame\n",
        "vi_text_df = pd.concat([vi_text_df.drop('emotions', axis=1), emotions_df], axis=1)"
      ],
      "metadata": {
        "id": "fSLERgX2R4gI"
      },
      "execution_count": 27,
      "outputs": []
    },
    {
      "cell_type": "code",
      "source": [
        "vi_text_df"
      ],
      "metadata": {
        "colab": {
          "base_uri": "https://localhost:8080/",
          "height": 927
        },
        "id": "1bAyPmW0JFrG",
        "outputId": "53ee58dd-7825-409a-cd03-83112f702615"
      },
      "execution_count": 28,
      "outputs": [
        {
          "output_type": "execute_result",
          "data": {
            "text/plain": [
              "                                    sentence  Anger  Anticipation  Disgust  \\\n",
              "0               Trăm năm trong cõi người ta,      0             0        0   \n",
              "1        Chữ tài chữ mệnh khéo là ghét nhau.      1             0        1   \n",
              "2                  Trải qua một cuộc bể dâu,      0             0        0   \n",
              "3     Những điều trông thấy mà đau đớn lòng.      0             0        0   \n",
              "4                     Lạ gì bỉ sắc tư phong,      0             0        1   \n",
              "...                                      ...    ...           ...      ...   \n",
              "3249   Cũng đừng trách lẫn trời gần trời xa.      0             0        0   \n",
              "3250                Thiện căn ở tại lòng ta,      0             0        0   \n",
              "3251        Chữ tâm kia mới bằng ba chữ tài.      0             0        0   \n",
              "3252             Lời quê chắp nhặt dông dài,      0             0        0   \n",
              "3253   Mua vui cũng được một vài trống canh.      0             0        0   \n",
              "\n",
              "      Fear  Joy  Negative  Positive  Sadness  Surprise  Trust  Unnamed: 11  \n",
              "0        0    0         0         0        0         0      0            0  \n",
              "1        1    0         1         2        0         0      0            0  \n",
              "2        0    0         0         0        0         0      0            0  \n",
              "3        1    0         1         0        0         0      0            0  \n",
              "4        1    0         1         0        0         1      0            0  \n",
              "...    ...  ...       ...       ...      ...       ...    ...          ...  \n",
              "3249     0    0         0         0        0         0      0            0  \n",
              "3250     0    0         0         0        0         0      0            0  \n",
              "3251     0    1         0         1        0         0      0            0  \n",
              "3252     0    0         0         0        0         0      0            0  \n",
              "3253     0    1         0         1        0         0      0            0  \n",
              "\n",
              "[3254 rows x 12 columns]"
            ],
            "text/html": [
              "\n",
              "  <div id=\"df-68ba606f-7a4b-496a-881e-8bd40449355b\" class=\"colab-df-container\">\n",
              "    <div>\n",
              "<style scoped>\n",
              "    .dataframe tbody tr th:only-of-type {\n",
              "        vertical-align: middle;\n",
              "    }\n",
              "\n",
              "    .dataframe tbody tr th {\n",
              "        vertical-align: top;\n",
              "    }\n",
              "\n",
              "    .dataframe thead th {\n",
              "        text-align: right;\n",
              "    }\n",
              "</style>\n",
              "<table border=\"1\" class=\"dataframe\">\n",
              "  <thead>\n",
              "    <tr style=\"text-align: right;\">\n",
              "      <th></th>\n",
              "      <th>sentence</th>\n",
              "      <th>Anger</th>\n",
              "      <th>Anticipation</th>\n",
              "      <th>Disgust</th>\n",
              "      <th>Fear</th>\n",
              "      <th>Joy</th>\n",
              "      <th>Negative</th>\n",
              "      <th>Positive</th>\n",
              "      <th>Sadness</th>\n",
              "      <th>Surprise</th>\n",
              "      <th>Trust</th>\n",
              "      <th>Unnamed: 11</th>\n",
              "    </tr>\n",
              "  </thead>\n",
              "  <tbody>\n",
              "    <tr>\n",
              "      <th>0</th>\n",
              "      <td>Trăm năm trong cõi người ta,</td>\n",
              "      <td>0</td>\n",
              "      <td>0</td>\n",
              "      <td>0</td>\n",
              "      <td>0</td>\n",
              "      <td>0</td>\n",
              "      <td>0</td>\n",
              "      <td>0</td>\n",
              "      <td>0</td>\n",
              "      <td>0</td>\n",
              "      <td>0</td>\n",
              "      <td>0</td>\n",
              "    </tr>\n",
              "    <tr>\n",
              "      <th>1</th>\n",
              "      <td>Chữ tài chữ mệnh khéo là ghét nhau.</td>\n",
              "      <td>1</td>\n",
              "      <td>0</td>\n",
              "      <td>1</td>\n",
              "      <td>1</td>\n",
              "      <td>0</td>\n",
              "      <td>1</td>\n",
              "      <td>2</td>\n",
              "      <td>0</td>\n",
              "      <td>0</td>\n",
              "      <td>0</td>\n",
              "      <td>0</td>\n",
              "    </tr>\n",
              "    <tr>\n",
              "      <th>2</th>\n",
              "      <td>Trải qua một cuộc bể dâu,</td>\n",
              "      <td>0</td>\n",
              "      <td>0</td>\n",
              "      <td>0</td>\n",
              "      <td>0</td>\n",
              "      <td>0</td>\n",
              "      <td>0</td>\n",
              "      <td>0</td>\n",
              "      <td>0</td>\n",
              "      <td>0</td>\n",
              "      <td>0</td>\n",
              "      <td>0</td>\n",
              "    </tr>\n",
              "    <tr>\n",
              "      <th>3</th>\n",
              "      <td>Những điều trông thấy mà đau đớn lòng.</td>\n",
              "      <td>0</td>\n",
              "      <td>0</td>\n",
              "      <td>0</td>\n",
              "      <td>1</td>\n",
              "      <td>0</td>\n",
              "      <td>1</td>\n",
              "      <td>0</td>\n",
              "      <td>0</td>\n",
              "      <td>0</td>\n",
              "      <td>0</td>\n",
              "      <td>0</td>\n",
              "    </tr>\n",
              "    <tr>\n",
              "      <th>4</th>\n",
              "      <td>Lạ gì bỉ sắc tư phong,</td>\n",
              "      <td>0</td>\n",
              "      <td>0</td>\n",
              "      <td>1</td>\n",
              "      <td>1</td>\n",
              "      <td>0</td>\n",
              "      <td>1</td>\n",
              "      <td>0</td>\n",
              "      <td>0</td>\n",
              "      <td>1</td>\n",
              "      <td>0</td>\n",
              "      <td>0</td>\n",
              "    </tr>\n",
              "    <tr>\n",
              "      <th>...</th>\n",
              "      <td>...</td>\n",
              "      <td>...</td>\n",
              "      <td>...</td>\n",
              "      <td>...</td>\n",
              "      <td>...</td>\n",
              "      <td>...</td>\n",
              "      <td>...</td>\n",
              "      <td>...</td>\n",
              "      <td>...</td>\n",
              "      <td>...</td>\n",
              "      <td>...</td>\n",
              "      <td>...</td>\n",
              "    </tr>\n",
              "    <tr>\n",
              "      <th>3249</th>\n",
              "      <td>Cũng đừng trách lẫn trời gần trời xa.</td>\n",
              "      <td>0</td>\n",
              "      <td>0</td>\n",
              "      <td>0</td>\n",
              "      <td>0</td>\n",
              "      <td>0</td>\n",
              "      <td>0</td>\n",
              "      <td>0</td>\n",
              "      <td>0</td>\n",
              "      <td>0</td>\n",
              "      <td>0</td>\n",
              "      <td>0</td>\n",
              "    </tr>\n",
              "    <tr>\n",
              "      <th>3250</th>\n",
              "      <td>Thiện căn ở tại lòng ta,</td>\n",
              "      <td>0</td>\n",
              "      <td>0</td>\n",
              "      <td>0</td>\n",
              "      <td>0</td>\n",
              "      <td>0</td>\n",
              "      <td>0</td>\n",
              "      <td>0</td>\n",
              "      <td>0</td>\n",
              "      <td>0</td>\n",
              "      <td>0</td>\n",
              "      <td>0</td>\n",
              "    </tr>\n",
              "    <tr>\n",
              "      <th>3251</th>\n",
              "      <td>Chữ tâm kia mới bằng ba chữ tài.</td>\n",
              "      <td>0</td>\n",
              "      <td>0</td>\n",
              "      <td>0</td>\n",
              "      <td>0</td>\n",
              "      <td>1</td>\n",
              "      <td>0</td>\n",
              "      <td>1</td>\n",
              "      <td>0</td>\n",
              "      <td>0</td>\n",
              "      <td>0</td>\n",
              "      <td>0</td>\n",
              "    </tr>\n",
              "    <tr>\n",
              "      <th>3252</th>\n",
              "      <td>Lời quê chắp nhặt dông dài,</td>\n",
              "      <td>0</td>\n",
              "      <td>0</td>\n",
              "      <td>0</td>\n",
              "      <td>0</td>\n",
              "      <td>0</td>\n",
              "      <td>0</td>\n",
              "      <td>0</td>\n",
              "      <td>0</td>\n",
              "      <td>0</td>\n",
              "      <td>0</td>\n",
              "      <td>0</td>\n",
              "    </tr>\n",
              "    <tr>\n",
              "      <th>3253</th>\n",
              "      <td>Mua vui cũng được một vài trống canh.</td>\n",
              "      <td>0</td>\n",
              "      <td>0</td>\n",
              "      <td>0</td>\n",
              "      <td>0</td>\n",
              "      <td>1</td>\n",
              "      <td>0</td>\n",
              "      <td>1</td>\n",
              "      <td>0</td>\n",
              "      <td>0</td>\n",
              "      <td>0</td>\n",
              "      <td>0</td>\n",
              "    </tr>\n",
              "  </tbody>\n",
              "</table>\n",
              "<p>3254 rows × 12 columns</p>\n",
              "</div>\n",
              "    <div class=\"colab-df-buttons\">\n",
              "\n",
              "  <div class=\"colab-df-container\">\n",
              "    <button class=\"colab-df-convert\" onclick=\"convertToInteractive('df-68ba606f-7a4b-496a-881e-8bd40449355b')\"\n",
              "            title=\"Convert this dataframe to an interactive table.\"\n",
              "            style=\"display:none;\">\n",
              "\n",
              "  <svg xmlns=\"http://www.w3.org/2000/svg\" height=\"24px\" viewBox=\"0 -960 960 960\">\n",
              "    <path d=\"M120-120v-720h720v720H120Zm60-500h600v-160H180v160Zm220 220h160v-160H400v160Zm0 220h160v-160H400v160ZM180-400h160v-160H180v160Zm440 0h160v-160H620v160ZM180-180h160v-160H180v160Zm440 0h160v-160H620v160Z\"/>\n",
              "  </svg>\n",
              "    </button>\n",
              "\n",
              "  <style>\n",
              "    .colab-df-container {\n",
              "      display:flex;\n",
              "      gap: 12px;\n",
              "    }\n",
              "\n",
              "    .colab-df-convert {\n",
              "      background-color: #E8F0FE;\n",
              "      border: none;\n",
              "      border-radius: 50%;\n",
              "      cursor: pointer;\n",
              "      display: none;\n",
              "      fill: #1967D2;\n",
              "      height: 32px;\n",
              "      padding: 0 0 0 0;\n",
              "      width: 32px;\n",
              "    }\n",
              "\n",
              "    .colab-df-convert:hover {\n",
              "      background-color: #E2EBFA;\n",
              "      box-shadow: 0px 1px 2px rgba(60, 64, 67, 0.3), 0px 1px 3px 1px rgba(60, 64, 67, 0.15);\n",
              "      fill: #174EA6;\n",
              "    }\n",
              "\n",
              "    .colab-df-buttons div {\n",
              "      margin-bottom: 4px;\n",
              "    }\n",
              "\n",
              "    [theme=dark] .colab-df-convert {\n",
              "      background-color: #3B4455;\n",
              "      fill: #D2E3FC;\n",
              "    }\n",
              "\n",
              "    [theme=dark] .colab-df-convert:hover {\n",
              "      background-color: #434B5C;\n",
              "      box-shadow: 0px 1px 3px 1px rgba(0, 0, 0, 0.15);\n",
              "      filter: drop-shadow(0px 1px 2px rgba(0, 0, 0, 0.3));\n",
              "      fill: #FFFFFF;\n",
              "    }\n",
              "  </style>\n",
              "\n",
              "    <script>\n",
              "      const buttonEl =\n",
              "        document.querySelector('#df-68ba606f-7a4b-496a-881e-8bd40449355b button.colab-df-convert');\n",
              "      buttonEl.style.display =\n",
              "        google.colab.kernel.accessAllowed ? 'block' : 'none';\n",
              "\n",
              "      async function convertToInteractive(key) {\n",
              "        const element = document.querySelector('#df-68ba606f-7a4b-496a-881e-8bd40449355b');\n",
              "        const dataTable =\n",
              "          await google.colab.kernel.invokeFunction('convertToInteractive',\n",
              "                                                    [key], {});\n",
              "        if (!dataTable) return;\n",
              "\n",
              "        const docLinkHtml = 'Like what you see? Visit the ' +\n",
              "          '<a target=\"_blank\" href=https://colab.research.google.com/notebooks/data_table.ipynb>data table notebook</a>'\n",
              "          + ' to learn more about interactive tables.';\n",
              "        element.innerHTML = '';\n",
              "        dataTable['output_type'] = 'display_data';\n",
              "        await google.colab.output.renderOutput(dataTable, element);\n",
              "        const docLink = document.createElement('div');\n",
              "        docLink.innerHTML = docLinkHtml;\n",
              "        element.appendChild(docLink);\n",
              "      }\n",
              "    </script>\n",
              "  </div>\n",
              "\n",
              "\n",
              "<div id=\"df-018ff2f5-89ba-40a6-9b29-5ba49970031e\">\n",
              "  <button class=\"colab-df-quickchart\" onclick=\"quickchart('df-018ff2f5-89ba-40a6-9b29-5ba49970031e')\"\n",
              "            title=\"Suggest charts\"\n",
              "            style=\"display:none;\">\n",
              "\n",
              "<svg xmlns=\"http://www.w3.org/2000/svg\" height=\"24px\"viewBox=\"0 0 24 24\"\n",
              "     width=\"24px\">\n",
              "    <g>\n",
              "        <path d=\"M19 3H5c-1.1 0-2 .9-2 2v14c0 1.1.9 2 2 2h14c1.1 0 2-.9 2-2V5c0-1.1-.9-2-2-2zM9 17H7v-7h2v7zm4 0h-2V7h2v10zm4 0h-2v-4h2v4z\"/>\n",
              "    </g>\n",
              "</svg>\n",
              "  </button>\n",
              "\n",
              "<style>\n",
              "  .colab-df-quickchart {\n",
              "      --bg-color: #E8F0FE;\n",
              "      --fill-color: #1967D2;\n",
              "      --hover-bg-color: #E2EBFA;\n",
              "      --hover-fill-color: #174EA6;\n",
              "      --disabled-fill-color: #AAA;\n",
              "      --disabled-bg-color: #DDD;\n",
              "  }\n",
              "\n",
              "  [theme=dark] .colab-df-quickchart {\n",
              "      --bg-color: #3B4455;\n",
              "      --fill-color: #D2E3FC;\n",
              "      --hover-bg-color: #434B5C;\n",
              "      --hover-fill-color: #FFFFFF;\n",
              "      --disabled-bg-color: #3B4455;\n",
              "      --disabled-fill-color: #666;\n",
              "  }\n",
              "\n",
              "  .colab-df-quickchart {\n",
              "    background-color: var(--bg-color);\n",
              "    border: none;\n",
              "    border-radius: 50%;\n",
              "    cursor: pointer;\n",
              "    display: none;\n",
              "    fill: var(--fill-color);\n",
              "    height: 32px;\n",
              "    padding: 0;\n",
              "    width: 32px;\n",
              "  }\n",
              "\n",
              "  .colab-df-quickchart:hover {\n",
              "    background-color: var(--hover-bg-color);\n",
              "    box-shadow: 0 1px 2px rgba(60, 64, 67, 0.3), 0 1px 3px 1px rgba(60, 64, 67, 0.15);\n",
              "    fill: var(--button-hover-fill-color);\n",
              "  }\n",
              "\n",
              "  .colab-df-quickchart-complete:disabled,\n",
              "  .colab-df-quickchart-complete:disabled:hover {\n",
              "    background-color: var(--disabled-bg-color);\n",
              "    fill: var(--disabled-fill-color);\n",
              "    box-shadow: none;\n",
              "  }\n",
              "\n",
              "  .colab-df-spinner {\n",
              "    border: 2px solid var(--fill-color);\n",
              "    border-color: transparent;\n",
              "    border-bottom-color: var(--fill-color);\n",
              "    animation:\n",
              "      spin 1s steps(1) infinite;\n",
              "  }\n",
              "\n",
              "  @keyframes spin {\n",
              "    0% {\n",
              "      border-color: transparent;\n",
              "      border-bottom-color: var(--fill-color);\n",
              "      border-left-color: var(--fill-color);\n",
              "    }\n",
              "    20% {\n",
              "      border-color: transparent;\n",
              "      border-left-color: var(--fill-color);\n",
              "      border-top-color: var(--fill-color);\n",
              "    }\n",
              "    30% {\n",
              "      border-color: transparent;\n",
              "      border-left-color: var(--fill-color);\n",
              "      border-top-color: var(--fill-color);\n",
              "      border-right-color: var(--fill-color);\n",
              "    }\n",
              "    40% {\n",
              "      border-color: transparent;\n",
              "      border-right-color: var(--fill-color);\n",
              "      border-top-color: var(--fill-color);\n",
              "    }\n",
              "    60% {\n",
              "      border-color: transparent;\n",
              "      border-right-color: var(--fill-color);\n",
              "    }\n",
              "    80% {\n",
              "      border-color: transparent;\n",
              "      border-right-color: var(--fill-color);\n",
              "      border-bottom-color: var(--fill-color);\n",
              "    }\n",
              "    90% {\n",
              "      border-color: transparent;\n",
              "      border-bottom-color: var(--fill-color);\n",
              "    }\n",
              "  }\n",
              "</style>\n",
              "\n",
              "  <script>\n",
              "    async function quickchart(key) {\n",
              "      const quickchartButtonEl =\n",
              "        document.querySelector('#' + key + ' button');\n",
              "      quickchartButtonEl.disabled = true;  // To prevent multiple clicks.\n",
              "      quickchartButtonEl.classList.add('colab-df-spinner');\n",
              "      try {\n",
              "        const charts = await google.colab.kernel.invokeFunction(\n",
              "            'suggestCharts', [key], {});\n",
              "      } catch (error) {\n",
              "        console.error('Error during call to suggestCharts:', error);\n",
              "      }\n",
              "      quickchartButtonEl.classList.remove('colab-df-spinner');\n",
              "      quickchartButtonEl.classList.add('colab-df-quickchart-complete');\n",
              "    }\n",
              "    (() => {\n",
              "      let quickchartButtonEl =\n",
              "        document.querySelector('#df-018ff2f5-89ba-40a6-9b29-5ba49970031e button');\n",
              "      quickchartButtonEl.style.display =\n",
              "        google.colab.kernel.accessAllowed ? 'block' : 'none';\n",
              "    })();\n",
              "  </script>\n",
              "</div>\n",
              "\n",
              "  <div id=\"id_8defceda-2e2a-4390-b1bf-a3ac43e7ab25\">\n",
              "    <style>\n",
              "      .colab-df-generate {\n",
              "        background-color: #E8F0FE;\n",
              "        border: none;\n",
              "        border-radius: 50%;\n",
              "        cursor: pointer;\n",
              "        display: none;\n",
              "        fill: #1967D2;\n",
              "        height: 32px;\n",
              "        padding: 0 0 0 0;\n",
              "        width: 32px;\n",
              "      }\n",
              "\n",
              "      .colab-df-generate:hover {\n",
              "        background-color: #E2EBFA;\n",
              "        box-shadow: 0px 1px 2px rgba(60, 64, 67, 0.3), 0px 1px 3px 1px rgba(60, 64, 67, 0.15);\n",
              "        fill: #174EA6;\n",
              "      }\n",
              "\n",
              "      [theme=dark] .colab-df-generate {\n",
              "        background-color: #3B4455;\n",
              "        fill: #D2E3FC;\n",
              "      }\n",
              "\n",
              "      [theme=dark] .colab-df-generate:hover {\n",
              "        background-color: #434B5C;\n",
              "        box-shadow: 0px 1px 3px 1px rgba(0, 0, 0, 0.15);\n",
              "        filter: drop-shadow(0px 1px 2px rgba(0, 0, 0, 0.3));\n",
              "        fill: #FFFFFF;\n",
              "      }\n",
              "    </style>\n",
              "    <button class=\"colab-df-generate\" onclick=\"generateWithVariable('vi_text_df')\"\n",
              "            title=\"Generate code using this dataframe.\"\n",
              "            style=\"display:none;\">\n",
              "\n",
              "  <svg xmlns=\"http://www.w3.org/2000/svg\" height=\"24px\"viewBox=\"0 0 24 24\"\n",
              "       width=\"24px\">\n",
              "    <path d=\"M7,19H8.4L18.45,9,17,7.55,7,17.6ZM5,21V16.75L18.45,3.32a2,2,0,0,1,2.83,0l1.4,1.43a1.91,1.91,0,0,1,.58,1.4,1.91,1.91,0,0,1-.58,1.4L9.25,21ZM18.45,9,17,7.55Zm-12,3A5.31,5.31,0,0,0,4.9,8.1,5.31,5.31,0,0,0,1,6.5,5.31,5.31,0,0,0,4.9,4.9,5.31,5.31,0,0,0,6.5,1,5.31,5.31,0,0,0,8.1,4.9,5.31,5.31,0,0,0,12,6.5,5.46,5.46,0,0,0,6.5,12Z\"/>\n",
              "  </svg>\n",
              "    </button>\n",
              "    <script>\n",
              "      (() => {\n",
              "      const buttonEl =\n",
              "        document.querySelector('#id_8defceda-2e2a-4390-b1bf-a3ac43e7ab25 button.colab-df-generate');\n",
              "      buttonEl.style.display =\n",
              "        google.colab.kernel.accessAllowed ? 'block' : 'none';\n",
              "\n",
              "      buttonEl.onclick = () => {\n",
              "        google.colab.notebook.generateWithVariable('vi_text_df');\n",
              "      }\n",
              "      })();\n",
              "    </script>\n",
              "  </div>\n",
              "\n",
              "    </div>\n",
              "  </div>\n"
            ],
            "application/vnd.google.colaboratory.intrinsic+json": {
              "type": "dataframe",
              "variable_name": "vi_text_df",
              "summary": "{\n  \"name\": \"vi_text_df\",\n  \"rows\": 3254,\n  \"fields\": [\n    {\n      \"column\": \"sentence\",\n      \"properties\": {\n        \"dtype\": \"string\",\n        \"num_unique_values\": 3254,\n        \"samples\": [\n          \"N\\u1eeda ph\\u1ea7n khi\\u1ebfp s\\u1ee3, n\\u1eeda ph\\u1ea7n m\\u1eebng vui.\",\n          \"Tr\\u00f4ng ch\\u1eebng th\\u1ea5y m\\u1ed9t v\\u0103n nh\\u00e2n,\",\n          \"M\\u01b0\\u1eddi ph\\u1ea7n xu\\u00e2n c\\u00f3 g\\u1ea7y ba b\\u1ed1n ph\\u1ea7n.\"\n        ],\n        \"semantic_type\": \"\",\n        \"description\": \"\"\n      }\n    },\n    {\n      \"column\": \"Anger\",\n      \"properties\": {\n        \"dtype\": \"number\",\n        \"std\": 0,\n        \"min\": 0,\n        \"max\": 2,\n        \"num_unique_values\": 3,\n        \"samples\": [\n          0,\n          1,\n          2\n        ],\n        \"semantic_type\": \"\",\n        \"description\": \"\"\n      }\n    },\n    {\n      \"column\": \"Anticipation\",\n      \"properties\": {\n        \"dtype\": \"number\",\n        \"std\": 0,\n        \"min\": 0,\n        \"max\": 2,\n        \"num_unique_values\": 3,\n        \"samples\": [\n          0,\n          1,\n          2\n        ],\n        \"semantic_type\": \"\",\n        \"description\": \"\"\n      }\n    },\n    {\n      \"column\": \"Disgust\",\n      \"properties\": {\n        \"dtype\": \"number\",\n        \"std\": 0,\n        \"min\": 0,\n        \"max\": 2,\n        \"num_unique_values\": 3,\n        \"samples\": [\n          0,\n          1,\n          2\n        ],\n        \"semantic_type\": \"\",\n        \"description\": \"\"\n      }\n    },\n    {\n      \"column\": \"Fear\",\n      \"properties\": {\n        \"dtype\": \"number\",\n        \"std\": 0,\n        \"min\": 0,\n        \"max\": 2,\n        \"num_unique_values\": 3,\n        \"samples\": [\n          0,\n          1,\n          2\n        ],\n        \"semantic_type\": \"\",\n        \"description\": \"\"\n      }\n    },\n    {\n      \"column\": \"Joy\",\n      \"properties\": {\n        \"dtype\": \"number\",\n        \"std\": 0,\n        \"min\": 0,\n        \"max\": 3,\n        \"num_unique_values\": 4,\n        \"samples\": [\n          1,\n          3,\n          0\n        ],\n        \"semantic_type\": \"\",\n        \"description\": \"\"\n      }\n    },\n    {\n      \"column\": \"Negative\",\n      \"properties\": {\n        \"dtype\": \"number\",\n        \"std\": 0,\n        \"min\": 0,\n        \"max\": 3,\n        \"num_unique_values\": 4,\n        \"samples\": [\n          1,\n          2,\n          0\n        ],\n        \"semantic_type\": \"\",\n        \"description\": \"\"\n      }\n    },\n    {\n      \"column\": \"Positive\",\n      \"properties\": {\n        \"dtype\": \"number\",\n        \"std\": 0,\n        \"min\": 0,\n        \"max\": 4,\n        \"num_unique_values\": 5,\n        \"samples\": [\n          2,\n          4,\n          1\n        ],\n        \"semantic_type\": \"\",\n        \"description\": \"\"\n      }\n    },\n    {\n      \"column\": \"Sadness\",\n      \"properties\": {\n        \"dtype\": \"number\",\n        \"std\": 0,\n        \"min\": 0,\n        \"max\": 2,\n        \"num_unique_values\": 3,\n        \"samples\": [\n          0,\n          1,\n          2\n        ],\n        \"semantic_type\": \"\",\n        \"description\": \"\"\n      }\n    },\n    {\n      \"column\": \"Surprise\",\n      \"properties\": {\n        \"dtype\": \"number\",\n        \"std\": 0,\n        \"min\": 0,\n        \"max\": 3,\n        \"num_unique_values\": 4,\n        \"samples\": [\n          1,\n          3,\n          0\n        ],\n        \"semantic_type\": \"\",\n        \"description\": \"\"\n      }\n    },\n    {\n      \"column\": \"Trust\",\n      \"properties\": {\n        \"dtype\": \"number\",\n        \"std\": 0,\n        \"min\": 0,\n        \"max\": 2,\n        \"num_unique_values\": 3,\n        \"samples\": [\n          0,\n          1,\n          2\n        ],\n        \"semantic_type\": \"\",\n        \"description\": \"\"\n      }\n    },\n    {\n      \"column\": \"Unnamed: 11\",\n      \"properties\": {\n        \"dtype\": \"number\",\n        \"std\": 0,\n        \"min\": 0,\n        \"max\": 0,\n        \"num_unique_values\": 1,\n        \"samples\": [\n          0\n        ],\n        \"semantic_type\": \"\",\n        \"description\": \"\"\n      }\n    }\n  ]\n}"
            }
          },
          "metadata": {},
          "execution_count": 28
        }
      ]
    },
    {
      "cell_type": "markdown",
      "source": [
        "# Step 5: Save the Results\n",
        "Finally, save our DataFrame with the added emotion scores to a new CSV file."
      ],
      "metadata": {
        "id": "hJD7WNtgXelW"
      }
    },
    {
      "cell_type": "code",
      "source": [
        "# Save to a new CSV file\n",
        "vi_text_df.to_csv('/content/drive/MyDrive/data/vi_text_with_emotions.csv', index=False)"
      ],
      "metadata": {
        "id": "mfI9XwXLXe6e"
      },
      "execution_count": 29,
      "outputs": []
    },
    {
      "cell_type": "markdown",
      "source": [
        "# View the Results visually"
      ],
      "metadata": {
        "id": "XeF7AQRqXwzM"
      }
    },
    {
      "cell_type": "code",
      "source": [
        "import matplotlib.pyplot as plt\n",
        "import seaborn as sns\n",
        "\n",
        "# each row represents the emotion counts for a particular text entry.\n",
        "\n",
        "# Sum up the emotion counts for the whole dataset\n",
        "emotion_totals = emotions_df.sum().sort_values()\n",
        "\n",
        "# Create a bar plot for the counts of each emotion\n",
        "sns.barplot(x=emotion_totals.values, y=emotion_totals.index)\n",
        "\n",
        "# Set the plot labels and title\n",
        "plt.xlabel('Counts')\n",
        "plt.ylabel('Emotions')\n",
        "plt.title('Distribution of Emotions in Vietnamese Text Data')\n",
        "\n",
        "# Display the plot\n",
        "plt.show()"
      ],
      "metadata": {
        "id": "p95UDU2NXt2N"
      },
      "execution_count": null,
      "outputs": []
    },
    {
      "cell_type": "code",
      "source": [
        "# Sum up the emotion counts for the whole dataset\n",
        "emotion_totals = emotions_df.sum().sort_values(ascending=False)\n",
        "\n",
        "# Create a vertical bar plot for the counts of each emotion\n",
        "sns.barplot(y=emotion_totals.values, x=emotion_totals.index)\n",
        "\n",
        "# Set the plot labels and title\n",
        "plt.ylabel('Counts')\n",
        "plt.xlabel('Emotions')\n",
        "plt.title('Distribution of Emotions in Vietnamese Text Data')\n",
        "plt.xticks(rotation=45)  # Rotate the x labels to avoid overlap\n",
        "\n",
        "# Display the plot\n",
        "plt.tight_layout()  # Adjust layout to fit all labels\n",
        "plt.show()"
      ],
      "metadata": {
        "colab": {
          "base_uri": "https://localhost:8080/",
          "height": 487
        },
        "id": "g6ZNaCAhY_Rp",
        "outputId": "ebd25d43-ba79-43d0-9920-bc945cb456cc"
      },
      "execution_count": 31,
      "outputs": [
        {
          "output_type": "display_data",
          "data": {
            "text/plain": [
              "<Figure size 640x480 with 1 Axes>"
            ],
            "image/png": "[encoded data removed]"
          },
          "metadata": {}
        }
      ]
    },
    {
      "cell_type": "markdown",
      "source": [
        "# View both bar plot into one"
      ],
      "metadata": {
        "id": "-KKfFrZ7Z0SM"
      }
    },
    {
      "cell_type": "code",
      "source": [
        "import matplotlib.pyplot as plt\n",
        "import seaborn as sns\n",
        "\n",
        "# Assuming emotion_totals_en is a similar Series object with emotion counts for the English dataset\n",
        "emotion_totals_en = emotions_df_en.sum().sort_values(ascending=False)\n",
        "\n",
        "# Sum up the emotion counts for the Vietnamese dataset\n",
        "emotion_totals_vi = emotions_df.sum().sort_values(ascending=False)\n",
        "\n",
        "# Create a figure with 2 subplots side by side\n",
        "fig, axes = plt.subplots(nrows=1, ncols=2, figsize=(14, 6))\n",
        "\n",
        "# Plot for English dataset\n",
        "sns.barplot(ax=axes[0], y=emotion_totals_en.values, x=emotion_totals_en.index)\n",
        "axes[0].set_title('Distribution of Emotions in Tale of Kieu (English) Data')\n",
        "axes[0].set_xlabel('Emotions')\n",
        "axes[0].set_ylabel('Counts')\n",
        "axes[0].tick_params(axis='x', rotation=45)\n",
        "\n",
        "# Plot for Vietnamese dataset\n",
        "sns.barplot(ax=axes[1], y=emotion_totals_vi.values, x=emotion_totals_vi.index)\n",
        "axes[1].set_title('Distribution of Emotions in Vietnamese Text Data')\n",
        "axes[1].set_xlabel('Emotions')\n",
        "axes[1].set_ylabel('Counts')\n",
        "axes[1].tick_params(axis='x', rotation=45)\n",
        "\n",
        "# Adjust the layout\n",
        "plt.tight_layout()\n",
        "\n",
        "# Show the plot\n",
        "plt.show()\n"
      ],
      "metadata": {
        "colab": {
          "base_uri": "https://localhost:8080/",
          "height": 425
        },
        "id": "h-KZkJOQZzVp",
        "outputId": "80f2482d-a5ea-43a2-afb6-226d8fc89d94"
      },
      "execution_count": 32,
      "outputs": [
        {
          "output_type": "display_data",
          "data": {
            "text/plain": [
              "<Figure size 1400x600 with 2 Axes>"
            ],
            "image/png": "[encoded data removed]"
          },
          "metadata": {}
        }
      ]
    },
    {
      "cell_type": "code",
      "source": [
        "import matplotlib.pyplot as plt\n",
        "import seaborn as sns\n",
        "\n",
        "# Assuming emotion_totals_en is a similar Series object with emotion counts for the English dataset\n",
        "emotion_totals_en = emotions_df_en.sum().sort_values(ascending=False)  # Your English emotion totals data, sorted alphabetically\n",
        "emotion_totals_vi = emotions_df.sum().sort_values(ascending=False)  # Your Vietnamese emotion totals data, sorted alphabetically\n",
        "\n",
        "# Sort the series alphabetically by the index (emotion names)\n",
        "emotion_totals_en = emotion_totals_en.sort_index()\n",
        "emotion_totals_vi = emotion_totals_vi.sort_index()\n",
        "\n",
        "# Determine the maximum count to set the same ylim for both plots\n",
        "max_count = max(emotion_totals_en.max(), emotion_totals_vi.max())\n",
        "\n",
        "# Create a figure with 2 subplots side by side\n",
        "fig, axes = plt.subplots(nrows=1, ncols=2, figsize=(14, 6))\n",
        "\n",
        "# Plot for English dataset\n",
        "sns.barplot(ax=axes[0], x=emotion_totals_en.index, y=emotion_totals_en.values)\n",
        "axes[0].set_title('Distribution of Emotions in Tale of Kieu (English) Data')\n",
        "axes[0].set_xlabel('Emotions')\n",
        "axes[0].set_ylabel('Counts')\n",
        "axes[0].set_ylim(0, max_count)\n",
        "axes[0].tick_params(axis='x', rotation=45)\n",
        "\n",
        "# Plot for Vietnamese dataset\n",
        "sns.barplot(ax=axes[1], x=emotion_totals_vi.index, y=emotion_totals_vi.values)\n",
        "axes[1].set_title('Distribution of Emotions in Vietnamese Text Data')\n",
        "axes[1].set_xlabel('Emotions')\n",
        "axes[1].set_ylabel('Counts')\n",
        "axes[1].set_ylim(0, max_count)\n",
        "axes[1].tick_params(axis='x', rotation=45)\n",
        "\n",
        "# Adjust the layout\n",
        "plt.tight_layout()\n",
        "\n",
        "# Show the plot\n",
        "plt.show()"
      ],
      "metadata": {
        "colab": {
          "base_uri": "https://localhost:8080/",
          "height": 425
        },
        "id": "Y9ItpfaLbAB6",
        "outputId": "7a11e56d-56a2-46f8-a8d1-f4d0451e3274"
      },
      "execution_count": 33,
      "outputs": [
        {
          "output_type": "display_data",
          "data": {
            "text/plain": [
              "<Figure size 1400x600 with 2 Axes>"
            ],
            "image/png": "[encoded data removed]"
          },
          "metadata": {}
        }
      ]
    },
    {
      "cell_type": "code",
      "source": [
        "import matplotlib.pyplot as plt\n",
        "import pandas as pd\n",
        "import seaborn as sns\n",
        "\n",
        "# Assuming emotion_totals_en and emotion_totals_vi are your data for English and Vietnamese datasets\n",
        "# and they are already sorted alphabetically by the emotion names.\n",
        "\n",
        "# First, create a DataFrame that combines both Series into one DataFrame\n",
        "combined_emotions = pd.DataFrame({\n",
        "    'English': emotion_totals_en,\n",
        "    'Vietnamese': emotion_totals_vi\n",
        "}).fillna(0)  # Fill NaNs with 0, in case there are emotions not present in one of the datasets\n",
        "\n",
        "# Now melt the DataFrame to long-form for use with seaborn\n",
        "combined_long = combined_emotions.reset_index().melt(id_vars='index', var_name='Language', value_name='Counts')\n",
        "\n",
        "# Create a grouped barplot\n",
        "plt.figure(figsize=(10, 6))\n",
        "barplot = sns.barplot(x='index', y='Counts', hue='Language', data=combined_long)\n",
        "\n",
        "# Set the plot labels and title\n",
        "plt.xlabel('Emotions')\n",
        "plt.ylabel('Counts')\n",
        "plt.title('Distribution of Emotions in Tale of Kieu (English and Vietnamese) Data')\n",
        "plt.xticks(rotation=45)  # Rotate the emotion labels for better readability\n",
        "\n",
        "# Adjust the layout and display the plot\n",
        "plt.tight_layout()\n",
        "plt.show()"
      ],
      "metadata": {
        "id": "RYSXh0epbsIm"
      },
      "execution_count": null,
      "outputs": []
    },
    {
      "cell_type": "code",
      "source": [
        "import matplotlib.pyplot as plt\n",
        "import pandas as pd\n",
        "import seaborn as sns\n",
        "\n",
        "# First, create a DataFrame that combines both Series into one DataFrame\n",
        "combined_emotions = pd.DataFrame({\n",
        "    'English': emotion_totals_en,\n",
        "    'Vietnamese': emotion_totals_vi\n",
        "}).fillna(0)  # Fill NaNs with 0, in case there are emotions not present in one of the datasets\n",
        "\n",
        "# Reset index to work with seaborn's categorical plotting\n",
        "combined_emotions.reset_index(inplace=True)\n",
        "combined_emotions.rename(columns={'index': 'Emotion'}, inplace=True)\n",
        "\n",
        "# Melt the DataFrame to long-form for plotting\n",
        "combined_long = combined_emotions.melt(id_vars='Emotion', var_name='Language', value_name='Counts')\n",
        "\n",
        "# Create a figure and axis object\n",
        "plt.figure(figsize=(12, 6))\n",
        "\n",
        "# Plotting\n",
        "sns.barplot(x='Emotion', y='Counts', hue='Language', data=combined_long, dodge=True)\n",
        "\n",
        "# Set plot labels and title\n",
        "plt.xlabel('Emotions')\n",
        "plt.ylabel('Counts')\n",
        "plt.title('Distribution of Emotions in Tale of Kieu (English and Vietnamese) Data')\n",
        "plt.xticks(rotation=45)  # Rotate labels for better readability\n",
        "\n",
        "# Adjust the layout and show the plot\n",
        "plt.tight_layout()\n",
        "plt.show()"
      ],
      "metadata": {
        "id": "YrjK647UbtEi"
      },
      "execution_count": null,
      "outputs": []
    },
    {
      "cell_type": "code",
      "source": [
        "import matplotlib.pyplot as plt\n",
        "import pandas as pd\n",
        "import seaborn as sns\n",
        "\n",
        "# First, create a DataFrame that combines both Series into one DataFrame\n",
        "combined_emotions = pd.DataFrame({\n",
        "    'English': emotion_totals_en,\n",
        "    'Vietnamese': emotion_totals_vi\n",
        "}).fillna(0)  # Fill NaNs with 0, in case there are emotions not present in one of the datasets\n",
        "\n",
        "# Reset index to work with seaborn's categorical plotting\n",
        "combined_emotions.reset_index(inplace=True)\n",
        "combined_emotions.rename(columns={'index': 'Emotion'}, inplace=True)\n",
        "\n",
        "# Melt the DataFrame to long-form for plotting\n",
        "combined_long = combined_emotions.melt(id_vars='Emotion', var_name='Language', value_name='Counts')\n",
        "\n",
        "# Create a figure and axis object\n",
        "fig, ax = plt.subplots(figsize=(12, 6))\n",
        "\n",
        "# Plotting\n",
        "sns.barplot(x='Emotion', y='Counts', hue='Language', data=combined_long, dodge=True, ax=ax)\n",
        "\n",
        "# Customize the plot with grid\n",
        "ax.set_axisbelow(True)  # Ensures grid lines are behind the bars\n",
        "ax.yaxis.grid(color='gray', linestyle='dashed')\n",
        "\n",
        "# Set plot labels and title\n",
        "plt.xlabel('Emotions')\n",
        "plt.ylabel('Counts')\n",
        "plt.title('Distribution of Emotions in Tale of Kieu (English and Vietnamese) Data')\n",
        "plt.xticks(rotation=45)  # Rotate labels for better readability\n",
        "\n",
        "# Adjust the layout and show the plot\n",
        "plt.tight_layout()\n",
        "plt.show()"
      ],
      "metadata": {
        "id": "2SR5DHuOeuQr"
      },
      "execution_count": null,
      "outputs": []
    },
    {
      "cell_type": "code",
      "source": [
        "import matplotlib.pyplot as plt\n",
        "import numpy as np\n",
        "\n",
        "# First, combine into a DataFrame to facilitate handling\n",
        "data = pd.DataFrame({\n",
        "    'English': emotion_totals_en,\n",
        "    'Vietnamese': emotion_totals_vi\n",
        "}).fillna(0)  # Fill NaNs\n",
        "\n",
        "# Set figure and axis\n",
        "fig, ax = plt.subplots(figsize=(14, 7))\n",
        "\n",
        "# Define the position of the bars\n",
        "bar_width = 0.35\n",
        "index = np.arange(len(data))  # the label locations\n",
        "\n",
        "# Plotting the bars\n",
        "bars1 = ax.bar(index - bar_width/2, data['English'], bar_width, label='English')\n",
        "bars2 = ax.bar(index + bar_width/2, data['Vietnamese'], bar_width, label='Vietnamese')\n",
        "\n",
        "# Add some text for labels, title and custom x-axis tick labels, etc.\n",
        "ax.set_xlabel('Emotions')\n",
        "ax.set_ylabel('Counts')\n",
        "ax.set_title('Distribution of Emotions in Tale of Kieu (English and Vietnamese) Data')\n",
        "ax.set_xticks(index)\n",
        "ax.set_xticklabels(data.index)\n",
        "ax.legend()\n",
        "\n",
        "# Rotate labels for better readability\n",
        "plt.xticks(rotation=45)\n",
        "\n",
        "# Adding grid\n",
        "ax.set_axisbelow(True)\n",
        "ax.yaxis.grid(color='gray', linestyle='dashed')\n",
        "\n",
        "# Show plot\n",
        "plt.tight_layout()\n",
        "plt.show()"
      ],
      "metadata": {
        "id": "TuUbFn3ugVAl"
      },
      "execution_count": null,
      "outputs": []
    },
    {
      "cell_type": "code",
      "source": [
        "import matplotlib.pyplot as plt\n",
        "import pandas as pd\n",
        "import numpy as np\n",
        "\n",
        "# Combine into a DataFrame to facilitate handling\n",
        "data = pd.DataFrame({\n",
        "    'English': emotion_totals_en,\n",
        "    'Vietnamese': emotion_totals_vi\n",
        "}).fillna(0)  # Fill NaNs\n",
        "\n",
        "# Set figure and axis\n",
        "fig, ax = plt.subplots(figsize=(14, 7))\n",
        "\n",
        "# Define the position of the bars\n",
        "bar_width = 0.35\n",
        "indices = np.arange(len(data))  # the label locations\n",
        "\n",
        "# Plotting the bars for English\n",
        "bars1 = ax.bar(indices - bar_width/2, data['English'], bar_width, label='English', color='b')\n",
        "\n",
        "# Plotting the bars for Vietnamese\n",
        "bars2 = ax.bar(indices + bar_width/2, data['Vietnamese'], bar_width, label='Vietnamese', color='r')\n",
        "\n",
        "# Add some text for labels, title and custom x-axis tick labels, etc.\n",
        "ax.set_xlabel('Emotions')\n",
        "ax.set_ylabel('Counts')\n",
        "ax.set_title('Distribution of Emotions in Tale of Kieu (English and Vietnamese) Data')\n",
        "ax.set_xticks(indices)\n",
        "ax.set_xticklabels(data.index, rotation=45)  # Rotate labels for better readability\n",
        "\n",
        "# Add grid\n",
        "ax.set_axisbelow(True)\n",
        "ax.grid(which='major', linestyle='--', linewidth='0.5', color='gray')\n",
        "\n",
        "# Adding legend\n",
        "ax.legend()\n",
        "\n",
        "# Show plot\n",
        "plt.tight_layout()\n",
        "plt.show()"
      ],
      "metadata": {
        "colab": {
          "base_uri": "https://localhost:8080/",
          "height": 492
        },
        "id": "8yd3wrLkg4uK",
        "outputId": "90226d39-3646-4af4-f668-bae5032b1a96"
      },
      "execution_count": 34,
      "outputs": [
        {
          "output_type": "display_data",
          "data": {
            "text/plain": [
              "<Figure size 1400x700 with 1 Axes>"
            ],
            "image/png": "[encoded data removed]"
          },
          "metadata": {}
        }
      ]
    },
    {
      "cell_type": "code",
      "source": [
        "emotion_totals_en"
      ],
      "metadata": {
        "colab": {
          "base_uri": "https://localhost:8080/"
        },
        "id": "Jg-7p1wRk9P1",
        "outputId": "de63e457-b90d-4bc4-bcbf-13e4d00b73f3"
      },
      "execution_count": 35,
      "outputs": [
        {
          "output_type": "execute_result",
          "data": {
            "text/plain": [
              "anger            561\n",
              "anticipation     952\n",
              "disgust          414\n",
              "fear             685\n",
              "joy              982\n",
              "negative        1450\n",
              "positive        1866\n",
              "sadness          760\n",
              "surprise         416\n",
              "trust            993\n",
              "dtype: int64"
            ]
          },
          "metadata": {},
          "execution_count": 35
        }
      ]
    },
    {
      "cell_type": "code",
      "source": [
        "emotion_totals_vi"
      ],
      "metadata": {
        "colab": {
          "base_uri": "https://localhost:8080/"
        },
        "id": "TXkBILPClLOH",
        "outputId": "ef020a31-cf59-464d-93b4-64195184e42f"
      },
      "execution_count": 36,
      "outputs": [
        {
          "output_type": "execute_result",
          "data": {
            "text/plain": [
              "Anger             97\n",
              "Anticipation     257\n",
              "Disgust          137\n",
              "Fear             156\n",
              "Joy              531\n",
              "Negative         552\n",
              "Positive        1031\n",
              "Sadness          174\n",
              "Surprise         116\n",
              "Trust            275\n",
              "Unnamed: 11        0\n",
              "dtype: int64"
            ]
          },
          "metadata": {},
          "execution_count": 36
        }
      ]
    },
    {
      "cell_type": "code",
      "source": [
        "# Hypothetical data loading; replace these with your actual loading code\n",
        "emotion_data_en = {'anger': 561, 'anticipation':952,'disgust':414,'fear':685,'joy':982,\n",
        "                   'negative':1450,'positive':1866,'sadness':760,'surprise':416,'trust':993}\n",
        "emotion_data_vi = {'anger': 97, 'anticipation':257,'disgust':137,'fear':156,'joy':531,\n",
        "                   'negative':552,'positive':1031,'sadness':174,'surprise':116,'trust':275}\n",
        "\n",
        "# Convert dictionaries to Pandas Series\n",
        "emotion_totals_en = pd.Series(emotion_data_en)\n",
        "emotion_totals_vi = pd.Series(emotion_data_vi)"
      ],
      "metadata": {
        "id": "IhA_b2qEvFBl"
      },
      "execution_count": 37,
      "outputs": []
    },
    {
      "cell_type": "code",
      "source": [
        "# Align and veriry data\n",
        "# Create a sorted union of all unique emotions from both datasets\n",
        "all_emotions = sorted(set(emotion_totals_en.index).union(set(emotion_totals_vi.index)))\n",
        "\n",
        "# Reindex both series to this sorted list, filling missing values with zero\n",
        "emotion_totals_en = emotion_totals_en.reindex(all_emotions, fill_value=0)\n",
        "emotion_totals_vi = emotion_totals_vi.reindex(all_emotions, fill_value=0)\n",
        "\n",
        "# Verify that the indices are aligned\n",
        "print(\"Emotions in English data:\", emotion_totals_en)\n",
        "print(\"Emotions in Vietnamese data:\", emotion_totals_vi)"
      ],
      "metadata": {
        "colab": {
          "base_uri": "https://localhost:8080/"
        },
        "id": "DYMZ_9lPwYO6",
        "outputId": "ec04b2db-139b-4fab-98c6-102855f56005"
      },
      "execution_count": 38,
      "outputs": [
        {
          "output_type": "stream",
          "name": "stdout",
          "text": [
            "Emotions in English data: anger            561\n",
            "anticipation     952\n",
            "disgust          414\n",
            "fear             685\n",
            "joy              982\n",
            "negative        1450\n",
            "positive        1866\n",
            "sadness          760\n",
            "surprise         416\n",
            "trust            993\n",
            "dtype: int64\n",
            "Emotions in Vietnamese data: anger             97\n",
            "anticipation     257\n",
            "disgust          137\n",
            "fear             156\n",
            "joy              531\n",
            "negative         552\n",
            "positive        1031\n",
            "sadness          174\n",
            "surprise         116\n",
            "trust            275\n",
            "dtype: int64\n"
          ]
        }
      ]
    },
    {
      "cell_type": "code",
      "source": [
        "# Plotting\n",
        "# Plotting parameters\n",
        "num_locations = len(all_emotions)\n",
        "index = np.arange(num_locations)\n",
        "bar_width = 0.35\n",
        "\n",
        "fig, ax = plt.subplots()\n",
        "\n",
        "# Plot bars for English and Vietnamese datasets\n",
        "ax.bar(index - bar_width/2, emotion_totals_en.values, bar_width, label='English', color='#77dd77')\n",
        "ax.bar(index + bar_width/2, emotion_totals_vi.values, bar_width, label='Vietnamese', color='#ff6961')\n",
        "\n",
        "# Set labels and title\n",
        "ax.set_xlabel('Emotions')\n",
        "ax.set_ylabel('Counts')\n",
        "ax.set_title('Distribution of Emotions in English and Vietnamese Data')\n",
        "ax.set_xticks(index)\n",
        "ax.set_xticklabels(all_emotions, rotation=45)\n",
        "ax.legend()\n",
        "\n",
        "# Display the plot\n",
        "plt.show()"
      ],
      "metadata": {
        "colab": {
          "base_uri": "https://localhost:8080/",
          "height": 526
        },
        "id": "wTU6B4bawfkP",
        "outputId": "3b3d39cf-ba06-411b-8c17-585021512e3c"
      },
      "execution_count": 39,
      "outputs": [
        {
          "output_type": "display_data",
          "data": {
            "text/plain": [
              "<Figure size 640x480 with 1 Axes>"
            ],
            "image/png": "[encoded data removed]"
          },
          "metadata": {}
        }
      ]
    },
    {
      "cell_type": "markdown",
      "source": [
        "# **Machine Learning Implementations**"
      ],
      "metadata": {
        "id": "s1e7C8k0LnZC"
      }
    },
    {
      "cell_type": "markdown",
      "source": [
        "# Step 1: Load and Preprocess the Tale of Kieu English Data"
      ],
      "metadata": {
        "id": "LGl79biTLwIF"
      }
    },
    {
      "cell_type": "code",
      "source": [
        "import pandas as pd\n",
        "from sklearn.model_selection import train_test_split\n",
        "from sklearn.feature_extraction.text import CountVectorizer\n",
        "\n",
        "# Load the datasets\n",
        "vi_kieu_data = pd.read_csv('/content/drive/MyDrive/data/final_tale_of_kieu_vi.csv')\n",
        "en_kieu_data = pd.read_csv('/content/drive/MyDrive/data/final_tale_of_kieu_en.csv')"
      ],
      "metadata": {
        "id": "3HbFviy1wuiD"
      },
      "execution_count": 47,
      "outputs": []
    },
    {
      "cell_type": "code",
      "source": [
        "en_kieu_data.head()"
      ],
      "metadata": {
        "colab": {
          "base_uri": "https://localhost:8080/",
          "height": 206
        },
        "id": "pWWPvEifMPy6",
        "outputId": "0b7f9b16-f868-4438-b52a-292f72121892"
      },
      "execution_count": 48,
      "outputs": [
        {
          "output_type": "execute_result",
          "data": {
            "text/plain": [
              "                                            sentence  \\\n",
              "0  Within a hundred-year lifespan in this earthly...   \n",
              "1  Genius and Destiny have a tendency to oppose e...   \n",
              "2  A turbulent mulberry-field-covered-by-sea peri...   \n",
              "3  The things that we saw still deeply pain our h...   \n",
              "4     It’s not strange that beauty may beget misery.   \n",
              "\n",
              "   sentiment_polarity_score sentiment  \n",
              "0                 -0.027620  negative  \n",
              "1                 -0.032543  negative  \n",
              "2                  0.015532   neutral  \n",
              "3                 -0.082356  negative  \n",
              "4                 -0.030088  negative  "
            ],
            "text/html": [
              "\n",
              "  <div id=\"df-636613be-5e56-4c5d-b992-6fe2f63b3ecc\" class=\"colab-df-container\">\n",
              "    <div>\n",
              "<style scoped>\n",
              "    .dataframe tbody tr th:only-of-type {\n",
              "        vertical-align: middle;\n",
              "    }\n",
              "\n",
              "    .dataframe tbody tr th {\n",
              "        vertical-align: top;\n",
              "    }\n",
              "\n",
              "    .dataframe thead th {\n",
              "        text-align: right;\n",
              "    }\n",
              "</style>\n",
              "<table border=\"1\" class=\"dataframe\">\n",
              "  <thead>\n",
              "    <tr style=\"text-align: right;\">\n",
              "      <th></th>\n",
              "      <th>sentence</th>\n",
              "      <th>sentiment_polarity_score</th>\n",
              "      <th>sentiment</th>\n",
              "    </tr>\n",
              "  </thead>\n",
              "  <tbody>\n",
              "    <tr>\n",
              "      <th>0</th>\n",
              "      <td>Within a hundred-year lifespan in this earthly...</td>\n",
              "      <td>-0.027620</td>\n",
              "      <td>negative</td>\n",
              "    </tr>\n",
              "    <tr>\n",
              "      <th>1</th>\n",
              "      <td>Genius and Destiny have a tendency to oppose e...</td>\n",
              "      <td>-0.032543</td>\n",
              "      <td>negative</td>\n",
              "    </tr>\n",
              "    <tr>\n",
              "      <th>2</th>\n",
              "      <td>A turbulent mulberry-field-covered-by-sea peri...</td>\n",
              "      <td>0.015532</td>\n",
              "      <td>neutral</td>\n",
              "    </tr>\n",
              "    <tr>\n",
              "      <th>3</th>\n",
              "      <td>The things that we saw still deeply pain our h...</td>\n",
              "      <td>-0.082356</td>\n",
              "      <td>negative</td>\n",
              "    </tr>\n",
              "    <tr>\n",
              "      <th>4</th>\n",
              "      <td>It’s not strange that beauty may beget misery.</td>\n",
              "      <td>-0.030088</td>\n",
              "      <td>negative</td>\n",
              "    </tr>\n",
              "  </tbody>\n",
              "</table>\n",
              "</div>\n",
              "    <div class=\"colab-df-buttons\">\n",
              "\n",
              "  <div class=\"colab-df-container\">\n",
              "    <button class=\"colab-df-convert\" onclick=\"convertToInteractive('df-636613be-5e56-4c5d-b992-6fe2f63b3ecc')\"\n",
              "            title=\"Convert this dataframe to an interactive table.\"\n",
              "            style=\"display:none;\">\n",
              "\n",
              "  <svg xmlns=\"http://www.w3.org/2000/svg\" height=\"24px\" viewBox=\"0 -960 960 960\">\n",
              "    <path d=\"M120-120v-720h720v720H120Zm60-500h600v-160H180v160Zm220 220h160v-160H400v160Zm0 220h160v-160H400v160ZM180-400h160v-160H180v160Zm440 0h160v-160H620v160ZM180-180h160v-160H180v160Zm440 0h160v-160H620v160Z\"/>\n",
              "  </svg>\n",
              "    </button>\n",
              "\n",
              "  <style>\n",
              "    .colab-df-container {\n",
              "      display:flex;\n",
              "      gap: 12px;\n",
              "    }\n",
              "\n",
              "    .colab-df-convert {\n",
              "      background-color: #E8F0FE;\n",
              "      border: none;\n",
              "      border-radius: 50%;\n",
              "      cursor: pointer;\n",
              "      display: none;\n",
              "      fill: #1967D2;\n",
              "      height: 32px;\n",
              "      padding: 0 0 0 0;\n",
              "      width: 32px;\n",
              "    }\n",
              "\n",
              "    .colab-df-convert:hover {\n",
              "      background-color: #E2EBFA;\n",
              "      box-shadow: 0px 1px 2px rgba(60, 64, 67, 0.3), 0px 1px 3px 1px rgba(60, 64, 67, 0.15);\n",
              "      fill: #174EA6;\n",
              "    }\n",
              "\n",
              "    .colab-df-buttons div {\n",
              "      margin-bottom: 4px;\n",
              "    }\n",
              "\n",
              "    [theme=dark] .colab-df-convert {\n",
              "      background-color: #3B4455;\n",
              "      fill: #D2E3FC;\n",
              "    }\n",
              "\n",
              "    [theme=dark] .colab-df-convert:hover {\n",
              "      background-color: #434B5C;\n",
              "      box-shadow: 0px 1px 3px 1px rgba(0, 0, 0, 0.15);\n",
              "      filter: drop-shadow(0px 1px 2px rgba(0, 0, 0, 0.3));\n",
              "      fill: #FFFFFF;\n",
              "    }\n",
              "  </style>\n",
              "\n",
              "    <script>\n",
              "      const buttonEl =\n",
              "        document.querySelector('#df-636613be-5e56-4c5d-b992-6fe2f63b3ecc button.colab-df-convert');\n",
              "      buttonEl.style.display =\n",
              "        google.colab.kernel.accessAllowed ? 'block' : 'none';\n",
              "\n",
              "      async function convertToInteractive(key) {\n",
              "        const element = document.querySelector('#df-636613be-5e56-4c5d-b992-6fe2f63b3ecc');\n",
              "        const dataTable =\n",
              "          await google.colab.kernel.invokeFunction('convertToInteractive',\n",
              "                                                    [key], {});\n",
              "        if (!dataTable) return;\n",
              "\n",
              "        const docLinkHtml = 'Like what you see? Visit the ' +\n",
              "          '<a target=\"_blank\" href=https://colab.research.google.com/notebooks/data_table.ipynb>data table notebook</a>'\n",
              "          + ' to learn more about interactive tables.';\n",
              "        element.innerHTML = '';\n",
              "        dataTable['output_type'] = 'display_data';\n",
              "        await google.colab.output.renderOutput(dataTable, element);\n",
              "        const docLink = document.createElement('div');\n",
              "        docLink.innerHTML = docLinkHtml;\n",
              "        element.appendChild(docLink);\n",
              "      }\n",
              "    </script>\n",
              "  </div>\n",
              "\n",
              "\n",
              "<div id=\"df-d3eed3a2-bdb9-4ea5-84a9-aca14eac4cd7\">\n",
              "  <button class=\"colab-df-quickchart\" onclick=\"quickchart('df-d3eed3a2-bdb9-4ea5-84a9-aca14eac4cd7')\"\n",
              "            title=\"Suggest charts\"\n",
              "            style=\"display:none;\">\n",
              "\n",
              "<svg xmlns=\"http://www.w3.org/2000/svg\" height=\"24px\"viewBox=\"0 0 24 24\"\n",
              "     width=\"24px\">\n",
              "    <g>\n",
              "        <path d=\"M19 3H5c-1.1 0-2 .9-2 2v14c0 1.1.9 2 2 2h14c1.1 0 2-.9 2-2V5c0-1.1-.9-2-2-2zM9 17H7v-7h2v7zm4 0h-2V7h2v10zm4 0h-2v-4h2v4z\"/>\n",
              "    </g>\n",
              "</svg>\n",
              "  </button>\n",
              "\n",
              "<style>\n",
              "  .colab-df-quickchart {\n",
              "      --bg-color: #E8F0FE;\n",
              "      --fill-color: #1967D2;\n",
              "      --hover-bg-color: #E2EBFA;\n",
              "      --hover-fill-color: #174EA6;\n",
              "      --disabled-fill-color: #AAA;\n",
              "      --disabled-bg-color: #DDD;\n",
              "  }\n",
              "\n",
              "  [theme=dark] .colab-df-quickchart {\n",
              "      --bg-color: #3B4455;\n",
              "      --fill-color: #D2E3FC;\n",
              "      --hover-bg-color: #434B5C;\n",
              "      --hover-fill-color: #FFFFFF;\n",
              "      --disabled-bg-color: #3B4455;\n",
              "      --disabled-fill-color: #666;\n",
              "  }\n",
              "\n",
              "  .colab-df-quickchart {\n",
              "    background-color: var(--bg-color);\n",
              "    border: none;\n",
              "    border-radius: 50%;\n",
              "    cursor: pointer;\n",
              "    display: none;\n",
              "    fill: var(--fill-color);\n",
              "    height: 32px;\n",
              "    padding: 0;\n",
              "    width: 32px;\n",
              "  }\n",
              "\n",
              "  .colab-df-quickchart:hover {\n",
              "    background-color: var(--hover-bg-color);\n",
              "    box-shadow: 0 1px 2px rgba(60, 64, 67, 0.3), 0 1px 3px 1px rgba(60, 64, 67, 0.15);\n",
              "    fill: var(--button-hover-fill-color);\n",
              "  }\n",
              "\n",
              "  .colab-df-quickchart-complete:disabled,\n",
              "  .colab-df-quickchart-complete:disabled:hover {\n",
              "    background-color: var(--disabled-bg-color);\n",
              "    fill: var(--disabled-fill-color);\n",
              "    box-shadow: none;\n",
              "  }\n",
              "\n",
              "  .colab-df-spinner {\n",
              "    border: 2px solid var(--fill-color);\n",
              "    border-color: transparent;\n",
              "    border-bottom-color: var(--fill-color);\n",
              "    animation:\n",
              "      spin 1s steps(1) infinite;\n",
              "  }\n",
              "\n",
              "  @keyframes spin {\n",
              "    0% {\n",
              "      border-color: transparent;\n",
              "      border-bottom-color: var(--fill-color);\n",
              "      border-left-color: var(--fill-color);\n",
              "    }\n",
              "    20% {\n",
              "      border-color: transparent;\n",
              "      border-left-color: var(--fill-color);\n",
              "      border-top-color: var(--fill-color);\n",
              "    }\n",
              "    30% {\n",
              "      border-color: transparent;\n",
              "      border-left-color: var(--fill-color);\n",
              "      border-top-color: var(--fill-color);\n",
              "      border-right-color: var(--fill-color);\n",
              "    }\n",
              "    40% {\n",
              "      border-color: transparent;\n",
              "      border-right-color: var(--fill-color);\n",
              "      border-top-color: var(--fill-color);\n",
              "    }\n",
              "    60% {\n",
              "      border-color: transparent;\n",
              "      border-right-color: var(--fill-color);\n",
              "    }\n",
              "    80% {\n",
              "      border-color: transparent;\n",
              "      border-right-color: var(--fill-color);\n",
              "      border-bottom-color: var(--fill-color);\n",
              "    }\n",
              "    90% {\n",
              "      border-color: transparent;\n",
              "      border-bottom-color: var(--fill-color);\n",
              "    }\n",
              "  }\n",
              "</style>\n",
              "\n",
              "  <script>\n",
              "    async function quickchart(key) {\n",
              "      const quickchartButtonEl =\n",
              "        document.querySelector('#' + key + ' button');\n",
              "      quickchartButtonEl.disabled = true;  // To prevent multiple clicks.\n",
              "      quickchartButtonEl.classList.add('colab-df-spinner');\n",
              "      try {\n",
              "        const charts = await google.colab.kernel.invokeFunction(\n",
              "            'suggestCharts', [key], {});\n",
              "      } catch (error) {\n",
              "        console.error('Error during call to suggestCharts:', error);\n",
              "      }\n",
              "      quickchartButtonEl.classList.remove('colab-df-spinner');\n",
              "      quickchartButtonEl.classList.add('colab-df-quickchart-complete');\n",
              "    }\n",
              "    (() => {\n",
              "      let quickchartButtonEl =\n",
              "        document.querySelector('#df-d3eed3a2-bdb9-4ea5-84a9-aca14eac4cd7 button');\n",
              "      quickchartButtonEl.style.display =\n",
              "        google.colab.kernel.accessAllowed ? 'block' : 'none';\n",
              "    })();\n",
              "  </script>\n",
              "</div>\n",
              "\n",
              "    </div>\n",
              "  </div>\n"
            ],
            "application/vnd.google.colaboratory.intrinsic+json": {
              "type": "dataframe",
              "variable_name": "en_kieu_data",
              "summary": "{\n  \"name\": \"en_kieu_data\",\n  \"rows\": 3254,\n  \"fields\": [\n    {\n      \"column\": \"sentence\",\n      \"properties\": {\n        \"dtype\": \"string\",\n        \"num_unique_values\": 3254,\n        \"samples\": [\n          \"They were half terrified, and half happy for her.\",\n          \"Seemed to be a young scholar riding on a horse,\",\n          \"she had lost about three or four tenths of her freshness.\"\n        ],\n        \"semantic_type\": \"\",\n        \"description\": \"\"\n      }\n    },\n    {\n      \"column\": \"sentiment_polarity_score\",\n      \"properties\": {\n        \"dtype\": \"number\",\n        \"std\": 0.03126171058265457,\n        \"min\": -0.1272424161434173,\n        \"max\": 0.0928410813212394,\n        \"num_unique_values\": 3254,\n        \"samples\": [\n          -0.0044841016642749,\n          0.0201934557408094,\n          -0.0238352697342634\n        ],\n        \"semantic_type\": \"\",\n        \"description\": \"\"\n      }\n    },\n    {\n      \"column\": \"sentiment\",\n      \"properties\": {\n        \"dtype\": \"category\",\n        \"num_unique_values\": 3,\n        \"samples\": [\n          \"negative\",\n          \"neutral\",\n          \"positive\"\n        ],\n        \"semantic_type\": \"\",\n        \"description\": \"\"\n      }\n    }\n  ]\n}"
            }
          },
          "metadata": {},
          "execution_count": 48
        }
      ]
    },
    {
      "cell_type": "code",
      "source": [
        "vi_kieu_data.head()"
      ],
      "metadata": {
        "colab": {
          "base_uri": "https://localhost:8080/",
          "height": 206
        },
        "id": "gP31gUzUgcPW",
        "outputId": "6657d428-ec3f-4067-ad99-fb8a676ba198"
      },
      "execution_count": 65,
      "outputs": [
        {
          "output_type": "execute_result",
          "data": {
            "text/plain": [
              "                                 sentence  sentiment_polarity_score sentiment\n",
              "0            Trăm năm trong cõi người ta,                 -0.040876  negative\n",
              "1     Chữ tài chữ mệnh khéo là ghét nhau.                 -0.020786  negative\n",
              "2               Trải qua một cuộc bể dâu,                 -0.036011  negative\n",
              "3  Những điều trông thấy mà đau đớn lòng.                 -0.055563  negative\n",
              "4                  Lạ gì bỉ sắc tư phong,                 -0.017147   neutral"
            ],
            "text/html": [
              "\n",
              "  <div id=\"df-abc57dbf-4809-44c1-bc3a-136ebe21020d\" class=\"colab-df-container\">\n",
              "    <div>\n",
              "<style scoped>\n",
              "    .dataframe tbody tr th:only-of-type {\n",
              "        vertical-align: middle;\n",
              "    }\n",
              "\n",
              "    .dataframe tbody tr th {\n",
              "        vertical-align: top;\n",
              "    }\n",
              "\n",
              "    .dataframe thead th {\n",
              "        text-align: right;\n",
              "    }\n",
              "</style>\n",
              "<table border=\"1\" class=\"dataframe\">\n",
              "  <thead>\n",
              "    <tr style=\"text-align: right;\">\n",
              "      <th></th>\n",
              "      <th>sentence</th>\n",
              "      <th>sentiment_polarity_score</th>\n",
              "      <th>sentiment</th>\n",
              "    </tr>\n",
              "  </thead>\n",
              "  <tbody>\n",
              "    <tr>\n",
              "      <th>0</th>\n",
              "      <td>Trăm năm trong cõi người ta,</td>\n",
              "      <td>-0.040876</td>\n",
              "      <td>negative</td>\n",
              "    </tr>\n",
              "    <tr>\n",
              "      <th>1</th>\n",
              "      <td>Chữ tài chữ mệnh khéo là ghét nhau.</td>\n",
              "      <td>-0.020786</td>\n",
              "      <td>negative</td>\n",
              "    </tr>\n",
              "    <tr>\n",
              "      <th>2</th>\n",
              "      <td>Trải qua một cuộc bể dâu,</td>\n",
              "      <td>-0.036011</td>\n",
              "      <td>negative</td>\n",
              "    </tr>\n",
              "    <tr>\n",
              "      <th>3</th>\n",
              "      <td>Những điều trông thấy mà đau đớn lòng.</td>\n",
              "      <td>-0.055563</td>\n",
              "      <td>negative</td>\n",
              "    </tr>\n",
              "    <tr>\n",
              "      <th>4</th>\n",
              "      <td>Lạ gì bỉ sắc tư phong,</td>\n",
              "      <td>-0.017147</td>\n",
              "      <td>neutral</td>\n",
              "    </tr>\n",
              "  </tbody>\n",
              "</table>\n",
              "</div>\n",
              "    <div class=\"colab-df-buttons\">\n",
              "\n",
              "  <div class=\"colab-df-container\">\n",
              "    <button class=\"colab-df-convert\" onclick=\"convertToInteractive('df-abc57dbf-4809-44c1-bc3a-136ebe21020d')\"\n",
              "            title=\"Convert this dataframe to an interactive table.\"\n",
              "            style=\"display:none;\">\n",
              "\n",
              "  <svg xmlns=\"http://www.w3.org/2000/svg\" height=\"24px\" viewBox=\"0 -960 960 960\">\n",
              "    <path d=\"M120-120v-720h720v720H120Zm60-500h600v-160H180v160Zm220 220h160v-160H400v160Zm0 220h160v-160H400v160ZM180-400h160v-160H180v160Zm440 0h160v-160H620v160ZM180-180h160v-160H180v160Zm440 0h160v-160H620v160Z\"/>\n",
              "  </svg>\n",
              "    </button>\n",
              "\n",
              "  <style>\n",
              "    .colab-df-container {\n",
              "      display:flex;\n",
              "      gap: 12px;\n",
              "    }\n",
              "\n",
              "    .colab-df-convert {\n",
              "      background-color: #E8F0FE;\n",
              "      border: none;\n",
              "      border-radius: 50%;\n",
              "      cursor: pointer;\n",
              "      display: none;\n",
              "      fill: #1967D2;\n",
              "      height: 32px;\n",
              "      padding: 0 0 0 0;\n",
              "      width: 32px;\n",
              "    }\n",
              "\n",
              "    .colab-df-convert:hover {\n",
              "      background-color: #E2EBFA;\n",
              "      box-shadow: 0px 1px 2px rgba(60, 64, 67, 0.3), 0px 1px 3px 1px rgba(60, 64, 67, 0.15);\n",
              "      fill: #174EA6;\n",
              "    }\n",
              "\n",
              "    .colab-df-buttons div {\n",
              "      margin-bottom: 4px;\n",
              "    }\n",
              "\n",
              "    [theme=dark] .colab-df-convert {\n",
              "      background-color: #3B4455;\n",
              "      fill: #D2E3FC;\n",
              "    }\n",
              "\n",
              "    [theme=dark] .colab-df-convert:hover {\n",
              "      background-color: #434B5C;\n",
              "      box-shadow: 0px 1px 3px 1px rgba(0, 0, 0, 0.15);\n",
              "      filter: drop-shadow(0px 1px 2px rgba(0, 0, 0, 0.3));\n",
              "      fill: #FFFFFF;\n",
              "    }\n",
              "  </style>\n",
              "\n",
              "    <script>\n",
              "      const buttonEl =\n",
              "        document.querySelector('#df-abc57dbf-4809-44c1-bc3a-136ebe21020d button.colab-df-convert');\n",
              "      buttonEl.style.display =\n",
              "        google.colab.kernel.accessAllowed ? 'block' : 'none';\n",
              "\n",
              "      async function convertToInteractive(key) {\n",
              "        const element = document.querySelector('#df-abc57dbf-4809-44c1-bc3a-136ebe21020d');\n",
              "        const dataTable =\n",
              "          await google.colab.kernel.invokeFunction('convertToInteractive',\n",
              "                                                    [key], {});\n",
              "        if (!dataTable) return;\n",
              "\n",
              "        const docLinkHtml = 'Like what you see? Visit the ' +\n",
              "          '<a target=\"_blank\" href=https://colab.research.google.com/notebooks/data_table.ipynb>data table notebook</a>'\n",
              "          + ' to learn more about interactive tables.';\n",
              "        element.innerHTML = '';\n",
              "        dataTable['output_type'] = 'display_data';\n",
              "        await google.colab.output.renderOutput(dataTable, element);\n",
              "        const docLink = document.createElement('div');\n",
              "        docLink.innerHTML = docLinkHtml;\n",
              "        element.appendChild(docLink);\n",
              "      }\n",
              "    </script>\n",
              "  </div>\n",
              "\n",
              "\n",
              "<div id=\"df-8d1c2016-3016-4166-93be-95c1e14137c2\">\n",
              "  <button class=\"colab-df-quickchart\" onclick=\"quickchart('df-8d1c2016-3016-4166-93be-95c1e14137c2')\"\n",
              "            title=\"Suggest charts\"\n",
              "            style=\"display:none;\">\n",
              "\n",
              "<svg xmlns=\"http://www.w3.org/2000/svg\" height=\"24px\"viewBox=\"0 0 24 24\"\n",
              "     width=\"24px\">\n",
              "    <g>\n",
              "        <path d=\"M19 3H5c-1.1 0-2 .9-2 2v14c0 1.1.9 2 2 2h14c1.1 0 2-.9 2-2V5c0-1.1-.9-2-2-2zM9 17H7v-7h2v7zm4 0h-2V7h2v10zm4 0h-2v-4h2v4z\"/>\n",
              "    </g>\n",
              "</svg>\n",
              "  </button>\n",
              "\n",
              "<style>\n",
              "  .colab-df-quickchart {\n",
              "      --bg-color: #E8F0FE;\n",
              "      --fill-color: #1967D2;\n",
              "      --hover-bg-color: #E2EBFA;\n",
              "      --hover-fill-color: #174EA6;\n",
              "      --disabled-fill-color: #AAA;\n",
              "      --disabled-bg-color: #DDD;\n",
              "  }\n",
              "\n",
              "  [theme=dark] .colab-df-quickchart {\n",
              "      --bg-color: #3B4455;\n",
              "      --fill-color: #D2E3FC;\n",
              "      --hover-bg-color: #434B5C;\n",
              "      --hover-fill-color: #FFFFFF;\n",
              "      --disabled-bg-color: #3B4455;\n",
              "      --disabled-fill-color: #666;\n",
              "  }\n",
              "\n",
              "  .colab-df-quickchart {\n",
              "    background-color: var(--bg-color);\n",
              "    border: none;\n",
              "    border-radius: 50%;\n",
              "    cursor: pointer;\n",
              "    display: none;\n",
              "    fill: var(--fill-color);\n",
              "    height: 32px;\n",
              "    padding: 0;\n",
              "    width: 32px;\n",
              "  }\n",
              "\n",
              "  .colab-df-quickchart:hover {\n",
              "    background-color: var(--hover-bg-color);\n",
              "    box-shadow: 0 1px 2px rgba(60, 64, 67, 0.3), 0 1px 3px 1px rgba(60, 64, 67, 0.15);\n",
              "    fill: var(--button-hover-fill-color);\n",
              "  }\n",
              "\n",
              "  .colab-df-quickchart-complete:disabled,\n",
              "  .colab-df-quickchart-complete:disabled:hover {\n",
              "    background-color: var(--disabled-bg-color);\n",
              "    fill: var(--disabled-fill-color);\n",
              "    box-shadow: none;\n",
              "  }\n",
              "\n",
              "  .colab-df-spinner {\n",
              "    border: 2px solid var(--fill-color);\n",
              "    border-color: transparent;\n",
              "    border-bottom-color: var(--fill-color);\n",
              "    animation:\n",
              "      spin 1s steps(1) infinite;\n",
              "  }\n",
              "\n",
              "  @keyframes spin {\n",
              "    0% {\n",
              "      border-color: transparent;\n",
              "      border-bottom-color: var(--fill-color);\n",
              "      border-left-color: var(--fill-color);\n",
              "    }\n",
              "    20% {\n",
              "      border-color: transparent;\n",
              "      border-left-color: var(--fill-color);\n",
              "      border-top-color: var(--fill-color);\n",
              "    }\n",
              "    30% {\n",
              "      border-color: transparent;\n",
              "      border-left-color: var(--fill-color);\n",
              "      border-top-color: var(--fill-color);\n",
              "      border-right-color: var(--fill-color);\n",
              "    }\n",
              "    40% {\n",
              "      border-color: transparent;\n",
              "      border-right-color: var(--fill-color);\n",
              "      border-top-color: var(--fill-color);\n",
              "    }\n",
              "    60% {\n",
              "      border-color: transparent;\n",
              "      border-right-color: var(--fill-color);\n",
              "    }\n",
              "    80% {\n",
              "      border-color: transparent;\n",
              "      border-right-color: var(--fill-color);\n",
              "      border-bottom-color: var(--fill-color);\n",
              "    }\n",
              "    90% {\n",
              "      border-color: transparent;\n",
              "      border-bottom-color: var(--fill-color);\n",
              "    }\n",
              "  }\n",
              "</style>\n",
              "\n",
              "  <script>\n",
              "    async function quickchart(key) {\n",
              "      const quickchartButtonEl =\n",
              "        document.querySelector('#' + key + ' button');\n",
              "      quickchartButtonEl.disabled = true;  // To prevent multiple clicks.\n",
              "      quickchartButtonEl.classList.add('colab-df-spinner');\n",
              "      try {\n",
              "        const charts = await google.colab.kernel.invokeFunction(\n",
              "            'suggestCharts', [key], {});\n",
              "      } catch (error) {\n",
              "        console.error('Error during call to suggestCharts:', error);\n",
              "      }\n",
              "      quickchartButtonEl.classList.remove('colab-df-spinner');\n",
              "      quickchartButtonEl.classList.add('colab-df-quickchart-complete');\n",
              "    }\n",
              "    (() => {\n",
              "      let quickchartButtonEl =\n",
              "        document.querySelector('#df-8d1c2016-3016-4166-93be-95c1e14137c2 button');\n",
              "      quickchartButtonEl.style.display =\n",
              "        google.colab.kernel.accessAllowed ? 'block' : 'none';\n",
              "    })();\n",
              "  </script>\n",
              "</div>\n",
              "\n",
              "    </div>\n",
              "  </div>\n"
            ],
            "application/vnd.google.colaboratory.intrinsic+json": {
              "type": "dataframe",
              "variable_name": "vi_kieu_data",
              "summary": "{\n  \"name\": \"vi_kieu_data\",\n  \"rows\": 3254,\n  \"fields\": [\n    {\n      \"column\": \"sentence\",\n      \"properties\": {\n        \"dtype\": \"string\",\n        \"num_unique_values\": 3254,\n        \"samples\": [\n          \"N\\u1eeda ph\\u1ea7n khi\\u1ebfp s\\u1ee3, n\\u1eeda ph\\u1ea7n m\\u1eebng vui.\",\n          \"Tr\\u00f4ng ch\\u1eebng th\\u1ea5y m\\u1ed9t v\\u0103n nh\\u00e2n,\",\n          \"M\\u01b0\\u1eddi ph\\u1ea7n xu\\u00e2n c\\u00f3 g\\u1ea7y ba b\\u1ed1n ph\\u1ea7n.\"\n        ],\n        \"semantic_type\": \"\",\n        \"description\": \"\"\n      }\n    },\n    {\n      \"column\": \"sentiment_polarity_score\",\n      \"properties\": {\n        \"dtype\": \"number\",\n        \"std\": 0.034379924681553514,\n        \"min\": -0.1549356430768966,\n        \"max\": 0.119258128106594,\n        \"num_unique_values\": 3254,\n        \"samples\": [\n          -0.0036560876760631,\n          -0.0150565048679709,\n          -0.0368179492652416\n        ],\n        \"semantic_type\": \"\",\n        \"description\": \"\"\n      }\n    },\n    {\n      \"column\": \"sentiment\",\n      \"properties\": {\n        \"dtype\": \"category\",\n        \"num_unique_values\": 3,\n        \"samples\": [\n          \"negative\",\n          \"neutral\",\n          \"positive\"\n        ],\n        \"semantic_type\": \"\",\n        \"description\": \"\"\n      }\n    }\n  ]\n}"
            }
          },
          "metadata": {},
          "execution_count": 65
        }
      ]
    },
    {
      "cell_type": "code",
      "source": [
        "# Combine or select one dataset based on your analysis needs\n",
        "# For simplicity, let's assume we're using the English dataset and the target is already encoded\n",
        "data = en_kieu_data['sentence']\n",
        "target = en_kieu_data['sentiment']  # Ensure you have a 'sentiment' column or equivalent\n",
        "data_vi = vi_kieu_data['sentence']\n",
        "target_vi = vi_kieu_data['sentiment']"
      ],
      "metadata": {
        "id": "oUgcWzJaMFnk"
      },
      "execution_count": 66,
      "outputs": []
    },
    {
      "cell_type": "code",
      "source": [
        "# Split the dataset into training and testing sets\n",
        "data_train, data_test, target_train, target_test = train_test_split(data, target, test_size=0.3, random_state=42)\n",
        "data_vi_train, data_vi_test, target_vi_train, target_vi_test = train_test_split(data_vi, target_vi, test_size=0.3, random_state=42)"
      ],
      "metadata": {
        "id": "UOZyP5_TMIW9"
      },
      "execution_count": 67,
      "outputs": []
    },
    {
      "cell_type": "code",
      "source": [
        "# Vectorize the text data\n",
        "vectorizer = CountVectorizer()\n",
        "X_train = vectorizer.fit_transform(data_train)\n",
        "X_test = vectorizer.transform(data_test)\n",
        "\n",
        "X_vi_train = vectorizer.fit_transform(data_vi_train)\n",
        "X_vi_test = vectorizer.transform(data_vi_test)"
      ],
      "metadata": {
        "id": "KUnJlICAONOy"
      },
      "execution_count": 68,
      "outputs": []
    },
    {
      "cell_type": "markdown",
      "source": [
        "# Step 2: Naive Bayes Implementation"
      ],
      "metadata": {
        "id": "FfFf4Z2XOR59"
      }
    },
    {
      "cell_type": "code",
      "source": [
        "from sklearn.naive_bayes import MultinomialNB\n",
        "from sklearn.metrics import classification_report\n",
        "\n",
        "# Train a Naive Bayes classifier\n",
        "nb_classifier = MultinomialNB()\n",
        "nb_classifier.fit(X_train, target_train)\n",
        "\n",
        "nb_vi_classifier = MultinomialNB()\n",
        "nb_vi_classifier.fit(X_vi_train, target_vi_train)"
      ],
      "metadata": {
        "colab": {
          "base_uri": "https://localhost:8080/",
          "height": 75
        },
        "id": "UnuoVMyoOQZT",
        "outputId": "5f9ff188-af43-46cc-e1cb-0dd85daa66e9"
      },
      "execution_count": 69,
      "outputs": [
        {
          "output_type": "execute_result",
          "data": {
            "text/plain": [
              "MultinomialNB()"
            ],
            "text/html": [
              "<style>#sk-container-id-3 {color: black;background-color: white;}#sk-container-id-3 pre{padding: 0;}#sk-container-id-3 div.sk-toggleable {background-color: white;}#sk-container-id-3 label.sk-toggleable__label {cursor: pointer;display: block;width: 100%;margin-bottom: 0;padding: 0.3em;box-sizing: border-box;text-align: center;}#sk-container-id-3 label.sk-toggleable__label-arrow:before {content: \"▸\";float: left;margin-right: 0.25em;color: #696969;}#sk-container-id-3 label.sk-toggleable__label-arrow:hover:before {color: black;}#sk-container-id-3 div.sk-estimator:hover label.sk-toggleable__label-arrow:before {color: black;}#sk-container-id-3 div.sk-toggleable__content {max-height: 0;max-width: 0;overflow: hidden;text-align: left;background-color: #f0f8ff;}#sk-container-id-3 div.sk-toggleable__content pre {margin: 0.2em;color: black;border-radius: 0.25em;background-color: #f0f8ff;}#sk-container-id-3 input.sk-toggleable__control:checked~div.sk-toggleable__content {max-height: 200px;max-width: 100%;overflow: auto;}#sk-container-id-3 input.sk-toggleable__control:checked~label.sk-toggleable__label-arrow:before {content: \"▾\";}#sk-container-id-3 div.sk-estimator input.sk-toggleable__control:checked~label.sk-toggleable__label {background-color: #d4ebff;}#sk-container-id-3 div.sk-label input.sk-toggleable__control:checked~label.sk-toggleable__label {background-color: #d4ebff;}#sk-container-id-3 input.sk-hidden--visually {border: 0;clip: rect(1px 1px 1px 1px);clip: rect(1px, 1px, 1px, 1px);height: 1px;margin: -1px;overflow: hidden;padding: 0;position: absolute;width: 1px;}#sk-container-id-3 div.sk-estimator {font-family: monospace;background-color: #f0f8ff;border: 1px dotted black;border-radius: 0.25em;box-sizing: border-box;margin-bottom: 0.5em;}#sk-container-id-3 div.sk-estimator:hover {background-color: #d4ebff;}#sk-container-id-3 div.sk-parallel-item::after {content: \"\";width: 100%;border-bottom: 1px solid gray;flex-grow: 1;}#sk-container-id-3 div.sk-label:hover label.sk-toggleable__label {background-color: #d4ebff;}#sk-container-id-3 div.sk-serial::before {content: \"\";position: absolute;border-left: 1px solid gray;box-sizing: border-box;top: 0;bottom: 0;left: 50%;z-index: 0;}#sk-container-id-3 div.sk-serial {display: flex;flex-direction: column;align-items: center;background-color: white;padding-right: 0.2em;padding-left: 0.2em;position: relative;}#sk-container-id-3 div.sk-item {position: relative;z-index: 1;}#sk-container-id-3 div.sk-parallel {display: flex;align-items: stretch;justify-content: center;background-color: white;position: relative;}#sk-container-id-3 div.sk-item::before, #sk-container-id-3 div.sk-parallel-item::before {content: \"\";position: absolute;border-left: 1px solid gray;box-sizing: border-box;top: 0;bottom: 0;left: 50%;z-index: -1;}#sk-container-id-3 div.sk-parallel-item {display: flex;flex-direction: column;z-index: 1;position: relative;background-color: white;}#sk-container-id-3 div.sk-parallel-item:first-child::after {align-self: flex-end;width: 50%;}#sk-container-id-3 div.sk-parallel-item:last-child::after {align-self: flex-start;width: 50%;}#sk-container-id-3 div.sk-parallel-item:only-child::after {width: 0;}#sk-container-id-3 div.sk-dashed-wrapped {border: 1px dashed gray;margin: 0 0.4em 0.5em 0.4em;box-sizing: border-box;padding-bottom: 0.4em;background-color: white;}#sk-container-id-3 div.sk-label label {font-family: monospace;font-weight: bold;display: inline-block;line-height: 1.2em;}#sk-container-id-3 div.sk-label-container {text-align: center;}#sk-container-id-3 div.sk-container {/* jupyter's `normalize.less` sets `[hidden] { display: none; }` but bootstrap.min.css set `[hidden] { display: none !important; }` so we also need the `!important` here to be able to override the default hidden behavior on the sphinx rendered scikit-learn.org. See: https://github.com/scikit-learn/scikit-learn/issues/21755 */display: inline-block !important;position: relative;}#sk-container-id-3 div.sk-text-repr-fallback {display: none;}</style><div id=\"sk-container-id-3\" class=\"sk-top-container\"><div class=\"sk-text-repr-fallback\"><pre>MultinomialNB()</pre><b>In a Jupyter environment, please rerun this cell to show the HTML representation or trust the notebook. <br />On GitHub, the HTML representation is unable to render, please try loading this page with nbviewer.org.</b></div><div class=\"sk-container\" hidden><div class=\"sk-item\"><div class=\"sk-estimator sk-toggleable\"><input class=\"sk-toggleable__control sk-hidden--visually\" id=\"sk-estimator-id-3\" type=\"checkbox\" checked><label for=\"sk-estimator-id-3\" class=\"sk-toggleable__label sk-toggleable__label-arrow\">MultinomialNB</label><div class=\"sk-toggleable__content\"><pre>MultinomialNB()</pre></div></div></div></div></div>"
            ]
          },
          "metadata": {},
          "execution_count": 69
        }
      ]
    },
    {
      "cell_type": "code",
      "source": [
        "# Evaluate the classifier for En dataset - Naive Bayes ML\n",
        "nb_predictions = nb_classifier.predict(X_test)\n",
        "print(classification_report(target_test, nb_predictions))"
      ],
      "metadata": {
        "colab": {
          "base_uri": "https://localhost:8080/"
        },
        "id": "3DanVfXYOZ7l",
        "outputId": "69ee0f0e-4f41-4cfa-f5d2-649d6faa96a0"
      },
      "execution_count": 72,
      "outputs": [
        {
          "output_type": "stream",
          "name": "stdout",
          "text": [
            "              precision    recall  f1-score   support\n",
            "\n",
            "    negative       0.71      0.68      0.69       457\n",
            "     neutral       0.53      0.70      0.60       400\n",
            "    positive       0.55      0.05      0.09       120\n",
            "\n",
            "    accuracy                           0.61       977\n",
            "   macro avg       0.59      0.47      0.46       977\n",
            "weighted avg       0.61      0.61      0.58       977\n",
            "\n"
          ]
        }
      ]
    },
    {
      "cell_type": "code",
      "source": [
        "# Evaluate the classifier for Vi dataset - Naive Bayes ML\n",
        "nb_vi_predictions = nb_vi_classifier.predict(X_vi_test)\n",
        "print(classification_report(target_vi_test, nb_vi_predictions))"
      ],
      "metadata": {
        "colab": {
          "base_uri": "https://localhost:8080/"
        },
        "id": "6RvDCNeJhf9T",
        "outputId": "967ebdab-e6ef-4e35-bf96-3bfba4c63552"
      },
      "execution_count": 73,
      "outputs": [
        {
          "output_type": "stream",
          "name": "stdout",
          "text": [
            "              precision    recall  f1-score   support\n",
            "\n",
            "    negative       0.72      0.83      0.77       585\n",
            "     neutral       0.50      0.43      0.46       324\n",
            "    positive       0.42      0.15      0.22        68\n",
            "\n",
            "    accuracy                           0.65       977\n",
            "   macro avg       0.55      0.47      0.48       977\n",
            "weighted avg       0.63      0.65      0.63       977\n",
            "\n"
          ]
        }
      ]
    },
    {
      "cell_type": "markdown",
      "source": [
        "The classification report provided details the performance of your Naive Bayes model across three sentiment classes: negative, neutral, and positive. Let's break down the key metrics in the report:\n",
        "\n",
        "# Metrics Overview:\n",
        "\n",
        " - Precision: This is the ratio of correctly predicted positive observations to the total predicted positives. High precision relates to a low false positive rate.\n",
        " - Recall: Also known as sensitivity, it is the ratio of correctly predicted positive observations to all actual positives. High recall indicates most of the positive class is correctly recognized.\n",
        " - F1-score: The weighted average of Precision and Recall. This score takes both false positives and false negatives into account, and is a good measure to use if you seek a balance between Precision and Recall.\n",
        " - Support: The number of actual occurrences of the class in the specified dataset.\n",
        "\n",
        "# Detailed Analysis:\n",
        "\n",
        " - Negative Class:\n",
        "\n",
        "   + Precision: 0.71 indicates that 71% of the instances classified as negative were actually negative.\n",
        "   + Recall: 0.68 suggests that the model correctly identified 68% of all actual negative instances.\n",
        "   + F1-score: 0.69 reflects a fairly balanced precision and recall for this class.\n",
        "   + Support: 457 instances in the test dataset are actually negative.\n",
        " - Neutral Class:\n",
        "\n",
        "   + Precision: 0.53 indicates moderate precision where just over half of the predictions were correct for this class.\n",
        "   + Recall: 0.70 indicates that the model was relatively effective at identifying neutral instances, capturing 70% of all actual neutral cases.\n",
        "   + F1-score: 0.60, which is slightly lower than the negative class, indicating a bit less balance between precision and recall.\n",
        "   + Support: 400 instances in the test dataset are actually neutral.\n",
        " - Positive Class:\n",
        "\n",
        "   + Precision: 0.55 suggests that when the model predicts an instance as positive, it is correct 55% of the time.\n",
        "   + Recall: 0.05 is very low, indicating that the model identified only 5% of all actual positive cases.\n",
        "   + F1-score: 0.09, a significantly low score, reflecting poor performance of the model on the positive class.\n",
        "   + Support: 120 instances in the test dataset are actually positive.\n",
        "\n",
        "# Overall Performance:\n",
        "\n",
        " - Accuracy: 0.61 means that 61% of all classes were correctly predicted by the model across all classes.\n",
        " - Macro Avg (Precision, Recall, F1-score): Around 0.59, 0.47, and 0.46 respectively. These averages are calculated by taking the average of each metric without considering the support (the number of instances for each class). The low values, especially in recall and F1-score, mainly driven by poor performance in the positive class.\n",
        " - Weighted Avg: These are similar to macro averages but weighted by the number of true instances in each class, giving more importance to the bigger classes. The weighted metrics show a slight increase due to the dominance of negative and neutral classes in the dataset.\n",
        "\n",
        "# Summary:\n",
        "\n",
        "Your model is fairly effective at identifying negative and neutral sentiments but struggles significantly with positive sentiments, as evidenced by the extremely low recall for the positive class. This could be due to various reasons, such as class imbalance or insufficient representative features for positive sentiments in the training data. Improvements can include techniques like resampling, using different feature extraction methods, or tweaking model parameters."
      ],
      "metadata": {
        "id": "WgmiZq6CP3aU"
      }
    },
    {
      "cell_type": "markdown",
      "source": [
        "# Step 3: SVM Implementation"
      ],
      "metadata": {
        "id": "Z-l7uNoLReX0"
      }
    },
    {
      "cell_type": "code",
      "source": [
        "# Evaluate the classifier - copy from Naive Bayes\n",
        "nb_predictions = nb_classifier.predict(X_test)\n",
        "print(classification_report(target_test, nb_predictions))"
      ],
      "metadata": {
        "id": "t8xrw1IKR9Tx"
      },
      "execution_count": null,
      "outputs": []
    },
    {
      "cell_type": "code",
      "source": [
        "from sklearn.svm import SVC\n",
        "\n",
        "# Train a Support Vector Machine classifier for En dataset\n",
        "svm_classifier = SVC(kernel='linear')  # Linear kernel is generally sufficient for text data\n",
        "svm_classifier.fit(X_train, target_train)"
      ],
      "metadata": {
        "colab": {
          "base_uri": "https://localhost:8080/",
          "height": 75
        },
        "id": "vn6U3QNXP3C0",
        "outputId": "0a1faf30-8b30-46de-84ab-190686603f5e"
      },
      "execution_count": 75,
      "outputs": [
        {
          "output_type": "execute_result",
          "data": {
            "text/plain": [
              "SVC(kernel='linear')"
            ],
            "text/html": [
              "<style>#sk-container-id-5 {color: black;background-color: white;}#sk-container-id-5 pre{padding: 0;}#sk-container-id-5 div.sk-toggleable {background-color: white;}#sk-container-id-5 label.sk-toggleable__label {cursor: pointer;display: block;width: 100%;margin-bottom: 0;padding: 0.3em;box-sizing: border-box;text-align: center;}#sk-container-id-5 label.sk-toggleable__label-arrow:before {content: \"▸\";float: left;margin-right: 0.25em;color: #696969;}#sk-container-id-5 label.sk-toggleable__label-arrow:hover:before {color: black;}#sk-container-id-5 div.sk-estimator:hover label.sk-toggleable__label-arrow:before {color: black;}#sk-container-id-5 div.sk-toggleable__content {max-height: 0;max-width: 0;overflow: hidden;text-align: left;background-color: #f0f8ff;}#sk-container-id-5 div.sk-toggleable__content pre {margin: 0.2em;color: black;border-radius: 0.25em;background-color: #f0f8ff;}#sk-container-id-5 input.sk-toggleable__control:checked~div.sk-toggleable__content {max-height: 200px;max-width: 100%;overflow: auto;}#sk-container-id-5 input.sk-toggleable__control:checked~label.sk-toggleable__label-arrow:before {content: \"▾\";}#sk-container-id-5 div.sk-estimator input.sk-toggleable__control:checked~label.sk-toggleable__label {background-color: #d4ebff;}#sk-container-id-5 div.sk-label input.sk-toggleable__control:checked~label.sk-toggleable__label {background-color: #d4ebff;}#sk-container-id-5 input.sk-hidden--visually {border: 0;clip: rect(1px 1px 1px 1px);clip: rect(1px, 1px, 1px, 1px);height: 1px;margin: -1px;overflow: hidden;padding: 0;position: absolute;width: 1px;}#sk-container-id-5 div.sk-estimator {font-family: monospace;background-color: #f0f8ff;border: 1px dotted black;border-radius: 0.25em;box-sizing: border-box;margin-bottom: 0.5em;}#sk-container-id-5 div.sk-estimator:hover {background-color: #d4ebff;}#sk-container-id-5 div.sk-parallel-item::after {content: \"\";width: 100%;border-bottom: 1px solid gray;flex-grow: 1;}#sk-container-id-5 div.sk-label:hover label.sk-toggleable__label {background-color: #d4ebff;}#sk-container-id-5 div.sk-serial::before {content: \"\";position: absolute;border-left: 1px solid gray;box-sizing: border-box;top: 0;bottom: 0;left: 50%;z-index: 0;}#sk-container-id-5 div.sk-serial {display: flex;flex-direction: column;align-items: center;background-color: white;padding-right: 0.2em;padding-left: 0.2em;position: relative;}#sk-container-id-5 div.sk-item {position: relative;z-index: 1;}#sk-container-id-5 div.sk-parallel {display: flex;align-items: stretch;justify-content: center;background-color: white;position: relative;}#sk-container-id-5 div.sk-item::before, #sk-container-id-5 div.sk-parallel-item::before {content: \"\";position: absolute;border-left: 1px solid gray;box-sizing: border-box;top: 0;bottom: 0;left: 50%;z-index: -1;}#sk-container-id-5 div.sk-parallel-item {display: flex;flex-direction: column;z-index: 1;position: relative;background-color: white;}#sk-container-id-5 div.sk-parallel-item:first-child::after {align-self: flex-end;width: 50%;}#sk-container-id-5 div.sk-parallel-item:last-child::after {align-self: flex-start;width: 50%;}#sk-container-id-5 div.sk-parallel-item:only-child::after {width: 0;}#sk-container-id-5 div.sk-dashed-wrapped {border: 1px dashed gray;margin: 0 0.4em 0.5em 0.4em;box-sizing: border-box;padding-bottom: 0.4em;background-color: white;}#sk-container-id-5 div.sk-label label {font-family: monospace;font-weight: bold;display: inline-block;line-height: 1.2em;}#sk-container-id-5 div.sk-label-container {text-align: center;}#sk-container-id-5 div.sk-container {/* jupyter's `normalize.less` sets `[hidden] { display: none; }` but bootstrap.min.css set `[hidden] { display: none !important; }` so we also need the `!important` here to be able to override the default hidden behavior on the sphinx rendered scikit-learn.org. See: https://github.com/scikit-learn/scikit-learn/issues/21755 */display: inline-block !important;position: relative;}#sk-container-id-5 div.sk-text-repr-fallback {display: none;}</style><div id=\"sk-container-id-5\" class=\"sk-top-container\"><div class=\"sk-text-repr-fallback\"><pre>SVC(kernel=&#x27;linear&#x27;)</pre><b>In a Jupyter environment, please rerun this cell to show the HTML representation or trust the notebook. <br />On GitHub, the HTML representation is unable to render, please try loading this page with nbviewer.org.</b></div><div class=\"sk-container\" hidden><div class=\"sk-item\"><div class=\"sk-estimator sk-toggleable\"><input class=\"sk-toggleable__control sk-hidden--visually\" id=\"sk-estimator-id-5\" type=\"checkbox\" checked><label for=\"sk-estimator-id-5\" class=\"sk-toggleable__label sk-toggleable__label-arrow\">SVC</label><div class=\"sk-toggleable__content\"><pre>SVC(kernel=&#x27;linear&#x27;)</pre></div></div></div></div></div>"
            ]
          },
          "metadata": {},
          "execution_count": 75
        }
      ]
    },
    {
      "cell_type": "code",
      "source": [
        "# Train a Support Vector Machine classifier for Vi dataset\n",
        "svm_vi_classifier = SVC(kernel='linear')  # Linear kernel is generally sufficient for text data\n",
        "svm_vi_classifier.fit(X_vi_train, target_vi_train)"
      ],
      "metadata": {
        "colab": {
          "base_uri": "https://localhost:8080/",
          "height": 75
        },
        "id": "u9VUz5GQiNJP",
        "outputId": "aec35033-9745-4f19-f60c-e2022a8efb34"
      },
      "execution_count": 76,
      "outputs": [
        {
          "output_type": "execute_result",
          "data": {
            "text/plain": [
              "SVC(kernel='linear')"
            ],
            "text/html": [
              "<style>#sk-container-id-6 {color: black;background-color: white;}#sk-container-id-6 pre{padding: 0;}#sk-container-id-6 div.sk-toggleable {background-color: white;}#sk-container-id-6 label.sk-toggleable__label {cursor: pointer;display: block;width: 100%;margin-bottom: 0;padding: 0.3em;box-sizing: border-box;text-align: center;}#sk-container-id-6 label.sk-toggleable__label-arrow:before {content: \"▸\";float: left;margin-right: 0.25em;color: #696969;}#sk-container-id-6 label.sk-toggleable__label-arrow:hover:before {color: black;}#sk-container-id-6 div.sk-estimator:hover label.sk-toggleable__label-arrow:before {color: black;}#sk-container-id-6 div.sk-toggleable__content {max-height: 0;max-width: 0;overflow: hidden;text-align: left;background-color: #f0f8ff;}#sk-container-id-6 div.sk-toggleable__content pre {margin: 0.2em;color: black;border-radius: 0.25em;background-color: #f0f8ff;}#sk-container-id-6 input.sk-toggleable__control:checked~div.sk-toggleable__content {max-height: 200px;max-width: 100%;overflow: auto;}#sk-container-id-6 input.sk-toggleable__control:checked~label.sk-toggleable__label-arrow:before {content: \"▾\";}#sk-container-id-6 div.sk-estimator input.sk-toggleable__control:checked~label.sk-toggleable__label {background-color: #d4ebff;}#sk-container-id-6 div.sk-label input.sk-toggleable__control:checked~label.sk-toggleable__label {background-color: #d4ebff;}#sk-container-id-6 input.sk-hidden--visually {border: 0;clip: rect(1px 1px 1px 1px);clip: rect(1px, 1px, 1px, 1px);height: 1px;margin: -1px;overflow: hidden;padding: 0;position: absolute;width: 1px;}#sk-container-id-6 div.sk-estimator {font-family: monospace;background-color: #f0f8ff;border: 1px dotted black;border-radius: 0.25em;box-sizing: border-box;margin-bottom: 0.5em;}#sk-container-id-6 div.sk-estimator:hover {background-color: #d4ebff;}#sk-container-id-6 div.sk-parallel-item::after {content: \"\";width: 100%;border-bottom: 1px solid gray;flex-grow: 1;}#sk-container-id-6 div.sk-label:hover label.sk-toggleable__label {background-color: #d4ebff;}#sk-container-id-6 div.sk-serial::before {content: \"\";position: absolute;border-left: 1px solid gray;box-sizing: border-box;top: 0;bottom: 0;left: 50%;z-index: 0;}#sk-container-id-6 div.sk-serial {display: flex;flex-direction: column;align-items: center;background-color: white;padding-right: 0.2em;padding-left: 0.2em;position: relative;}#sk-container-id-6 div.sk-item {position: relative;z-index: 1;}#sk-container-id-6 div.sk-parallel {display: flex;align-items: stretch;justify-content: center;background-color: white;position: relative;}#sk-container-id-6 div.sk-item::before, #sk-container-id-6 div.sk-parallel-item::before {content: \"\";position: absolute;border-left: 1px solid gray;box-sizing: border-box;top: 0;bottom: 0;left: 50%;z-index: -1;}#sk-container-id-6 div.sk-parallel-item {display: flex;flex-direction: column;z-index: 1;position: relative;background-color: white;}#sk-container-id-6 div.sk-parallel-item:first-child::after {align-self: flex-end;width: 50%;}#sk-container-id-6 div.sk-parallel-item:last-child::after {align-self: flex-start;width: 50%;}#sk-container-id-6 div.sk-parallel-item:only-child::after {width: 0;}#sk-container-id-6 div.sk-dashed-wrapped {border: 1px dashed gray;margin: 0 0.4em 0.5em 0.4em;box-sizing: border-box;padding-bottom: 0.4em;background-color: white;}#sk-container-id-6 div.sk-label label {font-family: monospace;font-weight: bold;display: inline-block;line-height: 1.2em;}#sk-container-id-6 div.sk-label-container {text-align: center;}#sk-container-id-6 div.sk-container {/* jupyter's `normalize.less` sets `[hidden] { display: none; }` but bootstrap.min.css set `[hidden] { display: none !important; }` so we also need the `!important` here to be able to override the default hidden behavior on the sphinx rendered scikit-learn.org. See: https://github.com/scikit-learn/scikit-learn/issues/21755 */display: inline-block !important;position: relative;}#sk-container-id-6 div.sk-text-repr-fallback {display: none;}</style><div id=\"sk-container-id-6\" class=\"sk-top-container\"><div class=\"sk-text-repr-fallback\"><pre>SVC(kernel=&#x27;linear&#x27;)</pre><b>In a Jupyter environment, please rerun this cell to show the HTML representation or trust the notebook. <br />On GitHub, the HTML representation is unable to render, please try loading this page with nbviewer.org.</b></div><div class=\"sk-container\" hidden><div class=\"sk-item\"><div class=\"sk-estimator sk-toggleable\"><input class=\"sk-toggleable__control sk-hidden--visually\" id=\"sk-estimator-id-6\" type=\"checkbox\" checked><label for=\"sk-estimator-id-6\" class=\"sk-toggleable__label sk-toggleable__label-arrow\">SVC</label><div class=\"sk-toggleable__content\"><pre>SVC(kernel=&#x27;linear&#x27;)</pre></div></div></div></div></div>"
            ]
          },
          "metadata": {},
          "execution_count": 76
        }
      ]
    },
    {
      "cell_type": "code",
      "source": [
        "# Evaluate the classifier SVM for En dataset\n",
        "svm_predictions = svm_classifier.predict(X_test)\n",
        "print(classification_report(target_test, svm_predictions))"
      ],
      "metadata": {
        "colab": {
          "base_uri": "https://localhost:8080/"
        },
        "id": "KMVeCwG_OdZE",
        "outputId": "9834b613-007b-4952-cb5b-89205e5aa10e"
      },
      "execution_count": 78,
      "outputs": [
        {
          "output_type": "stream",
          "name": "stdout",
          "text": [
            "              precision    recall  f1-score   support\n",
            "\n",
            "    negative       0.68      0.66      0.67       457\n",
            "     neutral       0.52      0.58      0.55       400\n",
            "    positive       0.42      0.33      0.37       120\n",
            "\n",
            "    accuracy                           0.58       977\n",
            "   macro avg       0.54      0.52      0.53       977\n",
            "weighted avg       0.58      0.58      0.58       977\n",
            "\n"
          ]
        }
      ]
    },
    {
      "cell_type": "code",
      "source": [
        "# Evaluate the classifier SVM for Vi dataset\n",
        "svm_vi_predictions = svm_vi_classifier.predict(X_vi_test)\n",
        "print(classification_report(target_vi_test, svm_vi_predictions))"
      ],
      "metadata": {
        "colab": {
          "base_uri": "https://localhost:8080/"
        },
        "id": "YfZOw6nAihu2",
        "outputId": "1a01adbe-d8ef-492d-cd53-0b25dc9c5fa1"
      },
      "execution_count": 80,
      "outputs": [
        {
          "output_type": "stream",
          "name": "stdout",
          "text": [
            "              precision    recall  f1-score   support\n",
            "\n",
            "    negative       0.72      0.78      0.75       585\n",
            "     neutral       0.45      0.39      0.42       324\n",
            "    positive       0.32      0.31      0.31        68\n",
            "\n",
            "    accuracy                           0.62       977\n",
            "   macro avg       0.50      0.49      0.49       977\n",
            "weighted avg       0.60      0.62      0.61       977\n",
            "\n"
          ]
        }
      ]
    },
    {
      "cell_type": "markdown",
      "source": [
        "# Step 4: Decision Tree Implementation"
      ],
      "metadata": {
        "id": "coF-tuamRyXF"
      }
    },
    {
      "cell_type": "code",
      "source": [
        "from sklearn.tree import DecisionTreeClassifier\n",
        "\n",
        "# Train a Decision Tree classifier for En and Vi\n",
        "tree_classifier = DecisionTreeClassifier()\n",
        "tree_classifier.fit(X_train, target_train)\n",
        "tree_vi_classifier = DecisionTreeClassifier()\n",
        "tree_vi_classifier.fit(X_vi_train, target_vi_train)\n",
        "\n",
        "# Evaluate the classifier for En and Vi\n",
        "tree_predictions = tree_classifier.predict(X_test)\n",
        "print(classification_report(target_test, tree_predictions))\n",
        "tree_vi_predictions = tree_vi_classifier.predict(X_vi_test)\n",
        "print(classification_report(target_vi_test, tree_vi_predictions))"
      ],
      "metadata": {
        "colab": {
          "base_uri": "https://localhost:8080/"
        },
        "id": "xrQO8XbSRorN",
        "outputId": "f8c8db44-170f-4711-997d-db44adf7dffb"
      },
      "execution_count": 81,
      "outputs": [
        {
          "output_type": "stream",
          "name": "stdout",
          "text": [
            "              precision    recall  f1-score   support\n",
            "\n",
            "    negative       0.55      0.60      0.58       457\n",
            "     neutral       0.45      0.46      0.45       400\n",
            "    positive       0.25      0.16      0.19       120\n",
            "\n",
            "    accuracy                           0.49       977\n",
            "   macro avg       0.42      0.41      0.41       977\n",
            "weighted avg       0.47      0.49      0.48       977\n",
            "\n",
            "              precision    recall  f1-score   support\n",
            "\n",
            "    negative       0.68      0.70      0.69       585\n",
            "     neutral       0.43      0.41      0.42       324\n",
            "    positive       0.09      0.09      0.09        68\n",
            "\n",
            "    accuracy                           0.56       977\n",
            "   macro avg       0.40      0.40      0.40       977\n",
            "weighted avg       0.56      0.56      0.56       977\n",
            "\n"
          ]
        }
      ]
    },
    {
      "cell_type": "markdown",
      "source": [
        "# **The Results Summary**"
      ],
      "metadata": {
        "id": "-YWdtpEVW-HZ"
      }
    },
    {
      "cell_type": "markdown",
      "source": [
        "# Naive Bayes\n",
        " - Strengths: Best performance in predicting the negative class accurately, with the highest precision (0.71) and a decent recall (0.68).\n",
        " - Weaknesses: Very poor in identifying positive sentiments correctly with only 5% recall, indicating it rarely predicts positive sentiments accurately.\n",
        " - Overall: Naive Bayes shows a balanced performance in terms of precision and recall for negative and neutral classes but struggles significantly with the positive class.\n",
        "\n",
        "# SVM (Support Vector Machine)\n",
        "\n",
        " - Strengths: Shows a relatively better balance across all three classes than Naive Bayes. It achieved a higher recall for the positive class (0.33) compared to Naive Bayes.\n",
        " - Weaknesses: Overall, it has slightly lower precision and recall rates for negative and neutral classes compared to Naive Bayes.\n",
        " - Overall: SVM provides a more balanced performance across all classes but with a reduction in overall accuracy compared to Naive Bayes.\n",
        "\n",
        "# Decision Tree\n",
        "\n",
        " - Strengths: Unlike the other models, Decision Tree classifiers usually provide good interpretability, which might help understand features' influence.\n",
        " - Weaknesses: It performs worse in terms of both precision and recall for all classes. It especially has very low effectiveness for the positive class (0.17 recall).\n",
        " - Overall: This model has the lowest overall performance metrics, suggesting it might be overfitting or not capturing the necessary patterns in the data effectively.\n",
        "\n",
        "# Summary and Recommendations\n",
        "\n",
        " - Best Model for Negative Sentiments: Naive Bayes stands out for identifying negative sentiments more precisely and reliably.\n",
        " - Balanced Performance: SVM seems to offer a more balanced approach across all sentiments, especially in improving recognition of the positive sentiments, despite a slight decrease in precision for the negative and neutral sentiments.\n",
        " - Challenges with Positive Sentiments: All models perform relatively poorly in identifying positive sentiments correctly, with low recall across the board. This could be due to fewer training samples or less distinctive features in the positive class.\n",
        " - Overall Accuracy: In terms of overall accuracy, Naive Bayes leads (0.61), followed by SVM (0.58), and Decision Tree trails at (0.50). This suggests that while Naive Bayes might be slightly better at general sentiment classification, it significantly underperforms in identifying positive sentiments compared to SVM.\n",
        "\n",
        "# Recommendations\n",
        "\n",
        " - Feature Engineering: Refining features using techniques like TF-IDF or sentiment-specific embeddings might help improve model performance, particularly for the positive class.\n",
        " - Class Balancing: Techniques like SMOTE or targeted oversampling for the positive class could help improve model sensitivity to positive sentiments.\n",
        " - Model Tuning and Ensemble Methods: Fine-tuning model parameters or using ensemble methods could help enhance the strengths of each model and mitigate their weaknesses.\n",
        " - Exploration of Different Models: Given the unique challenges of sentiment analysis, exploring more complex models like LSTM or BERT for text processing might yield better results.\n",
        "\n",
        "These insights can guide further improvements in your sentiment analysis models, particularly focusing on enhancing the identification of positive sentiments and ensuring a balanced approach across different sentiments."
      ],
      "metadata": {
        "id": "0yz5Nu0DXDj4"
      }
    },
    {
      "cell_type": "markdown",
      "source": [
        "# Visualized Summary of En dataset"
      ],
      "metadata": {
        "id": "F-8S0ikSY1I7"
      }
    },
    {
      "cell_type": "code",
      "source": [
        "pip install matplotlib seaborn scikit-learn"
      ],
      "metadata": {
        "colab": {
          "base_uri": "https://localhost:8080/"
        },
        "id": "SBMxhErZY9Kr",
        "outputId": "804302b8-2476-4fb0-c217-286329592e30"
      },
      "execution_count": 58,
      "outputs": [
        {
          "output_type": "stream",
          "name": "stdout",
          "text": [
            "Requirement already satisfied: matplotlib in /usr/local/lib/python3.10/dist-packages (3.7.1)\n",
            "Requirement already satisfied: seaborn in /usr/local/lib/python3.10/dist-packages (0.13.1)\n",
            "Requirement already satisfied: scikit-learn in /usr/local/lib/python3.10/dist-packages (1.2.2)\n",
            "Requirement already satisfied: contourpy>=1.0.1 in /usr/local/lib/python3.10/dist-packages (from matplotlib) (1.2.1)\n",
            "Requirement already satisfied: cycler>=0.10 in /usr/local/lib/python3.10/dist-packages (from matplotlib) (0.12.1)\n",
            "Requirement already satisfied: fonttools>=4.22.0 in /usr/local/lib/python3.10/dist-packages (from matplotlib) (4.51.0)\n",
            "Requirement already satisfied: kiwisolver>=1.0.1 in /usr/local/lib/python3.10/dist-packages (from matplotlib) (1.4.5)\n",
            "Requirement already satisfied: numpy>=1.20 in /usr/local/lib/python3.10/dist-packages (from matplotlib) (1.25.2)\n",
            "Requirement already satisfied: packaging>=20.0 in /usr/local/lib/python3.10/dist-packages (from matplotlib) (24.0)\n",
            "Requirement already satisfied: pillow>=6.2.0 in /usr/local/lib/python3.10/dist-packages (from matplotlib) (9.4.0)\n",
            "Requirement already satisfied: pyparsing>=2.3.1 in /usr/local/lib/python3.10/dist-packages (from matplotlib) (3.1.2)\n",
            "Requirement already satisfied: python-dateutil>=2.7 in /usr/local/lib/python3.10/dist-packages (from matplotlib) (2.8.2)\n",
            "Requirement already satisfied: pandas>=1.2 in /usr/local/lib/python3.10/dist-packages (from seaborn) (2.0.3)\n",
            "Requirement already satisfied: scipy>=1.3.2 in /usr/local/lib/python3.10/dist-packages (from scikit-learn) (1.11.4)\n",
            "Requirement already satisfied: joblib>=1.1.1 in /usr/local/lib/python3.10/dist-packages (from scikit-learn) (1.4.0)\n",
            "Requirement already satisfied: threadpoolctl>=2.0.0 in /usr/local/lib/python3.10/dist-packages (from scikit-learn) (3.4.0)\n",
            "Requirement already satisfied: pytz>=2020.1 in /usr/local/lib/python3.10/dist-packages (from pandas>=1.2->seaborn) (2023.4)\n",
            "Requirement already satisfied: tzdata>=2022.1 in /usr/local/lib/python3.10/dist-packages (from pandas>=1.2->seaborn) (2024.1)\n",
            "Requirement already satisfied: six>=1.5 in /usr/local/lib/python3.10/dist-packages (from python-dateutil>=2.7->matplotlib) (1.16.0)\n"
          ]
        }
      ]
    },
    {
      "cell_type": "code",
      "source": [
        "# Load the libraries\n",
        "import numpy as np\n",
        "import matplotlib.pyplot as plt\n",
        "import seaborn as sns\n",
        "from sklearn.metrics import confusion_matrix\n",
        "\n",
        "y_true = target_test  # The actual labels\n",
        "predictions_nb = nb_predictions  # From Naive Bayes\n",
        "predictions_svm = svm_predictions  # From SVM\n",
        "predictions_dt = tree_predictions  # From Decision Tree"
      ],
      "metadata": {
        "id": "ZGoCN7O1XqAG"
      },
      "execution_count": 59,
      "outputs": []
    },
    {
      "cell_type": "code",
      "source": [
        "models = ['Naive Bayes', 'SVM', 'Decision Tree']\n",
        "predictions = [predictions_nb, predictions_svm, predictions_dt]"
      ],
      "metadata": {
        "id": "E9TA_zLsZSL4"
      },
      "execution_count": 60,
      "outputs": []
    },
    {
      "cell_type": "code",
      "source": [
        "# Plotting Confusion Matrices\n",
        "fig, axes = plt.subplots(1, 3, figsize=(18, 5), sharey=True)\n",
        "for i, (model, pred) in enumerate(zip(models, predictions)):\n",
        "    cm = confusion_matrix(y_true, pred)\n",
        "    sns.heatmap(cm, annot=True, fmt='d', cmap='Blues', ax=axes[i])\n",
        "    axes[i].set_title(f'Confusion Matrix: {model}')\n",
        "    axes[i].set_xlabel('Predicted Label')\n",
        "    axes[i].set_ylabel('True Label')\n",
        "    axes[i].set_xticklabels(['negative', 'neutral', 'positive'])\n",
        "    axes[i].set_yticklabels(['negative', 'neutral', 'positive'])\n",
        "plt.tight_layout()\n",
        "plt.show()"
      ],
      "metadata": {
        "colab": {
          "base_uri": "https://localhost:8080/",
          "height": 283
        },
        "id": "AgyoFO4kZnG-",
        "outputId": "a5c5dbe1-b4bd-4a24-bbae-bfb5e11525a2"
      },
      "execution_count": 61,
      "outputs": [
        {
          "output_type": "display_data",
          "data": {
            "text/plain": [
              "<Figure size 1800x500 with 6 Axes>"
            ],
            "image/png": "[encoded data removed]"
          },
          "metadata": {}
        }
      ]
    },
    {
      "cell_type": "markdown",
      "source": [
        "**Confusion Matrices:** Each matrix shows the counts of true vs. predicted labels, providing a direct visual feedback on where each model struggles or excels."
      ],
      "metadata": {
        "id": "yCiYHvZ-bsGV"
      }
    },
    {
      "cell_type": "code",
      "source": [
        "# Plotting F1-Scores for each class\n",
        "f1_scores = np.array([\n",
        "    [0.69, 0.60, 0.09],  # Naive Bayes\n",
        "    [0.67, 0.55, 0.37],  # SVM\n",
        "    [0.59, 0.47, 0.22]   # Decision Tree\n",
        "])\n",
        "x = np.arange(len(f1_scores[0]))  # the label locations\n",
        "width = 0.25  # the width of the bars\n",
        "\n",
        "fig, ax = plt.subplots(figsize=(10, 6))\n",
        "rects1 = ax.bar(x - width, f1_scores[0], width, label='Naive Bayes')\n",
        "rects2 = ax.bar(x, f1_scores[1], width, label='SVM')\n",
        "rects3 = ax.bar(x + width, f1_scores[2], width, label='Decision Tree')\n",
        "\n",
        "# Add some text for labels, title and custom x-axis tick labels, etc.\n",
        "ax.set_ylabel('F1-Score')\n",
        "ax.set_title('F1-Scores by class and model Tale of Kieu (English)')\n",
        "ax.set_xticks(x)\n",
        "ax.set_xticklabels(['Negative', 'Neutral', 'Positive'])\n",
        "ax.legend()\n",
        "\n",
        "ax.bar_label(rects1, padding=3)\n",
        "ax.bar_label(rects2, padding=3)\n",
        "ax.bar_label(rects3, padding=3)\n",
        "\n",
        "fig.tight_layout()\n",
        "plt.show()"
      ],
      "metadata": {
        "colab": {
          "base_uri": "https://localhost:8080/",
          "height": 588
        },
        "id": "xdDviR6LaT2a",
        "outputId": "9ec78397-650f-4b54-e874-8e2e25ee0ab4"
      },
      "execution_count": 88,
      "outputs": [
        {
          "output_type": "display_data",
          "data": {
            "text/plain": [
              "<Figure size 1000x600 with 1 Axes>"
            ],
            "image/png": "[encoded data removed]"
          },
          "metadata": {}
        }
      ]
    },
    {
      "cell_type": "markdown",
      "source": [
        "**Bar Chart:** The bar chart compares the F1-scores of the three models across each class, highlighting which model performs best for negative, neutral, and positive sentiments respectively."
      ],
      "metadata": {
        "id": "gyarZNw5bzbL"
      }
    },
    {
      "cell_type": "markdown",
      "source": [
        "# Visualized Summary of Vi dataset"
      ],
      "metadata": {
        "id": "zhJN_3R8ka3x"
      }
    },
    {
      "cell_type": "code",
      "source": [
        "y_vi_true = target_vi_test\n",
        "predictions_vi_nb = nb_vi_predictions\n",
        "predictions_vi_svm = svm_vi_predictions\n",
        "predictions_vi_dt = tree_vi_predictions"
      ],
      "metadata": {
        "id": "kCawx1pRjlUE"
      },
      "execution_count": 82,
      "outputs": []
    },
    {
      "cell_type": "code",
      "source": [
        "models_vi = ['Naive Bayes', 'SVM', 'Decision Tree']\n",
        "predictions_vi = [predictions_vi_nb, predictions_vi_svm, predictions_vi_dt]"
      ],
      "metadata": {
        "id": "PhW86XZbagiP"
      },
      "execution_count": 83,
      "outputs": []
    },
    {
      "cell_type": "code",
      "source": [
        "# Plotting Confusion Matrices for Vi dataset\n",
        "fig, axes = plt.subplots(1, 3, figsize=(18, 5), sharey=True)\n",
        "for i, (model_vi, pred) in enumerate(zip(models_vi, predictions_vi)):\n",
        "    cm = confusion_matrix(y_vi_true, pred)\n",
        "    sns.heatmap(cm, annot=True, fmt='d', cmap='Blues', ax=axes[i])\n",
        "    axes[i].set_title(f'Confusion Matrix: {model}')\n",
        "    axes[i].set_xlabel('Predicted Label')\n",
        "    axes[i].set_ylabel('True Label')\n",
        "    axes[i].set_xticklabels(['negative', 'neutral', 'positive'])\n",
        "    axes[i].set_yticklabels(['negative', 'neutral', 'positive'])\n",
        "plt.tight_layout()\n",
        "plt.show()"
      ],
      "metadata": {
        "colab": {
          "base_uri": "https://localhost:8080/",
          "height": 283
        },
        "id": "3f36dKaokRuP",
        "outputId": "d4b4f663-cf03-486a-bf9d-8826a18fcf94"
      },
      "execution_count": 85,
      "outputs": [
        {
          "output_type": "display_data",
          "data": {
            "text/plain": [
              "<Figure size 1800x500 with 6 Axes>"
            ],
            "image/png": "[encoded data removed]"
          },
          "metadata": {}
        }
      ]
    },
    {
      "cell_type": "code",
      "source": [
        "# Plotting F1-Scores for each class\n",
        "f1_scores = np.array([\n",
        "    [0.77, 0.46, 0.22],  # Naive Bayes\n",
        "    [0.75, 0.42, 0.31],  # SVM\n",
        "    [0.69, 0.42, 0.56]   # Decision Tree\n",
        "])\n",
        "x = np.arange(len(f1_scores[0]))  # the label locations\n",
        "width = 0.25  # the width of the bars\n",
        "\n",
        "fig, ax = plt.subplots(figsize=(10, 6))\n",
        "rects1 = ax.bar(x - width, f1_scores[0], width, label='Naive Bayes')\n",
        "rects2 = ax.bar(x, f1_scores[1], width, label='SVM')\n",
        "rects3 = ax.bar(x + width, f1_scores[2], width, label='Decision Tree')\n",
        "\n",
        "# Add some text for labels, title and custom x-axis tick labels, etc.\n",
        "ax.set_ylabel('F1-Score')\n",
        "ax.set_title('F1-Scores by class and model - Tale of Kieu (Vietnamese)')\n",
        "ax.set_xticks(x)\n",
        "ax.set_xticklabels(['Negative', 'Neutral', 'Positive'])\n",
        "ax.legend()\n",
        "\n",
        "ax.bar_label(rects1, padding=3)\n",
        "ax.bar_label(rects2, padding=3)\n",
        "ax.bar_label(rects3, padding=3)\n",
        "\n",
        "fig.tight_layout()\n",
        "plt.show()"
      ],
      "metadata": {
        "colab": {
          "base_uri": "https://localhost:8080/",
          "height": 588
        },
        "id": "bb36QO5Vk9p5",
        "outputId": "3da17fce-09ca-43cd-b1e0-0f81d5667bce"
      },
      "execution_count": 87,
      "outputs": [
        {
          "output_type": "display_data",
          "data": {
            "text/plain": [
              "<Figure size 1000x600 with 1 Axes>"
            ],
            "image/png": "[encoded data removed]"
          },
          "metadata": {}
        }
      ]
    },
    {
      "cell_type": "markdown",
      "source": [
        "# **DEEP LEARNING IMPLEMENTATION**"
      ],
      "metadata": {
        "id": "lCnrniTxqTKe"
      }
    },
    {
      "cell_type": "markdown",
      "source": [
        "# Step 1: Install Necessary Libraries"
      ],
      "metadata": {
        "id": "NN6qM7dzqazs"
      }
    },
    {
      "cell_type": "code",
      "source": [
        "!pip install tensorflow\n",
        "!pip install keras"
      ],
      "metadata": {
        "colab": {
          "base_uri": "https://localhost:8080/"
        },
        "id": "2bR9ak_CnPV7",
        "outputId": "fe1b14ad-f0e4-4d07-98a5-6a49ac34baba"
      },
      "execution_count": 89,
      "outputs": [
        {
          "output_type": "stream",
          "name": "stdout",
          "text": [
            "Requirement already satisfied: tensorflow in /usr/local/lib/python3.10/dist-packages (2.15.0)\n",
            "Requirement already satisfied: absl-py>=1.0.0 in /usr/local/lib/python3.10/dist-packages (from tensorflow) (1.4.0)\n",
            "Requirement already satisfied: astunparse>=1.6.0 in /usr/local/lib/python3.10/dist-packages (from tensorflow) (1.6.3)\n",
            "Requirement already satisfied: flatbuffers>=23.5.26 in /usr/local/lib/python3.10/dist-packages (from tensorflow) (24.3.25)\n",
            "Requirement already satisfied: gast!=0.5.0,!=0.5.1,!=0.5.2,>=0.2.1 in /usr/local/lib/python3.10/dist-packages (from tensorflow) (0.5.4)\n",
            "Requirement already satisfied: google-pasta>=0.1.1 in /usr/local/lib/python3.10/dist-packages (from tensorflow) (0.2.0)\n",
            "Requirement already satisfied: h5py>=2.9.0 in /usr/local/lib/python3.10/dist-packages (from tensorflow) (3.9.0)\n",
            "Requirement already satisfied: libclang>=13.0.0 in /usr/local/lib/python3.10/dist-packages (from tensorflow) (18.1.1)\n",
            "Requirement already satisfied: ml-dtypes~=0.2.0 in /usr/local/lib/python3.10/dist-packages (from tensorflow) (0.2.0)\n",
            "Requirement already satisfied: numpy<2.0.0,>=1.23.5 in /usr/local/lib/python3.10/dist-packages (from tensorflow) (1.25.2)\n",
            "Requirement already satisfied: opt-einsum>=2.3.2 in /usr/local/lib/python3.10/dist-packages (from tensorflow) (3.3.0)\n",
            "Requirement already satisfied: packaging in /usr/local/lib/python3.10/dist-packages (from tensorflow) (24.0)\n",
            "Requirement already satisfied: protobuf!=4.21.0,!=4.21.1,!=4.21.2,!=4.21.3,!=4.21.4,!=4.21.5,<5.0.0dev,>=3.20.3 in /usr/local/lib/python3.10/dist-packages (from tensorflow) (3.20.3)\n",
            "Requirement already satisfied: setuptools in /usr/local/lib/python3.10/dist-packages (from tensorflow) (67.7.2)\n",
            "Requirement already satisfied: six>=1.12.0 in /usr/local/lib/python3.10/dist-packages (from tensorflow) (1.16.0)\n",
            "Requirement already satisfied: termcolor>=1.1.0 in /usr/local/lib/python3.10/dist-packages (from tensorflow) (2.4.0)\n",
            "Requirement already satisfied: typing-extensions>=3.6.6 in /usr/local/lib/python3.10/dist-packages (from tensorflow) (4.11.0)\n",
            "Requirement already satisfied: wrapt<1.15,>=1.11.0 in /usr/local/lib/python3.10/dist-packages (from tensorflow) (1.14.1)\n",
            "Requirement already satisfied: tensorflow-io-gcs-filesystem>=0.23.1 in /usr/local/lib/python3.10/dist-packages (from tensorflow) (0.36.0)\n",
            "Requirement already satisfied: grpcio<2.0,>=1.24.3 in /usr/local/lib/python3.10/dist-packages (from tensorflow) (1.62.1)\n",
            "Requirement already satisfied: tensorboard<2.16,>=2.15 in /usr/local/lib/python3.10/dist-packages (from tensorflow) (2.15.2)\n",
            "Requirement already satisfied: tensorflow-estimator<2.16,>=2.15.0 in /usr/local/lib/python3.10/dist-packages (from tensorflow) (2.15.0)\n",
            "Requirement already satisfied: keras<2.16,>=2.15.0 in /usr/local/lib/python3.10/dist-packages (from tensorflow) (2.15.0)\n",
            "Requirement already satisfied: wheel<1.0,>=0.23.0 in /usr/local/lib/python3.10/dist-packages (from astunparse>=1.6.0->tensorflow) (0.43.0)\n",
            "Requirement already satisfied: google-auth<3,>=1.6.3 in /usr/local/lib/python3.10/dist-packages (from tensorboard<2.16,>=2.15->tensorflow) (2.27.0)\n",
            "Requirement already satisfied: google-auth-oauthlib<2,>=0.5 in /usr/local/lib/python3.10/dist-packages (from tensorboard<2.16,>=2.15->tensorflow) (1.2.0)\n",
            "Requirement already satisfied: markdown>=2.6.8 in /usr/local/lib/python3.10/dist-packages (from tensorboard<2.16,>=2.15->tensorflow) (3.6)\n",
            "Requirement already satisfied: requests<3,>=2.21.0 in /usr/local/lib/python3.10/dist-packages (from tensorboard<2.16,>=2.15->tensorflow) (2.31.0)\n",
            "Requirement already satisfied: tensorboard-data-server<0.8.0,>=0.7.0 in /usr/local/lib/python3.10/dist-packages (from tensorboard<2.16,>=2.15->tensorflow) (0.7.2)\n",
            "Requirement already satisfied: werkzeug>=1.0.1 in /usr/local/lib/python3.10/dist-packages (from tensorboard<2.16,>=2.15->tensorflow) (3.0.2)\n",
            "Requirement already satisfied: cachetools<6.0,>=2.0.0 in /usr/local/lib/python3.10/dist-packages (from google-auth<3,>=1.6.3->tensorboard<2.16,>=2.15->tensorflow) (5.3.3)\n",
            "Requirement already satisfied: pyasn1-modules>=0.2.1 in /usr/local/lib/python3.10/dist-packages (from google-auth<3,>=1.6.3->tensorboard<2.16,>=2.15->tensorflow) (0.4.0)\n",
            "Requirement already satisfied: rsa<5,>=3.1.4 in /usr/local/lib/python3.10/dist-packages (from google-auth<3,>=1.6.3->tensorboard<2.16,>=2.15->tensorflow) (4.9)\n",
            "Requirement already satisfied: requests-oauthlib>=0.7.0 in /usr/local/lib/python3.10/dist-packages (from google-auth-oauthlib<2,>=0.5->tensorboard<2.16,>=2.15->tensorflow) (1.3.1)\n",
            "Requirement already satisfied: charset-normalizer<4,>=2 in /usr/local/lib/python3.10/dist-packages (from requests<3,>=2.21.0->tensorboard<2.16,>=2.15->tensorflow) (3.3.2)\n",
            "Requirement already satisfied: idna<4,>=2.5 in /usr/local/lib/python3.10/dist-packages (from requests<3,>=2.21.0->tensorboard<2.16,>=2.15->tensorflow) (3.6)\n",
            "Requirement already satisfied: urllib3<3,>=1.21.1 in /usr/local/lib/python3.10/dist-packages (from requests<3,>=2.21.0->tensorboard<2.16,>=2.15->tensorflow) (2.0.7)\n",
            "Requirement already satisfied: certifi>=2017.4.17 in /usr/local/lib/python3.10/dist-packages (from requests<3,>=2.21.0->tensorboard<2.16,>=2.15->tensorflow) (2024.2.2)\n",
            "Requirement already satisfied: MarkupSafe>=2.1.1 in /usr/local/lib/python3.10/dist-packages (from werkzeug>=1.0.1->tensorboard<2.16,>=2.15->tensorflow) (2.1.5)\n",
            "Requirement already satisfied: pyasn1<0.7.0,>=0.4.6 in /usr/local/lib/python3.10/dist-packages (from pyasn1-modules>=0.2.1->google-auth<3,>=1.6.3->tensorboard<2.16,>=2.15->tensorflow) (0.6.0)\n",
            "Requirement already satisfied: oauthlib>=3.0.0 in /usr/local/lib/python3.10/dist-packages (from requests-oauthlib>=0.7.0->google-auth-oauthlib<2,>=0.5->tensorboard<2.16,>=2.15->tensorflow) (3.2.2)\n",
            "Requirement already satisfied: keras in /usr/local/lib/python3.10/dist-packages (2.15.0)\n"
          ]
        }
      ]
    },
    {
      "cell_type": "markdown",
      "source": [
        "# Step 2: Import libraries"
      ],
      "metadata": {
        "id": "6-OpQv7Yqt6i"
      }
    },
    {
      "cell_type": "code",
      "source": [
        "import tensorflow as tf\n",
        "from tensorflow.keras.models import Sequential\n",
        "from tensorflow.keras.layers import Dense, Embedding, LSTM, Dropout, Conv1D, MaxPooling1D, SimpleRNN\n",
        "from tensorflow.keras.preprocessing.text import Tokenizer\n",
        "from tensorflow.keras.preprocessing.sequence import pad_sequences"
      ],
      "metadata": {
        "id": "tmwadFn3qqfe"
      },
      "execution_count": 90,
      "outputs": []
    },
    {
      "cell_type": "markdown",
      "source": [
        "# Step 3: Load and Prepare Data\n",
        "Preprocess text data by tokenizing and padding it before feeding it into a neural network."
      ],
      "metadata": {
        "id": "Fsqkw83MrEHf"
      }
    },
    {
      "cell_type": "code",
      "source": [
        "# Tokenizing En data\n",
        "tokenizer = Tokenizer(num_words=50000)\n",
        "tokenizer.fit_on_texts(data)\n",
        "sequences = tokenizer.texts_to_sequences(data)"
      ],
      "metadata": {
        "id": "HY89mZKmrc7f"
      },
      "execution_count": 97,
      "outputs": []
    },
    {
      "cell_type": "code",
      "source": [
        "# Padding sequences to ensure uniform input size\n",
        "X = pad_sequences(sequences, maxlen=200)"
      ],
      "metadata": {
        "id": "9GNtFPGVsPyA"
      },
      "execution_count": 98,
      "outputs": []
    },
    {
      "cell_type": "code",
      "source": [
        "# Encoding target, here assuming binary classification (you may need to adjust this)\n",
        "y = pd.get_dummies(target).values"
      ],
      "metadata": {
        "id": "hvizoV4zsWRL"
      },
      "execution_count": 99,
      "outputs": []
    },
    {
      "cell_type": "code",
      "source": [
        "# Splitting data\n",
        "X_train, X_test, y_train, y_test = train_test_split(X, y, test_size=0.3, random_state=42)"
      ],
      "metadata": {
        "id": "R2zxp55CsY4-"
      },
      "execution_count": 100,
      "outputs": []
    },
    {
      "cell_type": "markdown",
      "source": [
        "# **Step 4: Define and Train Models**\n",
        "\n",
        "# CNN Model"
      ],
      "metadata": {
        "id": "okaIFkIXscsa"
      }
    },
    {
      "cell_type": "code",
      "source": [
        "# Step 1: Verify the number of unique classes in your target variable. For instance, if you are using pandas, you can use:\n",
        "# num_classes is 3 (e.g., 'negative', 'neutral', 'positive'):\n",
        "num_classes = target.nunique()\n",
        "print(\"Number of classes:\", num_classes)"
      ],
      "metadata": {
        "colab": {
          "base_uri": "https://localhost:8080/"
        },
        "id": "-olgpvNyujHJ",
        "outputId": "1e0e577d-f470-4e94-a780-8dc5ef7f3e08"
      },
      "execution_count": 104,
      "outputs": [
        {
          "output_type": "stream",
          "name": "stdout",
          "text": [
            "Number of classes: 3\n"
          ]
        }
      ]
    },
    {
      "cell_type": "code",
      "source": [
        "# Step 2: Update the output layer of your models to have a number of neurons equal to the number of classes.\n",
        "# Adjust the output layer in the CNN, LSTM, and RNN model definitions:\n",
        "# Update for CNN\n",
        "model_cnn = Sequential([\n",
        "    Embedding(input_dim=5000, output_dim=128, input_length=200),\n",
        "    Conv1D(filters=32, kernel_size=3, padding='same', activation='relu'),\n",
        "    MaxPooling1D(pool_size=2),\n",
        "    Dropout(0.25),\n",
        "    LSTM(64),\n",
        "    Dense(num_classes, activation='softmax')  # Adjusted number of output units\n",
        "])\n",
        "\n",
        "# Similarly update LSTM and RNN\n"
      ],
      "metadata": {
        "id": "Mm9L4IWYvU_8"
      },
      "execution_count": 105,
      "outputs": []
    },
    {
      "cell_type": "code",
      "source": [
        "# Step 3: Ensure your target labels are one-hot encoded properly.\n",
        "# This can be done using pandas' get_dummies() as shown previously, but double-check:\n",
        "y = pd.get_dummies(target).values\n",
        "print(\"Shape of y:\", y.shape)"
      ],
      "metadata": {
        "colab": {
          "base_uri": "https://localhost:8080/"
        },
        "id": "YZ_iuOcFvuZr",
        "outputId": "cd98e017-3e5c-4d17-e882-e5416a648595"
      },
      "execution_count": 106,
      "outputs": [
        {
          "output_type": "stream",
          "name": "stdout",
          "text": [
            "Shape of y: (3254, 3)\n"
          ]
        }
      ]
    },
    {
      "cell_type": "code",
      "source": [
        "# Step 4: Re-compile and train your models. Now that the output layer correctly matches the\n",
        "# shape of your labels, you should be able to train without encountering the shape mismatch error.\n",
        "\n",
        "# Step 5: Rerun your training:\n",
        "model_cnn.compile(loss='categorical_crossentropy', optimizer='adam', metrics=['accuracy'])\n",
        "model_cnn.fit(X_train, y_train, epochs=5, batch_size=64, validation_data=(X_test, y_test))"
      ],
      "metadata": {
        "colab": {
          "base_uri": "https://localhost:8080/"
        },
        "id": "cdl6A9skv4Gj",
        "outputId": "5d758dcf-1084-4db0-f064-4930ef9440a6"
      },
      "execution_count": 107,
      "outputs": [
        {
          "output_type": "stream",
          "name": "stdout",
          "text": [
            "Epoch 1/5\n",
            "36/36 [==============================] - 17s 196ms/step - loss: 0.9987 - accuracy: 0.4458 - val_loss: 0.9744 - val_accuracy: 0.4145\n",
            "Epoch 2/5\n",
            "36/36 [==============================] - 4s 120ms/step - loss: 0.9249 - accuracy: 0.5766 - val_loss: 0.8812 - val_accuracy: 0.5732\n",
            "Epoch 3/5\n",
            "36/36 [==============================] - 4s 120ms/step - loss: 0.6843 - accuracy: 0.6899 - val_loss: 0.7893 - val_accuracy: 0.6233\n",
            "Epoch 4/5\n",
            "36/36 [==============================] - 6s 161ms/step - loss: 0.3899 - accuracy: 0.8305 - val_loss: 0.8683 - val_accuracy: 0.6397\n",
            "Epoch 5/5\n",
            "36/36 [==============================] - 4s 116ms/step - loss: 0.1957 - accuracy: 0.9354 - val_loss: 1.0559 - val_accuracy: 0.6428\n"
          ]
        },
        {
          "output_type": "execute_result",
          "data": {
            "text/plain": [
              "<keras.src.callbacks.History at 0x79fb6adaaef0>"
            ]
          },
          "metadata": {},
          "execution_count": 107
        }
      ]
    },
    {
      "cell_type": "code",
      "source": [
        "from sklearn.metrics import classification_report\n",
        "\n",
        "# Predictions\n",
        "y_pred_cnn = model_cnn.predict(X_test)\n",
        "\n",
        "# Convert predictions to label indices for classification report\n",
        "y_pred_cnn = np.argmax(y_pred_cnn, axis=1)\n",
        "y_true = np.argmax(y_test, axis=1)\n",
        "\n",
        "# Classification reports\n",
        "print(\"CNN Classification Report:\\n\", classification_report(y_true, y_pred_cnn))"
      ],
      "metadata": {
        "colab": {
          "base_uri": "https://localhost:8080/"
        },
        "id": "7EG_QPvawAYU",
        "outputId": "68d26220-45cd-4625-8e36-1b27f74a9047"
      },
      "execution_count": 110,
      "outputs": [
        {
          "output_type": "stream",
          "name": "stdout",
          "text": [
            "31/31 [==============================] - 2s 33ms/step\n",
            "CNN Classification Report:\n",
            "               precision    recall  f1-score   support\n",
            "\n",
            "           0       0.74      0.69      0.71       457\n",
            "           1       0.56      0.68      0.62       400\n",
            "           2       0.58      0.35      0.44       120\n",
            "\n",
            "    accuracy                           0.64       977\n",
            "   macro avg       0.63      0.57      0.59       977\n",
            "weighted avg       0.65      0.64      0.64       977\n",
            "\n"
          ]
        }
      ]
    },
    {
      "cell_type": "markdown",
      "source": [
        "# LSTM"
      ],
      "metadata": {
        "id": "p1S071v57Ln5"
      }
    },
    {
      "cell_type": "code",
      "source": [
        "model_lstm = Sequential([\n",
        "    Embedding(input_dim=5000, output_dim=128, input_length=200),\n",
        "    Conv1D(filters=32, kernel_size=3, padding='same', activation='relu'),\n",
        "    MaxPooling1D(pool_size=2),\n",
        "    Dropout(0.25),\n",
        "    LSTM(64),\n",
        "    Dense(num_classes, activation='softmax')\n",
        "])"
      ],
      "metadata": {
        "id": "LWQM3jit7LRX"
      },
      "execution_count": 116,
      "outputs": []
    },
    {
      "cell_type": "code",
      "source": [
        "model_rnn = Sequential([\n",
        "    Embedding(input_dim=5000, output_dim=128, input_length=200),\n",
        "    Conv1D(filters=32, kernel_size=3, padding='same', activation='relu'),\n",
        "    MaxPooling1D(pool_size=2),\n",
        "    Dropout(0.25),\n",
        "    SimpleRNN(64),\n",
        "    Dense(num_classes, activation='softmax')\n",
        "])"
      ],
      "metadata": {
        "id": "wUrzUvxj7lo8"
      },
      "execution_count": 117,
      "outputs": []
    },
    {
      "cell_type": "code",
      "source": [
        "y_pred_lstm = model_lstm.predict(X_test)\n",
        "y_pred_rnn = model_rnn.predict(X_test)\n",
        "\n",
        "# convert predictions from probability to label index\n",
        "y_pred_lstm = np.argmax(y_pred_lstm, axis=1)\n",
        "y_pred_rnn = np.argmax(y_pred_rnn, axis=1)"
      ],
      "metadata": {
        "colab": {
          "base_uri": "https://localhost:8080/"
        },
        "id": "suq-kq4PwYQ9",
        "outputId": "8217721a-7bba-4f91-f94e-1f69ecabf67e"
      },
      "execution_count": 118,
      "outputs": [
        {
          "output_type": "stream",
          "name": "stdout",
          "text": [
            "31/31 [==============================] - 1s 20ms/step\n",
            "31/31 [==============================] - 1s 12ms/step\n"
          ]
        }
      ]
    },
    {
      "cell_type": "code",
      "source": [
        "#  Convert True Labels\n",
        "# If we y_test is in a one-hot encoded format, we'll need to convert it back to label\n",
        "# indices to use with classification_report.\n",
        "y_true = np.argmax(y_test, axis=1)"
      ],
      "metadata": {
        "id": "lWEtQUXa63rz"
      },
      "execution_count": 119,
      "outputs": []
    },
    {
      "cell_type": "code",
      "source": [
        "# Generate Classification Reports\n",
        "# Now, generate classification reports to see detailed performance metrics\n",
        "# such as precision, recall, and F1-score for each class.\n",
        "print(\"LSTM Classification Report:\\n\", classification_report(y_true, y_pred_lstm))\n",
        "print(\"RNN Classification Report:\\n\", classification_report(y_true, y_pred_rnn))"
      ],
      "metadata": {
        "colab": {
          "base_uri": "https://localhost:8080/"
        },
        "id": "jI1q333A8QNs",
        "outputId": "a3ab7a65-3266-49cb-dfef-5ccbff300051"
      },
      "execution_count": 120,
      "outputs": [
        {
          "output_type": "stream",
          "name": "stdout",
          "text": [
            "LSTM Classification Report:\n",
            "               precision    recall  f1-score   support\n",
            "\n",
            "           0       0.47      1.00      0.64       457\n",
            "           1       0.00      0.00      0.00       400\n",
            "           2       0.00      0.00      0.00       120\n",
            "\n",
            "    accuracy                           0.47       977\n",
            "   macro avg       0.16      0.33      0.21       977\n",
            "weighted avg       0.22      0.47      0.30       977\n",
            "\n",
            "RNN Classification Report:\n",
            "               precision    recall  f1-score   support\n",
            "\n",
            "           0       0.42      0.05      0.09       457\n",
            "           1       0.39      0.43      0.41       400\n",
            "           2       0.13      0.52      0.21       120\n",
            "\n",
            "    accuracy                           0.27       977\n",
            "   macro avg       0.31      0.33      0.24       977\n",
            "weighted avg       0.37      0.27      0.24       977\n",
            "\n"
          ]
        },
        {
          "output_type": "stream",
          "name": "stderr",
          "text": [
            "/usr/local/lib/python3.10/dist-packages/sklearn/metrics/_classification.py:1344: UndefinedMetricWarning: Precision and F-score are ill-defined and being set to 0.0 in labels with no predicted samples. Use `zero_division` parameter to control this behavior.\n",
            "  _warn_prf(average, modifier, msg_start, len(result))\n",
            "/usr/local/lib/python3.10/dist-packages/sklearn/metrics/_classification.py:1344: UndefinedMetricWarning: Precision and F-score are ill-defined and being set to 0.0 in labels with no predicted samples. Use `zero_division` parameter to control this behavior.\n",
            "  _warn_prf(average, modifier, msg_start, len(result))\n",
            "/usr/local/lib/python3.10/dist-packages/sklearn/metrics/_classification.py:1344: UndefinedMetricWarning: Precision and F-score are ill-defined and being set to 0.0 in labels with no predicted samples. Use `zero_division` parameter to control this behavior.\n",
            "  _warn_prf(average, modifier, msg_start, len(result))\n"
          ]
        }
      ]
    }
  ]
}