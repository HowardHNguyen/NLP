{
  "nbformat": 4,
  "nbformat_minor": 0,
  "metadata": {
    "colab": {
      "provenance": [],
      "machine_shape": "hm",
      "gpuType": "A100",
      "authorship_tag": "ABX9TyO9HyhUCoub52qGVfu0N7ai",
      "include_colab_link": true
    },
    "kernelspec": {
      "name": "python3",
      "display_name": "Python 3"
    },
    "language_info": {
      "name": "python"
    },
    "accelerator": "GPU"
  },
  "cells": [
    {
      "cell_type": "markdown",
      "metadata": {
        "id": "view-in-github",
        "colab_type": "text"
      },
      "source": [
        "<a href=\"https://colab.research.google.com/github/HowardHNguyen/Natural_Language_Processing-NLP/blob/main/Sentiment_Analysis_for_English_using_fastText_methodology.ipynb\" target=\"_parent\"><img src=\"https://colab.research.google.com/assets/colab-badge.svg\" alt=\"Open In Colab\"/></a>"
      ]
    },
    {
      "cell_type": "markdown",
      "source": [
        "# Create a Textblob object from the sentence"
      ],
      "metadata": {
        "id": "tPiFSS1sNIaH"
      }
    },
    {
      "cell_type": "code",
      "execution_count": 63,
      "metadata": {
        "id": "Ri99b-61Mdmd"
      },
      "outputs": [],
      "source": [
        "from textblob import TextBlob"
      ]
    },
    {
      "cell_type": "markdown",
      "source": [
        "# Define the Sentiment Polarity"
      ],
      "metadata": {
        "id": "semMqyPWNPUP"
      }
    },
    {
      "cell_type": "code",
      "source": [
        "def add_sentiment_polarity(text):\n",
        "  \"\"\"\n",
        "  This function analyzes the sentiment of a sentence and returns a tuple containing\n",
        "  the sentence and its sentiment polarity score.\n",
        "\n",
        "  Args:\n",
        "      text: The sentence to be analyzed.\n",
        "\n",
        "  Returns:\n",
        "      A tuple containing the sentence and its sentiment polarity score (float).\n",
        "  \"\"\"\n",
        "  # Create a TextBlob object from the text\n",
        "  sentiment_analysis = TextBlob(text)\n",
        "\n",
        "  # Get the sentiment polarity score (ranges from -1 to 1)\n",
        "  polarity_score = sentiment_analysis.polarity\n",
        "\n",
        "  return text, polarity_score"
      ],
      "metadata": {
        "id": "_z633G9AMj5C"
      },
      "execution_count": 64,
      "outputs": []
    },
    {
      "cell_type": "markdown",
      "source": [
        "# Loading the sentences - English version"
      ],
      "metadata": {
        "id": "yq4NCQgdNYxh"
      }
    },
    {
      "cell_type": "code",
      "source": [
        "# Example usage\n",
        "sentences = [\n",
        "\"The aroma of freshly brewed coffee filled the air.\",\n",
        "\"The vibrant colors of the autumn leaves captivated me.\",\n",
        "\"The city skyline shimmered under the moonlight.\",\n",
        "\"The sound of waves crashing against the shore soothed my soul.\",\n",
        "\"The children's laughter echoed through the park.\",\n",
        "\"The historical landmark stood as a testament to a bygone era.\",\n",
        "\"The winding path led us deep into the lush forest.\",\n",
        "\"The chef meticulously plated the exquisite dish.\",\n",
        "\"The audience erupted in applause as the curtain fell.\",\n",
        "\"The old rocking chair creaked gently on the porch.\",\n",
        "\"The aroma of freshly baked cookies wafted from the kitchen.\",\n",
        "\"The crisp mountain air invigorated my senses.\",\n",
        "\"The bustling marketplace was a kaleidoscope of sights and sounds.\",\n",
        "\"The tranquil lake reflected the beauty of the surrounding mountains.\",\n",
        "\"The children built sandcastles on the beach with glee.\",\n",
        "\"The majestic castle stood proudly atop the hill.\",\n",
        "\"The winding road snaked through the rolling hills.\",\n",
        "\"The talented artist captured the essence of the subject in a single stroke.\",\n",
        "\"The play was a heartwarming story about love and loss.\",\n",
        "\"The antique clock ticked rhythmically on the mantelpiece.\",\n",
        "\"The aroma of freshly cut grass filled the air.\",\n",
        "\"The breathtaking view from the mountain peak left me speechless.\",\n",
        "\"The vibrant coral reefs teemed with colorful fish.\",\n",
        "\"The tranquil melody of the piano filled the room.\",\n",
        "\"The children were engrossed in a game of hide-and-seek.\",\n",
        "\"The ancient ruins whispered tales of a forgotten civilization.\",\n",
        "\"The winding river flowed serenely through the valley.\",\n",
        "\"The skilled carpenter crafted a beautiful wooden chest.\",\n",
        "\"The suspenseful thriller kept me on the edge of my seat.\",\n",
        "\"The antique rocking horse brought back childhood memories.\"\n",
        "  # ... other sentences\n",
        "]"
      ],
      "metadata": {
        "id": "Ae5JmgmPMuB2"
      },
      "execution_count": 65,
      "outputs": []
    },
    {
      "cell_type": "code",
      "source": [
        "# Process each sentence and store the results\n",
        "sentiment_data = []\n",
        "for sentence in sentences:\n",
        "  text, score = add_sentiment_polarity(sentence)\n",
        "  sentiment_data.append((text, score))"
      ],
      "metadata": {
        "id": "6mDHG8qOM19G"
      },
      "execution_count": 66,
      "outputs": []
    },
    {
      "cell_type": "markdown",
      "source": [
        "# Returns a tuple containing the original sentence and the sentiment score."
      ],
      "metadata": {
        "id": "73ZbaMjHNrQG"
      }
    },
    {
      "cell_type": "code",
      "source": [
        "# Print the sentiment data with sentence and polarity score\n",
        "for text, score in sentiment_data:\n",
        "  print(f\"{text} - Sentiment Score: {score:.2f}\")"
      ],
      "metadata": {
        "colab": {
          "base_uri": "https://localhost:8080/"
        },
        "id": "ffSM36-qM4fM",
        "outputId": "7f5946b5-4cf6-4a12-aff6-3992ad5a3345"
      },
      "execution_count": 67,
      "outputs": [
        {
          "output_type": "stream",
          "name": "stdout",
          "text": [
            "The aroma of freshly brewed coffee filled the air. - Sentiment Score: 0.35\n",
            "The vibrant colors of the autumn leaves captivated me. - Sentiment Score: 0.17\n",
            "The city skyline shimmered under the moonlight. - Sentiment Score: 0.00\n",
            "The sound of waves crashing against the shore soothed my soul. - Sentiment Score: 0.40\n",
            "The children's laughter echoed through the park. - Sentiment Score: 0.00\n",
            "The historical landmark stood as a testament to a bygone era. - Sentiment Score: 0.00\n",
            "The winding path led us deep into the lush forest. - Sentiment Score: 0.05\n",
            "The chef meticulously plated the exquisite dish. - Sentiment Score: 1.00\n",
            "The audience erupted in applause as the curtain fell. - Sentiment Score: 0.00\n",
            "The old rocking chair creaked gently on the porch. - Sentiment Score: 0.15\n",
            "The aroma of freshly baked cookies wafted from the kitchen. - Sentiment Score: 0.30\n",
            "The crisp mountain air invigorated my senses. - Sentiment Score: 0.25\n",
            "The bustling marketplace was a kaleidoscope of sights and sounds. - Sentiment Score: 0.00\n",
            "The tranquil lake reflected the beauty of the surrounding mountains. - Sentiment Score: 0.00\n",
            "The children built sandcastles on the beach with glee. - Sentiment Score: 0.00\n",
            "The majestic castle stood proudly atop the hill. - Sentiment Score: 0.80\n",
            "The winding road snaked through the rolling hills. - Sentiment Score: 0.00\n",
            "The talented artist captured the essence of the subject in a single stroke. - Sentiment Score: 0.15\n",
            "The play was a heartwarming story about love and loss. - Sentiment Score: 0.50\n",
            "The antique clock ticked rhythmically on the mantelpiece. - Sentiment Score: 0.00\n",
            "The aroma of freshly cut grass filled the air. - Sentiment Score: 0.35\n",
            "The breathtaking view from the mountain peak left me speechless. - Sentiment Score: 0.50\n",
            "The vibrant coral reefs teemed with colorful fish. - Sentiment Score: 0.23\n",
            "The tranquil melody of the piano filled the room. - Sentiment Score: 0.40\n",
            "The children were engrossed in a game of hide-and-seek. - Sentiment Score: -0.40\n",
            "The ancient ruins whispered tales of a forgotten civilization. - Sentiment Score: -0.15\n",
            "The winding river flowed serenely through the valley. - Sentiment Score: 0.00\n",
            "The skilled carpenter crafted a beautiful wooden chest. - Sentiment Score: 0.45\n",
            "The suspenseful thriller kept me on the edge of my seat. - Sentiment Score: 0.00\n",
            "The antique rocking horse brought back childhood memories. - Sentiment Score: 0.00\n"
          ]
        }
      ]
    },
    {
      "cell_type": "markdown",
      "source": [
        "# **ANALYSIS FOR ENGLISH VERSION**"
      ],
      "metadata": {
        "id": "MA1Pd8SVP3sI"
      }
    },
    {
      "cell_type": "code",
      "source": [
        "!pip install fasttext"
      ],
      "metadata": {
        "colab": {
          "base_uri": "https://localhost:8080/"
        },
        "id": "uSfCA5DqfxtP",
        "outputId": "298d483d-c192-4621-a0db-40df0976826e"
      },
      "execution_count": 68,
      "outputs": [
        {
          "output_type": "stream",
          "name": "stdout",
          "text": [
            "Requirement already satisfied: fasttext in /usr/local/lib/python3.10/dist-packages (0.9.2)\n",
            "Requirement already satisfied: pybind11>=2.2 in /usr/local/lib/python3.10/dist-packages (from fasttext) (2.12.0)\n",
            "Requirement already satisfied: setuptools>=0.7.0 in /usr/local/lib/python3.10/dist-packages (from fasttext) (67.7.2)\n",
            "Requirement already satisfied: numpy in /usr/local/lib/python3.10/dist-packages (from fasttext) (1.25.2)\n"
          ]
        }
      ]
    },
    {
      "cell_type": "code",
      "source": [
        "#from vncorenlp import VnCoreNLP\n",
        "import fasttext"
      ],
      "metadata": {
        "id": "4Z06JzP5fxm4"
      },
      "execution_count": 69,
      "outputs": []
    },
    {
      "cell_type": "code",
      "source": [
        "from google.colab import drive\n",
        "drive.mount('/content/drive')"
      ],
      "metadata": {
        "colab": {
          "base_uri": "https://localhost:8080/"
        },
        "id": "uUUx7668fxf1",
        "outputId": "f39f1c82-3f35-4fd7-d26a-ddcb3791ff51"
      },
      "execution_count": 70,
      "outputs": [
        {
          "output_type": "stream",
          "name": "stdout",
          "text": [
            "Drive already mounted at /content/drive; to attempt to forcibly remount, call drive.mount(\"/content/drive\", force_remount=True).\n"
          ]
        }
      ]
    },
    {
      "cell_type": "markdown",
      "source": [
        "**Word vectors for 157 languages**\n",
        "\n",
        "https://fasttext.cc/docs/en/crawl-vectors.html"
      ],
      "metadata": {
        "id": "NPe3hzUbmIjB"
      }
    },
    {
      "cell_type": "code",
      "source": [
        "import fasttext.util\n",
        "fasttext.util.download_model('en', if_exists='ignore')"
      ],
      "metadata": {
        "colab": {
          "base_uri": "https://localhost:8080/",
          "height": 35
        },
        "id": "a1bI_4sZltil",
        "outputId": "5f6c7a24-311d-41b0-9c9f-b49386805bdb"
      },
      "execution_count": 71,
      "outputs": [
        {
          "output_type": "execute_result",
          "data": {
            "text/plain": [
              "'cc.en.300.bin'"
            ],
            "application/vnd.google.colaboratory.intrinsic+json": {
              "type": "string"
            }
          },
          "metadata": {},
          "execution_count": 71
        }
      ]
    },
    {
      "cell_type": "code",
      "source": [
        "# Load pre-trained FastText model for sentiment analysis - English version\n",
        "model = fasttext.load_model('cc.en.300.bin')"
      ],
      "metadata": {
        "id": "SKwEYYIBwQ8u",
        "outputId": "839f9bd7-3522-49f5-f4c9-267e019348ac",
        "colab": {
          "base_uri": "https://localhost:8080/"
        }
      },
      "execution_count": 72,
      "outputs": [
        {
          "output_type": "stream",
          "name": "stderr",
          "text": [
            "Warning : `load_model` does not return WordVectorModel or SupervisedModel any more, but a `FastText` object which is very similar.\n"
          ]
        }
      ]
    },
    {
      "cell_type": "code",
      "source": [
        "model.get_dimension()"
      ],
      "metadata": {
        "id": "8N2aYGnfvZxa",
        "outputId": "02b1e040-3dbd-42c9-9c4f-787800cea244",
        "colab": {
          "base_uri": "https://localhost:8080/"
        }
      },
      "execution_count": 73,
      "outputs": [
        {
          "output_type": "execute_result",
          "data": {
            "text/plain": [
              "300"
            ]
          },
          "metadata": {},
          "execution_count": 73
        }
      ]
    },
    {
      "cell_type": "code",
      "source": [
        "# Load pre-trained FastText model for sentiment analysis\n",
        "# Replace '/path/to/pretrained_model.bin' with the path to your pre-trained FastText model\n",
        "#model_path = 'https://dl.fbaipublicfiles.com/fasttext/vectors-crawl/cc.vi.300.bin'\n",
        "#model = fasttext.load_model(model_path)"
      ],
      "metadata": {
        "id": "kSmABE_ggqSh"
      },
      "execution_count": 74,
      "outputs": []
    },
    {
      "cell_type": "code",
      "source": [
        "# Perform sentiment analysis\n",
        "sentiment_labels = []\n",
        "for sentence in sentences:\n",
        "    # Get sentence embedding\n",
        "    sentence_embedding = model.get_sentence_vector(sentence)\n",
        "    # Perform classification based on the embedding (example: positive if the first dimension is greater than 0)\n",
        "    if sentence_embedding[0] > 0:\n",
        "        sentiment_labels.append('positive')\n",
        "    else:\n",
        "        sentiment_labels.append('negative')"
      ],
      "metadata": {
        "id": "5uaNlFBU3j8m"
      },
      "execution_count": 75,
      "outputs": []
    },
    {
      "cell_type": "code",
      "source": [
        "# Display sentiment labels for each sentence\n",
        "for sentence, label in zip(sentences, sentiment_labels):\n",
        "    print(\"Sentence:\", sentence)\n",
        "    print(\"Sentiment:\", label)\n",
        "    print()"
      ],
      "metadata": {
        "id": "NBuBEpdBv0jv",
        "outputId": "b0822fef-5091-4325-b3d6-f98fd24760c0",
        "colab": {
          "base_uri": "https://localhost:8080/"
        }
      },
      "execution_count": 76,
      "outputs": [
        {
          "output_type": "stream",
          "name": "stdout",
          "text": [
            "Sentence: The aroma of freshly brewed coffee filled the air.\n",
            "Sentiment: negative\n",
            "\n",
            "Sentence: The vibrant colors of the autumn leaves captivated me.\n",
            "Sentiment: negative\n",
            "\n",
            "Sentence: The city skyline shimmered under the moonlight.\n",
            "Sentiment: negative\n",
            "\n",
            "Sentence: The sound of waves crashing against the shore soothed my soul.\n",
            "Sentiment: positive\n",
            "\n",
            "Sentence: The children's laughter echoed through the park.\n",
            "Sentiment: negative\n",
            "\n",
            "Sentence: The historical landmark stood as a testament to a bygone era.\n",
            "Sentiment: negative\n",
            "\n",
            "Sentence: The winding path led us deep into the lush forest.\n",
            "Sentiment: negative\n",
            "\n",
            "Sentence: The chef meticulously plated the exquisite dish.\n",
            "Sentiment: negative\n",
            "\n",
            "Sentence: The audience erupted in applause as the curtain fell.\n",
            "Sentiment: negative\n",
            "\n",
            "Sentence: The old rocking chair creaked gently on the porch.\n",
            "Sentiment: positive\n",
            "\n",
            "Sentence: The aroma of freshly baked cookies wafted from the kitchen.\n",
            "Sentiment: negative\n",
            "\n",
            "Sentence: The crisp mountain air invigorated my senses.\n",
            "Sentiment: negative\n",
            "\n",
            "Sentence: The bustling marketplace was a kaleidoscope of sights and sounds.\n",
            "Sentiment: positive\n",
            "\n",
            "Sentence: The tranquil lake reflected the beauty of the surrounding mountains.\n",
            "Sentiment: positive\n",
            "\n",
            "Sentence: The children built sandcastles on the beach with glee.\n",
            "Sentiment: positive\n",
            "\n",
            "Sentence: The majestic castle stood proudly atop the hill.\n",
            "Sentiment: negative\n",
            "\n",
            "Sentence: The winding road snaked through the rolling hills.\n",
            "Sentiment: negative\n",
            "\n",
            "Sentence: The talented artist captured the essence of the subject in a single stroke.\n",
            "Sentiment: negative\n",
            "\n",
            "Sentence: The play was a heartwarming story about love and loss.\n",
            "Sentiment: positive\n",
            "\n",
            "Sentence: The antique clock ticked rhythmically on the mantelpiece.\n",
            "Sentiment: positive\n",
            "\n",
            "Sentence: The aroma of freshly cut grass filled the air.\n",
            "Sentiment: negative\n",
            "\n",
            "Sentence: The breathtaking view from the mountain peak left me speechless.\n",
            "Sentiment: negative\n",
            "\n",
            "Sentence: The vibrant coral reefs teemed with colorful fish.\n",
            "Sentiment: positive\n",
            "\n",
            "Sentence: The tranquil melody of the piano filled the room.\n",
            "Sentiment: negative\n",
            "\n",
            "Sentence: The children were engrossed in a game of hide-and-seek.\n",
            "Sentiment: positive\n",
            "\n",
            "Sentence: The ancient ruins whispered tales of a forgotten civilization.\n",
            "Sentiment: negative\n",
            "\n",
            "Sentence: The winding river flowed serenely through the valley.\n",
            "Sentiment: negative\n",
            "\n",
            "Sentence: The skilled carpenter crafted a beautiful wooden chest.\n",
            "Sentiment: positive\n",
            "\n",
            "Sentence: The suspenseful thriller kept me on the edge of my seat.\n",
            "Sentiment: negative\n",
            "\n",
            "Sentence: The antique rocking horse brought back childhood memories.\n",
            "Sentiment: positive\n",
            "\n"
          ]
        }
      ]
    },
    {
      "cell_type": "markdown",
      "source": [
        "# Add Sentiment Polarity Scores to English dataframe"
      ],
      "metadata": {
        "id": "60451Cux_CA1"
      }
    },
    {
      "cell_type": "code",
      "source": [
        "import pandas as pd\n",
        "import fasttext"
      ],
      "metadata": {
        "id": "xNpX9facgqOv"
      },
      "execution_count": 77,
      "outputs": []
    },
    {
      "cell_type": "code",
      "source": [
        "# load the pretrain English model from fastText\n",
        "model = fasttext.load_model('cc.en.300.bin')"
      ],
      "metadata": {
        "id": "R6kUhc0i_ap3",
        "outputId": "840d5035-c488-4b58-ec8f-30418622f1a3",
        "colab": {
          "base_uri": "https://localhost:8080/"
        }
      },
      "execution_count": 78,
      "outputs": [
        {
          "output_type": "stream",
          "name": "stderr",
          "text": [
            "Warning : `load_model` does not return WordVectorModel or SupervisedModel any more, but a `FastText` object which is very similar.\n"
          ]
        }
      ]
    },
    {
      "cell_type": "code",
      "source": [
        "# load the English text file\n",
        "en_text_file =  pd.read_csv('/content/drive/MyDrive/data/en_text_100.csv')"
      ],
      "metadata": {
        "id": "xRI-4hgm_ajI"
      },
      "execution_count": 79,
      "outputs": []
    },
    {
      "cell_type": "code",
      "source": [
        "# calculate sentiment polarity scores for each sentence\n",
        "sentiment_polarity_scores = []\n",
        "for sentence in en_text_file['sentence']:\n",
        "    # Get sentence embedding\n",
        "    sentence_embedding = model.get_sentence_vector(sentence)\n",
        "    # Calculate polarity score (e.g., using the dot product of the embedding with a positive/negative vector)\n",
        "    # For simplicity, let's use the dot product with a positive/negative unit vector\n",
        "    positive_vector = [1, 0, 0]  # Positive unit vector\n",
        "    negative_vector = [-1, 0, 0]  # Negative unit vector\n",
        "    positive_score = sum(x * y for x, y in zip(sentence_embedding, positive_vector))\n",
        "    negative_score = sum(x * y for x, y in zip(sentence_embedding, negative_vector))\n",
        "    polarity_score = positive_score - negative_score\n",
        "    sentiment_polarity_scores.append(polarity_score)"
      ],
      "metadata": {
        "id": "8MHykWMy_Bp8"
      },
      "execution_count": 80,
      "outputs": []
    },
    {
      "cell_type": "code",
      "source": [
        "# add sentiment polarity scores as a new column in the dataframe\n",
        "en_text_file['sentiment_polarity_score'] = sentiment_polarity_scores"
      ],
      "metadata": {
        "id": "IVTF63ke_BmZ"
      },
      "execution_count": 81,
      "outputs": []
    },
    {
      "cell_type": "code",
      "source": [
        "en_text_file.head()"
      ],
      "metadata": {
        "id": "L1-kT1bSA__L",
        "outputId": "9bbc78a6-e90b-4108-bd64-78ea08ce32b2",
        "colab": {
          "base_uri": "https://localhost:8080/",
          "height": 206
        }
      },
      "execution_count": 82,
      "outputs": [
        {
          "output_type": "execute_result",
          "data": {
            "text/plain": [
              "                                            sentence  sentiment  \\\n",
              "0  The aroma of freshly brewed coffee filled the ...        NaN   \n",
              "1  The vibrant colors of the autumn leaves captiv...        NaN   \n",
              "2    The city skyline shimmered under the moonlight.        NaN   \n",
              "3  The sound of waves crashing against the shore ...        NaN   \n",
              "4   The children's laughter echoed through the park.        NaN   \n",
              "\n",
              "   sentiment_polarity_score  \n",
              "0                 -0.037620  \n",
              "1                 -0.004688  \n",
              "2                 -0.070902  \n",
              "3                  0.005799  \n",
              "4                 -0.013347  "
            ],
            "text/html": [
              "\n",
              "  <div id=\"df-8bbea5bf-aae3-4cf6-aa4e-5d399d774ad3\" class=\"colab-df-container\">\n",
              "    <div>\n",
              "<style scoped>\n",
              "    .dataframe tbody tr th:only-of-type {\n",
              "        vertical-align: middle;\n",
              "    }\n",
              "\n",
              "    .dataframe tbody tr th {\n",
              "        vertical-align: top;\n",
              "    }\n",
              "\n",
              "    .dataframe thead th {\n",
              "        text-align: right;\n",
              "    }\n",
              "</style>\n",
              "<table border=\"1\" class=\"dataframe\">\n",
              "  <thead>\n",
              "    <tr style=\"text-align: right;\">\n",
              "      <th></th>\n",
              "      <th>sentence</th>\n",
              "      <th>sentiment</th>\n",
              "      <th>sentiment_polarity_score</th>\n",
              "    </tr>\n",
              "  </thead>\n",
              "  <tbody>\n",
              "    <tr>\n",
              "      <th>0</th>\n",
              "      <td>The aroma of freshly brewed coffee filled the ...</td>\n",
              "      <td>NaN</td>\n",
              "      <td>-0.037620</td>\n",
              "    </tr>\n",
              "    <tr>\n",
              "      <th>1</th>\n",
              "      <td>The vibrant colors of the autumn leaves captiv...</td>\n",
              "      <td>NaN</td>\n",
              "      <td>-0.004688</td>\n",
              "    </tr>\n",
              "    <tr>\n",
              "      <th>2</th>\n",
              "      <td>The city skyline shimmered under the moonlight.</td>\n",
              "      <td>NaN</td>\n",
              "      <td>-0.070902</td>\n",
              "    </tr>\n",
              "    <tr>\n",
              "      <th>3</th>\n",
              "      <td>The sound of waves crashing against the shore ...</td>\n",
              "      <td>NaN</td>\n",
              "      <td>0.005799</td>\n",
              "    </tr>\n",
              "    <tr>\n",
              "      <th>4</th>\n",
              "      <td>The children's laughter echoed through the park.</td>\n",
              "      <td>NaN</td>\n",
              "      <td>-0.013347</td>\n",
              "    </tr>\n",
              "  </tbody>\n",
              "</table>\n",
              "</div>\n",
              "    <div class=\"colab-df-buttons\">\n",
              "\n",
              "  <div class=\"colab-df-container\">\n",
              "    <button class=\"colab-df-convert\" onclick=\"convertToInteractive('df-8bbea5bf-aae3-4cf6-aa4e-5d399d774ad3')\"\n",
              "            title=\"Convert this dataframe to an interactive table.\"\n",
              "            style=\"display:none;\">\n",
              "\n",
              "  <svg xmlns=\"http://www.w3.org/2000/svg\" height=\"24px\" viewBox=\"0 -960 960 960\">\n",
              "    <path d=\"M120-120v-720h720v720H120Zm60-500h600v-160H180v160Zm220 220h160v-160H400v160Zm0 220h160v-160H400v160ZM180-400h160v-160H180v160Zm440 0h160v-160H620v160ZM180-180h160v-160H180v160Zm440 0h160v-160H620v160Z\"/>\n",
              "  </svg>\n",
              "    </button>\n",
              "\n",
              "  <style>\n",
              "    .colab-df-container {\n",
              "      display:flex;\n",
              "      gap: 12px;\n",
              "    }\n",
              "\n",
              "    .colab-df-convert {\n",
              "      background-color: #E8F0FE;\n",
              "      border: none;\n",
              "      border-radius: 50%;\n",
              "      cursor: pointer;\n",
              "      display: none;\n",
              "      fill: #1967D2;\n",
              "      height: 32px;\n",
              "      padding: 0 0 0 0;\n",
              "      width: 32px;\n",
              "    }\n",
              "\n",
              "    .colab-df-convert:hover {\n",
              "      background-color: #E2EBFA;\n",
              "      box-shadow: 0px 1px 2px rgba(60, 64, 67, 0.3), 0px 1px 3px 1px rgba(60, 64, 67, 0.15);\n",
              "      fill: #174EA6;\n",
              "    }\n",
              "\n",
              "    .colab-df-buttons div {\n",
              "      margin-bottom: 4px;\n",
              "    }\n",
              "\n",
              "    [theme=dark] .colab-df-convert {\n",
              "      background-color: #3B4455;\n",
              "      fill: #D2E3FC;\n",
              "    }\n",
              "\n",
              "    [theme=dark] .colab-df-convert:hover {\n",
              "      background-color: #434B5C;\n",
              "      box-shadow: 0px 1px 3px 1px rgba(0, 0, 0, 0.15);\n",
              "      filter: drop-shadow(0px 1px 2px rgba(0, 0, 0, 0.3));\n",
              "      fill: #FFFFFF;\n",
              "    }\n",
              "  </style>\n",
              "\n",
              "    <script>\n",
              "      const buttonEl =\n",
              "        document.querySelector('#df-8bbea5bf-aae3-4cf6-aa4e-5d399d774ad3 button.colab-df-convert');\n",
              "      buttonEl.style.display =\n",
              "        google.colab.kernel.accessAllowed ? 'block' : 'none';\n",
              "\n",
              "      async function convertToInteractive(key) {\n",
              "        const element = document.querySelector('#df-8bbea5bf-aae3-4cf6-aa4e-5d399d774ad3');\n",
              "        const dataTable =\n",
              "          await google.colab.kernel.invokeFunction('convertToInteractive',\n",
              "                                                    [key], {});\n",
              "        if (!dataTable) return;\n",
              "\n",
              "        const docLinkHtml = 'Like what you see? Visit the ' +\n",
              "          '<a target=\"_blank\" href=https://colab.research.google.com/notebooks/data_table.ipynb>data table notebook</a>'\n",
              "          + ' to learn more about interactive tables.';\n",
              "        element.innerHTML = '';\n",
              "        dataTable['output_type'] = 'display_data';\n",
              "        await google.colab.output.renderOutput(dataTable, element);\n",
              "        const docLink = document.createElement('div');\n",
              "        docLink.innerHTML = docLinkHtml;\n",
              "        element.appendChild(docLink);\n",
              "      }\n",
              "    </script>\n",
              "  </div>\n",
              "\n",
              "\n",
              "<div id=\"df-0a145f2a-b61a-47fb-a74c-a21a7832572d\">\n",
              "  <button class=\"colab-df-quickchart\" onclick=\"quickchart('df-0a145f2a-b61a-47fb-a74c-a21a7832572d')\"\n",
              "            title=\"Suggest charts\"\n",
              "            style=\"display:none;\">\n",
              "\n",
              "<svg xmlns=\"http://www.w3.org/2000/svg\" height=\"24px\"viewBox=\"0 0 24 24\"\n",
              "     width=\"24px\">\n",
              "    <g>\n",
              "        <path d=\"M19 3H5c-1.1 0-2 .9-2 2v14c0 1.1.9 2 2 2h14c1.1 0 2-.9 2-2V5c0-1.1-.9-2-2-2zM9 17H7v-7h2v7zm4 0h-2V7h2v10zm4 0h-2v-4h2v4z\"/>\n",
              "    </g>\n",
              "</svg>\n",
              "  </button>\n",
              "\n",
              "<style>\n",
              "  .colab-df-quickchart {\n",
              "      --bg-color: #E8F0FE;\n",
              "      --fill-color: #1967D2;\n",
              "      --hover-bg-color: #E2EBFA;\n",
              "      --hover-fill-color: #174EA6;\n",
              "      --disabled-fill-color: #AAA;\n",
              "      --disabled-bg-color: #DDD;\n",
              "  }\n",
              "\n",
              "  [theme=dark] .colab-df-quickchart {\n",
              "      --bg-color: #3B4455;\n",
              "      --fill-color: #D2E3FC;\n",
              "      --hover-bg-color: #434B5C;\n",
              "      --hover-fill-color: #FFFFFF;\n",
              "      --disabled-bg-color: #3B4455;\n",
              "      --disabled-fill-color: #666;\n",
              "  }\n",
              "\n",
              "  .colab-df-quickchart {\n",
              "    background-color: var(--bg-color);\n",
              "    border: none;\n",
              "    border-radius: 50%;\n",
              "    cursor: pointer;\n",
              "    display: none;\n",
              "    fill: var(--fill-color);\n",
              "    height: 32px;\n",
              "    padding: 0;\n",
              "    width: 32px;\n",
              "  }\n",
              "\n",
              "  .colab-df-quickchart:hover {\n",
              "    background-color: var(--hover-bg-color);\n",
              "    box-shadow: 0 1px 2px rgba(60, 64, 67, 0.3), 0 1px 3px 1px rgba(60, 64, 67, 0.15);\n",
              "    fill: var(--button-hover-fill-color);\n",
              "  }\n",
              "\n",
              "  .colab-df-quickchart-complete:disabled,\n",
              "  .colab-df-quickchart-complete:disabled:hover {\n",
              "    background-color: var(--disabled-bg-color);\n",
              "    fill: var(--disabled-fill-color);\n",
              "    box-shadow: none;\n",
              "  }\n",
              "\n",
              "  .colab-df-spinner {\n",
              "    border: 2px solid var(--fill-color);\n",
              "    border-color: transparent;\n",
              "    border-bottom-color: var(--fill-color);\n",
              "    animation:\n",
              "      spin 1s steps(1) infinite;\n",
              "  }\n",
              "\n",
              "  @keyframes spin {\n",
              "    0% {\n",
              "      border-color: transparent;\n",
              "      border-bottom-color: var(--fill-color);\n",
              "      border-left-color: var(--fill-color);\n",
              "    }\n",
              "    20% {\n",
              "      border-color: transparent;\n",
              "      border-left-color: var(--fill-color);\n",
              "      border-top-color: var(--fill-color);\n",
              "    }\n",
              "    30% {\n",
              "      border-color: transparent;\n",
              "      border-left-color: var(--fill-color);\n",
              "      border-top-color: var(--fill-color);\n",
              "      border-right-color: var(--fill-color);\n",
              "    }\n",
              "    40% {\n",
              "      border-color: transparent;\n",
              "      border-right-color: var(--fill-color);\n",
              "      border-top-color: var(--fill-color);\n",
              "    }\n",
              "    60% {\n",
              "      border-color: transparent;\n",
              "      border-right-color: var(--fill-color);\n",
              "    }\n",
              "    80% {\n",
              "      border-color: transparent;\n",
              "      border-right-color: var(--fill-color);\n",
              "      border-bottom-color: var(--fill-color);\n",
              "    }\n",
              "    90% {\n",
              "      border-color: transparent;\n",
              "      border-bottom-color: var(--fill-color);\n",
              "    }\n",
              "  }\n",
              "</style>\n",
              "\n",
              "  <script>\n",
              "    async function quickchart(key) {\n",
              "      const quickchartButtonEl =\n",
              "        document.querySelector('#' + key + ' button');\n",
              "      quickchartButtonEl.disabled = true;  // To prevent multiple clicks.\n",
              "      quickchartButtonEl.classList.add('colab-df-spinner');\n",
              "      try {\n",
              "        const charts = await google.colab.kernel.invokeFunction(\n",
              "            'suggestCharts', [key], {});\n",
              "      } catch (error) {\n",
              "        console.error('Error during call to suggestCharts:', error);\n",
              "      }\n",
              "      quickchartButtonEl.classList.remove('colab-df-spinner');\n",
              "      quickchartButtonEl.classList.add('colab-df-quickchart-complete');\n",
              "    }\n",
              "    (() => {\n",
              "      let quickchartButtonEl =\n",
              "        document.querySelector('#df-0a145f2a-b61a-47fb-a74c-a21a7832572d button');\n",
              "      quickchartButtonEl.style.display =\n",
              "        google.colab.kernel.accessAllowed ? 'block' : 'none';\n",
              "    })();\n",
              "  </script>\n",
              "</div>\n",
              "\n",
              "    </div>\n",
              "  </div>\n"
            ],
            "application/vnd.google.colaboratory.intrinsic+json": {
              "type": "dataframe",
              "variable_name": "en_text_file",
              "summary": "{\n  \"name\": \"en_text_file\",\n  \"rows\": 100,\n  \"fields\": [\n    {\n      \"column\": \"sentence\",\n      \"properties\": {\n        \"dtype\": \"string\",\n        \"num_unique_values\": 100,\n        \"samples\": [\n          \"The tranquil melody of the harp soothed the restless crowd.\",\n          \"The tranquil melody of the flute filled the room with a sense of peace.\",\n          \"The aroma of freshly brewed tea filled the air.\"\n        ],\n        \"semantic_type\": \"\",\n        \"description\": \"\"\n      }\n    },\n    {\n      \"column\": \"sentiment\",\n      \"properties\": {\n        \"dtype\": \"number\",\n        \"std\": null,\n        \"min\": null,\n        \"max\": null,\n        \"num_unique_values\": 0,\n        \"samples\": [],\n        \"semantic_type\": \"\",\n        \"description\": \"\"\n      }\n    },\n    {\n      \"column\": \"sentiment_polarity_score\",\n      \"properties\": {\n        \"dtype\": \"number\",\n        \"std\": 0.032608402535226,\n        \"min\": -0.09414324909448624,\n        \"max\": 0.07639828324317932,\n        \"num_unique_values\": 100,\n        \"samples\": [],\n        \"semantic_type\": \"\",\n        \"description\": \"\"\n      }\n    }\n  ]\n}"
            }
          },
          "metadata": {},
          "execution_count": 82
        }
      ]
    },
    {
      "cell_type": "markdown",
      "source": [
        "# Add new column for Sentiment values"
      ],
      "metadata": {
        "id": "xncYFsM0BzG5"
      }
    },
    {
      "cell_type": "code",
      "source": [
        "# define thresholds for sentiment classification\n",
        "positive_threshold = 0.01\n",
        "negative_threshold = -0.01"
      ],
      "metadata": {
        "id": "pJkZ0yhABxSO"
      },
      "execution_count": 83,
      "outputs": []
    },
    {
      "cell_type": "code",
      "source": [
        "# function to classify sentiment based on polarity score\n",
        "def classify_sentiment(polarity_score):\n",
        "    if polarity_score > positive_threshold:\n",
        "        return 'positive'\n",
        "    elif polarity_score < negative_threshold:\n",
        "        return 'negative'\n",
        "    else:\n",
        "        return 'neutral'"
      ],
      "metadata": {
        "id": "mJmY9rEgBxKh"
      },
      "execution_count": 84,
      "outputs": []
    },
    {
      "cell_type": "code",
      "source": [
        "# apply sentiment classfication to each row in the dataframe\n",
        "en_text_file['sentiment'] = en_text_file['sentiment_polarity_score'].apply(classify_sentiment)"
      ],
      "metadata": {
        "id": "mk4MAXNNA_0e"
      },
      "execution_count": 85,
      "outputs": []
    },
    {
      "cell_type": "code",
      "source": [
        "en_text_file.head(5)"
      ],
      "metadata": {
        "colab": {
          "base_uri": "https://localhost:8080/",
          "height": 206
        },
        "id": "QeaqKT4OP_jp",
        "outputId": "42974d0d-88eb-4eea-ae6d-c840ac70555f"
      },
      "execution_count": 86,
      "outputs": [
        {
          "output_type": "execute_result",
          "data": {
            "text/plain": [
              "                                            sentence sentiment  \\\n",
              "0  The aroma of freshly brewed coffee filled the ...  negative   \n",
              "1  The vibrant colors of the autumn leaves captiv...   neutral   \n",
              "2    The city skyline shimmered under the moonlight.  negative   \n",
              "3  The sound of waves crashing against the shore ...   neutral   \n",
              "4   The children's laughter echoed through the park.  negative   \n",
              "\n",
              "   sentiment_polarity_score  \n",
              "0                 -0.037620  \n",
              "1                 -0.004688  \n",
              "2                 -0.070902  \n",
              "3                  0.005799  \n",
              "4                 -0.013347  "
            ],
            "text/html": [
              "\n",
              "  <div id=\"df-9b780fdd-c855-4791-b0a8-87226a68d29d\" class=\"colab-df-container\">\n",
              "    <div>\n",
              "<style scoped>\n",
              "    .dataframe tbody tr th:only-of-type {\n",
              "        vertical-align: middle;\n",
              "    }\n",
              "\n",
              "    .dataframe tbody tr th {\n",
              "        vertical-align: top;\n",
              "    }\n",
              "\n",
              "    .dataframe thead th {\n",
              "        text-align: right;\n",
              "    }\n",
              "</style>\n",
              "<table border=\"1\" class=\"dataframe\">\n",
              "  <thead>\n",
              "    <tr style=\"text-align: right;\">\n",
              "      <th></th>\n",
              "      <th>sentence</th>\n",
              "      <th>sentiment</th>\n",
              "      <th>sentiment_polarity_score</th>\n",
              "    </tr>\n",
              "  </thead>\n",
              "  <tbody>\n",
              "    <tr>\n",
              "      <th>0</th>\n",
              "      <td>The aroma of freshly brewed coffee filled the ...</td>\n",
              "      <td>negative</td>\n",
              "      <td>-0.037620</td>\n",
              "    </tr>\n",
              "    <tr>\n",
              "      <th>1</th>\n",
              "      <td>The vibrant colors of the autumn leaves captiv...</td>\n",
              "      <td>neutral</td>\n",
              "      <td>-0.004688</td>\n",
              "    </tr>\n",
              "    <tr>\n",
              "      <th>2</th>\n",
              "      <td>The city skyline shimmered under the moonlight.</td>\n",
              "      <td>negative</td>\n",
              "      <td>-0.070902</td>\n",
              "    </tr>\n",
              "    <tr>\n",
              "      <th>3</th>\n",
              "      <td>The sound of waves crashing against the shore ...</td>\n",
              "      <td>neutral</td>\n",
              "      <td>0.005799</td>\n",
              "    </tr>\n",
              "    <tr>\n",
              "      <th>4</th>\n",
              "      <td>The children's laughter echoed through the park.</td>\n",
              "      <td>negative</td>\n",
              "      <td>-0.013347</td>\n",
              "    </tr>\n",
              "  </tbody>\n",
              "</table>\n",
              "</div>\n",
              "    <div class=\"colab-df-buttons\">\n",
              "\n",
              "  <div class=\"colab-df-container\">\n",
              "    <button class=\"colab-df-convert\" onclick=\"convertToInteractive('df-9b780fdd-c855-4791-b0a8-87226a68d29d')\"\n",
              "            title=\"Convert this dataframe to an interactive table.\"\n",
              "            style=\"display:none;\">\n",
              "\n",
              "  <svg xmlns=\"http://www.w3.org/2000/svg\" height=\"24px\" viewBox=\"0 -960 960 960\">\n",
              "    <path d=\"M120-120v-720h720v720H120Zm60-500h600v-160H180v160Zm220 220h160v-160H400v160Zm0 220h160v-160H400v160ZM180-400h160v-160H180v160Zm440 0h160v-160H620v160ZM180-180h160v-160H180v160Zm440 0h160v-160H620v160Z\"/>\n",
              "  </svg>\n",
              "    </button>\n",
              "\n",
              "  <style>\n",
              "    .colab-df-container {\n",
              "      display:flex;\n",
              "      gap: 12px;\n",
              "    }\n",
              "\n",
              "    .colab-df-convert {\n",
              "      background-color: #E8F0FE;\n",
              "      border: none;\n",
              "      border-radius: 50%;\n",
              "      cursor: pointer;\n",
              "      display: none;\n",
              "      fill: #1967D2;\n",
              "      height: 32px;\n",
              "      padding: 0 0 0 0;\n",
              "      width: 32px;\n",
              "    }\n",
              "\n",
              "    .colab-df-convert:hover {\n",
              "      background-color: #E2EBFA;\n",
              "      box-shadow: 0px 1px 2px rgba(60, 64, 67, 0.3), 0px 1px 3px 1px rgba(60, 64, 67, 0.15);\n",
              "      fill: #174EA6;\n",
              "    }\n",
              "\n",
              "    .colab-df-buttons div {\n",
              "      margin-bottom: 4px;\n",
              "    }\n",
              "\n",
              "    [theme=dark] .colab-df-convert {\n",
              "      background-color: #3B4455;\n",
              "      fill: #D2E3FC;\n",
              "    }\n",
              "\n",
              "    [theme=dark] .colab-df-convert:hover {\n",
              "      background-color: #434B5C;\n",
              "      box-shadow: 0px 1px 3px 1px rgba(0, 0, 0, 0.15);\n",
              "      filter: drop-shadow(0px 1px 2px rgba(0, 0, 0, 0.3));\n",
              "      fill: #FFFFFF;\n",
              "    }\n",
              "  </style>\n",
              "\n",
              "    <script>\n",
              "      const buttonEl =\n",
              "        document.querySelector('#df-9b780fdd-c855-4791-b0a8-87226a68d29d button.colab-df-convert');\n",
              "      buttonEl.style.display =\n",
              "        google.colab.kernel.accessAllowed ? 'block' : 'none';\n",
              "\n",
              "      async function convertToInteractive(key) {\n",
              "        const element = document.querySelector('#df-9b780fdd-c855-4791-b0a8-87226a68d29d');\n",
              "        const dataTable =\n",
              "          await google.colab.kernel.invokeFunction('convertToInteractive',\n",
              "                                                    [key], {});\n",
              "        if (!dataTable) return;\n",
              "\n",
              "        const docLinkHtml = 'Like what you see? Visit the ' +\n",
              "          '<a target=\"_blank\" href=https://colab.research.google.com/notebooks/data_table.ipynb>data table notebook</a>'\n",
              "          + ' to learn more about interactive tables.';\n",
              "        element.innerHTML = '';\n",
              "        dataTable['output_type'] = 'display_data';\n",
              "        await google.colab.output.renderOutput(dataTable, element);\n",
              "        const docLink = document.createElement('div');\n",
              "        docLink.innerHTML = docLinkHtml;\n",
              "        element.appendChild(docLink);\n",
              "      }\n",
              "    </script>\n",
              "  </div>\n",
              "\n",
              "\n",
              "<div id=\"df-084d3d05-2ab1-4e19-8b7a-5315663b9838\">\n",
              "  <button class=\"colab-df-quickchart\" onclick=\"quickchart('df-084d3d05-2ab1-4e19-8b7a-5315663b9838')\"\n",
              "            title=\"Suggest charts\"\n",
              "            style=\"display:none;\">\n",
              "\n",
              "<svg xmlns=\"http://www.w3.org/2000/svg\" height=\"24px\"viewBox=\"0 0 24 24\"\n",
              "     width=\"24px\">\n",
              "    <g>\n",
              "        <path d=\"M19 3H5c-1.1 0-2 .9-2 2v14c0 1.1.9 2 2 2h14c1.1 0 2-.9 2-2V5c0-1.1-.9-2-2-2zM9 17H7v-7h2v7zm4 0h-2V7h2v10zm4 0h-2v-4h2v4z\"/>\n",
              "    </g>\n",
              "</svg>\n",
              "  </button>\n",
              "\n",
              "<style>\n",
              "  .colab-df-quickchart {\n",
              "      --bg-color: #E8F0FE;\n",
              "      --fill-color: #1967D2;\n",
              "      --hover-bg-color: #E2EBFA;\n",
              "      --hover-fill-color: #174EA6;\n",
              "      --disabled-fill-color: #AAA;\n",
              "      --disabled-bg-color: #DDD;\n",
              "  }\n",
              "\n",
              "  [theme=dark] .colab-df-quickchart {\n",
              "      --bg-color: #3B4455;\n",
              "      --fill-color: #D2E3FC;\n",
              "      --hover-bg-color: #434B5C;\n",
              "      --hover-fill-color: #FFFFFF;\n",
              "      --disabled-bg-color: #3B4455;\n",
              "      --disabled-fill-color: #666;\n",
              "  }\n",
              "\n",
              "  .colab-df-quickchart {\n",
              "    background-color: var(--bg-color);\n",
              "    border: none;\n",
              "    border-radius: 50%;\n",
              "    cursor: pointer;\n",
              "    display: none;\n",
              "    fill: var(--fill-color);\n",
              "    height: 32px;\n",
              "    padding: 0;\n",
              "    width: 32px;\n",
              "  }\n",
              "\n",
              "  .colab-df-quickchart:hover {\n",
              "    background-color: var(--hover-bg-color);\n",
              "    box-shadow: 0 1px 2px rgba(60, 64, 67, 0.3), 0 1px 3px 1px rgba(60, 64, 67, 0.15);\n",
              "    fill: var(--button-hover-fill-color);\n",
              "  }\n",
              "\n",
              "  .colab-df-quickchart-complete:disabled,\n",
              "  .colab-df-quickchart-complete:disabled:hover {\n",
              "    background-color: var(--disabled-bg-color);\n",
              "    fill: var(--disabled-fill-color);\n",
              "    box-shadow: none;\n",
              "  }\n",
              "\n",
              "  .colab-df-spinner {\n",
              "    border: 2px solid var(--fill-color);\n",
              "    border-color: transparent;\n",
              "    border-bottom-color: var(--fill-color);\n",
              "    animation:\n",
              "      spin 1s steps(1) infinite;\n",
              "  }\n",
              "\n",
              "  @keyframes spin {\n",
              "    0% {\n",
              "      border-color: transparent;\n",
              "      border-bottom-color: var(--fill-color);\n",
              "      border-left-color: var(--fill-color);\n",
              "    }\n",
              "    20% {\n",
              "      border-color: transparent;\n",
              "      border-left-color: var(--fill-color);\n",
              "      border-top-color: var(--fill-color);\n",
              "    }\n",
              "    30% {\n",
              "      border-color: transparent;\n",
              "      border-left-color: var(--fill-color);\n",
              "      border-top-color: var(--fill-color);\n",
              "      border-right-color: var(--fill-color);\n",
              "    }\n",
              "    40% {\n",
              "      border-color: transparent;\n",
              "      border-right-color: var(--fill-color);\n",
              "      border-top-color: var(--fill-color);\n",
              "    }\n",
              "    60% {\n",
              "      border-color: transparent;\n",
              "      border-right-color: var(--fill-color);\n",
              "    }\n",
              "    80% {\n",
              "      border-color: transparent;\n",
              "      border-right-color: var(--fill-color);\n",
              "      border-bottom-color: var(--fill-color);\n",
              "    }\n",
              "    90% {\n",
              "      border-color: transparent;\n",
              "      border-bottom-color: var(--fill-color);\n",
              "    }\n",
              "  }\n",
              "</style>\n",
              "\n",
              "  <script>\n",
              "    async function quickchart(key) {\n",
              "      const quickchartButtonEl =\n",
              "        document.querySelector('#' + key + ' button');\n",
              "      quickchartButtonEl.disabled = true;  // To prevent multiple clicks.\n",
              "      quickchartButtonEl.classList.add('colab-df-spinner');\n",
              "      try {\n",
              "        const charts = await google.colab.kernel.invokeFunction(\n",
              "            'suggestCharts', [key], {});\n",
              "      } catch (error) {\n",
              "        console.error('Error during call to suggestCharts:', error);\n",
              "      }\n",
              "      quickchartButtonEl.classList.remove('colab-df-spinner');\n",
              "      quickchartButtonEl.classList.add('colab-df-quickchart-complete');\n",
              "    }\n",
              "    (() => {\n",
              "      let quickchartButtonEl =\n",
              "        document.querySelector('#df-084d3d05-2ab1-4e19-8b7a-5315663b9838 button');\n",
              "      quickchartButtonEl.style.display =\n",
              "        google.colab.kernel.accessAllowed ? 'block' : 'none';\n",
              "    })();\n",
              "  </script>\n",
              "</div>\n",
              "\n",
              "    </div>\n",
              "  </div>\n"
            ],
            "application/vnd.google.colaboratory.intrinsic+json": {
              "type": "dataframe",
              "variable_name": "en_text_file",
              "summary": "{\n  \"name\": \"en_text_file\",\n  \"rows\": 100,\n  \"fields\": [\n    {\n      \"column\": \"sentence\",\n      \"properties\": {\n        \"dtype\": \"string\",\n        \"num_unique_values\": 100,\n        \"samples\": [\n          \"The tranquil melody of the harp soothed the restless crowd.\",\n          \"The tranquil melody of the flute filled the room with a sense of peace.\",\n          \"The aroma of freshly brewed tea filled the air.\"\n        ],\n        \"semantic_type\": \"\",\n        \"description\": \"\"\n      }\n    },\n    {\n      \"column\": \"sentiment\",\n      \"properties\": {\n        \"dtype\": \"category\",\n        \"num_unique_values\": 3,\n        \"samples\": [\n          \"negative\",\n          \"neutral\",\n          \"positive\"\n        ],\n        \"semantic_type\": \"\",\n        \"description\": \"\"\n      }\n    },\n    {\n      \"column\": \"sentiment_polarity_score\",\n      \"properties\": {\n        \"dtype\": \"number\",\n        \"std\": 0.032608402535226,\n        \"min\": -0.09414324909448624,\n        \"max\": 0.07639828324317932,\n        \"num_unique_values\": 100,\n        \"samples\": [\n          0.012186205945909023,\n          -0.008685293607413769,\n          -0.05588088557124138\n        ],\n        \"semantic_type\": \"\",\n        \"description\": \"\"\n      }\n    }\n  ]\n}"
            }
          },
          "metadata": {},
          "execution_count": 86
        }
      ]
    },
    {
      "cell_type": "code",
      "source": [
        "# Save the updated DataFrame to a new CSV file\n",
        "en_text_file.to_csv('/content/drive/MyDrive/data/final_english_text_file.csv', index=False)"
      ],
      "metadata": {
        "id": "ph_FFqsKdcwr"
      },
      "execution_count": 87,
      "outputs": []
    },
    {
      "cell_type": "code",
      "source": [
        "import matplotlib.pyplot as plt"
      ],
      "metadata": {
        "id": "kftedtTwQX61"
      },
      "execution_count": 88,
      "outputs": []
    },
    {
      "cell_type": "code",
      "source": [
        "# plot histogram of sentiment polarity scores to analyze the distribution of the\n",
        "# sentiment polarity score in the dataset\n",
        "plt.hist(en_text_file['sentiment_polarity_score'], bins=20, color='skyblue', edgecolor='black')\n",
        "plt.title('Distribution of Sentiment Polarity Scores')\n",
        "plt.xlabel('Sentiment Polarity Score')\n",
        "plt.ylabel('Frequency')\n",
        "\n",
        "# Add vertical lines at -0.01 and 0.01 - neutral range.\n",
        "plt.axvline(x=-0.01, color='r', linestyle='--', label='-0.01')\n",
        "plt.axvline(x=0.01, color='g', linestyle='--', label='0.01')\n",
        "\n",
        "plt.legend()  # Show legend\n",
        "plt.grid(True)\n",
        "plt.show()"
      ],
      "metadata": {
        "id": "i9k1oNDWCo1Q",
        "colab": {
          "base_uri": "https://localhost:8080/",
          "height": 472
        },
        "outputId": "a1103fbc-122c-4da1-944a-52cb9c919869"
      },
      "execution_count": 89,
      "outputs": [
        {
          "output_type": "display_data",
          "data": {
            "text/plain": [
              "<Figure size 640x480 with 1 Axes>"
            ],
            "image/png": "[encoded data removed]"
          },
          "metadata": {}
        }
      ]
    },
    {
      "cell_type": "code",
      "source": [
        "# coun the number of occurances of each sentiment label\n",
        "sentiment_counts = en_text_file['sentiment'].value_counts()"
      ],
      "metadata": {
        "id": "wE14csqqQZp6"
      },
      "execution_count": 90,
      "outputs": []
    },
    {
      "cell_type": "markdown",
      "source": [
        "**To show the percentages on each bar:**\n",
        "1. We calculate the total count by summing all the counts in the sentiment_counts Series.\n",
        "2. We use this total count to compute the percentage of each sentiment label relative to the total count.\n",
        "3. We annotate each bar with its correct percentage value, ensuring that the percentages sum up to 100%."
      ],
      "metadata": {
        "id": "R8SHzVpQTQ_D"
      }
    },
    {
      "cell_type": "code",
      "source": [
        "plt.figure(figsize=(8, 6))\n",
        "ax = sentiment_counts.plot(kind='bar', color=['green', 'red', 'brown'])\n",
        "plt.title('Distribution of Sentiment Labels')\n",
        "plt.xlabel('Sentiment')\n",
        "plt.ylabel('Count')\n",
        "plt.xticks(rotation=0)  # Rotate x-axis labels\n",
        "\n",
        "# Calculate total count\n",
        "total = float(sum(sentiment_counts))\n",
        "\n",
        "# Annotate each bar with its percentage value\n",
        "for p in ax.patches:\n",
        "    percentage = '{:.1f}%'.format(100 * p.get_height()/total)\n",
        "    x = p.get_x() + p.get_width() / 2 - 0.05\n",
        "    y = p.get_height() + 0.5\n",
        "    ax.annotate(percentage, (x, y), size=12)\n",
        "\n",
        "plt.tight_layout()\n",
        "plt.show()"
      ],
      "metadata": {
        "colab": {
          "base_uri": "https://localhost:8080/",
          "height": 607
        },
        "id": "sLGW1Vj3RVbl",
        "outputId": "1ad2711a-bff2-4711-ec4c-d352cbec20be"
      },
      "execution_count": 91,
      "outputs": [
        {
          "output_type": "display_data",
          "data": {
            "text/plain": [
              "<Figure size 800x600 with 1 Axes>"
            ],
            "image/png": "[encoded data removed]"
          },
          "metadata": {}
        }
      ]
    },
    {
      "cell_type": "markdown",
      "source": [
        "# Conclusion:\n",
        "In the sample dataset of 100 records, we have 57% negative, 24% neutral, and 19% positive on the sentiment polarity score analysis."
      ],
      "metadata": {
        "id": "0T91cx2KUBn9"
      }
    }
  ]
}