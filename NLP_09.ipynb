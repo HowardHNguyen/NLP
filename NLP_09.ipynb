{
  "nbformat": 4,
  "nbformat_minor": 0,
  "metadata": {
    "colab": {
      "name": "NLP-09.ipynb",
      "provenance": [],
      "authorship_tag": "ABX9TyOR30r1Rt/VZaNgYu9DIlpE",
      "include_colab_link": true
    },
    "kernelspec": {
      "name": "python3",
      "display_name": "Python 3"
    },
    "language_info": {
      "name": "python"
    }
  },
  "cells": [
    {
      "cell_type": "markdown",
      "metadata": {
        "id": "view-in-github",
        "colab_type": "text"
      },
      "source": [
        "<a href=\"https://colab.research.google.com/github/HowardHNguyen/NLP/blob/main/NLP_09.ipynb\" target=\"_parent\"><img src=\"https://colab.research.google.com/assets/colab-badge.svg\" alt=\"Open In Colab\"/></a>"
      ]
    },
    {
      "cell_type": "code",
      "metadata": {
        "id": "rY4CFOIJqV3s"
      },
      "source": [
        "import pandas as pd\n",
        "import numpy as np\n",
        "\n",
        "from sklearn.feature_extraction.text import CountVectorizer\n",
        "cv = CountVectorizer()"
      ],
      "execution_count": null,
      "outputs": []
    },
    {
      "cell_type": "code",
      "metadata": {
        "colab": {
          "base_uri": "https://localhost:8080/"
        },
        "id": "LZJpb0Qxae7S",
        "outputId": "610dedf4-373e-470a-e373-d9bd64a81d13"
      },
      "source": [
        "corpus = [\n",
        "          ['money, money, money', 'true'],\n",
        "          ['free money for free gambling fun', 'true'],\n",
        "          ['gambling for fun', 'true'],\n",
        "          ['machine learning for fun, fun, fun', 'false'],\n",
        "          ['free machine learning', 'false']\n",
        "]\n",
        "print(corpus)"
      ],
      "execution_count": null,
      "outputs": [
        {
          "output_type": "stream",
          "text": [
            "[['money, money, money', 'true'], ['free money for free gambling fun', 'true'], ['gambling for fun', 'true'], ['machine learning for fun, fun, fun', 'false'], ['free machine learning', 'false']]\n"
          ],
          "name": "stdout"
        }
      ]
    },
    {
      "cell_type": "code",
      "metadata": {
        "colab": {
          "base_uri": "https://localhost:8080/"
        },
        "id": "Tvj7Rr5Qf9P2",
        "outputId": "de4b778e-d48a-4b26-e83e-8a25bd298ed4"
      },
      "source": [
        "corpusSpam = [\n",
        "          ['money, money, money', 'true'],\n",
        "          ['free money for free gambling fun', 'true'],\n",
        "          ['gambling for fun', 'true'],\n",
        "          ['machine learning for fun, fun, fun', 'false'],\n",
        "          ['free machine learning', 'false']\n",
        "]\n",
        "print(corpusSpam)"
      ],
      "execution_count": null,
      "outputs": [
        {
          "output_type": "stream",
          "text": [
            "[['money, money, money', 'true'], ['free money for free gambling fun', 'true'], ['gambling for fun', 'true'], ['machine learning for fun, fun, fun', 'false'], ['free machine learning', 'false']]\n"
          ],
          "name": "stdout"
        }
      ]
    },
    {
      "cell_type": "code",
      "metadata": {
        "colab": {
          "base_uri": "https://localhost:8080/"
        },
        "id": "F2Wv0ddOgHAX",
        "outputId": "bbd0b371-d605-4692-bd24-61914071d13d"
      },
      "source": [
        "df_corpusSpam = pd.DataFrame(df_corpusSpam, columns=['Sentence', 'Spam'])\n",
        "print(df_corpusSpam)\n",
        "totalDocuments = len(df_corpusSpam)\n",
        "print()\n",
        "print('Number of Documents = ', totalDocuments)"
      ],
      "execution_count": null,
      "outputs": [
        {
          "output_type": "stream",
          "text": [
            "                             Sentence   Spam\n",
            "0                 money, money, money   true\n",
            "1    free money for free gambling fun   true\n",
            "2                    gambling for fun   true\n",
            "3  machine learning for fun, fun, fun  false\n",
            "4               free machine learning  false\n",
            "\n",
            "Number of Documents =  5\n"
          ],
          "name": "stdout"
        }
      ]
    },
    {
      "cell_type": "code",
      "metadata": {
        "colab": {
          "base_uri": "https://localhost:8080/"
        },
        "id": "_bZ1E_B7gG9X",
        "outputId": "848214ef-1ad5-4dc8-fcc4-9fe813c0b1c1"
      },
      "source": [
        "# Count Vectorizer\n",
        "X = cv.fit_transform(df_corpusSpam['Sentence'])\n",
        "print(cv.get_feature_names())\n",
        "vocabulary = len(cv.get_feature_names())\n",
        "\n",
        "print('vocabulary size = ', vocabulary)\n",
        "print(X.shape)\n",
        "print(X)"
      ],
      "execution_count": null,
      "outputs": [
        {
          "output_type": "stream",
          "text": [
            "['for', 'free', 'fun', 'gambling', 'learning', 'machine', 'money']\n",
            "vocabulary size =  7\n",
            "(5, 7)\n",
            "  (0, 6)\t3\n",
            "  (1, 6)\t1\n",
            "  (1, 1)\t2\n",
            "  (1, 0)\t1\n",
            "  (1, 3)\t1\n",
            "  (1, 2)\t1\n",
            "  (2, 0)\t1\n",
            "  (2, 3)\t1\n",
            "  (2, 2)\t1\n",
            "  (3, 0)\t1\n",
            "  (3, 2)\t3\n",
            "  (3, 5)\t1\n",
            "  (3, 4)\t1\n",
            "  (4, 1)\t1\n",
            "  (4, 5)\t1\n",
            "  (4, 4)\t1\n"
          ],
          "name": "stdout"
        }
      ]
    },
    {
      "cell_type": "code",
      "metadata": {
        "colab": {
          "base_uri": "https://localhost:8080/"
        },
        "id": "G-8NMcMrd36_",
        "outputId": "db9d5cf7-6071-441f-8c26-be6800c8c9b5"
      },
      "source": [
        "df_all = pd.DataFrame(X.toarray(), columns = cv.get_feature_names())\n",
        "print(df_all)"
      ],
      "execution_count": null,
      "outputs": [
        {
          "output_type": "stream",
          "text": [
            "   for  free  fun  gambling  learning  machine  money\n",
            "0    0     0    0         0         0        0      3\n",
            "1    1     2    1         1         0        0      1\n",
            "2    1     0    1         1         0        0      0\n",
            "3    1     0    3         0         1        1      0\n",
            "4    0     1    0         0         1        1      0\n"
          ],
          "name": "stdout"
        }
      ]
    },
    {
      "cell_type": "code",
      "metadata": {
        "colab": {
          "base_uri": "https://localhost:8080/",
          "height": 204
        },
        "id": "g7-4N9Vad32X",
        "outputId": "385327de-626e-4467-f5d8-ab6aaac2bd6d"
      },
      "source": [
        "df_all['Spam'] = df_corpusSpam['Spam']\n",
        "df_all"
      ],
      "execution_count": null,
      "outputs": [
        {
          "output_type": "execute_result",
          "data": {
            "text/html": [
              "<div>\n",
              "<style scoped>\n",
              "    .dataframe tbody tr th:only-of-type {\n",
              "        vertical-align: middle;\n",
              "    }\n",
              "\n",
              "    .dataframe tbody tr th {\n",
              "        vertical-align: top;\n",
              "    }\n",
              "\n",
              "    .dataframe thead th {\n",
              "        text-align: right;\n",
              "    }\n",
              "</style>\n",
              "<table border=\"1\" class=\"dataframe\">\n",
              "  <thead>\n",
              "    <tr style=\"text-align: right;\">\n",
              "      <th></th>\n",
              "      <th>for</th>\n",
              "      <th>free</th>\n",
              "      <th>fun</th>\n",
              "      <th>gambling</th>\n",
              "      <th>learning</th>\n",
              "      <th>machine</th>\n",
              "      <th>money</th>\n",
              "      <th>Spam</th>\n",
              "    </tr>\n",
              "  </thead>\n",
              "  <tbody>\n",
              "    <tr>\n",
              "      <th>0</th>\n",
              "      <td>0</td>\n",
              "      <td>0</td>\n",
              "      <td>0</td>\n",
              "      <td>0</td>\n",
              "      <td>0</td>\n",
              "      <td>0</td>\n",
              "      <td>3</td>\n",
              "      <td>true</td>\n",
              "    </tr>\n",
              "    <tr>\n",
              "      <th>1</th>\n",
              "      <td>1</td>\n",
              "      <td>2</td>\n",
              "      <td>1</td>\n",
              "      <td>1</td>\n",
              "      <td>0</td>\n",
              "      <td>0</td>\n",
              "      <td>1</td>\n",
              "      <td>true</td>\n",
              "    </tr>\n",
              "    <tr>\n",
              "      <th>2</th>\n",
              "      <td>1</td>\n",
              "      <td>0</td>\n",
              "      <td>1</td>\n",
              "      <td>1</td>\n",
              "      <td>0</td>\n",
              "      <td>0</td>\n",
              "      <td>0</td>\n",
              "      <td>true</td>\n",
              "    </tr>\n",
              "    <tr>\n",
              "      <th>3</th>\n",
              "      <td>1</td>\n",
              "      <td>0</td>\n",
              "      <td>3</td>\n",
              "      <td>0</td>\n",
              "      <td>1</td>\n",
              "      <td>1</td>\n",
              "      <td>0</td>\n",
              "      <td>false</td>\n",
              "    </tr>\n",
              "    <tr>\n",
              "      <th>4</th>\n",
              "      <td>0</td>\n",
              "      <td>1</td>\n",
              "      <td>0</td>\n",
              "      <td>0</td>\n",
              "      <td>1</td>\n",
              "      <td>1</td>\n",
              "      <td>0</td>\n",
              "      <td>false</td>\n",
              "    </tr>\n",
              "  </tbody>\n",
              "</table>\n",
              "</div>"
            ],
            "text/plain": [
              "   for  free  fun  gambling  learning  machine  money   Spam\n",
              "0    0     0    0         0         0        0      3   true\n",
              "1    1     2    1         1         0        0      1   true\n",
              "2    1     0    1         1         0        0      0   true\n",
              "3    1     0    3         0         1        1      0  false\n",
              "4    0     1    0         0         1        1      0  false"
            ]
          },
          "metadata": {
            "tags": []
          },
          "execution_count": 45
        }
      ]
    },
    {
      "cell_type": "code",
      "metadata": {
        "colab": {
          "base_uri": "https://localhost:8080/"
        },
        "id": "PcLMCHiNbgl1",
        "outputId": "1eb14ed5-2d8d-46a4-808c-172947284fa1"
      },
      "source": [
        "# Compute first level probabilities\n",
        "\n",
        "p = df_all.where(df_all['Spam'] == 'true').dropna()\n",
        "# probability of positive documents\n",
        "p_true = len(p)/totalDocuments\n",
        "print('First level probability: Positive Documents = ', p_true)\n",
        "\n",
        "n = df_all.where(df_all['Spam'] == 'false').dropna()\n",
        "# probability of negative documents\n",
        "p_false = len(n)/totalDocuments\n",
        "print('First level probability: Negative Documents = ', p_false)"
      ],
      "execution_count": null,
      "outputs": [
        {
          "output_type": "stream",
          "text": [
            "First level probability: Positive Documents =  0.6\n",
            "First level probability: Negative Documents =  0.4\n"
          ],
          "name": "stdout"
        }
      ]
    },
    {
      "cell_type": "code",
      "metadata": {
        "colab": {
          "base_uri": "https://localhost:8080/"
        },
        "id": "ZKUpUs-zbaIS",
        "outputId": "c34fb4fc-2e81-49ec-e698-fdff4ca7d3ac"
      },
      "source": [
        "# Positive Count\n",
        "positive_df = df_all.where(df_all['Spam'] == 'true').dropna()\n",
        "sum_of_columns = positive_df.sum(axis = 0)\n",
        "\n",
        "positive_df_sum = positive_df.append(sum_of_columns, ignore_index=True)\n",
        "positive_df_sum.at[3,'Spam'] = 'SUM true'\n",
        "print(positive_df_sum)"
      ],
      "execution_count": null,
      "outputs": [
        {
          "output_type": "stream",
          "text": [
            "   for  free  fun  gambling  learning  machine  money      Spam\n",
            "0  0.0   0.0  0.0       0.0       0.0      0.0    3.0      true\n",
            "1  1.0   2.0  1.0       1.0       0.0      0.0    1.0      true\n",
            "2  1.0   0.0  1.0       1.0       0.0      0.0    0.0      true\n",
            "3  2.0   2.0  2.0       2.0       0.0      0.0    4.0  SUM true\n"
          ],
          "name": "stdout"
        }
      ]
    },
    {
      "cell_type": "code",
      "metadata": {
        "colab": {
          "base_uri": "https://localhost:8080/"
        },
        "id": "lLsIYpfinKrZ",
        "outputId": "22ff3b5e-87d4-470b-a659-9a8112e027d7"
      },
      "source": [
        "# Conditional probabilities\n",
        "\n",
        "totalPositiveWords = 0\n",
        "for i in range(vocabulary):\n",
        "  totalPositiveWords = totalPositiveWords + sum_of_columns[i]\n",
        "\n",
        "conditional_prob = sum_of_columns\n",
        "\n",
        "for i in range(vocabulary):\n",
        "  conditional_prob[i] = (conditional_prob[i] + 1) / (vocabulary + totalPositiveWords)\n",
        "\n",
        "df_pos_sum_prob = positive_df_sum.append(conditional_prob, ignore_index=True)\n",
        "df_pos_sum_prob.at[4,'Spam'] = 'Probability'\n",
        "print(df_pos_sum_prob)"
      ],
      "execution_count": null,
      "outputs": [
        {
          "output_type": "stream",
          "text": [
            "        for      free       fun  ...   machine     money         Spam\n",
            "0  0.000000  0.000000  0.000000  ...  0.000000  3.000000         true\n",
            "1  1.000000  2.000000  1.000000  ...  0.000000  1.000000         true\n",
            "2  1.000000  0.000000  1.000000  ...  0.000000  0.000000         true\n",
            "3  2.000000  2.000000  2.000000  ...  0.000000  4.000000     SUM true\n",
            "4  0.157895  0.157895  0.157895  ...  0.052632  0.263158  Probability\n",
            "\n",
            "[5 rows x 8 columns]\n"
          ],
          "name": "stdout"
        }
      ]
    },
    {
      "cell_type": "code",
      "metadata": {
        "colab": {
          "base_uri": "https://localhost:8080/",
          "height": 297
        },
        "id": "aZGijCh_sS-3",
        "outputId": "45eecf00-7c84-4591-e71a-3a8202b3381c"
      },
      "source": [
        "df_pos_sum_prob.T"
      ],
      "execution_count": null,
      "outputs": [
        {
          "output_type": "execute_result",
          "data": {
            "text/html": [
              "<div>\n",
              "<style scoped>\n",
              "    .dataframe tbody tr th:only-of-type {\n",
              "        vertical-align: middle;\n",
              "    }\n",
              "\n",
              "    .dataframe tbody tr th {\n",
              "        vertical-align: top;\n",
              "    }\n",
              "\n",
              "    .dataframe thead th {\n",
              "        text-align: right;\n",
              "    }\n",
              "</style>\n",
              "<table border=\"1\" class=\"dataframe\">\n",
              "  <thead>\n",
              "    <tr style=\"text-align: right;\">\n",
              "      <th></th>\n",
              "      <th>0</th>\n",
              "      <th>1</th>\n",
              "      <th>2</th>\n",
              "      <th>3</th>\n",
              "      <th>4</th>\n",
              "    </tr>\n",
              "  </thead>\n",
              "  <tbody>\n",
              "    <tr>\n",
              "      <th>for</th>\n",
              "      <td>0</td>\n",
              "      <td>1</td>\n",
              "      <td>1</td>\n",
              "      <td>2</td>\n",
              "      <td>0.157895</td>\n",
              "    </tr>\n",
              "    <tr>\n",
              "      <th>free</th>\n",
              "      <td>0</td>\n",
              "      <td>2</td>\n",
              "      <td>0</td>\n",
              "      <td>2</td>\n",
              "      <td>0.157895</td>\n",
              "    </tr>\n",
              "    <tr>\n",
              "      <th>fun</th>\n",
              "      <td>0</td>\n",
              "      <td>1</td>\n",
              "      <td>1</td>\n",
              "      <td>2</td>\n",
              "      <td>0.157895</td>\n",
              "    </tr>\n",
              "    <tr>\n",
              "      <th>gambling</th>\n",
              "      <td>0</td>\n",
              "      <td>1</td>\n",
              "      <td>1</td>\n",
              "      <td>2</td>\n",
              "      <td>0.157895</td>\n",
              "    </tr>\n",
              "    <tr>\n",
              "      <th>learning</th>\n",
              "      <td>0</td>\n",
              "      <td>0</td>\n",
              "      <td>0</td>\n",
              "      <td>0</td>\n",
              "      <td>0.0526316</td>\n",
              "    </tr>\n",
              "    <tr>\n",
              "      <th>machine</th>\n",
              "      <td>0</td>\n",
              "      <td>0</td>\n",
              "      <td>0</td>\n",
              "      <td>0</td>\n",
              "      <td>0.0526316</td>\n",
              "    </tr>\n",
              "    <tr>\n",
              "      <th>money</th>\n",
              "      <td>3</td>\n",
              "      <td>1</td>\n",
              "      <td>0</td>\n",
              "      <td>4</td>\n",
              "      <td>0.263158</td>\n",
              "    </tr>\n",
              "    <tr>\n",
              "      <th>Spam</th>\n",
              "      <td>true</td>\n",
              "      <td>true</td>\n",
              "      <td>true</td>\n",
              "      <td>SUM true</td>\n",
              "      <td>Probability</td>\n",
              "    </tr>\n",
              "  </tbody>\n",
              "</table>\n",
              "</div>"
            ],
            "text/plain": [
              "             0     1     2         3            4\n",
              "for          0     1     1         2     0.157895\n",
              "free         0     2     0         2     0.157895\n",
              "fun          0     1     1         2     0.157895\n",
              "gambling     0     1     1         2     0.157895\n",
              "learning     0     0     0         0    0.0526316\n",
              "machine      0     0     0         0    0.0526316\n",
              "money        3     1     0         4     0.263158\n",
              "Spam      true  true  true  SUM true  Probability"
            ]
          },
          "metadata": {
            "tags": []
          },
          "execution_count": 54
        }
      ]
    },
    {
      "cell_type": "code",
      "metadata": {
        "colab": {
          "base_uri": "https://localhost:8080/"
        },
        "id": "3ADFk6b8sape",
        "outputId": "8e44f663-bf10-47ec-d8ab-eff00c4c24f8"
      },
      "source": [
        "# Conditional Probabilities where Spam is false\n",
        "negative_df = df_all.where(df_all['Spam'] == 'false').dropna()\n",
        "sum_of_columns = negative_df.sum(axis = 0)\n",
        "\n",
        "negative_df_sum = negative_df.append(sum_of_columns, ignore_index=True)\n",
        "negative_df_sum.at[2,'Spam'] = 'SUM false'\n",
        "print(negative_df_sum)"
      ],
      "execution_count": null,
      "outputs": [
        {
          "output_type": "stream",
          "text": [
            "   for  free  fun  gambling  learning  machine  money       Spam\n",
            "0  1.0   0.0  3.0       0.0       1.0      1.0    0.0      false\n",
            "1  0.0   1.0  0.0       0.0       1.0      1.0    0.0      false\n",
            "2  1.0   1.0  3.0       0.0       2.0      2.0    0.0  SUM false\n"
          ],
          "name": "stdout"
        }
      ]
    },
    {
      "cell_type": "code",
      "metadata": {
        "colab": {
          "base_uri": "https://localhost:8080/"
        },
        "id": "KEzu0SvYtJFF",
        "outputId": "88b483f4-69ae-46f5-db3b-e8140a31954d"
      },
      "source": [
        "# Conditional probabilities with Spam = false\n",
        "\n",
        "totalNegativeWords = 0\n",
        "for i in range(vocabulary):\n",
        "  totalNegativeWords = totalNegativeWords + sum_of_columns[i]\n",
        "\n",
        "conditional_prob = sum_of_columns\n",
        "\n",
        "for i in range(vocabulary):\n",
        "  conditional_prob[i] = (conditional_prob[i] + 1) / (vocabulary + totalNegativeWords) # +1 is Laplace Smoothing\n",
        "\n",
        "df_neg_sum_prob = negative_df_sum.append(conditional_prob, ignore_index=True)\n",
        "df_neg_sum_prob.at[3,'Spam'] = 'Probability'\n",
        "print(df_neg_sum_prob)"
      ],
      "execution_count": null,
      "outputs": [
        {
          "output_type": "stream",
          "text": [
            "        for      free      fun  ...   machine     money         Spam\n",
            "0  1.000000  0.000000  3.00000  ...  1.000000  0.000000        false\n",
            "1  0.000000  1.000000  0.00000  ...  1.000000  0.000000        false\n",
            "2  1.000000  1.000000  3.00000  ...  2.000000  0.000000    SUM false\n",
            "3  0.140625  0.140625  0.15625  ...  0.148438  0.132812  Probability\n",
            "\n",
            "[4 rows x 8 columns]\n"
          ],
          "name": "stdout"
        }
      ]
    },
    {
      "cell_type": "code",
      "metadata": {
        "colab": {
          "base_uri": "https://localhost:8080/",
          "height": 297
        },
        "id": "16u9XrZ-uD81",
        "outputId": "6de14e86-c701-47b8-ae62-64cb1a21c195"
      },
      "source": [
        "df_neg_sum_prob.T"
      ],
      "execution_count": null,
      "outputs": [
        {
          "output_type": "execute_result",
          "data": {
            "text/html": [
              "<div>\n",
              "<style scoped>\n",
              "    .dataframe tbody tr th:only-of-type {\n",
              "        vertical-align: middle;\n",
              "    }\n",
              "\n",
              "    .dataframe tbody tr th {\n",
              "        vertical-align: top;\n",
              "    }\n",
              "\n",
              "    .dataframe thead th {\n",
              "        text-align: right;\n",
              "    }\n",
              "</style>\n",
              "<table border=\"1\" class=\"dataframe\">\n",
              "  <thead>\n",
              "    <tr style=\"text-align: right;\">\n",
              "      <th></th>\n",
              "      <th>0</th>\n",
              "      <th>1</th>\n",
              "      <th>2</th>\n",
              "      <th>3</th>\n",
              "    </tr>\n",
              "  </thead>\n",
              "  <tbody>\n",
              "    <tr>\n",
              "      <th>for</th>\n",
              "      <td>1</td>\n",
              "      <td>0</td>\n",
              "      <td>1</td>\n",
              "      <td>0.140625</td>\n",
              "    </tr>\n",
              "    <tr>\n",
              "      <th>free</th>\n",
              "      <td>0</td>\n",
              "      <td>1</td>\n",
              "      <td>1</td>\n",
              "      <td>0.140625</td>\n",
              "    </tr>\n",
              "    <tr>\n",
              "      <th>fun</th>\n",
              "      <td>3</td>\n",
              "      <td>0</td>\n",
              "      <td>3</td>\n",
              "      <td>0.15625</td>\n",
              "    </tr>\n",
              "    <tr>\n",
              "      <th>gambling</th>\n",
              "      <td>0</td>\n",
              "      <td>0</td>\n",
              "      <td>0</td>\n",
              "      <td>0.132812</td>\n",
              "    </tr>\n",
              "    <tr>\n",
              "      <th>learning</th>\n",
              "      <td>1</td>\n",
              "      <td>1</td>\n",
              "      <td>2</td>\n",
              "      <td>0.148438</td>\n",
              "    </tr>\n",
              "    <tr>\n",
              "      <th>machine</th>\n",
              "      <td>1</td>\n",
              "      <td>1</td>\n",
              "      <td>2</td>\n",
              "      <td>0.148438</td>\n",
              "    </tr>\n",
              "    <tr>\n",
              "      <th>money</th>\n",
              "      <td>0</td>\n",
              "      <td>0</td>\n",
              "      <td>0</td>\n",
              "      <td>0.132812</td>\n",
              "    </tr>\n",
              "    <tr>\n",
              "      <th>Spam</th>\n",
              "      <td>false</td>\n",
              "      <td>false</td>\n",
              "      <td>SUM false</td>\n",
              "      <td>Probability</td>\n",
              "    </tr>\n",
              "  </tbody>\n",
              "</table>\n",
              "</div>"
            ],
            "text/plain": [
              "              0      1          2            3\n",
              "for           1      0          1     0.140625\n",
              "free          0      1          1     0.140625\n",
              "fun           3      0          3      0.15625\n",
              "gambling      0      0          0     0.132812\n",
              "learning      1      1          2     0.148438\n",
              "machine       1      1          2     0.148438\n",
              "money         0      0          0     0.132812\n",
              "Spam      false  false  SUM false  Probability"
            ]
          },
          "metadata": {
            "tags": []
          },
          "execution_count": 59
        }
      ]
    },
    {
      "cell_type": "code",
      "metadata": {
        "colab": {
          "base_uri": "https://localhost:8080/",
          "height": 297
        },
        "id": "h_jppIqsuRjd",
        "outputId": "a24cf796-4777-4933-d2e5-f5499db77b11"
      },
      "source": [
        "df_pos_sum_prob.T"
      ],
      "execution_count": null,
      "outputs": [
        {
          "output_type": "execute_result",
          "data": {
            "text/html": [
              "<div>\n",
              "<style scoped>\n",
              "    .dataframe tbody tr th:only-of-type {\n",
              "        vertical-align: middle;\n",
              "    }\n",
              "\n",
              "    .dataframe tbody tr th {\n",
              "        vertical-align: top;\n",
              "    }\n",
              "\n",
              "    .dataframe thead th {\n",
              "        text-align: right;\n",
              "    }\n",
              "</style>\n",
              "<table border=\"1\" class=\"dataframe\">\n",
              "  <thead>\n",
              "    <tr style=\"text-align: right;\">\n",
              "      <th></th>\n",
              "      <th>0</th>\n",
              "      <th>1</th>\n",
              "      <th>2</th>\n",
              "      <th>3</th>\n",
              "      <th>4</th>\n",
              "    </tr>\n",
              "  </thead>\n",
              "  <tbody>\n",
              "    <tr>\n",
              "      <th>for</th>\n",
              "      <td>0</td>\n",
              "      <td>1</td>\n",
              "      <td>1</td>\n",
              "      <td>2</td>\n",
              "      <td>0.157895</td>\n",
              "    </tr>\n",
              "    <tr>\n",
              "      <th>free</th>\n",
              "      <td>0</td>\n",
              "      <td>2</td>\n",
              "      <td>0</td>\n",
              "      <td>2</td>\n",
              "      <td>0.157895</td>\n",
              "    </tr>\n",
              "    <tr>\n",
              "      <th>fun</th>\n",
              "      <td>0</td>\n",
              "      <td>1</td>\n",
              "      <td>1</td>\n",
              "      <td>2</td>\n",
              "      <td>0.157895</td>\n",
              "    </tr>\n",
              "    <tr>\n",
              "      <th>gambling</th>\n",
              "      <td>0</td>\n",
              "      <td>1</td>\n",
              "      <td>1</td>\n",
              "      <td>2</td>\n",
              "      <td>0.157895</td>\n",
              "    </tr>\n",
              "    <tr>\n",
              "      <th>learning</th>\n",
              "      <td>0</td>\n",
              "      <td>0</td>\n",
              "      <td>0</td>\n",
              "      <td>0</td>\n",
              "      <td>0.0526316</td>\n",
              "    </tr>\n",
              "    <tr>\n",
              "      <th>machine</th>\n",
              "      <td>0</td>\n",
              "      <td>0</td>\n",
              "      <td>0</td>\n",
              "      <td>0</td>\n",
              "      <td>0.0526316</td>\n",
              "    </tr>\n",
              "    <tr>\n",
              "      <th>money</th>\n",
              "      <td>3</td>\n",
              "      <td>1</td>\n",
              "      <td>0</td>\n",
              "      <td>4</td>\n",
              "      <td>0.263158</td>\n",
              "    </tr>\n",
              "    <tr>\n",
              "      <th>Spam</th>\n",
              "      <td>true</td>\n",
              "      <td>true</td>\n",
              "      <td>true</td>\n",
              "      <td>SUM true</td>\n",
              "      <td>Probability</td>\n",
              "    </tr>\n",
              "  </tbody>\n",
              "</table>\n",
              "</div>"
            ],
            "text/plain": [
              "             0     1     2         3            4\n",
              "for          0     1     1         2     0.157895\n",
              "free         0     2     0         2     0.157895\n",
              "fun          0     1     1         2     0.157895\n",
              "gambling     0     1     1         2     0.157895\n",
              "learning     0     0     0         0    0.0526316\n",
              "machine      0     0     0         0    0.0526316\n",
              "money        3     1     0         4     0.263158\n",
              "Spam      true  true  true  SUM true  Probability"
            ]
          },
          "metadata": {
            "tags": []
          },
          "execution_count": 60
        }
      ]
    },
    {
      "cell_type": "code",
      "metadata": {
        "colab": {
          "base_uri": "https://localhost:8080/"
        },
        "id": "wGimjBgzuY91",
        "outputId": "d48dae37-be0f-468a-a700-487ba645acfd"
      },
      "source": [
        "testDoc = ['machine learning for free']\n",
        "testDoc"
      ],
      "execution_count": null,
      "outputs": [
        {
          "output_type": "execute_result",
          "data": {
            "text/plain": [
              "['machine learning for free']"
            ]
          },
          "metadata": {
            "tags": []
          },
          "execution_count": 62
        }
      ]
    },
    {
      "cell_type": "code",
      "metadata": {
        "colab": {
          "base_uri": "https://localhost:8080/"
        },
        "id": "PKCwOy6lwd_N",
        "outputId": "5620a630-8227-4076-fab5-e7b0da7c8d9a"
      },
      "source": [
        "prob_spam_true_test_doc = (0.0526316*0.0526316*0.157895*0.157895)\n",
        "prob_spam_true_test_doc"
      ],
      "execution_count": null,
      "outputs": [
        {
          "output_type": "execute_result",
          "data": {
            "text/plain": [
              "6.906052900185266e-05"
            ]
          },
          "metadata": {
            "tags": []
          },
          "execution_count": 65
        }
      ]
    },
    {
      "cell_type": "code",
      "metadata": {
        "colab": {
          "base_uri": "https://localhost:8080/"
        },
        "id": "Wq0teTG6xdyl",
        "outputId": "88aec205-870a-4237-8473-0a874f0974a4"
      },
      "source": [
        "prob_spam_false_test_doc = (0.148438*0.148438*0.140625*0.140625)\n",
        "prob_spam_false_test_doc"
      ],
      "execution_count": null,
      "outputs": [
        {
          "output_type": "execute_result",
          "data": {
            "text/plain": [
              "0.0004357277898837889"
            ]
          },
          "metadata": {
            "tags": []
          },
          "execution_count": 66
        }
      ]
    },
    {
      "cell_type": "code",
      "metadata": {
        "id": "XXzP5yrZ1JIy"
      },
      "source": [
        ""
      ],
      "execution_count": null,
      "outputs": []
    }
  ]
}