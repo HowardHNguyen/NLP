{
  "cells": [
    {
      "cell_type": "markdown",
      "metadata": {
        "id": "view-in-github",
        "colab_type": "text"
      },
      "source": [
        "<a href=\"https://colab.research.google.com/github/HowardHNguyen/Natural_Language_Processing-NLP/blob/main/Working_with_Text_Data.ipynb\" target=\"_parent\"><img src=\"https://colab.research.google.com/assets/colab-badge.svg\" alt=\"Open In Colab\"/></a>"
      ]
    },
    {
      "cell_type": "code",
      "execution_count": 1,
      "metadata": {
        "id": "4cAX4_iToWIU",
        "outputId": "a50f939c-f36a-4234-b52a-bcf285e5da84",
        "colab": {
          "base_uri": "https://localhost:8080/"
        }
      },
      "outputs": [
        {
          "output_type": "stream",
          "name": "stdout",
          "text": [
            "The Zen of Python, by Tim Peters\n",
            "\n",
            "Beautiful is better than ugly.\n",
            "Explicit is better than implicit.\n",
            "Simple is better than complex.\n",
            "Complex is better than complicated.\n",
            "Flat is better than nested.\n",
            "Sparse is better than dense.\n",
            "Readability counts.\n",
            "Special cases aren't special enough to break the rules.\n",
            "Although practicality beats purity.\n",
            "Errors should never pass silently.\n",
            "Unless explicitly silenced.\n",
            "In the face of ambiguity, refuse the temptation to guess.\n",
            "There should be one-- and preferably only one --obvious way to do it.\n",
            "Although that way may not be obvious at first unless you're Dutch.\n",
            "Now is better than never.\n",
            "Although never is often better than *right* now.\n",
            "If the implementation is hard to explain, it's a bad idea.\n",
            "If the implementation is easy to explain, it may be a good idea.\n",
            "Namespaces are one honking great idea -- let's do more of those!\n"
          ]
        }
      ],
      "source": [
        "# zen of python\n",
        "import this"
      ]
    },
    {
      "cell_type": "markdown",
      "metadata": {
        "id": "Uj_e8dgcoWIV"
      },
      "source": [
        "```\n",
        "stringliteral   ::=  [stringprefix](shortstring | longstring)\n",
        "stringprefix    ::=  \"r\" | \"u\" | \"ur\" | \"R\" | \"U\" | \"UR\" | \"Ur\" | \"uR\"\n",
        "                     | \"b\" | \"B\" | \"br\" | \"Br\" | \"bR\" | \"BR\"\n",
        "shortstring     ::=  \"'\" shortstringitem* \"'\" | '\"' shortstringitem* '\"'\n",
        "longstring      ::=  \"'''\" longstringitem* \"'''\" | '\"\"\"' longstringitem* '\"\"\"'\n",
        "shortstringitem ::=  shortstringchar | escapeseq\n",
        "longstringitem  ::=  longstringchar | escapeseq\n",
        "shortstringchar ::=  <any source character except \"\\\" or newline or the quote>\n",
        "longstringchar  ::=  <any source character except \"\\\">\n",
        "escapeseq       ::=  \"\\\" <any ASCII character>\n",
        "```"
      ]
    },
    {
      "cell_type": "markdown",
      "metadata": {
        "id": "jPvMKatioWIW"
      },
      "source": [
        "# String types"
      ]
    },
    {
      "cell_type": "code",
      "execution_count": 2,
      "metadata": {
        "id": "HBZgRVafoWIW",
        "outputId": "fe42b9b2-e993-4dda-96a9-3bb89b449523",
        "colab": {
          "base_uri": "https://localhost:8080/"
        }
      },
      "outputs": [
        {
          "output_type": "stream",
          "name": "stdout",
          "text": [
            "ID: 132545068454640\n",
            "Type: <class 'str'>\n",
            "Value: This is a String\n"
          ]
        }
      ],
      "source": [
        "new_string = \"This is a String\"  # storing a string\n",
        "\n",
        "print('ID:', id(new_string))  # shows the object identifier (address)\n",
        "print('Type:', type(new_string))  # shows the object type\n",
        "print('Value:', new_string)  # shows the object value"
      ]
    },
    {
      "cell_type": "code",
      "execution_count": 3,
      "metadata": {
        "id": "hSaprD5goWIX",
        "outputId": "928d0096-3c03-4b0b-e9b8-37cd5441123c",
        "colab": {
          "base_uri": "https://localhost:8080/"
        }
      },
      "outputs": [
        {
          "output_type": "stream",
          "name": "stdout",
          "text": [
            "Hello! I'm a simple string\n"
          ]
        }
      ],
      "source": [
        "# simple string\n",
        "simple_string = 'Hello!' + \" I'm a simple string\"\n",
        "print(simple_string)"
      ]
    },
    {
      "cell_type": "code",
      "execution_count": 4,
      "metadata": {
        "id": "x5vUM6M5oWIX",
        "outputId": "f765b240-5460-41a1-ebd0-2d6a7c111903",
        "colab": {
          "base_uri": "https://localhost:8080/",
          "height": 35
        }
      },
      "outputs": [
        {
          "output_type": "execute_result",
          "data": {
            "text/plain": [
              "\"Hello I'm\\na multi-line\\nstring!\""
            ],
            "application/vnd.google.colaboratory.intrinsic+json": {
              "type": "string"
            }
          },
          "metadata": {},
          "execution_count": 4
        }
      ],
      "source": [
        "# multi-line string, note the \\n (newline) escape character automatically created\n",
        "multi_line_string = \"\"\"Hello I'm\n",
        "a multi-line\n",
        "string!\"\"\"\n",
        "\n",
        "multi_line_string"
      ]
    },
    {
      "cell_type": "code",
      "execution_count": 5,
      "metadata": {
        "id": "UcrqxrGKoWIX",
        "outputId": "125f3bfa-82c0-49ee-9a7f-64a612a6374b",
        "colab": {
          "base_uri": "https://localhost:8080/"
        }
      },
      "outputs": [
        {
          "output_type": "stream",
          "name": "stdout",
          "text": [
            "Hello I'm\n",
            "a multi-line\n",
            "string!\n"
          ]
        }
      ],
      "source": [
        "print(multi_line_string)"
      ]
    },
    {
      "cell_type": "code",
      "source": [],
      "metadata": {
        "id": "Yv97R_MApC2O"
      },
      "execution_count": 5,
      "outputs": []
    },
    {
      "cell_type": "code",
      "execution_count": 6,
      "metadata": {
        "id": "bJ-YUPNcoWIX",
        "outputId": "595d2774-b9d6-43a6-e696-ab6d2a9d910e",
        "colab": {
          "base_uri": "https://localhost:8080/"
        }
      },
      "outputs": [
        {
          "output_type": "stream",
          "name": "stdout",
          "text": [
            "C:\the_folder\n",
            "ew_dir\file.txt\n"
          ]
        }
      ],
      "source": [
        "# Normal string with escape sequences leading to a wrong file path!\n",
        "escaped_string = \"C:\\the_folder\\new_dir\\file.txt\"\n",
        "print(escaped_string)  # will cause errors if we try to open a file here"
      ]
    },
    {
      "cell_type": "code",
      "execution_count": 7,
      "metadata": {
        "id": "fQCBrOXdoWIX",
        "outputId": "65185d4c-9b90-4bbd-db11-de9b053716ae",
        "colab": {
          "base_uri": "https://localhost:8080/"
        }
      },
      "outputs": [
        {
          "output_type": "stream",
          "name": "stdout",
          "text": [
            "C:\\the_folder\\new_dir\\file.txt\n"
          ]
        }
      ],
      "source": [
        "# raw string keeping the backslashes in its normal form\n",
        "raw_string = r'C:\\the_folder\\new_dir\\file.txt'\n",
        "print(raw_string)"
      ]
    },
    {
      "cell_type": "code",
      "execution_count": 8,
      "metadata": {
        "id": "EAM8lpA-oWIX",
        "outputId": "ec0e28e7-8c47-4922-e6bc-42e576fbbab6",
        "colab": {
          "base_uri": "https://localhost:8080/"
        }
      },
      "outputs": [
        {
          "output_type": "stream",
          "name": "stdout",
          "text": [
            "Hèllo!\n"
          ]
        }
      ],
      "source": [
        "# unicode string literals\n",
        "string_with_unicode = 'H\\u00e8llo!'\n",
        "print(string_with_unicode)"
      ]
    },
    {
      "cell_type": "code",
      "execution_count": 9,
      "metadata": {
        "id": "cbKFgT45oWIX",
        "outputId": "cc44a6ab-21fb-42b6-8e96-c188a178362b",
        "colab": {
          "base_uri": "https://localhost:8080/"
        }
      },
      "outputs": [
        {
          "output_type": "stream",
          "name": "stdout",
          "text": [
            "I love Pizza 🍕!  Shall we book a cab 🚕 to get pizza?\n"
          ]
        }
      ],
      "source": [
        "more_unicode = 'I love Pizza 🍕!  Shall we book a cab 🚕 to get pizza?'\n",
        "print(more_unicode)"
      ]
    },
    {
      "cell_type": "code",
      "execution_count": 10,
      "metadata": {
        "id": "KLyFHPxYoWIY",
        "outputId": "459de306-c353-4d21-c4c8-68ebd007a8fd",
        "colab": {
          "base_uri": "https://localhost:8080/"
        }
      },
      "outputs": [
        {
          "output_type": "stream",
          "name": "stdout",
          "text": [
            "Hèllo!\n",
            "I love Pizza 🍕!  Shall we book a cab 🚕 to get pizza?\n"
          ]
        }
      ],
      "source": [
        "print(string_with_unicode + '\\n' + more_unicode)"
      ]
    },
    {
      "cell_type": "code",
      "execution_count": 11,
      "metadata": {
        "id": "RppZKrs2oWIY",
        "outputId": "0af31fc8-61d7-4f35-b4eb-70b90c2272b5",
        "colab": {
          "base_uri": "https://localhost:8080/",
          "height": 35
        }
      },
      "outputs": [
        {
          "output_type": "execute_result",
          "data": {
            "text/plain": [
              "'Hèllo! I love Pizza 🍕!  Shall we book a cab 🚕 to get pizza?'"
            ],
            "application/vnd.google.colaboratory.intrinsic+json": {
              "type": "string"
            }
          },
          "metadata": {},
          "execution_count": 11
        }
      ],
      "source": [
        "' '.join([string_with_unicode, more_unicode])"
      ]
    },
    {
      "cell_type": "code",
      "execution_count": 12,
      "metadata": {
        "id": "pPUBggiGoWIY",
        "outputId": "333853b0-0365-4673-e229-2c547abd19fc",
        "colab": {
          "base_uri": "https://localhost:8080/",
          "height": 35
        }
      },
      "outputs": [
        {
          "output_type": "execute_result",
          "data": {
            "text/plain": [
              "'?azzip teg ot 🚕 bac a koob ew llahS  !🍕 azziP evol I'"
            ],
            "application/vnd.google.colaboratory.intrinsic+json": {
              "type": "string"
            }
          },
          "metadata": {},
          "execution_count": 12
        }
      ],
      "source": [
        "more_unicode[::-1]  # reverses the string"
      ]
    },
    {
      "cell_type": "markdown",
      "metadata": {
        "id": "ePk3onMJoWIY"
      },
      "source": [
        "# String operations\n"
      ]
    },
    {
      "cell_type": "markdown",
      "metadata": {
        "id": "LFB9qbxloWIY"
      },
      "source": [
        "## Different ways of String concatenation\n"
      ]
    },
    {
      "cell_type": "code",
      "execution_count": 13,
      "metadata": {
        "scrolled": true,
        "id": "93EsNXDXoWIY",
        "outputId": "6601ae1c-6e82-452e-e5de-003658726497",
        "colab": {
          "base_uri": "https://localhost:8080/",
          "height": 35
        }
      },
      "outputs": [
        {
          "output_type": "execute_result",
          "data": {
            "text/plain": [
              "'Hello 😊 and welcome to Python 🐍!'"
            ],
            "application/vnd.google.colaboratory.intrinsic+json": {
              "type": "string"
            }
          },
          "metadata": {},
          "execution_count": 13
        }
      ],
      "source": [
        "'Hello 😊' + ' and welcome ' + 'to Python 🐍!'"
      ]
    },
    {
      "cell_type": "code",
      "execution_count": 14,
      "metadata": {
        "id": "4FESsD1PoWIY",
        "outputId": "3ba16669-498f-4c4c-d712-6c84358a76f1",
        "colab": {
          "base_uri": "https://localhost:8080/",
          "height": 35
        }
      },
      "outputs": [
        {
          "output_type": "execute_result",
          "data": {
            "text/plain": [
              "'Hello 😊 and welcome to Python 🐍!'"
            ],
            "application/vnd.google.colaboratory.intrinsic+json": {
              "type": "string"
            }
          },
          "metadata": {},
          "execution_count": 14
        }
      ],
      "source": [
        "'Hello 😊' ' and welcome ' 'to Python 🐍!'"
      ]
    },
    {
      "cell_type": "code",
      "execution_count": 15,
      "metadata": {
        "id": "79_hziWLoWIY"
      },
      "outputs": [],
      "source": [
        "# concatenation of variables and literals"
      ]
    },
    {
      "cell_type": "code",
      "execution_count": 16,
      "metadata": {
        "id": "2XYA5PsZoWIY",
        "outputId": "94483957-d510-4973-9723-7dac261c4ef6",
        "colab": {
          "base_uri": "https://localhost:8080/",
          "height": 35
        }
      },
      "outputs": [
        {
          "output_type": "execute_result",
          "data": {
            "text/plain": [
              "'Hello 😊 Python 💻!'"
            ],
            "application/vnd.google.colaboratory.intrinsic+json": {
              "type": "string"
            }
          },
          "metadata": {},
          "execution_count": 16
        }
      ],
      "source": [
        "s1 = 'Python 💻!'\n",
        "'Hello 😊 ' + s1"
      ]
    },
    {
      "cell_type": "code",
      "execution_count": 17,
      "metadata": {
        "id": "YisqDINXoWIY",
        "outputId": "83f65a88-901f-4b50-8e9c-e0a66a4083e9",
        "colab": {
          "base_uri": "https://localhost:8080/",
          "height": 35
        }
      },
      "outputs": [
        {
          "output_type": "execute_result",
          "data": {
            "text/plain": [
              "'Hello 😊 Python 💻!'"
            ],
            "application/vnd.google.colaboratory.intrinsic+json": {
              "type": "string"
            }
          },
          "metadata": {},
          "execution_count": 17
        }
      ],
      "source": [
        "'Hello 😊 ' + s1"
      ]
    },
    {
      "cell_type": "code",
      "execution_count": 18,
      "metadata": {
        "id": "d6_6BxwloWIY"
      },
      "outputs": [],
      "source": [
        "# some more ways of concatenating strings"
      ]
    },
    {
      "cell_type": "code",
      "execution_count": 19,
      "metadata": {
        "id": "rPUWH1DuoWIZ",
        "outputId": "f968cbb0-9fa5-464f-bca9-3969826b4786",
        "colab": {
          "base_uri": "https://localhost:8080/",
          "height": 35
        }
      },
      "outputs": [
        {
          "output_type": "execute_result",
          "data": {
            "text/plain": [
              "'--🐍Python🐍----🐍Python🐍----🐍Python🐍----🐍Python🐍----🐍Python🐍--'"
            ],
            "application/vnd.google.colaboratory.intrinsic+json": {
              "type": "string"
            }
          },
          "metadata": {},
          "execution_count": 19
        }
      ],
      "source": [
        "s2 = '--🐍Python🐍--'\n",
        "s2 * 5"
      ]
    },
    {
      "cell_type": "code",
      "execution_count": 20,
      "metadata": {
        "id": "PrP1-N4boWIZ",
        "outputId": "0012544c-0ff0-4d6c-d06b-bc2404926cb9",
        "colab": {
          "base_uri": "https://localhost:8080/",
          "height": 35
        }
      },
      "outputs": [
        {
          "output_type": "execute_result",
          "data": {
            "text/plain": [
              "'Python 💻!--🐍Python🐍--'"
            ],
            "application/vnd.google.colaboratory.intrinsic+json": {
              "type": "string"
            }
          },
          "metadata": {},
          "execution_count": 20
        }
      ],
      "source": [
        "s1 + s2"
      ]
    },
    {
      "cell_type": "code",
      "execution_count": 21,
      "metadata": {
        "id": "1jDeGkG_oWIZ",
        "outputId": "027ad4ab-c915-4760-e601-fc24a7efe63c",
        "colab": {
          "base_uri": "https://localhost:8080/",
          "height": 35
        }
      },
      "outputs": [
        {
          "output_type": "execute_result",
          "data": {
            "text/plain": [
              "'Python 💻!--🐍Python🐍--Python 💻!--🐍Python🐍--Python 💻!--🐍Python🐍--'"
            ],
            "application/vnd.google.colaboratory.intrinsic+json": {
              "type": "string"
            }
          },
          "metadata": {},
          "execution_count": 21
        }
      ],
      "source": [
        "(s1 + s2)*3"
      ]
    },
    {
      "cell_type": "code",
      "execution_count": 22,
      "metadata": {
        "id": "YrTsAAzeoWIZ"
      },
      "outputs": [],
      "source": [
        "# concatenating several strings together in parentheses"
      ]
    },
    {
      "cell_type": "code",
      "execution_count": 23,
      "metadata": {
        "id": "ex3EDvpyoWIZ",
        "outputId": "70552f10-54a2-4901-cb96-74f0bce4864b",
        "colab": {
          "base_uri": "https://localhost:8080/",
          "height": 35
        }
      },
      "outputs": [
        {
          "output_type": "execute_result",
          "data": {
            "text/plain": [
              "'This is another way to concatenate several strings!'"
            ],
            "application/vnd.google.colaboratory.intrinsic+json": {
              "type": "string"
            }
          },
          "metadata": {},
          "execution_count": 23
        }
      ],
      "source": [
        "s3 = ('This '\n",
        "      'is another way '\n",
        "      'to concatenate '\n",
        "      'several strings!')\n",
        "s3"
      ]
    },
    {
      "cell_type": "code",
      "execution_count": 24,
      "metadata": {
        "id": "tTHKi-nNoWIZ"
      },
      "outputs": [],
      "source": [
        "# checking for substrings in a string"
      ]
    },
    {
      "cell_type": "code",
      "execution_count": 25,
      "metadata": {
        "id": "d8ff5R2BoWIZ",
        "outputId": "5d595d6c-8471-4d82-fac2-227921a84be8",
        "colab": {
          "base_uri": "https://localhost:8080/"
        }
      },
      "outputs": [
        {
          "output_type": "execute_result",
          "data": {
            "text/plain": [
              "True"
            ]
          },
          "metadata": {},
          "execution_count": 25
        }
      ],
      "source": [
        "'way' in s3"
      ]
    },
    {
      "cell_type": "code",
      "execution_count": 26,
      "metadata": {
        "id": "YdJgqhwloWIZ",
        "outputId": "156e184c-aa85-4454-f2b1-b6d5834ba1a1",
        "colab": {
          "base_uri": "https://localhost:8080/"
        }
      },
      "outputs": [
        {
          "output_type": "execute_result",
          "data": {
            "text/plain": [
              "False"
            ]
          },
          "metadata": {},
          "execution_count": 26
        }
      ],
      "source": [
        "'python' in s3"
      ]
    },
    {
      "cell_type": "code",
      "execution_count": 27,
      "metadata": {
        "id": "VN5NVzpSoWIZ"
      },
      "outputs": [],
      "source": [
        "# computing total length of the string"
      ]
    },
    {
      "cell_type": "code",
      "execution_count": 28,
      "metadata": {
        "id": "A3ilJDV9oWIZ",
        "outputId": "f1033c88-b555-4e9b-f152-5a31f0da3f14",
        "colab": {
          "base_uri": "https://localhost:8080/"
        }
      },
      "outputs": [
        {
          "output_type": "execute_result",
          "data": {
            "text/plain": [
              "51"
            ]
          },
          "metadata": {},
          "execution_count": 28
        }
      ],
      "source": [
        "len(s3)"
      ]
    },
    {
      "cell_type": "markdown",
      "metadata": {
        "id": "ilJIKfmDoWIZ"
      },
      "source": [
        "# String indexing and slicing"
      ]
    },
    {
      "cell_type": "code",
      "execution_count": 29,
      "metadata": {
        "id": "_RDHmba5oWIZ",
        "outputId": "2db1b590-4f7a-4699-aa79-995046c6591b",
        "colab": {
          "base_uri": "https://localhost:8080/"
        }
      },
      "outputs": [
        {
          "output_type": "execute_result",
          "data": {
            "text/plain": [
              "('PYTHON', str)"
            ]
          },
          "metadata": {},
          "execution_count": 29
        }
      ],
      "source": [
        "# creating a string\n",
        "s = 'PYTHON'\n",
        "s, type(s)"
      ]
    },
    {
      "cell_type": "markdown",
      "metadata": {
        "id": "gVK6F86VoWIZ"
      },
      "source": [
        "## String indexing"
      ]
    },
    {
      "cell_type": "code",
      "execution_count": 30,
      "metadata": {
        "id": "UMK4I-avoWIZ",
        "outputId": "6eb3d837-f73e-4392-dc5b-58c1c3cdc8c6",
        "colab": {
          "base_uri": "https://localhost:8080/"
        }
      },
      "outputs": [
        {
          "output_type": "stream",
          "name": "stdout",
          "text": [
            "Character -> P has index-> 0\n",
            "Character -> Y has index-> 1\n",
            "Character -> T has index-> 2\n",
            "Character -> H has index-> 3\n",
            "Character -> O has index-> 4\n",
            "Character -> N has index-> 5\n"
          ]
        }
      ],
      "source": [
        "# depicting string indexes\n",
        "for index, character in enumerate(s):\n",
        "    print('Character ->', character, 'has index->', index)"
      ]
    },
    {
      "cell_type": "code",
      "execution_count": 31,
      "metadata": {
        "id": "ZyX2yS8ioWIZ",
        "outputId": "3071c6e0-24f5-4037-87a2-bf55a4472e6e",
        "colab": {
          "base_uri": "https://localhost:8080/"
        }
      },
      "outputs": [
        {
          "output_type": "execute_result",
          "data": {
            "text/plain": [
              "('P', 'Y', 'T', 'H', 'O', 'N')"
            ]
          },
          "metadata": {},
          "execution_count": 31
        }
      ],
      "source": [
        "s[0], s[1], s[2], s[3], s[4], s[5]"
      ]
    },
    {
      "cell_type": "code",
      "execution_count": 32,
      "metadata": {
        "id": "1AF9lLM3oWIa",
        "outputId": "1b299bf6-bc02-46c3-fa19-94cb95891fd5",
        "colab": {
          "base_uri": "https://localhost:8080/"
        }
      },
      "outputs": [
        {
          "output_type": "execute_result",
          "data": {
            "text/plain": [
              "('N', 'O', 'H', 'T', 'Y', 'P')"
            ]
          },
          "metadata": {},
          "execution_count": 32
        }
      ],
      "source": [
        "s[-1], s[-2], s[-3], s[-4], s[-5], s[-6]"
      ]
    },
    {
      "cell_type": "markdown",
      "metadata": {
        "id": "xxvz4F1ioWIa"
      },
      "source": [
        "## String slicing"
      ]
    },
    {
      "cell_type": "code",
      "execution_count": 33,
      "metadata": {
        "id": "DbnZrJq1oWIa",
        "outputId": "116da31e-5e85-4e17-b68d-fdd36f00bea6",
        "colab": {
          "base_uri": "https://localhost:8080/",
          "height": 35
        }
      },
      "outputs": [
        {
          "output_type": "execute_result",
          "data": {
            "text/plain": [
              "'PYTHON'"
            ],
            "application/vnd.google.colaboratory.intrinsic+json": {
              "type": "string"
            }
          },
          "metadata": {},
          "execution_count": 33
        }
      ],
      "source": [
        "s[:]"
      ]
    },
    {
      "cell_type": "code",
      "execution_count": 34,
      "metadata": {
        "id": "Xcfc2f1ZoWIa",
        "outputId": "73c1e5d3-303d-4aec-fe22-f9366df2f01f",
        "colab": {
          "base_uri": "https://localhost:8080/",
          "height": 35
        }
      },
      "outputs": [
        {
          "output_type": "execute_result",
          "data": {
            "text/plain": [
              "'YTH'"
            ],
            "application/vnd.google.colaboratory.intrinsic+json": {
              "type": "string"
            }
          },
          "metadata": {},
          "execution_count": 34
        }
      ],
      "source": [
        "s[1:4]"
      ]
    },
    {
      "cell_type": "code",
      "execution_count": 35,
      "metadata": {
        "id": "tEY5uTyToWIa",
        "outputId": "cb7f24c8-9176-4d54-dcdc-4f6fa66c6c86",
        "colab": {
          "base_uri": "https://localhost:8080/"
        }
      },
      "outputs": [
        {
          "output_type": "execute_result",
          "data": {
            "text/plain": [
              "('PYT', 'HON')"
            ]
          },
          "metadata": {},
          "execution_count": 35
        }
      ],
      "source": [
        "s[:3], s[3:]"
      ]
    },
    {
      "cell_type": "code",
      "execution_count": 36,
      "metadata": {
        "id": "-Qh3goPcoWIa",
        "outputId": "7e7b75ac-e684-4b27-a43f-b93dcc24f81e",
        "colab": {
          "base_uri": "https://localhost:8080/",
          "height": 35
        }
      },
      "outputs": [
        {
          "output_type": "execute_result",
          "data": {
            "text/plain": [
              "'HON'"
            ],
            "application/vnd.google.colaboratory.intrinsic+json": {
              "type": "string"
            }
          },
          "metadata": {},
          "execution_count": 36
        }
      ],
      "source": [
        "s[-3:]"
      ]
    },
    {
      "cell_type": "code",
      "execution_count": 37,
      "metadata": {
        "id": "pF5h9RFroWIa",
        "outputId": "db6ff5c3-24aa-45bc-83f0-cffd4ada155e",
        "colab": {
          "base_uri": "https://localhost:8080/",
          "height": 35
        }
      },
      "outputs": [
        {
          "output_type": "execute_result",
          "data": {
            "text/plain": [
              "'PYTHON'"
            ],
            "application/vnd.google.colaboratory.intrinsic+json": {
              "type": "string"
            }
          },
          "metadata": {},
          "execution_count": 37
        }
      ],
      "source": [
        "s[:3] + s[3:]"
      ]
    },
    {
      "cell_type": "code",
      "execution_count": 38,
      "metadata": {
        "id": "IbdPRRKioWIa",
        "outputId": "7629fd8b-8444-4bba-9eaf-6e76b43bd167",
        "colab": {
          "base_uri": "https://localhost:8080/",
          "height": 35
        }
      },
      "outputs": [
        {
          "output_type": "execute_result",
          "data": {
            "text/plain": [
              "'PYTHON'"
            ],
            "application/vnd.google.colaboratory.intrinsic+json": {
              "type": "string"
            }
          },
          "metadata": {},
          "execution_count": 38
        }
      ],
      "source": [
        "s[:3] + s[-3:]"
      ]
    },
    {
      "cell_type": "markdown",
      "metadata": {
        "id": "u4KPfaTQoWIa"
      },
      "source": [
        "## String slicing with offsets"
      ]
    },
    {
      "cell_type": "code",
      "execution_count": 39,
      "metadata": {
        "id": "vU0NxlcroWIb",
        "outputId": "3aaac1a7-675f-48e5-9db6-659b553401de",
        "colab": {
          "base_uri": "https://localhost:8080/",
          "height": 35
        }
      },
      "outputs": [
        {
          "output_type": "execute_result",
          "data": {
            "text/plain": [
              "'PYTHON'"
            ],
            "application/vnd.google.colaboratory.intrinsic+json": {
              "type": "string"
            }
          },
          "metadata": {},
          "execution_count": 39
        }
      ],
      "source": [
        "s[::1]  # no offset"
      ]
    },
    {
      "cell_type": "code",
      "execution_count": 40,
      "metadata": {
        "id": "_5hiue5coWIb",
        "outputId": "c963e955-e3d8-49d1-dba1-d1d331950bfd",
        "colab": {
          "base_uri": "https://localhost:8080/",
          "height": 35
        }
      },
      "outputs": [
        {
          "output_type": "execute_result",
          "data": {
            "text/plain": [
              "'PTO'"
            ],
            "application/vnd.google.colaboratory.intrinsic+json": {
              "type": "string"
            }
          },
          "metadata": {},
          "execution_count": 40
        }
      ],
      "source": [
        "s[::2]  # print every 2nd character in string"
      ]
    },
    {
      "cell_type": "markdown",
      "metadata": {
        "id": "n49UTiiXoWIb"
      },
      "source": [
        "# String Immutability"
      ]
    },
    {
      "cell_type": "code",
      "execution_count": 41,
      "metadata": {
        "id": "hVTPy5cDoWIb",
        "outputId": "875d24d1-8910-4dfc-b585-e0c5a4e567f0",
        "colab": {
          "base_uri": "https://localhost:8080/",
          "height": 159
        }
      },
      "outputs": [
        {
          "output_type": "error",
          "ename": "TypeError",
          "evalue": "'str' object does not support item assignment",
          "traceback": [
            "\u001b[0;31m---------------------------------------------------------------------------\u001b[0m",
            "\u001b[0;31mTypeError\u001b[0m                                 Traceback (most recent call last)",
            "\u001b[0;32m<ipython-input-41-0d7229b05a1f>\u001b[0m in \u001b[0;36m<cell line: 2>\u001b[0;34m()\u001b[0m\n\u001b[1;32m      1\u001b[0m \u001b[0;31m# strings are immutable hence assignment throws error\u001b[0m\u001b[0;34m\u001b[0m\u001b[0;34m\u001b[0m\u001b[0m\n\u001b[0;32m----> 2\u001b[0;31m \u001b[0ms\u001b[0m\u001b[0;34m[\u001b[0m\u001b[0;36m0\u001b[0m\u001b[0;34m]\u001b[0m \u001b[0;34m=\u001b[0m \u001b[0;34m'X'\u001b[0m\u001b[0;34m\u001b[0m\u001b[0;34m\u001b[0m\u001b[0m\n\u001b[0m",
            "\u001b[0;31mTypeError\u001b[0m: 'str' object does not support item assignment"
          ]
        }
      ],
      "source": [
        "# strings are immutable hence assignment throws error\n",
        "s[0] = 'X'"
      ]
    },
    {
      "cell_type": "code",
      "execution_count": 42,
      "metadata": {
        "id": "pZqXVXrqoWIb",
        "outputId": "e7d1724b-690b-4069-a831-8640da50e248",
        "colab": {
          "base_uri": "https://localhost:8080/"
        }
      },
      "outputs": [
        {
          "output_type": "stream",
          "name": "stdout",
          "text": [
            "Original String id: 132545329102384\n",
            "XYTHON\n",
            "New String id: 132544787127920\n"
          ]
        }
      ],
      "source": [
        "print('Original String id:', id(s))\n",
        "# creates a new string\n",
        "s = 'X' + s[1:]\n",
        "print(s)\n",
        "print('New String id:', id(s))"
      ]
    },
    {
      "cell_type": "markdown",
      "metadata": {
        "id": "GVS4vg20oWIb"
      },
      "source": [
        "# Useful String methods"
      ]
    },
    {
      "cell_type": "markdown",
      "metadata": {
        "id": "O_n-BVumoWIb"
      },
      "source": [
        "## Case conversions"
      ]
    },
    {
      "cell_type": "code",
      "execution_count": 43,
      "metadata": {
        "id": "8RrcjfuFoWIb"
      },
      "outputs": [],
      "source": [
        "s = 'python is great'"
      ]
    },
    {
      "cell_type": "code",
      "execution_count": 44,
      "metadata": {
        "id": "AeYHkPABoWIb",
        "outputId": "1d5c01ec-31ca-42ec-cb6c-9dadde8b9c77",
        "colab": {
          "base_uri": "https://localhost:8080/",
          "height": 35
        }
      },
      "outputs": [
        {
          "output_type": "execute_result",
          "data": {
            "text/plain": [
              "'Python is great'"
            ],
            "application/vnd.google.colaboratory.intrinsic+json": {
              "type": "string"
            }
          },
          "metadata": {},
          "execution_count": 44
        }
      ],
      "source": [
        "s.capitalize()"
      ]
    },
    {
      "cell_type": "code",
      "execution_count": 45,
      "metadata": {
        "id": "Y5VhiSf8oWIb",
        "outputId": "88fc908b-2315-4a0e-d276-a58043ff2632",
        "colab": {
          "base_uri": "https://localhost:8080/",
          "height": 35
        }
      },
      "outputs": [
        {
          "output_type": "execute_result",
          "data": {
            "text/plain": [
              "'PYTHON IS GREAT'"
            ],
            "application/vnd.google.colaboratory.intrinsic+json": {
              "type": "string"
            }
          },
          "metadata": {},
          "execution_count": 45
        }
      ],
      "source": [
        "s.upper()"
      ]
    },
    {
      "cell_type": "code",
      "execution_count": 46,
      "metadata": {
        "id": "oGyCrnAOoWIb",
        "outputId": "bfccd883-af13-4006-a227-d1c94465cad4",
        "colab": {
          "base_uri": "https://localhost:8080/",
          "height": 35
        }
      },
      "outputs": [
        {
          "output_type": "execute_result",
          "data": {
            "text/plain": [
              "'Python Is Great'"
            ],
            "application/vnd.google.colaboratory.intrinsic+json": {
              "type": "string"
            }
          },
          "metadata": {},
          "execution_count": 46
        }
      ],
      "source": [
        "s.title()"
      ]
    },
    {
      "cell_type": "markdown",
      "metadata": {
        "id": "24B252QUoWIb"
      },
      "source": [
        "## String replace"
      ]
    },
    {
      "cell_type": "code",
      "execution_count": 47,
      "metadata": {
        "id": "IK8vY_UZoWIb",
        "outputId": "7c0454a3-fc82-4ab4-f0d6-04353eee3276",
        "colab": {
          "base_uri": "https://localhost:8080/",
          "height": 35
        }
      },
      "outputs": [
        {
          "output_type": "execute_result",
          "data": {
            "text/plain": [
              "'NLP is great'"
            ],
            "application/vnd.google.colaboratory.intrinsic+json": {
              "type": "string"
            }
          },
          "metadata": {},
          "execution_count": 47
        }
      ],
      "source": [
        "s.replace('python', 'NLP')"
      ]
    },
    {
      "cell_type": "markdown",
      "metadata": {
        "id": "59jnJS8moWIb"
      },
      "source": [
        "## Numeric checks"
      ]
    },
    {
      "cell_type": "code",
      "execution_count": 48,
      "metadata": {
        "id": "W5xvhqC3oWIb",
        "outputId": "c593e76a-f2b1-4741-febf-aca1cc97bd54",
        "colab": {
          "base_uri": "https://localhost:8080/"
        }
      },
      "outputs": [
        {
          "output_type": "execute_result",
          "data": {
            "text/plain": [
              "True"
            ]
          },
          "metadata": {},
          "execution_count": 48
        }
      ],
      "source": [
        "'12345'.isdecimal()"
      ]
    },
    {
      "cell_type": "code",
      "execution_count": 49,
      "metadata": {
        "id": "TIN42O9voWIc",
        "outputId": "54dd007e-0d1a-4073-fb63-84d99da59e2e",
        "colab": {
          "base_uri": "https://localhost:8080/"
        }
      },
      "outputs": [
        {
          "output_type": "execute_result",
          "data": {
            "text/plain": [
              "False"
            ]
          },
          "metadata": {},
          "execution_count": 49
        }
      ],
      "source": [
        "'apollo11'.isdecimal()"
      ]
    },
    {
      "cell_type": "markdown",
      "metadata": {
        "id": "2fLbr7P3oWIc"
      },
      "source": [
        "## Alphabet checks"
      ]
    },
    {
      "cell_type": "code",
      "execution_count": 50,
      "metadata": {
        "id": "lXt1cg7uoWIc",
        "outputId": "7f1f7b36-ef42-493f-de64-870604d50607",
        "colab": {
          "base_uri": "https://localhost:8080/"
        }
      },
      "outputs": [
        {
          "output_type": "execute_result",
          "data": {
            "text/plain": [
              "True"
            ]
          },
          "metadata": {},
          "execution_count": 50
        }
      ],
      "source": [
        "'python'.isalpha()"
      ]
    },
    {
      "cell_type": "code",
      "execution_count": 51,
      "metadata": {
        "id": "tL8pTQ10oWIc",
        "outputId": "1705da5f-3fb9-44ad-decb-1fa4df1f6a58",
        "colab": {
          "base_uri": "https://localhost:8080/"
        }
      },
      "outputs": [
        {
          "output_type": "execute_result",
          "data": {
            "text/plain": [
              "False"
            ]
          },
          "metadata": {},
          "execution_count": 51
        }
      ],
      "source": [
        "'number1'.isalpha()"
      ]
    },
    {
      "cell_type": "markdown",
      "metadata": {
        "id": "0aCQvmZhoWIc"
      },
      "source": [
        "## Alphanumeric checks"
      ]
    },
    {
      "cell_type": "code",
      "execution_count": 52,
      "metadata": {
        "id": "1AZMpU2roWIc",
        "outputId": "77d6509b-bd77-4559-d8d3-338b4a688716",
        "colab": {
          "base_uri": "https://localhost:8080/"
        }
      },
      "outputs": [
        {
          "output_type": "execute_result",
          "data": {
            "text/plain": [
              "True"
            ]
          },
          "metadata": {},
          "execution_count": 52
        }
      ],
      "source": [
        "'total'.isalnum()"
      ]
    },
    {
      "cell_type": "code",
      "execution_count": 53,
      "metadata": {
        "id": "hoqFhh_RoWIc",
        "outputId": "b9a17105-5065-433e-dec9-1d0c2e41fb8f",
        "colab": {
          "base_uri": "https://localhost:8080/"
        }
      },
      "outputs": [
        {
          "output_type": "execute_result",
          "data": {
            "text/plain": [
              "True"
            ]
          },
          "metadata": {},
          "execution_count": 53
        }
      ],
      "source": [
        "'abc123'.isalnum()"
      ]
    },
    {
      "cell_type": "code",
      "execution_count": 54,
      "metadata": {
        "id": "llIVGKmVoWIc",
        "outputId": "a6d868a8-23ad-47ef-aa2a-681fbc6530a4",
        "colab": {
          "base_uri": "https://localhost:8080/"
        }
      },
      "outputs": [
        {
          "output_type": "execute_result",
          "data": {
            "text/plain": [
              "False"
            ]
          },
          "metadata": {},
          "execution_count": 54
        }
      ],
      "source": [
        "'1+1'.isalnum()"
      ]
    },
    {
      "cell_type": "markdown",
      "metadata": {
        "id": "vDfKJr_EoWIc"
      },
      "source": [
        "## String splitting and joining"
      ]
    },
    {
      "cell_type": "code",
      "execution_count": 55,
      "metadata": {
        "id": "9t6LUwaxoWIc",
        "outputId": "0950a543-7db4-42aa-8405-864ec65a7905",
        "colab": {
          "base_uri": "https://localhost:8080/"
        }
      },
      "outputs": [
        {
          "output_type": "execute_result",
          "data": {
            "text/plain": [
              "['I', 'am', 'a', 'comma', 'separated', 'string']"
            ]
          },
          "metadata": {},
          "execution_count": 55
        }
      ],
      "source": [
        "s = 'I,am,a,comma,separated,string'\n",
        "s.split(',')"
      ]
    },
    {
      "cell_type": "code",
      "execution_count": 56,
      "metadata": {
        "id": "HfleIul2oWIc",
        "outputId": "6c966f6a-147e-4df7-f2b8-97da2e8025b8",
        "colab": {
          "base_uri": "https://localhost:8080/",
          "height": 35
        }
      },
      "outputs": [
        {
          "output_type": "execute_result",
          "data": {
            "text/plain": [
              "'I am a comma separated string'"
            ],
            "application/vnd.google.colaboratory.intrinsic+json": {
              "type": "string"
            }
          },
          "metadata": {},
          "execution_count": 56
        }
      ],
      "source": [
        "' '.join(s.split(','))"
      ]
    },
    {
      "cell_type": "code",
      "execution_count": 57,
      "metadata": {
        "id": "5O1cjilToWIc",
        "outputId": "01ee03ae-a985-483a-b81f-c931f7cf2c78",
        "colab": {
          "base_uri": "https://localhost:8080/",
          "height": 35
        }
      },
      "outputs": [
        {
          "output_type": "execute_result",
          "data": {
            "text/plain": [
              "'   I am surrounded by spaces    '"
            ],
            "application/vnd.google.colaboratory.intrinsic+json": {
              "type": "string"
            }
          },
          "metadata": {},
          "execution_count": 57
        }
      ],
      "source": [
        "# stripping whitespace characters\n",
        "s = '   I am surrounded by spaces    '\n",
        "s"
      ]
    },
    {
      "cell_type": "code",
      "execution_count": 58,
      "metadata": {
        "id": "YGcoL51UoWIc",
        "outputId": "64036575-dae0-4ff2-a4d6-0d1b636bd40a",
        "colab": {
          "base_uri": "https://localhost:8080/",
          "height": 35
        }
      },
      "outputs": [
        {
          "output_type": "execute_result",
          "data": {
            "text/plain": [
              "'I am surrounded by spaces'"
            ],
            "application/vnd.google.colaboratory.intrinsic+json": {
              "type": "string"
            }
          },
          "metadata": {},
          "execution_count": 58
        }
      ],
      "source": [
        "s.strip()"
      ]
    },
    {
      "cell_type": "code",
      "execution_count": 59,
      "metadata": {
        "id": "ueKAakTroWIc",
        "outputId": "6f27de21-8a83-4bb6-f192-f1143514e25f",
        "colab": {
          "base_uri": "https://localhost:8080/"
        }
      },
      "outputs": [
        {
          "output_type": "execute_result",
          "data": {
            "text/plain": [
              "['Python is great', ' NLP is also good', '']"
            ]
          },
          "metadata": {},
          "execution_count": 59
        }
      ],
      "source": [
        "sentences = 'Python is great. NLP is also good.'\n",
        "sentences.split('.')"
      ]
    },
    {
      "cell_type": "code",
      "execution_count": 60,
      "metadata": {
        "id": "XMY7cmz6oWId",
        "outputId": "70b1c55f-9ae7-4736-8c0a-1bf91e88ec1d",
        "colab": {
          "base_uri": "https://localhost:8080/"
        }
      },
      "outputs": [
        {
          "output_type": "stream",
          "name": "stdout",
          "text": [
            "Python is great\n",
            " NLP is also good\n",
            "\n"
          ]
        }
      ],
      "source": [
        "print('\\n'.join(sentences.split('.')))"
      ]
    },
    {
      "cell_type": "code",
      "execution_count": 61,
      "metadata": {
        "id": "CHRKeMTGoWId",
        "outputId": "1fea3270-4463-4554-8151-2e5a68b7ead4",
        "colab": {
          "base_uri": "https://localhost:8080/"
        }
      },
      "outputs": [
        {
          "output_type": "stream",
          "name": "stdout",
          "text": [
            "Python is great\n",
            "NLP is also good\n"
          ]
        }
      ],
      "source": [
        "print('\\n'.join([sentence.strip()\n",
        "                     for sentence in sentences.split('.')\n",
        "                         if sentence]))"
      ]
    },
    {
      "cell_type": "markdown",
      "metadata": {
        "id": "5cIvRoguoWId"
      },
      "source": [
        "# String formatting"
      ]
    },
    {
      "cell_type": "markdown",
      "metadata": {
        "id": "8TfxkxTWoWId"
      },
      "source": [
        "## Simple string formatting expressions - old style"
      ]
    },
    {
      "cell_type": "code",
      "execution_count": 62,
      "metadata": {
        "id": "joTuuGG-oWId",
        "outputId": "20b50d85-d0e0-4304-cdb4-b267632bb5b4",
        "colab": {
          "base_uri": "https://localhost:8080/",
          "height": 35
        }
      },
      "outputs": [
        {
          "output_type": "execute_result",
          "data": {
            "text/plain": [
              "'Hello Python!'"
            ],
            "application/vnd.google.colaboratory.intrinsic+json": {
              "type": "string"
            }
          },
          "metadata": {},
          "execution_count": 62
        }
      ],
      "source": [
        "'Hello %s' %('Python!')"
      ]
    },
    {
      "cell_type": "code",
      "execution_count": 63,
      "metadata": {
        "id": "52caN-o3oWId",
        "outputId": "1e6ac107-94bb-4ba7-85a5-7984c6af21ac",
        "colab": {
          "base_uri": "https://localhost:8080/",
          "height": 35
        }
      },
      "outputs": [
        {
          "output_type": "execute_result",
          "data": {
            "text/plain": [
              "'Hello World! How are you?'"
            ],
            "application/vnd.google.colaboratory.intrinsic+json": {
              "type": "string"
            }
          },
          "metadata": {},
          "execution_count": 63
        }
      ],
      "source": [
        "'Hello %s %s' %('World!', 'How are you?')"
      ]
    },
    {
      "cell_type": "markdown",
      "metadata": {
        "id": "ff4pnjJaoWId"
      },
      "source": [
        "## Formatting expressions with different data types - old style"
      ]
    },
    {
      "cell_type": "code",
      "execution_count": 64,
      "metadata": {
        "id": "83-1sHj6oWId",
        "outputId": "05eb2d82-0722-4855-9ffb-a576709a28fc",
        "colab": {
          "base_uri": "https://localhost:8080/",
          "height": 35
        }
      },
      "outputs": [
        {
          "output_type": "execute_result",
          "data": {
            "text/plain": [
              "'We have 22 bottles containing 2.50 gallons of milk'"
            ],
            "application/vnd.google.colaboratory.intrinsic+json": {
              "type": "string"
            }
          },
          "metadata": {},
          "execution_count": 64
        }
      ],
      "source": [
        "'We have %d %s containing %.2f gallons of %s' %(22, 'bottles', 2.5, 'milk')"
      ]
    },
    {
      "cell_type": "code",
      "execution_count": 65,
      "metadata": {
        "id": "59ooImajoWId",
        "outputId": "023709e3-507b-443e-8957-1a300fd18763",
        "colab": {
          "base_uri": "https://localhost:8080/",
          "height": 35
        }
      },
      "outputs": [
        {
          "output_type": "execute_result",
          "data": {
            "text/plain": [
              "'We have 5 jugs containing 10.87 gallons of juice'"
            ],
            "application/vnd.google.colaboratory.intrinsic+json": {
              "type": "string"
            }
          },
          "metadata": {},
          "execution_count": 65
        }
      ],
      "source": [
        "'We have %d %s containing %.2f gallons of %s' %(5.21, 'jugs', 10.86763, 'juice')"
      ]
    },
    {
      "cell_type": "markdown",
      "metadata": {
        "id": "b-scJxTJoWId"
      },
      "source": [
        "## Formatting strings using the format method - new style"
      ]
    },
    {
      "cell_type": "code",
      "execution_count": 66,
      "metadata": {
        "id": "cGwLVwuVoWId",
        "outputId": "afd5152b-c9c1-4066-86a7-537408270f71",
        "colab": {
          "base_uri": "https://localhost:8080/",
          "height": 35
        }
      },
      "outputs": [
        {
          "output_type": "execute_result",
          "data": {
            "text/plain": [
              "'Hello Mr. Jones, it is a great pleasure to meet you at 5'"
            ],
            "application/vnd.google.colaboratory.intrinsic+json": {
              "type": "string"
            }
          },
          "metadata": {},
          "execution_count": 66
        }
      ],
      "source": [
        "'Hello {} {}, it is a great {} to meet you at {}'.format('Mr.', 'Jones', 'pleasure', 5)"
      ]
    },
    {
      "cell_type": "code",
      "execution_count": 67,
      "metadata": {
        "id": "1PG3n9GAoWId",
        "outputId": "e6e19818-cff7-4fc0-9334-f77f222f17dc",
        "colab": {
          "base_uri": "https://localhost:8080/",
          "height": 35
        }
      },
      "outputs": [
        {
          "output_type": "execute_result",
          "data": {
            "text/plain": [
              "\"Hello Sir Arthur, it is a great honor to meet you at 9 o' clock\""
            ],
            "application/vnd.google.colaboratory.intrinsic+json": {
              "type": "string"
            }
          },
          "metadata": {},
          "execution_count": 67
        }
      ],
      "source": [
        "'Hello {} {}, it is a great {} to meet you at {} o\\' clock'.format('Sir', 'Arthur', 'honor', 9)"
      ]
    },
    {
      "cell_type": "markdown",
      "metadata": {
        "id": "HXkhYoDBoWId"
      },
      "source": [
        "## Alternative ways of using string format"
      ]
    },
    {
      "cell_type": "code",
      "execution_count": 68,
      "metadata": {
        "id": "oNZnbHvooWId",
        "outputId": "6960ae78-e554-4ba1-8070-f578f042f018",
        "colab": {
          "base_uri": "https://localhost:8080/",
          "height": 35
        }
      },
      "outputs": [
        {
          "output_type": "execute_result",
          "data": {
            "text/plain": [
              "'I have a sandwich and a soda with me'"
            ],
            "application/vnd.google.colaboratory.intrinsic+json": {
              "type": "string"
            }
          },
          "metadata": {},
          "execution_count": 68
        }
      ],
      "source": [
        "'I have a {food_item} and a {drink_item} with me'.format(drink_item='soda', food_item='sandwich')"
      ]
    },
    {
      "cell_type": "code",
      "source": [
        "'something like {} and {} and {}'.format('one', 'two', '3')"
      ],
      "metadata": {
        "colab": {
          "base_uri": "https://localhost:8080/",
          "height": 35
        },
        "id": "sn-iusiiuzDU",
        "outputId": "c343f34e-5467-4443-c340-88e3c1eaa042"
      },
      "execution_count": 69,
      "outputs": [
        {
          "output_type": "execute_result",
          "data": {
            "text/plain": [
              "'something like one and two and 3'"
            ],
            "application/vnd.google.colaboratory.intrinsic+json": {
              "type": "string"
            }
          },
          "metadata": {},
          "execution_count": 69
        }
      ]
    },
    {
      "cell_type": "code",
      "execution_count": 70,
      "metadata": {
        "id": "uZYV38mGoWId",
        "outputId": "b64c42b3-a7f7-4253-a268-da9affbe7548",
        "colab": {
          "base_uri": "https://localhost:8080/",
          "height": 35
        }
      },
      "outputs": [
        {
          "output_type": "execute_result",
          "data": {
            "text/plain": [
              "\"The dog has the following attributes: ['lazy', 'loyal']\""
            ],
            "application/vnd.google.colaboratory.intrinsic+json": {
              "type": "string"
            }
          },
          "metadata": {},
          "execution_count": 70
        }
      ],
      "source": [
        "'The {animal} has the following attributes: {attributes}'.format(animal='dog', attributes=['lazy', 'loyal'])"
      ]
    },
    {
      "cell_type": "markdown",
      "metadata": {
        "id": "RDpQJtaSoWId"
      },
      "source": [
        "# Regular Expressions"
      ]
    },
    {
      "cell_type": "code",
      "execution_count": 71,
      "metadata": {
        "id": "ClxprUjCoWIe"
      },
      "outputs": [],
      "source": [
        "s1 = 'Python is an excellent language'\n",
        "s2 = 'I love the Python language. I also use Python to build applications at work!'"
      ]
    },
    {
      "cell_type": "code",
      "execution_count": 72,
      "metadata": {
        "id": "Nyypj6RFoWIe"
      },
      "outputs": [],
      "source": [
        "import re\n",
        "\n",
        "pattern = 'python'\n",
        "# match only returns a match if regex match is found at the beginning of the string\n",
        "re.match(pattern, s1)"
      ]
    },
    {
      "cell_type": "code",
      "execution_count": 73,
      "metadata": {
        "id": "jw0J9bIwoWIe",
        "outputId": "ba369d69-e969-4766-cb97-5dc19d7df0f4",
        "colab": {
          "base_uri": "https://localhost:8080/"
        }
      },
      "outputs": [
        {
          "output_type": "execute_result",
          "data": {
            "text/plain": [
              "<re.Match object; span=(0, 6), match='Python'>"
            ]
          },
          "metadata": {},
          "execution_count": 73
        }
      ],
      "source": [
        "# pattern is in lower case hence ignore case flag helps\n",
        "# in matching same pattern with different cases\n",
        "re.match(pattern, s1, flags=re.IGNORECASE)"
      ]
    },
    {
      "cell_type": "code",
      "execution_count": 74,
      "metadata": {
        "id": "Nn4-7u6NoWIe",
        "outputId": "e808ebae-7b3d-4354-fe62-83e617aebf63",
        "colab": {
          "base_uri": "https://localhost:8080/"
        }
      },
      "outputs": [
        {
          "output_type": "stream",
          "name": "stdout",
          "text": [
            "Found match Python ranging from index 0 - 6 in the string \"Python is an excellent language\"\n"
          ]
        }
      ],
      "source": [
        "# printing matched string and its indices in the original string\n",
        "m = re.match(pattern, s1, flags=re.IGNORECASE)\n",
        "print('Found match {} ranging from index {} - {} in the string \"{}\"'.format(m.group(0),\n",
        "                                                                            m.start(),\n",
        "                                                                            m.end(), s1))"
      ]
    },
    {
      "cell_type": "code",
      "execution_count": 75,
      "metadata": {
        "id": "v_uyL9LYoWIe"
      },
      "outputs": [],
      "source": [
        "# match does not work when pattern is not there in the beginning of string s2\n",
        "re.match(pattern, s2, re.IGNORECASE)"
      ]
    },
    {
      "cell_type": "code",
      "execution_count": 76,
      "metadata": {
        "id": "cwr5gG_hoWIe",
        "outputId": "01b9babb-01c5-4bdf-ec11-f8336c55196e",
        "colab": {
          "base_uri": "https://localhost:8080/"
        }
      },
      "outputs": [
        {
          "output_type": "execute_result",
          "data": {
            "text/plain": [
              "<re.Match object; span=(11, 17), match='Python'>"
            ]
          },
          "metadata": {},
          "execution_count": 76
        }
      ],
      "source": [
        "# illustrating find and search methods using the re module\n",
        "re.search(pattern, s2, re.IGNORECASE)"
      ]
    },
    {
      "cell_type": "code",
      "execution_count": 77,
      "metadata": {
        "id": "ol4O8eeOoWIe",
        "outputId": "0f5f29ec-dd1d-45f1-9ec3-e01357714ed2",
        "colab": {
          "base_uri": "https://localhost:8080/"
        }
      },
      "outputs": [
        {
          "output_type": "execute_result",
          "data": {
            "text/plain": [
              "['Python', 'Python']"
            ]
          },
          "metadata": {},
          "execution_count": 77
        }
      ],
      "source": [
        "re.findall(pattern, s2, re.IGNORECASE)"
      ]
    },
    {
      "cell_type": "code",
      "execution_count": 78,
      "metadata": {
        "id": "F1lEa1JuoWIe",
        "outputId": "6b5902b2-275f-4ec4-d352-6d3dc86641f2",
        "colab": {
          "base_uri": "https://localhost:8080/"
        }
      },
      "outputs": [
        {
          "output_type": "execute_result",
          "data": {
            "text/plain": [
              "<callable_iterator at 0x788c8c149b70>"
            ]
          },
          "metadata": {},
          "execution_count": 78
        }
      ],
      "source": [
        "match_objs = re.finditer(pattern, s2, re.IGNORECASE)\n",
        "match_objs"
      ]
    },
    {
      "cell_type": "code",
      "execution_count": 79,
      "metadata": {
        "id": "SxtQiwVsoWIe",
        "outputId": "89cc64ca-48b7-4787-f443-95ed5582fcc2",
        "colab": {
          "base_uri": "https://localhost:8080/"
        }
      },
      "outputs": [
        {
          "output_type": "stream",
          "name": "stdout",
          "text": [
            "String: I love the Python language. I also use Python to build applications at work!\n",
            "Found match \"Python\" ranging from index 11 - 17\n",
            "Found match \"Python\" ranging from index 39 - 45\n"
          ]
        }
      ],
      "source": [
        "print(\"String:\", s2)\n",
        "for m in match_objs:\n",
        "    print('Found match \"{}\" ranging from index {} - {}'.format(m.group(0),\n",
        "                                                               m.start(), m.end()))"
      ]
    },
    {
      "cell_type": "code",
      "execution_count": 80,
      "metadata": {
        "id": "VjQKzVAIoWIe",
        "outputId": "403159bd-58d3-4239-cedc-dc2f4c7086d1",
        "colab": {
          "base_uri": "https://localhost:8080/",
          "height": 35
        }
      },
      "outputs": [
        {
          "output_type": "execute_result",
          "data": {
            "text/plain": [
              "'I love the Java language. I also use Java to build applications at work!'"
            ],
            "application/vnd.google.colaboratory.intrinsic+json": {
              "type": "string"
            }
          },
          "metadata": {},
          "execution_count": 80
        }
      ],
      "source": [
        "# illustrating pattern substitution using sub and subn methods\n",
        "re.sub(pattern, 'Java', s2, flags=re.IGNORECASE)"
      ]
    },
    {
      "cell_type": "code",
      "execution_count": 81,
      "metadata": {
        "id": "2XDHbSrBoWIe",
        "outputId": "f07ed5ad-1948-409a-912b-3152a82be31e",
        "colab": {
          "base_uri": "https://localhost:8080/"
        }
      },
      "outputs": [
        {
          "output_type": "execute_result",
          "data": {
            "text/plain": [
              "('I love the Java language. I also use Java to build applications at work!', 2)"
            ]
          },
          "metadata": {},
          "execution_count": 81
        }
      ],
      "source": [
        "re.subn(pattern, 'Java', s2, flags=re.IGNORECASE)"
      ]
    },
    {
      "cell_type": "code",
      "execution_count": 82,
      "metadata": {
        "id": "hAffLJRBoWIe",
        "outputId": "cccb95a4-46b1-4f4d-cd34-7f5e5fc6843f",
        "colab": {
          "base_uri": "https://localhost:8080/",
          "height": 35
        }
      },
      "outputs": [
        {
          "output_type": "execute_result",
          "data": {
            "text/plain": [
              "'Hèllo! this is Python 🐍'"
            ],
            "application/vnd.google.colaboratory.intrinsic+json": {
              "type": "string"
            }
          },
          "metadata": {},
          "execution_count": 82
        }
      ],
      "source": [
        "# dealing with unicode matching using regexes\n",
        "s = u'H\\u00e8llo! this is Python 🐍'\n",
        "s"
      ]
    },
    {
      "cell_type": "code",
      "execution_count": 83,
      "metadata": {
        "id": "MDa_oIftoWIe",
        "outputId": "7993936a-610b-40bf-8277-007f034794c0",
        "colab": {
          "base_uri": "https://localhost:8080/"
        }
      },
      "outputs": [
        {
          "output_type": "execute_result",
          "data": {
            "text/plain": [
              "['Hèllo', 'this', 'is', 'Python']"
            ]
          },
          "metadata": {},
          "execution_count": 83
        }
      ],
      "source": [
        "re.findall(r'\\w+', s)"
      ]
    },
    {
      "cell_type": "code",
      "execution_count": 84,
      "metadata": {
        "id": "xpeZcALaoWIe",
        "outputId": "edd7ac6b-1a4d-4df0-ef07-cc98fe9f8326",
        "colab": {
          "base_uri": "https://localhost:8080/"
        }
      },
      "outputs": [
        {
          "output_type": "execute_result",
          "data": {
            "text/plain": [
              "['Hèllo', 'Python']"
            ]
          },
          "metadata": {},
          "execution_count": 84
        }
      ],
      "source": [
        "re.findall(r\"[A-Z]\\w+\", s, re.UNICODE)"
      ]
    },
    {
      "cell_type": "code",
      "execution_count": 85,
      "metadata": {
        "id": "rfzIYNWhoWIf",
        "outputId": "f9a170cd-4bce-40b6-8275-7d7decde6601",
        "colab": {
          "base_uri": "https://localhost:8080/"
        }
      },
      "outputs": [
        {
          "output_type": "execute_result",
          "data": {
            "text/plain": [
              "['🐍']"
            ]
          },
          "metadata": {},
          "execution_count": 85
        }
      ],
      "source": [
        "emoji_pattern = r\"['\\U0001F300-\\U0001F5FF'|'\\U0001F600-\\U0001F64F'|'\\U0001F680-\\U0001F6FF'|'\\u2600-\\u26FF\\u2700-\\u27BF']\"\n",
        "re.findall(emoji_pattern, s, re.UNICODE)"
      ]
    },
    {
      "cell_type": "markdown",
      "metadata": {
        "id": "pEFi9im4oWIf"
      },
      "source": [
        "# Putting it all together - Basic Text Processing and Analysis"
      ]
    },
    {
      "cell_type": "code",
      "source": [
        "from google.colab import drive\n",
        "drive.mount('/content/drive')"
      ],
      "metadata": {
        "colab": {
          "base_uri": "https://localhost:8080/"
        },
        "id": "WW46x-kIVKsu",
        "outputId": "0f36a54a-a911-40a9-c0c0-59499c743435"
      },
      "execution_count": 87,
      "outputs": [
        {
          "output_type": "stream",
          "name": "stdout",
          "text": [
            "Mounted at /content/drive\n"
          ]
        }
      ]
    },
    {
      "cell_type": "code",
      "source": [
        "import nltk\n",
        "nltk.download('gutenberg')\n",
        "nltk.download('stopwords')"
      ],
      "metadata": {
        "colab": {
          "base_uri": "https://localhost:8080/"
        },
        "id": "CCZykFTpWN2j",
        "outputId": "41209f17-5e00-4a12-dbff-e5cef3ea4498"
      },
      "execution_count": 91,
      "outputs": [
        {
          "output_type": "stream",
          "name": "stderr",
          "text": [
            "[nltk_data] Downloading package gutenberg to /root/nltk_data...\n",
            "[nltk_data]   Unzipping corpora/gutenberg.zip.\n",
            "[nltk_data] Downloading package stopwords to /root/nltk_data...\n",
            "[nltk_data]   Unzipping corpora/stopwords.zip.\n"
          ]
        },
        {
          "output_type": "execute_result",
          "data": {
            "text/plain": [
              "True"
            ]
          },
          "metadata": {},
          "execution_count": 91
        }
      ]
    },
    {
      "cell_type": "code",
      "execution_count": 92,
      "metadata": {
        "id": "IL7kCRIfoWIf",
        "outputId": "2bdb9ba3-69a3-4059-d461-ee7872409a05",
        "colab": {
          "base_uri": "https://localhost:8080/"
        }
      },
      "outputs": [
        {
          "output_type": "execute_result",
          "data": {
            "text/plain": [
              "['[The King James Bible]\\n',\n",
              " '\\n',\n",
              " 'The Old Testament of the King James Bible\\n',\n",
              " '\\n',\n",
              " 'The First Book of Moses:  Called Genesis\\n']"
            ]
          },
          "metadata": {},
          "execution_count": 92
        }
      ],
      "source": [
        "from nltk.corpus import gutenberg\n",
        "import matplotlib.pyplot as plt\n",
        "\n",
        "%matplotlib inline\n",
        "\n",
        "bible = gutenberg.open('/content/drive/MyDrive/data/bible-kjv.txt')\n",
        "bible = bible.readlines()\n",
        "\n",
        "bible[:5]"
      ]
    },
    {
      "cell_type": "code",
      "execution_count": 93,
      "metadata": {
        "id": "vIpUl5ijoWIf",
        "outputId": "e18892aa-3f34-4bdf-e5f8-561899b6f0ba",
        "colab": {
          "base_uri": "https://localhost:8080/"
        }
      },
      "outputs": [
        {
          "output_type": "execute_result",
          "data": {
            "text/plain": [
              "99805"
            ]
          },
          "metadata": {},
          "execution_count": 93
        }
      ],
      "source": [
        "len(bible)"
      ]
    },
    {
      "cell_type": "code",
      "execution_count": 94,
      "metadata": {
        "id": "Iy125GQfoWIf",
        "outputId": "d23020c3-dfa9-4c28-c69d-8dc4dc073c19",
        "colab": {
          "base_uri": "https://localhost:8080/"
        }
      },
      "outputs": [
        {
          "output_type": "execute_result",
          "data": {
            "text/plain": [
              "['[The King James Bible]',\n",
              " 'The Old Testament of the King James Bible',\n",
              " 'The First Book of Moses:  Called Genesis',\n",
              " '1:1 In the beginning God created the heaven and the earth.',\n",
              " '1:2 And the earth was without form, and void; and darkness was upon']"
            ]
          },
          "metadata": {},
          "execution_count": 94
        }
      ],
      "source": [
        "bible = list(filter(None, [item.strip('\\n') for item in bible]))\n",
        "bible[:5]"
      ]
    },
    {
      "cell_type": "code",
      "execution_count": 95,
      "metadata": {
        "id": "Spd2hzYpoWIf",
        "outputId": "81e6bf69-d3c3-4a00-b8c2-a7e5875684e0",
        "colab": {
          "base_uri": "https://localhost:8080/"
        }
      },
      "outputs": [
        {
          "output_type": "execute_result",
          "data": {
            "text/plain": [
              "74645"
            ]
          },
          "metadata": {},
          "execution_count": 95
        }
      ],
      "source": [
        "len(bible)"
      ]
    },
    {
      "cell_type": "code",
      "execution_count": 96,
      "metadata": {
        "id": "I1GgbCt5oWIf",
        "outputId": "9f952af2-6eab-49d9-b7a3-dd536491601a",
        "colab": {
          "base_uri": "https://localhost:8080/",
          "height": 430
        }
      },
      "outputs": [
        {
          "output_type": "display_data",
          "data": {
            "text/plain": [
              "<Figure size 640x480 with 1 Axes>"
            ],
            "image/png": "[encoded data removed]"
          },
          "metadata": {}
        }
      ],
      "source": [
        "line_lengths = [len(sentence) for sentence in bible]\n",
        "h = plt.hist(line_lengths)"
      ]
    },
    {
      "cell_type": "code",
      "execution_count": 97,
      "metadata": {
        "id": "M2OYg_XsoWIf",
        "outputId": "67a99fe1-dc8c-400d-bae9-0bca0afeafa0",
        "colab": {
          "base_uri": "https://localhost:8080/"
        }
      },
      "outputs": [
        {
          "output_type": "stream",
          "name": "stdout",
          "text": [
            "[['[The', 'King', 'James', 'Bible]'], ['The', 'Old', 'Testament', 'of', 'the', 'King', 'James', 'Bible'], ['The', 'First', 'Book', 'of', 'Moses:', 'Called', 'Genesis'], ['1:1', 'In', 'the', 'beginning', 'God', 'created', 'the', 'heaven', 'and', 'the', 'earth.'], ['1:2', 'And', 'the', 'earth', 'was', 'without', 'form,', 'and', 'void;', 'and', 'darkness', 'was', 'upon']]\n"
          ]
        }
      ],
      "source": [
        "tokens = [item.split() for item in bible]\n",
        "print(tokens[:5])"
      ]
    },
    {
      "cell_type": "code",
      "execution_count": 98,
      "metadata": {
        "id": "DeS0eDiGoWIf",
        "outputId": "82d1c592-cbb0-43c1-b2e4-5d40a947ccdd",
        "colab": {
          "base_uri": "https://localhost:8080/",
          "height": 430
        }
      },
      "outputs": [
        {
          "output_type": "display_data",
          "data": {
            "text/plain": [
              "<Figure size 640x480 with 1 Axes>"
            ],
            "image/png": "[encoded data removed]"
          },
          "metadata": {}
        }
      ],
      "source": [
        "total_tokens_per_line = [len(sentence.split()) for sentence in bible]\n",
        "h = plt.hist(total_tokens_per_line, color='orange')"
      ]
    },
    {
      "cell_type": "code",
      "execution_count": 99,
      "metadata": {
        "id": "Mogza5vQoWIf",
        "outputId": "e41d387e-eb43-4aa0-9a2e-83cee7c1a7ed",
        "colab": {
          "base_uri": "https://localhost:8080/"
        }
      },
      "outputs": [
        {
          "output_type": "stream",
          "name": "stdout",
          "text": [
            "['[The', 'King', 'James', 'Bible]', 'The', 'Old', 'Testament', 'of', 'the', 'King', 'James', 'Bible', 'The', 'First', 'Book', 'of', 'Moses:', 'Called', 'Genesis', '1:1']\n"
          ]
        }
      ],
      "source": [
        "words = [word for sentence in tokens for word in sentence]\n",
        "print(words[:20])"
      ]
    },
    {
      "cell_type": "code",
      "execution_count": 100,
      "metadata": {
        "id": "MrH3zzVioWIf",
        "outputId": "d7ee0346-68e7-463d-84dd-d22bf8f271a8",
        "colab": {
          "base_uri": "https://localhost:8080/"
        }
      },
      "outputs": [
        {
          "output_type": "stream",
          "name": "stdout",
          "text": [
            "['The', 'King', 'James', 'Bible', 'The', 'Old', 'Testament', 'of', 'the', 'King', 'James', 'Bible', 'The', 'First', 'Book', 'of', 'Moses', 'Called', 'Genesis', 'In']\n"
          ]
        }
      ],
      "source": [
        "words = list(filter(None, [re.sub(r'[^A-Za-z]', '', word) for word in words]))\n",
        "print(words[:20])"
      ]
    },
    {
      "cell_type": "code",
      "execution_count": 101,
      "metadata": {
        "id": "C4MjKeQMoWIf",
        "outputId": "0b5c5121-c2c6-4b4d-c0e5-5e7b62018be0",
        "colab": {
          "base_uri": "https://localhost:8080/"
        }
      },
      "outputs": [
        {
          "output_type": "execute_result",
          "data": {
            "text/plain": [
              "[('the', 64023),\n",
              " ('and', 51696),\n",
              " ('of', 34670),\n",
              " ('to', 13580),\n",
              " ('that', 12912),\n",
              " ('in', 12667),\n",
              " ('he', 10419),\n",
              " ('shall', 9838),\n",
              " ('unto', 8997),\n",
              " ('for', 8970)]"
            ]
          },
          "metadata": {},
          "execution_count": 101
        }
      ],
      "source": [
        "from collections import Counter\n",
        "\n",
        "words = [word.lower() for word in words]\n",
        "c = Counter(words)\n",
        "c.most_common(10)"
      ]
    },
    {
      "cell_type": "code",
      "execution_count": 102,
      "metadata": {
        "id": "jNGcxyW-oWIf",
        "outputId": "ae88468e-c22a-4f91-c390-57e153a8ec00",
        "colab": {
          "base_uri": "https://localhost:8080/"
        }
      },
      "outputs": [
        {
          "output_type": "execute_result",
          "data": {
            "text/plain": [
              "[('shall', 9838),\n",
              " ('unto', 8997),\n",
              " ('lord', 7830),\n",
              " ('thou', 5474),\n",
              " ('thy', 4600),\n",
              " ('god', 4442),\n",
              " ('said', 3999),\n",
              " ('ye', 3983),\n",
              " ('thee', 3826),\n",
              " ('upon', 2748)]"
            ]
          },
          "metadata": {},
          "execution_count": 102
        }
      ],
      "source": [
        "import nltk\n",
        "\n",
        "stopwords = nltk.corpus.stopwords.words('english')\n",
        "words = [word.lower() for word in words if word.lower() not in stopwords]\n",
        "c = Counter(words)\n",
        "c.most_common(10)"
      ]
    }
  ],
  "metadata": {
    "anaconda-cloud": {},
    "kernelspec": {
      "display_name": "Python 3",
      "language": "python",
      "name": "python3"
    },
    "language_info": {
      "codemirror_mode": {
        "name": "ipython",
        "version": 3
      },
      "file_extension": ".py",
      "mimetype": "text/x-python",
      "name": "python",
      "nbconvert_exporter": "python",
      "pygments_lexer": "ipython3",
      "version": "3.6.5"
    },
    "colab": {
      "provenance": [],
      "include_colab_link": true
    }
  },
  "nbformat": 4,
  "nbformat_minor": 0
}