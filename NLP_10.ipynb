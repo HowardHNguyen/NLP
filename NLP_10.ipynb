{
  "nbformat": 4,
  "nbformat_minor": 0,
  "metadata": {
    "colab": {
      "name": "NLP-10.ipynb",
      "provenance": [],
      "authorship_tag": "ABX9TyPd4Q379TkDwoYvqtzqs2O5",
      "include_colab_link": true
    },
    "kernelspec": {
      "name": "python3",
      "display_name": "Python 3"
    },
    "language_info": {
      "name": "python"
    }
  },
  "cells": [
    {
      "cell_type": "markdown",
      "metadata": {
        "id": "view-in-github",
        "colab_type": "text"
      },
      "source": [
        "<a href=\"https://colab.research.google.com/github/HowardHNguyen/NLP/blob/main/NLP_10.ipynb\" target=\"_parent\"><img src=\"https://colab.research.google.com/assets/colab-badge.svg\" alt=\"Open In Colab\"/></a>"
      ]
    },
    {
      "cell_type": "code",
      "metadata": {
        "id": "gzdL0hqQdjod"
      },
      "source": [
        "  v\n",
        " import tensorflow as tf"
      ],
      "execution_count": null,
      "outputs": []
    },
    {
      "cell_type": "code",
      "metadata": {
        "id": "OZVnKJvBf8D-"
      },
      "source": [
        "# Compute Sigmoid\n",
        "inputData = tf.constant([[0.1, 0.2]])\n",
        "#layer1\n",
        "W1 = tf.constant([[0.15], [0.05]])\n",
        "b1 = tf.constant([[0.33]])\n",
        "#layer2\n",
        "W2 = tf.cast(tf.constant([[0.36]]), tf.float32)\n",
        "b2 = tf.cast(tf.constant([[0.56]]),tf.float32)"
      ],
      "execution_count": null,
      "outputs": []
    },
    {
      "cell_type": "code",
      "metadata": {
        "id": "ZIQlqegrGa1O",
        "colab": {
          "base_uri": "https://localhost:8080/"
        },
        "outputId": "ca02dbfe-c396-40bd-c0e4-e973cd49b07b"
      },
      "source": [
        "for activation_func in range(1,5):\n",
        "  #Sigmoid\n",
        "  if (activation_func == 1):\n",
        "     z1 = tf.matmul(inputData, W1) + b1\n",
        "     a1 = tf.sigmoid(tf.cast(z1, tf.float32))\n",
        "\n",
        "     z2 = tf.matmul(a1, W2) + b2\n",
        "     a2 = tf.sigmoid(tf.cast(z2, tf.float32))\n",
        "     print('Activation Function = Sigmoid')\n",
        "     print('Value of a1 = ', a1)\n",
        "     print('Value of a2 = ', a2)\n",
        "     print()\n",
        "  #Linear\n",
        "  if (activation_func == 2):\n",
        "     z1 = tf.matmul(inputData, W1) + b1\n",
        "     a1 = tf.cast(z1, tf.float32)\n",
        "\n",
        "     z2 = tf.matmul(a1, W2) + b2\n",
        "     a2 = tf.cast(z2, tf.float32)\n",
        "     print('Activation Function = Linear')\n",
        "     print('Value of a1 = ', a1)\n",
        "     print('Value of a2 = ', a2)\n",
        "     print()\n",
        "  #tanh\n",
        "  if (activation_func == 3):\n",
        "     z1 = tf.matmul(inputData, W1) + b1\n",
        "     a1 = tf.tanh(tf.cast(z1, tf.float32))\n",
        "\n",
        "     z2 = tf.matmul(a1, W2) + b2\n",
        "     a2 = tf.tanh(tf.cast(z2, tf.float32))\n",
        "     print('Activation Function = tanh')\n",
        "     print('Value of a1 = ', a1)\n",
        "     print('Value of a2 = ', a2)\n",
        "     print()\n",
        "  #ReLu\n",
        "  if (activation_func == 4):\n",
        "     z1 = tf.matmul(inputData, W1) + b1\n",
        "     a1 = tf.nn.relu(tf.cast(z1, tf.float32))\n",
        "\n",
        "     z2 = tf.matmul(a1, W2) + b2\n",
        "     a2 = tf.nn.relu(tf.cast(z2, tf.float32))\n",
        "     print('Activation Function = ReLu')\n",
        "\n",
        "print('Value of a1 = ', a1)\n",
        "print('Value of a2 = ', a2)\n",
        "print()"
      ],
      "execution_count": null,
      "outputs": [
        {
          "output_type": "stream",
          "text": [
            "Activation Function = Sigmoid\n",
            "Value of a1 =  tf.Tensor([[0.58782953]], shape=(1, 1), dtype=float32)\n",
            "Value of a2 =  tf.Tensor([[0.6838709]], shape=(1, 1), dtype=float32)\n",
            "\n",
            "Activation Function = Linear\n",
            "Value of a1 =  tf.Tensor([[0.35500002]], shape=(1, 1), dtype=float32)\n",
            "Value of a2 =  tf.Tensor([[0.68780005]], shape=(1, 1), dtype=float32)\n",
            "\n",
            "Activation Function = tanh\n",
            "Value of a1 =  tf.Tensor([[0.34080228]], shape=(1, 1), dtype=float32)\n",
            "Value of a2 =  tf.Tensor([[0.5932647]], shape=(1, 1), dtype=float32)\n",
            "\n",
            "Activation Function = ReLu\n",
            "Value of a1 =  tf.Tensor([[0.35500002]], shape=(1, 1), dtype=float32)\n",
            "Value of a2 =  tf.Tensor([[0.68780005]], shape=(1, 1), dtype=float32)\n",
            "\n"
          ],
          "name": "stdout"
        }
      ]
    },
    {
      "cell_type": "code",
      "metadata": {
        "id": "UYW4ArfSGaxd"
      },
      "source": [
        ""
      ],
      "execution_count": null,
      "outputs": []
    },
    {
      "cell_type": "code",
      "metadata": {
        "id": "7cwUMYXSGasv"
      },
      "source": [
        "######### Problem #2\n",
        "import numpy as np\n",
        "import matplotlib.pyplot as plt\n",
        "%matplotlib inline"
      ],
      "execution_count": null,
      "outputs": []
    },
    {
      "cell_type": "code",
      "metadata": {
        "id": "SztkvwV5GanJ"
      },
      "source": [
        "#Function definition: miu of x = 1/(1+e^-x)\n",
        "def sigmoid(x):\n",
        "  return 1/(1+np.exp(-x))\n",
        "\n",
        "def der_sigmoid(x):\n",
        "  return sigmoid(x)*(1-sigmoid(x))\n",
        "\n",
        "def tanh(x):\n",
        "  return np.tanh(x)\n",
        "\n",
        "def der_tanh(x):\n",
        "  return 1 - tanh(x)**2\n",
        "\n",
        "x = np.arange(-6,6,0.1)"
      ],
      "execution_count": null,
      "outputs": []
    },
    {
      "cell_type": "code",
      "metadata": {
        "colab": {
          "base_uri": "https://localhost:8080/",
          "height": 316
        },
        "id": "kkRZgrLg0kXv",
        "outputId": "d0cb7a43-3111-4366-a69e-e9fad57dce12"
      },
      "source": [
        "s = sigmoid(x)\n",
        "sDer = der_sigmoid(x)\n",
        "\n",
        "plt.plot(x,s)\n",
        "plt.plot(x,sDer)\n",
        "print('Sigmoid grdient value at x = -0.4 : ', der_sigmoid(-4.0))\n",
        "print('Sigmoid grdient value at x = 0.5 : ', der_sigmoid(0.5))\n",
        "print('Sigmoid grdient value at x = 4.0 : ', der_sigmoid(4.0))"
      ],
      "execution_count": null,
      "outputs": [
        {
          "output_type": "stream",
          "text": [
            "Sigmoid grdient value at x = -0.4 :  0.017662706213291118\n",
            "Sigmoid grdient value at x = 0.5 :  0.2350037122015945\n",
            "Sigmoid grdient value at x = 4.0 :  0.017662706213291107\n"
          ],
          "name": "stdout"
        },
        {
          "output_type": "display_data",
          "data": {
            "image/png": "[encoded data removed]",
            "text/plain": [
              "<Figure size 432x288 with 1 Axes>"
            ]
          },
          "metadata": {
            "tags": [],
            "needs_background": "light"
          }
        }
      ]
    },
    {
      "cell_type": "code",
      "metadata": {
        "colab": {
          "base_uri": "https://localhost:8080/",
          "height": 316
        },
        "id": "STI84JEH0kUR",
        "outputId": "1eb6b2e9-f6e7-4b60-8903-4e57a3993266"
      },
      "source": [
        "s = tanh(x)\n",
        "sDer = der_tanh(x)\n",
        "\n",
        "plt.plot(x,s)\n",
        "plt.plot(x,sDer)\n",
        "print('tanh grdient value at x = -0.4 : ', der_tanh(-4.0))\n",
        "print('tanh grdient value at x = 0.5 : ', der_tanh(0.5))\n",
        "print('tanh grdient value at x = 4.0 : ', der_tanh(4.0))"
      ],
      "execution_count": null,
      "outputs": [
        {
          "output_type": "stream",
          "text": [
            "tanh grdient value at x = -0.4 :  0.0013409506830258655\n",
            "tanh grdient value at x = 0.5 :  0.7864477329659274\n",
            "tanh grdient value at x = 4.0 :  0.0013409506830258655\n"
          ],
          "name": "stdout"
        },
        {
          "output_type": "display_data",
          "data": {
            "image/png": "[encoded data removed]",
            "text/plain": [
              "<Figure size 432x288 with 1 Axes>"
            ]
          },
          "metadata": {
            "tags": [],
            "needs_background": "light"
          }
        }
      ]
    },
    {
      "cell_type": "code",
      "metadata": {
        "colab": {
          "base_uri": "https://localhost:8080/",
          "height": 316
        },
        "id": "6Ooi-kMv1WC4",
        "outputId": "af8e45bd-34c9-4db6-e4fe-6ced4df1d5c8"
      },
      "source": [
        "s = tf.nn.relu(x)\n",
        "sDer = []\n",
        "for i in range (0,len(s)):\n",
        "  if x[i] <- 0:\n",
        "    sDer.append(0)\n",
        "  else:\n",
        "    sDer.append(1)\n",
        "plt.plot(x,s)\n",
        "plt.plot(x,np.array(sDer))\n",
        "print('ReLu grdient value at x = -0.4 : ', sDer[int((-4.0+6)*10)])\n",
        "print('ReLu grdient value at x = 0.5 : ', sDer[int((0.5+6)*10)])\n",
        "print('ReLu grdient value at x = 4.0 : ', sDer[int((4.0+6)*10)])"
      ],
      "execution_count": null,
      "outputs": [
        {
          "output_type": "stream",
          "text": [
            "ReLu grdient value at x = -0.4 :  0\n",
            "ReLu grdient value at x = 0.5 :  1\n",
            "ReLu grdient value at x = 4.0 :  1\n"
          ],
          "name": "stdout"
        },
        {
          "output_type": "display_data",
          "data": {
            "image/png": "[encoded data removed]",
            "text/plain": [
              "<Figure size 432x288 with 1 Axes>"
            ]
          },
          "metadata": {
            "tags": [],
            "needs_background": "light"
          }
        }
      ]
    },
    {
      "cell_type": "code",
      "metadata": {
        "colab": {
          "base_uri": "https://localhost:8080/"
        },
        "id": "iKiXtoRX1V-l",
        "outputId": "560d4787-70f8-4fad-9d6b-f5e0f82da30b"
      },
      "source": [
        "############333333333333333333333333333\n",
        "#3a\n",
        "inputVector = tf.constant([2.3,1.2,0.3,0.0])\n",
        "sMax = tf.nn.softmax(inputVector)\n",
        "print(inputVector)\n",
        "print(sMax)\n",
        "print(np.sum(sMax))"
      ],
      "execution_count": null,
      "outputs": [
        {
          "output_type": "stream",
          "text": [
            "tf.Tensor([2.3 1.2 0.3 0. ], shape=(4,), dtype=float32)\n",
            "tf.Tensor([0.6375659  0.21222727 0.08628516 0.06392162], shape=(4,), dtype=float32)\n",
            "1.0\n"
          ],
          "name": "stdout"
        }
      ]
    },
    {
      "cell_type": "code",
      "metadata": {
        "colab": {
          "base_uri": "https://localhost:8080/"
        },
        "id": "ka5BHM7v3PDa",
        "outputId": "c8df0235-5b74-4645-f45b-560a1f6c292e"
      },
      "source": [
        "#3b\n",
        "inputVector = tf.constant([1.9,1.7,2.6,0.2,1.3])\n",
        "sMax = tf.nn.softmax(inputVector)\n",
        "print(inputVector)\n",
        "print(sMax)\n",
        "print(np.sum(sMax))"
      ],
      "execution_count": null,
      "outputs": [
        {
          "output_type": "stream",
          "text": [
            "tf.Tensor([1.9 1.7 2.6 0.2 1.3], shape=(5,), dtype=float32)\n",
            "tf.Tensor([0.21910708 0.17938972 0.44122744 0.04002725 0.12024851], shape=(5,), dtype=float32)\n",
            "1.0\n"
          ],
          "name": "stdout"
        }
      ]
    },
    {
      "cell_type": "code",
      "metadata": {
        "colab": {
          "base_uri": "https://localhost:8080/",
          "height": 312
        },
        "id": "uYHgOMJp3Ozd",
        "outputId": "f6e84252-4b3e-4b61-8251-dd91addb728b"
      },
      "source": [
        "#####$444444\n",
        "all_computed_values = np.arange(0.01,1,0.01)\n",
        "ceefHistory = np.zeros(len(all_computed_values))\n",
        "cvHistory = np.zeros(len(all_computed_values))\n",
        "\n",
        "def cross_entropy (t,c):\n",
        "  return -1*(t*np.log(c)+(1-t)*(np.log(1-c)))\n",
        "i = 0\n",
        "target = 0\n",
        "\n",
        "for compValue in all_computed_values:\n",
        "  cvHistory[i] = compValue\n",
        "  ceefHistory[i] = cross_entropy(target, compValue)\n",
        "  i = i+ 1\n",
        "\n",
        "plt.plot(cvHistory, ceefHistory)\n",
        "plt.xlabel(\"Computed Value\")\n",
        "plt.ylabel(\"Cross Entropy Error Function\")\n",
        "plt.title(\"Target Value = 0\")"
      ],
      "execution_count": null,
      "outputs": [
        {
          "output_type": "execute_result",
          "data": {
            "text/plain": [
              "Text(0.5, 1.0, 'Target Value = 0')"
            ]
          },
          "metadata": {
            "tags": []
          },
          "execution_count": 22
        },
        {
          "output_type": "display_data",
          "data": {
            "image/png": "[encoded data removed]",
            "text/plain": [
              "<Figure size 432x288 with 1 Axes>"
            ]
          },
          "metadata": {
            "tags": [],
            "needs_background": "light"
          }
        }
      ]
    },
    {
      "cell_type": "code",
      "metadata": {
        "colab": {
          "base_uri": "https://localhost:8080/"
        },
        "id": "PRg5emuU0kQ4",
        "outputId": "76061cf9-c0d7-4d0e-ba60-047b58a73f8f"
      },
      "source": [
        "target = 0\n",
        "print('Target =', target)\n",
        "compValue = 0.95\n",
        "print('Computed Value = ', compValue, 'Cost Function = ', cross_entropy(target,compValue))\n",
        "compValue = 0.8\n",
        "print('Computed Value = ', compValue, 'Cost Function = ', cross_entropy(target,compValue))\n",
        "compValue = 0.6\n",
        "print('Computed Value = ', compValue, 'Cost Function = ', cross_entropy(target,compValue))\n",
        "compValue = 0.4\n",
        "print('Computed Value = ', compValue, 'Cost Function = ', cross_entropy(target,compValue))\n",
        "compValue = 0.1\n",
        "print('Computed Value = ', compValue, 'Cost Function = ', cross_entropy(target,compValue))"
      ],
      "execution_count": null,
      "outputs": [
        {
          "output_type": "stream",
          "text": [
            "Target = 0\n",
            "Computed Value =  0.95 Cost Function =  2.99573227355399\n",
            "Computed Value =  0.8 Cost Function =  1.6094379124341005\n",
            "Computed Value =  0.6 Cost Function =  0.916290731874155\n",
            "Computed Value =  0.4 Cost Function =  0.5108256237659907\n",
            "Computed Value =  0.1 Cost Function =  0.10536051565782628\n"
          ],
          "name": "stdout"
        }
      ]
    },
    {
      "cell_type": "code",
      "metadata": {
        "colab": {
          "base_uri": "https://localhost:8080/",
          "height": 312
        },
        "id": "wN5vrDtZ5XUn",
        "outputId": "c6354d90-dcc5-4485-a394-da889efb40df"
      },
      "source": [
        "i = 0\n",
        "target = 1\n",
        "for compValue in all_computed_values:\n",
        "  cvHistory[i] = compValue\n",
        "  ceefHistory[i] = cross_entropy(target, compValue)\n",
        "  i = i + 1\n",
        "\n",
        "plt.plot(cvHistory, ceefHistory)\n",
        "plt.xlabel(\"Computed Value\")\n",
        "plt.ylabel(\"Cross Entropy Error Function\")\n",
        "plt.title(\"Target Value = 1\")"
      ],
      "execution_count": null,
      "outputs": [
        {
          "output_type": "execute_result",
          "data": {
            "text/plain": [
              "Text(0.5, 1.0, 'Target Value = 1')"
            ]
          },
          "metadata": {
            "tags": []
          },
          "execution_count": 24
        },
        {
          "output_type": "display_data",
          "data": {
            "image/png": "[encoded data removed]",
            "text/plain": [
              "<Figure size 432x288 with 1 Axes>"
            ]
          },
          "metadata": {
            "tags": [],
            "needs_background": "light"
          }
        }
      ]
    },
    {
      "cell_type": "code",
      "metadata": {
        "colab": {
          "base_uri": "https://localhost:8080/"
        },
        "id": "-Vs_Adp95XKt",
        "outputId": "2f26e456-a548-4478-945e-d62d9f187a83"
      },
      "source": [
        "target = 1\n",
        "print('Target =', target)\n",
        "compValue = 0.95\n",
        "print('Computed Value = ', compValue, 'Cost Function = ', cross_entropy(target,compValue))\n",
        "compValue = 0.8\n",
        "print('Computed Value = ', compValue, 'Cost Function = ', cross_entropy(target,compValue))\n",
        "compValue = 0.6\n",
        "print('Computed Value = ', compValue, 'Cost Function = ', cross_entropy(target,compValue))\n",
        "compValue = 0.4\n",
        "print('Computed Value = ', compValue, 'Cost Function = ', cross_entropy(target,compValue))\n",
        "compValue = 0.1\n",
        "print('Computed Value = ', compValue, 'Cost Function = ', cross_entropy(target,compValue))"
      ],
      "execution_count": null,
      "outputs": [
        {
          "output_type": "stream",
          "text": [
            "Target = 1\n",
            "Computed Value =  0.95 Cost Function =  0.05129329438755058\n",
            "Computed Value =  0.8 Cost Function =  0.2231435513142097\n",
            "Computed Value =  0.6 Cost Function =  0.5108256237659907\n",
            "Computed Value =  0.4 Cost Function =  0.916290731874155\n",
            "Computed Value =  0.1 Cost Function =  2.3025850929940455\n"
          ],
          "name": "stdout"
        }
      ]
    },
    {
      "cell_type": "code",
      "metadata": {
        "colab": {
          "base_uri": "https://localhost:8080/"
        },
        "id": "4tF--laO5XF_",
        "outputId": "9552406f-0600-48a0-9b4d-ca5b10ec64aa"
      },
      "source": [
        "###########555555555555\n",
        "a = tf.constant([[5,2,3],[26,56,92],[3,0,26]])\n",
        "indexColumn = tf.argmax(a, axis=0)\n",
        "indexRow = tf.argmax(a,axis=1)\n",
        "\n",
        "print(a)\n",
        "print(\"Index of maximum column\")\n",
        "print(indexColumn)\n",
        "print(\"Index of maximum row\")\n",
        "print(indexRow)"
      ],
      "execution_count": null,
      "outputs": [
        {
          "output_type": "stream",
          "text": [
            "tf.Tensor(\n",
            "[[ 5  2  3]\n",
            " [26 56 92]\n",
            " [ 3  0 26]], shape=(3, 3), dtype=int32)\n",
            "Index of maximum column\n",
            "tf.Tensor([1 1 1], shape=(3,), dtype=int64)\n",
            "Index of maximum row\n",
            "tf.Tensor([0 2 2], shape=(3,), dtype=int64)\n"
          ],
          "name": "stdout"
        }
      ]
    },
    {
      "cell_type": "code",
      "metadata": {
        "colab": {
          "base_uri": "https://localhost:8080/"
        },
        "id": "RfyfhN9s6jth",
        "outputId": "cfa6f784-8fda-4195-da93-a4d3cd64034b"
      },
      "source": [
        "###############66666666666\n",
        "inputData = tf.constant([[0,0]])\n",
        "W1 = tf.constant([[-4,-6,-5],[3,6,4]])\n",
        "b1 = tf.constant([[-2,3,-2]])\n",
        "outputH1 = tf.matmul(inputData, W1) +b1\n",
        "outputH1_activation = tf.sigmoid(tf.cast(outputH1, tf.float32))\n",
        "\n",
        "W2 = tf.cast(tf.constant([[5],[-9],[7]]),tf.float32)\n",
        "b2 = tf.cast(tf.constant([[4]]),tf.float32)\n",
        "outputH2 = tf.matmul(outputH1_activation, W2) +b2\n",
        "outputH2_activation = tf.sigmoid(tf.cast(outputH2, tf.float32))\n",
        "\n",
        "print(outputH2_activation)"
      ],
      "execution_count": null,
      "outputs": [
        {
          "output_type": "stream",
          "text": [
            "tf.Tensor([[0.04137862]], shape=(1, 1), dtype=float32)\n"
          ],
          "name": "stdout"
        }
      ]
    },
    {
      "cell_type": "code",
      "metadata": {
        "colab": {
          "base_uri": "https://localhost:8080/"
        },
        "id": "UJuk9JNl6jos",
        "outputId": "d969bae4-f7aa-4e38-aff1-64d1f53d9708"
      },
      "source": [
        "error = (0 - outputH2_activation)**2\n",
        "print(error)"
      ],
      "execution_count": null,
      "outputs": [
        {
          "output_type": "stream",
          "text": [
            "tf.Tensor([[0.00171219]], shape=(1, 1), dtype=float32)\n"
          ],
          "name": "stdout"
        }
      ]
    },
    {
      "cell_type": "code",
      "metadata": {
        "colab": {
          "base_uri": "https://localhost:8080/"
        },
        "id": "OrK47A1F0kN0",
        "outputId": "116edda9-7a58-4d1d-f2be-fb6436810263"
      },
      "source": [
        "inputData = tf.constant([[1,0]])\n",
        "W1 = tf.constant([[-4,-6,-5],[3,6,4]])\n",
        "b1 = tf.constant([[-2,3,-2]])\n",
        "outputH1 = tf.matmul(inputData, W1) +b1\n",
        "outputH1_activation = tf.sigmoid(tf.cast(outputH1, tf.float32))\n",
        "\n",
        "W2 = tf.cast(tf.constant([[5],[-9],[7]]),tf.float32)\n",
        "b2 = tf.cast(tf.constant([[4]]),tf.float32)\n",
        "outputH2 = tf.matmul(outputH1_activation, W2) +b2\n",
        "outputH2_activation = tf.sigmoid(tf.cast(outputH2, tf.float32))\n",
        "\n",
        "print(outputH2_activation)"
      ],
      "execution_count": null,
      "outputs": [
        {
          "output_type": "stream",
          "text": [
            "tf.Tensor([[0.9731927]], shape=(1, 1), dtype=float32)\n"
          ],
          "name": "stdout"
        }
      ]
    },
    {
      "cell_type": "code",
      "metadata": {
        "colab": {
          "base_uri": "https://localhost:8080/"
        },
        "id": "KMU2E1E2_rBZ",
        "outputId": "c73e6504-1190-407d-c6e3-4c7d2823481e"
      },
      "source": [
        "error = (1 - outputH2_activation)**2\n",
        "print(error)"
      ],
      "execution_count": null,
      "outputs": [
        {
          "output_type": "stream",
          "text": [
            "tf.Tensor([[0.00071863]], shape=(1, 1), dtype=float32)\n"
          ],
          "name": "stdout"
        }
      ]
    },
    {
      "cell_type": "code",
      "metadata": {
        "colab": {
          "base_uri": "https://localhost:8080/"
        },
        "id": "aZDuHP-D_q-l",
        "outputId": "230c276f-6cc1-4ec5-a80c-3cb7bcb750fa"
      },
      "source": [
        "inputData = tf.constant([[0,1]])\n",
        "W1 = tf.constant([[-4,-6,-5],[3,6,4]])\n",
        "b1 = tf.constant([[-2,3,-2]])\n",
        "outputH1 = tf.matmul(inputData, W1) +b1\n",
        "outputH1_activation = tf.sigmoid(tf.cast(outputH1, tf.float32))\n",
        "\n",
        "W2 = tf.cast(tf.constant([[5],[-9],[7]]),tf.float32)\n",
        "b2 = tf.cast(tf.constant([[4]]),tf.float32)\n",
        "outputH2 = tf.matmul(outputH1_activation, W2) +b2\n",
        "outputH2_activation = tf.sigmoid(tf.cast(outputH2, tf.float32))\n",
        "\n",
        "print(outputH2_activation)"
      ],
      "execution_count": null,
      "outputs": [
        {
          "output_type": "stream",
          "text": [
            "tf.Tensor([[0.99201345]], shape=(1, 1), dtype=float32)\n"
          ],
          "name": "stdout"
        }
      ]
    },
    {
      "cell_type": "code",
      "metadata": {
        "colab": {
          "base_uri": "https://localhost:8080/"
        },
        "id": "Rr113gXg_q71",
        "outputId": "24a980a9-94bd-40d5-f4ee-06c3d96d370d"
      },
      "source": [
        "error = (1 - outputH2_activation)**2\n",
        "print(error)"
      ],
      "execution_count": null,
      "outputs": [
        {
          "output_type": "stream",
          "text": [
            "tf.Tensor([[6.378491e-05]], shape=(1, 1), dtype=float32)\n"
          ],
          "name": "stdout"
        }
      ]
    },
    {
      "cell_type": "code",
      "metadata": {
        "colab": {
          "base_uri": "https://localhost:8080/"
        },
        "id": "0o5JKwkF_q4o",
        "outputId": "046f90ed-ac9d-487f-aa1e-84e876d05388"
      },
      "source": [
        "inputData = tf.constant([[1,1]])\n",
        "W1 = tf.constant([[-4,-6,-5],[3,6,4]])\n",
        "b1 = tf.constant([[-2,3,-2]])\n",
        "outputH1 = tf.matmul(inputData, W1) +b1\n",
        "outputH1_activation = tf.sigmoid(tf.cast(outputH1, tf.float32))\n",
        "\n",
        "W2 = tf.cast(tf.constant([[5],[-9],[7]]),tf.float32)\n",
        "b2 = tf.cast(tf.constant([[4]]),tf.float32)\n",
        "outputH2 = tf.matmul(outputH1_activation, W2) +b2\n",
        "outputH2_activation = tf.sigmoid(tf.cast(outputH2, tf.float32))\n",
        "\n",
        "print(outputH2_activation)"
      ],
      "execution_count": null,
      "outputs": [
        {
          "output_type": "stream",
          "text": [
            "tf.Tensor([[0.01791471]], shape=(1, 1), dtype=float32)\n"
          ],
          "name": "stdout"
        }
      ]
    },
    {
      "cell_type": "code",
      "metadata": {
        "colab": {
          "base_uri": "https://localhost:8080/"
        },
        "id": "XzpFFBACAII9",
        "outputId": "3bdbf750-2dcc-4711-f8a6-12f854806a56"
      },
      "source": [
        "error = (0 - outputH2_activation)**2\n",
        "print(error)"
      ],
      "execution_count": null,
      "outputs": [
        {
          "output_type": "stream",
          "text": [
            "tf.Tensor([[0.00032094]], shape=(1, 1), dtype=float32)\n"
          ],
          "name": "stdout"
        }
      ]
    },
    {
      "cell_type": "code",
      "metadata": {
        "id": "T9Ds8MMEAIDo"
      },
      "source": [
        "inputData = tf.constant([[0,0],[1,0],[0,1],[1,1]])\n",
        "W1 = tf.constant([[-4,-6,-5],[3,6,4]])\n",
        "b1 = tf.constant([[-2,3,-2]])\n",
        "outputH1 = tf.matmul(inputData, W1) +b1\n",
        "outputH1_activation = tf.sigmoid(tf.cast(outputH1, tf.float32))"
      ],
      "execution_count": null,
      "outputs": []
    },
    {
      "cell_type": "code",
      "metadata": {
        "colab": {
          "base_uri": "https://localhost:8080/"
        },
        "id": "bG8j8v1iAH-L",
        "outputId": "675d3fea-b2a2-42a5-faf3-c984817af28b"
      },
      "source": [
        "print(outputH1)\n",
        "print(outputH1_activation)"
      ],
      "execution_count": null,
      "outputs": [
        {
          "output_type": "stream",
          "text": [
            "tf.Tensor(\n",
            "[[-2  3 -2]\n",
            " [-6 -3 -7]\n",
            " [ 1  9  2]\n",
            " [-3  3 -3]], shape=(4, 3), dtype=int32)\n",
            "tf.Tensor(\n",
            "[[1.1920291e-01 9.5257413e-01 1.1920291e-01]\n",
            " [2.4726391e-03 4.7425866e-02 9.1105700e-04]\n",
            " [7.3105860e-01 9.9987662e-01 8.8079709e-01]\n",
            " [4.7425866e-02 9.5257413e-01 4.7425866e-02]], shape=(4, 3), dtype=float32)\n"
          ],
          "name": "stdout"
        }
      ]
    },
    {
      "cell_type": "code",
      "metadata": {
        "id": "EcCWApSGAR67"
      },
      "source": [
        "W2 = tf.cast(tf.constant([[5],[-9],[7]]),tf.float32)\n",
        "b2 = tf.cast(tf.constant([[4]]),tf.float32)\n",
        "outputH2 = tf.matmul(outputH1_activation, W2) +b2\n",
        "outputH2_activation = tf.sigmoid(tf.cast(outputH2, tf.float32))"
      ],
      "execution_count": null,
      "outputs": []
    },
    {
      "cell_type": "code",
      "metadata": {
        "colab": {
          "base_uri": "https://localhost:8080/"
        },
        "id": "1iDMcv5fAR1r",
        "outputId": "8a2f7a70-dda4-4d7c-c37e-9dfb9c07906f"
      },
      "source": [
        "print(outputH2_activation)"
      ],
      "execution_count": null,
      "outputs": [
        {
          "output_type": "stream",
          "text": [
            "tf.Tensor(\n",
            "[[0.04137862]\n",
            " [0.9731927 ]\n",
            " [0.99201345]\n",
            " [0.01791471]], shape=(4, 1), dtype=float32)\n"
          ],
          "name": "stdout"
        }
      ]
    },
    {
      "cell_type": "code",
      "metadata": {
        "colab": {
          "base_uri": "https://localhost:8080/"
        },
        "id": "Avq6MNWEARxr",
        "outputId": "f1c19aae-8251-4d3a-f8a9-0583dca2dd17"
      },
      "source": [
        "print(outputH2)\n",
        "print(outputH2_activation)"
      ],
      "execution_count": null,
      "outputs": [
        {
          "output_type": "stream",
          "text": [
            "tf.Tensor(\n",
            "[[-3.1427326]\n",
            " [ 3.5919077]\n",
            " [ 4.8219833]\n",
            " [-4.004057 ]], shape=(4, 1), dtype=float32)\n",
            "tf.Tensor(\n",
            "[[0.04137862]\n",
            " [0.9731927 ]\n",
            " [0.99201345]\n",
            " [0.01791471]], shape=(4, 1), dtype=float32)\n"
          ],
          "name": "stdout"
        }
      ]
    },
    {
      "cell_type": "code",
      "metadata": {
        "id": "jR58S25FoNjU",
        "colab": {
          "base_uri": "https://localhost:8080/"
        },
        "outputId": "52a4b4ce-9b3b-4c7d-ae99-783fbb3ace70"
      },
      "source": [
        "outputData = tf.constant([[0.0],[1.0],[1.0],[0.0]])\n",
        "print(outputData)\n",
        "\n",
        "error = (outputData - outputH2_activation)**2\n",
        "print()\n",
        "#print(type(error))\n",
        "\n",
        "for i in np.arange(4):\n",
        "  print('Error[%1d] = %0.7f'% (i, error[i]))"
      ],
      "execution_count": null,
      "outputs": [
        {
          "output_type": "stream",
          "text": [
            "tf.Tensor(\n",
            "[[0.]\n",
            " [1.]\n",
            " [1.]\n",
            " [0.]], shape=(4, 1), dtype=float32)\n",
            "\n",
            "Error[0] = 0.0017122\n",
            "Error[1] = 0.0007186\n",
            "Error[2] = 0.0000638\n",
            "Error[3] = 0.0003209\n"
          ],
          "name": "stdout"
        }
      ]
    },
    {
      "cell_type": "code",
      "metadata": {
        "id": "MPkRnO3c9BwG"
      },
      "source": [
        ""
      ],
      "execution_count": null,
      "outputs": []
    },
    {
      "cell_type": "code",
      "metadata": {
        "id": "6pcoUmvr8WE8"
      },
      "source": [
        ""
      ],
      "execution_count": null,
      "outputs": []
    },
    {
      "cell_type": "code",
      "metadata": {
        "id": "oFbHDel6pI5U"
      },
      "source": [
        ""
      ],
      "execution_count": null,
      "outputs": []
    }
  ]
}