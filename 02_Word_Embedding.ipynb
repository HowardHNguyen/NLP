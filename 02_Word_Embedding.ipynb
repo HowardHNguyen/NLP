{
  "cells": [
    {
      "cell_type": "markdown",
      "metadata": {
        "id": "view-in-github",
        "colab_type": "text"
      },
      "source": [
        "<a href=\"https://colab.research.google.com/github/HowardHNguyen/Natural_Language_Processing-NLP/blob/main/02_Word_Embedding.ipynb\" target=\"_parent\"><img src=\"https://colab.research.google.com/assets/colab-badge.svg\" alt=\"Open In Colab\"/></a>"
      ]
    },
    {
      "cell_type": "markdown",
      "metadata": {
        "id": "QTIQcF4VOuYS"
      },
      "source": [
        "#(2) Word Embedding"
      ]
    },
    {
      "cell_type": "code",
      "source": [
        "!pip freeze > requirements.txt"
      ],
      "metadata": {
        "id": "Q3lQ9JdwT3Kc"
      },
      "execution_count": 1,
      "outputs": []
    },
    {
      "cell_type": "code",
      "source": [
        "!pip install session-info\n",
        "\n",
        "import session_info\n",
        "session_info.show()"
      ],
      "metadata": {
        "colab": {
          "base_uri": "https://localhost:8080/",
          "height": 260
        },
        "id": "s0bIRqIFX8ij",
        "outputId": "27e988be-09bc-4b0a-b739-eab29c99e9e8"
      },
      "execution_count": 2,
      "outputs": [
        {
          "output_type": "stream",
          "name": "stdout",
          "text": [
            "Collecting session-info\n",
            "  Downloading session_info-1.0.0.tar.gz (24 kB)\n",
            "  Preparing metadata (setup.py) ... \u001b[?25l\u001b[?25hdone\n",
            "Collecting stdlib_list (from session-info)\n",
            "  Downloading stdlib_list-0.10.0-py3-none-any.whl (79 kB)\n",
            "\u001b[2K     \u001b[90m━━━━━━━━━━━━━━━━━━━━━━━━━━━━━━━━━━━━━━━━\u001b[0m \u001b[32m79.8/79.8 kB\u001b[0m \u001b[31m3.6 MB/s\u001b[0m eta \u001b[36m0:00:00\u001b[0m\n",
            "\u001b[?25hBuilding wheels for collected packages: session-info\n",
            "  Building wheel for session-info (setup.py) ... \u001b[?25l\u001b[?25hdone\n",
            "  Created wheel for session-info: filename=session_info-1.0.0-py3-none-any.whl size=8027 sha256=89e1a3b73c1cb7e1659cb539537c271e2b53d325ec2b201cd73d9c429b2984fb\n",
            "  Stored in directory: /root/.cache/pip/wheels/6a/aa/b9/eb5d4031476ec10802795b97ccf937b9bd998d68a9b268765a\n",
            "Successfully built session-info\n",
            "Installing collected packages: stdlib_list, session-info\n",
            "Successfully installed session-info-1.0.0 stdlib_list-0.10.0\n"
          ]
        },
        {
          "output_type": "execute_result",
          "data": {
            "text/plain": [
              "<IPython.core.display.HTML object>"
            ],
            "text/html": [
              "<details>\n",
              "<summary>Click to view session information</summary>\n",
              "<pre>\n",
              "-----\n",
              "session_info        1.0.0\n",
              "-----\n",
              "</pre>\n",
              "<details>\n",
              "<summary>Click to view modules imported as dependencies</summary>\n",
              "<pre>\n",
              "PIL                 9.4.0\n",
              "backcall            0.2.0\n",
              "certifi             2024.02.02\n",
              "cffi                1.16.0\n",
              "cycler              0.12.1\n",
              "cython_runtime      NA\n",
              "dateutil            2.8.2\n",
              "debugpy             1.6.6\n",
              "decorator           4.4.2\n",
              "defusedxml          0.7.1\n",
              "google              NA\n",
              "httplib2            0.22.0\n",
              "ipykernel           5.5.6\n",
              "ipython_genutils    0.2.0\n",
              "kiwisolver          1.4.5\n",
              "matplotlib          3.7.1\n",
              "matplotlib_inline   0.1.6\n",
              "mpl_toolkits        NA\n",
              "numpy               1.25.2\n",
              "packaging           23.2\n",
              "pexpect             4.9.0\n",
              "pickleshare         0.7.5\n",
              "pkg_resources       NA\n",
              "platformdirs        4.2.0\n",
              "portpicker          NA\n",
              "prompt_toolkit      3.0.43\n",
              "psutil              5.9.5\n",
              "ptyprocess          0.7.0\n",
              "pydev_ipython       NA\n",
              "pydevconsole        NA\n",
              "pydevd              2.9.5\n",
              "pydevd_file_utils   NA\n",
              "pydevd_plugins      NA\n",
              "pydevd_tracing      NA\n",
              "pygments            2.16.1\n",
              "pyparsing           3.1.1\n",
              "setuptools          67.7.2\n",
              "sitecustomize       NA\n",
              "six                 1.16.0\n",
              "socks               1.7.1\n",
              "sphinxcontrib       NA\n",
              "storemagic          NA\n",
              "tornado             6.3.2\n",
              "traitlets           5.7.1\n",
              "wcwidth             0.2.13\n",
              "zmq                 23.2.1\n",
              "</pre>\n",
              "</details> <!-- seems like this ends pre, so might as well be explicit -->\n",
              "<pre>\n",
              "-----\n",
              "IPython             7.34.0\n",
              "jupyter_client      6.1.12\n",
              "jupyter_core        5.7.1\n",
              "notebook            6.5.5\n",
              "-----\n",
              "Python 3.10.12 (main, Nov 20 2023, 15:14:05) [GCC 11.4.0]\n",
              "Linux-6.1.58+-x86_64-with-glibc2.35\n",
              "-----\n",
              "Session information updated at 2024-02-22 16:48\n",
              "</pre>\n",
              "</details>"
            ]
          },
          "metadata": {},
          "execution_count": 2
        }
      ]
    },
    {
      "cell_type": "code",
      "source": [
        "import session_info\n",
        "session_info.show()"
      ],
      "metadata": {
        "colab": {
          "base_uri": "https://localhost:8080/",
          "height": 34
        },
        "id": "FtcQ7xJRYAaF",
        "outputId": "45fae54d-e94f-466c-bd97-ebf7bad7f053"
      },
      "execution_count": 3,
      "outputs": [
        {
          "output_type": "execute_result",
          "data": {
            "text/plain": [
              "<IPython.core.display.HTML object>"
            ],
            "text/html": [
              "<details>\n",
              "<summary>Click to view session information</summary>\n",
              "<pre>\n",
              "-----\n",
              "session_info        1.0.0\n",
              "-----\n",
              "</pre>\n",
              "<details>\n",
              "<summary>Click to view modules imported as dependencies</summary>\n",
              "<pre>\n",
              "PIL                 9.4.0\n",
              "backcall            0.2.0\n",
              "certifi             2024.02.02\n",
              "cffi                1.16.0\n",
              "cycler              0.12.1\n",
              "cython_runtime      NA\n",
              "dateutil            2.8.2\n",
              "debugpy             1.6.6\n",
              "decorator           4.4.2\n",
              "defusedxml          0.7.1\n",
              "google              NA\n",
              "httplib2            0.22.0\n",
              "ipykernel           5.5.6\n",
              "ipython_genutils    0.2.0\n",
              "kiwisolver          1.4.5\n",
              "matplotlib          3.7.1\n",
              "matplotlib_inline   0.1.6\n",
              "mpl_toolkits        NA\n",
              "numpy               1.25.2\n",
              "packaging           23.2\n",
              "pexpect             4.9.0\n",
              "pickleshare         0.7.5\n",
              "pkg_resources       NA\n",
              "platformdirs        4.2.0\n",
              "portpicker          NA\n",
              "prompt_toolkit      3.0.43\n",
              "psutil              5.9.5\n",
              "ptyprocess          0.7.0\n",
              "pydev_ipython       NA\n",
              "pydevconsole        NA\n",
              "pydevd              2.9.5\n",
              "pydevd_file_utils   NA\n",
              "pydevd_plugins      NA\n",
              "pydevd_tracing      NA\n",
              "pygments            2.16.1\n",
              "pyparsing           3.1.1\n",
              "setuptools          67.7.2\n",
              "sitecustomize       NA\n",
              "six                 1.16.0\n",
              "socks               1.7.1\n",
              "sphinxcontrib       NA\n",
              "storemagic          NA\n",
              "tornado             6.3.2\n",
              "traitlets           5.7.1\n",
              "wcwidth             0.2.13\n",
              "zmq                 23.2.1\n",
              "</pre>\n",
              "</details> <!-- seems like this ends pre, so might as well be explicit -->\n",
              "<pre>\n",
              "-----\n",
              "IPython             7.34.0\n",
              "jupyter_client      6.1.12\n",
              "jupyter_core        5.7.1\n",
              "notebook            6.5.5\n",
              "-----\n",
              "Python 3.10.12 (main, Nov 20 2023, 15:14:05) [GCC 11.4.0]\n",
              "Linux-6.1.58+-x86_64-with-glibc2.35\n",
              "-----\n",
              "Session information updated at 2024-02-22 16:49\n",
              "</pre>\n",
              "</details>"
            ]
          },
          "metadata": {},
          "execution_count": 3
        }
      ]
    },
    {
      "cell_type": "markdown",
      "metadata": {
        "id": "Z9G0EW0KOyur"
      },
      "source": [
        "### (A.1) Bag of words with Gensim"
      ]
    },
    {
      "cell_type": "code",
      "execution_count": 4,
      "metadata": {
        "id": "mAYcS1ZnK7Wo"
      },
      "outputs": [],
      "source": [
        "import gensim\n",
        "from gensim.utils import simple_preprocess\n",
        "from gensim.corpora import Dictionary\n",
        "import pprint"
      ]
    },
    {
      "cell_type": "code",
      "execution_count": 5,
      "metadata": {
        "id": "dHVNJnoDN6jR"
      },
      "outputs": [],
      "source": [
        "doc_list = [\n",
        "\"Start spreading the news\",\n",
        "\"You're leaving today (tell him friend)\",\n",
        "\"I want to be a part of it, New York, New York\",\n",
        "\"Your vagabond shoes, they are longing to stray\",\n",
        "\"And steps around the heart of it, New York, New York\",\n",
        "\"Trăm năm trong cõi ngƣời ta\",\n",
        "\"Chữ tài chữ mệnh khéo là ghét nhau.\",\n",
        "\"Trải qua một cuộc bể dâu,\",\n",
        "\"Những điều trông thấy mà đau đớn lòng.\",\n",
        "\"Lạ gì bỉ sắc tƣ phong,\",\n",
        "\"Trời xanh quen thói má hồng đánh ghen.\"]"
      ]
    },
    {
      "cell_type": "code",
      "source": [
        "print(doc_list)"
      ],
      "metadata": {
        "colab": {
          "base_uri": "https://localhost:8080/"
        },
        "id": "r4Aedsr9QEU7",
        "outputId": "877351b4-6b53-4091-def3-7889c055be40"
      },
      "execution_count": 6,
      "outputs": [
        {
          "output_type": "stream",
          "name": "stdout",
          "text": [
            "['Start spreading the news', \"You're leaving today (tell him friend)\", 'I want to be a part of it, New York, New York', 'Your vagabond shoes, they are longing to stray', 'And steps around the heart of it, New York, New York', 'Trăm năm trong cõi ngƣời ta', 'Chữ tài chữ mệnh khéo là ghét nhau.', 'Trải qua một cuộc bể dâu,', 'Những điều trông thấy mà đau đớn lòng.', 'Lạ gì bỉ sắc tƣ phong,', 'Trời xanh quen thói má hồng đánh ghen.']\n"
          ]
        }
      ]
    },
    {
      "cell_type": "code",
      "source": [
        "pp = pprint.PrettyPrinter(indent=4)\n",
        "pp.pprint(doc_list)"
      ],
      "metadata": {
        "colab": {
          "base_uri": "https://localhost:8080/"
        },
        "id": "QaBWgzd8PuM2",
        "outputId": "1051a5cd-756a-414d-86ab-28f33ae352c9"
      },
      "execution_count": 7,
      "outputs": [
        {
          "output_type": "stream",
          "name": "stdout",
          "text": [
            "[   'Start spreading the news',\n",
            "    \"You're leaving today (tell him friend)\",\n",
            "    'I want to be a part of it, New York, New York',\n",
            "    'Your vagabond shoes, they are longing to stray',\n",
            "    'And steps around the heart of it, New York, New York',\n",
            "    'Trăm năm trong cõi ngƣời ta',\n",
            "    'Chữ tài chữ mệnh khéo là ghét nhau.',\n",
            "    'Trải qua một cuộc bể dâu,',\n",
            "    'Những điều trông thấy mà đau đớn lòng.',\n",
            "    'Lạ gì bỉ sắc tƣ phong,',\n",
            "    'Trời xanh quen thói má hồng đánh ghen.']\n"
          ]
        }
      ]
    },
    {
      "cell_type": "code",
      "execution_count": 8,
      "metadata": {
        "colab": {
          "base_uri": "https://localhost:8080/"
        },
        "id": "v4yh9SzNPG67",
        "outputId": "fa87038f-dbc5-4bbf-d092-a082b99e1e0c"
      },
      "outputs": [
        {
          "output_type": "execute_result",
          "data": {
            "text/plain": [
              "[['start', 'spreading', 'the', 'news'],\n",
              " ['you', 're', 'leaving', 'today', 'tell', 'him', 'friend'],\n",
              " ['want', 'to', 'be', 'part', 'of', 'it', 'new', 'york', 'new', 'york'],\n",
              " ['your', 'vagabond', 'shoes', 'they', 'are', 'longing', 'to', 'stray'],\n",
              " ['and',\n",
              "  'steps',\n",
              "  'around',\n",
              "  'the',\n",
              "  'heart',\n",
              "  'of',\n",
              "  'it',\n",
              "  'new',\n",
              "  'york',\n",
              "  'new',\n",
              "  'york'],\n",
              " ['trăm', 'năm', 'trong', 'cõi', 'ngƣời', 'ta'],\n",
              " ['chữ', 'tài', 'chữ', 'mệnh', 'khéo', 'là', 'ghét', 'nhau'],\n",
              " ['trải', 'qua', 'một', 'cuộc', 'bể', 'dâu'],\n",
              " ['những', 'điều', 'trông', 'thấy', 'mà', 'đau', 'đớn', 'lòng'],\n",
              " ['lạ', 'gì', 'bỉ', 'sắc', 'tƣ', 'phong'],\n",
              " ['trời', 'xanh', 'quen', 'thói', 'má', 'hồng', 'đánh', 'ghen']]"
            ]
          },
          "metadata": {},
          "execution_count": 8
        }
      ],
      "source": [
        "doc_tokenized = [simple_preprocess(doc) for doc in doc_list]\n",
        "doc_tokenized"
      ]
    },
    {
      "cell_type": "code",
      "source": [
        "doc_tokenized = []\n",
        "for doc in doc_list:\n",
        "    doc_tokenized.append(simple_preprocess(doc))\n",
        "doc_tokenized"
      ],
      "metadata": {
        "colab": {
          "base_uri": "https://localhost:8080/"
        },
        "id": "Eibm93SHcj8x",
        "outputId": "98ae7dda-bd7b-47c1-e34d-1b236382cd8d"
      },
      "execution_count": 9,
      "outputs": [
        {
          "output_type": "execute_result",
          "data": {
            "text/plain": [
              "[['start', 'spreading', 'the', 'news'],\n",
              " ['you', 're', 'leaving', 'today', 'tell', 'him', 'friend'],\n",
              " ['want', 'to', 'be', 'part', 'of', 'it', 'new', 'york', 'new', 'york'],\n",
              " ['your', 'vagabond', 'shoes', 'they', 'are', 'longing', 'to', 'stray'],\n",
              " ['and',\n",
              "  'steps',\n",
              "  'around',\n",
              "  'the',\n",
              "  'heart',\n",
              "  'of',\n",
              "  'it',\n",
              "  'new',\n",
              "  'york',\n",
              "  'new',\n",
              "  'york'],\n",
              " ['trăm', 'năm', 'trong', 'cõi', 'ngƣời', 'ta'],\n",
              " ['chữ', 'tài', 'chữ', 'mệnh', 'khéo', 'là', 'ghét', 'nhau'],\n",
              " ['trải', 'qua', 'một', 'cuộc', 'bể', 'dâu'],\n",
              " ['những', 'điều', 'trông', 'thấy', 'mà', 'đau', 'đớn', 'lòng'],\n",
              " ['lạ', 'gì', 'bỉ', 'sắc', 'tƣ', 'phong'],\n",
              " ['trời', 'xanh', 'quen', 'thói', 'má', 'hồng', 'đánh', 'ghen']]"
            ]
          },
          "metadata": {},
          "execution_count": 9
        }
      ]
    },
    {
      "cell_type": "code",
      "execution_count": 10,
      "metadata": {
        "colab": {
          "base_uri": "https://localhost:8080/"
        },
        "id": "qddBm-gyPMka",
        "outputId": "a1d50b4a-26c9-4122-f3eb-c5b5a8b71062"
      },
      "outputs": [
        {
          "output_type": "execute_result",
          "data": {
            "text/plain": [
              "<gensim.corpora.dictionary.Dictionary at 0x7ca5fb527b50>"
            ]
          },
          "metadata": {},
          "execution_count": 10
        }
      ],
      "source": [
        "dictionary = Dictionary()\n",
        "dictionary"
      ]
    },
    {
      "cell_type": "code",
      "execution_count": 11,
      "metadata": {
        "colab": {
          "base_uri": "https://localhost:8080/"
        },
        "id": "zJkvW-ojPReH",
        "outputId": "ed66a367-80fb-488c-c2d2-d6f73770a467"
      },
      "outputs": [
        {
          "output_type": "execute_result",
          "data": {
            "text/plain": [
              "[[(0, 1), (1, 1), (2, 1), (3, 1)],\n",
              " [(4, 1), (5, 1), (6, 1), (7, 1), (8, 1), (9, 1), (10, 1)],\n",
              " [(11, 1), (12, 1), (13, 2), (14, 1), (15, 1), (16, 1), (17, 1), (18, 2)],\n",
              " [(16, 1), (19, 1), (20, 1), (21, 1), (22, 1), (23, 1), (24, 1), (25, 1)],\n",
              " [(3, 1),\n",
              "  (12, 1),\n",
              "  (13, 2),\n",
              "  (14, 1),\n",
              "  (18, 2),\n",
              "  (26, 1),\n",
              "  (27, 1),\n",
              "  (28, 1),\n",
              "  (29, 1)],\n",
              " [(30, 1), (31, 1), (32, 1), (33, 1), (34, 1), (35, 1)],\n",
              " [(36, 2), (37, 1), (38, 1), (39, 1), (40, 1), (41, 1), (42, 1)],\n",
              " [(43, 1), (44, 1), (45, 1), (46, 1), (47, 1), (48, 1)],\n",
              " [(49, 1), (50, 1), (51, 1), (52, 1), (53, 1), (54, 1), (55, 1), (56, 1)],\n",
              " [(57, 1), (58, 1), (59, 1), (60, 1), (61, 1), (62, 1)],\n",
              " [(63, 1), (64, 1), (65, 1), (66, 1), (67, 1), (68, 1), (69, 1), (70, 1)]]"
            ]
          },
          "metadata": {},
          "execution_count": 11
        }
      ],
      "source": [
        "BoW_corpus = [dictionary.doc2bow(doc, allow_update=True) for doc in doc_tokenized]\n",
        "BoW_corpus"
      ]
    },
    {
      "cell_type": "code",
      "execution_count": 12,
      "metadata": {
        "colab": {
          "base_uri": "https://localhost:8080/"
        },
        "id": "OLfJcvwDPalO",
        "outputId": "4928c41e-e49d-444d-d809-f4ad6f422124"
      },
      "outputs": [
        {
          "output_type": "stream",
          "name": "stdout",
          "text": [
            "[[(0, 1), (1, 1), (2, 1), (3, 1)], [(4, 1), (5, 1), (6, 1), (7, 1), (8, 1), (9, 1), (10, 1)], [(11, 1), (12, 1), (13, 2), (14, 1), (15, 1), (16, 1), (17, 1), (18, 2)], [(16, 1), (19, 1), (20, 1), (21, 1), (22, 1), (23, 1), (24, 1), (25, 1)], [(3, 1), (12, 1), (13, 2), (14, 1), (18, 2), (26, 1), (27, 1), (28, 1), (29, 1)], [(30, 1), (31, 1), (32, 1), (33, 1), (34, 1), (35, 1)], [(36, 2), (37, 1), (38, 1), (39, 1), (40, 1), (41, 1), (42, 1)], [(43, 1), (44, 1), (45, 1), (46, 1), (47, 1), (48, 1)], [(49, 1), (50, 1), (51, 1), (52, 1), (53, 1), (54, 1), (55, 1), (56, 1)], [(57, 1), (58, 1), (59, 1), (60, 1), (61, 1), (62, 1)], [(63, 1), (64, 1), (65, 1), (66, 1), (67, 1), (68, 1), (69, 1), (70, 1)]]\n"
          ]
        }
      ],
      "source": [
        "print(BoW_corpus)"
      ]
    },
    {
      "cell_type": "code",
      "execution_count": 13,
      "metadata": {
        "colab": {
          "base_uri": "https://localhost:8080/"
        },
        "id": "BQzNHVcCPePM",
        "outputId": "4abfca2b-7acb-42f4-bf4f-5f5e7aff40af"
      },
      "outputs": [
        {
          "output_type": "stream",
          "name": "stdout",
          "text": [
            "[[('news', 1), ('spreading', 1), ('start', 1), ('the', 1)], [('friend', 1), ('him', 1), ('leaving', 1), ('re', 1), ('tell', 1), ('today', 1), ('you', 1)], [('be', 1), ('it', 1), ('new', 2), ('of', 1), ('part', 1), ('to', 1), ('want', 1), ('york', 2)], [('to', 1), ('are', 1), ('longing', 1), ('shoes', 1), ('stray', 1), ('they', 1), ('vagabond', 1), ('your', 1)], [('the', 1), ('it', 1), ('new', 2), ('of', 1), ('york', 2), ('and', 1), ('around', 1), ('heart', 1), ('steps', 1)], [('cõi', 1), ('ngƣời', 1), ('năm', 1), ('ta', 1), ('trong', 1), ('trăm', 1)], [('chữ', 2), ('ghét', 1), ('khéo', 1), ('là', 1), ('mệnh', 1), ('nhau', 1), ('tài', 1)], [('bể', 1), ('cuộc', 1), ('dâu', 1), ('một', 1), ('qua', 1), ('trải', 1)], [('lòng', 1), ('mà', 1), ('những', 1), ('thấy', 1), ('trông', 1), ('đau', 1), ('điều', 1), ('đớn', 1)], [('bỉ', 1), ('gì', 1), ('lạ', 1), ('phong', 1), ('sắc', 1), ('tƣ', 1)], [('ghen', 1), ('hồng', 1), ('má', 1), ('quen', 1), ('thói', 1), ('trời', 1), ('xanh', 1), ('đánh', 1)]]\n"
          ]
        }
      ],
      "source": [
        "id_words = [[(dictionary[id], count) for id, count in line] for line in BoW_corpus]\n",
        "print(id_words)"
      ]
    },
    {
      "cell_type": "code",
      "execution_count": 20,
      "metadata": {
        "id": "qxZ78B-mUWiQ",
        "colab": {
          "base_uri": "https://localhost:8080/"
        },
        "outputId": "808df7f1-5248-4acc-dd3b-f406dbeacdcf"
      },
      "outputs": [
        {
          "output_type": "execute_result",
          "data": {
            "text/plain": [
              "['start',\n",
              " 'spreading',\n",
              " 'the',\n",
              " 'news',\n",
              " 'you',\n",
              " 're',\n",
              " 'leaving',\n",
              " 'today',\n",
              " 'tell',\n",
              " 'him',\n",
              " 'friend',\n",
              " 'want',\n",
              " 'to',\n",
              " 'be',\n",
              " 'part',\n",
              " 'of',\n",
              " 'it',\n",
              " 'new',\n",
              " 'york',\n",
              " 'new',\n",
              " 'york',\n",
              " 'your',\n",
              " 'vagabond',\n",
              " 'shoes',\n",
              " 'they',\n",
              " 'are',\n",
              " 'longing',\n",
              " 'to',\n",
              " 'stray',\n",
              " 'and',\n",
              " 'steps',\n",
              " 'around',\n",
              " 'the',\n",
              " 'heart',\n",
              " 'of',\n",
              " 'it',\n",
              " 'new',\n",
              " 'york',\n",
              " 'new',\n",
              " 'york',\n",
              " 'trăm',\n",
              " 'năm',\n",
              " 'trong',\n",
              " 'cõi',\n",
              " 'ngƣời',\n",
              " 'ta',\n",
              " 'chữ',\n",
              " 'tài',\n",
              " 'chữ',\n",
              " 'mệnh',\n",
              " 'khéo',\n",
              " 'là',\n",
              " 'ghét',\n",
              " 'nhau',\n",
              " 'trải',\n",
              " 'qua',\n",
              " 'một',\n",
              " 'cuộc',\n",
              " 'bể',\n",
              " 'dâu',\n",
              " 'những',\n",
              " 'điều',\n",
              " 'trông',\n",
              " 'thấy',\n",
              " 'mà',\n",
              " 'đau',\n",
              " 'đớn',\n",
              " 'lòng',\n",
              " 'lạ',\n",
              " 'gì',\n",
              " 'bỉ',\n",
              " 'sắc',\n",
              " 'tƣ',\n",
              " 'phong',\n",
              " 'trời',\n",
              " 'xanh',\n",
              " 'quen',\n",
              " 'thói',\n",
              " 'má',\n",
              " 'hồng',\n",
              " 'đánh',\n",
              " 'ghen']"
            ]
          },
          "metadata": {},
          "execution_count": 20
        }
      ],
      "source": [
        "doc_list_long = \"Start spreading the news, You're leaving today (tell him friend), I want to be a part of it, New York, New York, Your vagabond shoes, they are longing to stray, And steps around the heart of it, New York, New York. Trăm năm trong cõi ngƣời ta, Chữ tài chữ mệnh khéo là ghét nhau, Trải qua một cuộc bể dâu, Những điều trông thấy mà đau đớn lòng, Lạ gì bỉ sắc tƣ phong, Trời xanh quen thói má hồng đánh ghen.\"\n",
        "doc_list_tokenized_long = simple_preprocess(doc_list_long)\n",
        "doc_list_tokenized_long"
      ]
    },
    {
      "cell_type": "code",
      "source": [
        "BoW_corpus_long = dictionary.doc2bow(doc_list_tokenized_long)\n",
        "BoW_corpus_long"
      ],
      "metadata": {
        "colab": {
          "base_uri": "https://localhost:8080/"
        },
        "id": "26CywD9YjilJ",
        "outputId": "ddf9e131-c06b-4b1e-a4f4-465a4c6cdb8f"
      },
      "execution_count": 21,
      "outputs": [
        {
          "output_type": "execute_result",
          "data": {
            "text/plain": [
              "[(0, 1),\n",
              " (1, 1),\n",
              " (2, 1),\n",
              " (3, 2),\n",
              " (4, 1),\n",
              " (5, 1),\n",
              " (6, 1),\n",
              " (7, 1),\n",
              " (8, 1),\n",
              " (9, 1),\n",
              " (10, 1),\n",
              " (11, 1),\n",
              " (12, 2),\n",
              " (13, 4),\n",
              " (14, 2),\n",
              " (15, 1),\n",
              " (16, 2),\n",
              " (17, 1),\n",
              " (18, 4),\n",
              " (19, 1),\n",
              " (20, 1),\n",
              " (21, 1),\n",
              " (22, 1),\n",
              " (23, 1),\n",
              " (24, 1),\n",
              " (25, 1),\n",
              " (26, 1),\n",
              " (27, 1),\n",
              " (28, 1),\n",
              " (29, 1),\n",
              " (30, 1),\n",
              " (31, 1),\n",
              " (32, 1),\n",
              " (33, 1),\n",
              " (34, 1),\n",
              " (35, 1),\n",
              " (36, 2),\n",
              " (37, 1),\n",
              " (38, 1),\n",
              " (39, 1),\n",
              " (40, 1),\n",
              " (41, 1),\n",
              " (42, 1),\n",
              " (43, 1),\n",
              " (44, 1),\n",
              " (45, 1),\n",
              " (46, 1),\n",
              " (47, 1),\n",
              " (48, 1),\n",
              " (49, 1),\n",
              " (50, 1),\n",
              " (51, 1),\n",
              " (52, 1),\n",
              " (53, 1),\n",
              " (54, 1),\n",
              " (55, 1),\n",
              " (56, 1),\n",
              " (57, 1),\n",
              " (58, 1),\n",
              " (59, 1),\n",
              " (60, 1),\n",
              " (61, 1),\n",
              " (62, 1),\n",
              " (63, 1),\n",
              " (64, 1),\n",
              " (65, 1),\n",
              " (66, 1),\n",
              " (67, 1),\n",
              " (68, 1),\n",
              " (69, 1),\n",
              " (70, 1)]"
            ]
          },
          "metadata": {},
          "execution_count": 21
        }
      ]
    },
    {
      "cell_type": "code",
      "source": [
        "id_words_long = [(dictionary[id], count) for id, count in BoW_corpus_long]\n",
        "pp.pprint(id_words_long)"
      ],
      "metadata": {
        "colab": {
          "base_uri": "https://localhost:8080/"
        },
        "id": "6bYm2JpgkeIn",
        "outputId": "1f439556-6230-4165-e03e-bbb714088ded"
      },
      "execution_count": 22,
      "outputs": [
        {
          "output_type": "stream",
          "name": "stdout",
          "text": [
            "[   ('news', 1),\n",
            "    ('spreading', 1),\n",
            "    ('start', 1),\n",
            "    ('the', 2),\n",
            "    ('friend', 1),\n",
            "    ('him', 1),\n",
            "    ('leaving', 1),\n",
            "    ('re', 1),\n",
            "    ('tell', 1),\n",
            "    ('today', 1),\n",
            "    ('you', 1),\n",
            "    ('be', 1),\n",
            "    ('it', 2),\n",
            "    ('new', 4),\n",
            "    ('of', 2),\n",
            "    ('part', 1),\n",
            "    ('to', 2),\n",
            "    ('want', 1),\n",
            "    ('york', 4),\n",
            "    ('are', 1),\n",
            "    ('longing', 1),\n",
            "    ('shoes', 1),\n",
            "    ('stray', 1),\n",
            "    ('they', 1),\n",
            "    ('vagabond', 1),\n",
            "    ('your', 1),\n",
            "    ('and', 1),\n",
            "    ('around', 1),\n",
            "    ('heart', 1),\n",
            "    ('steps', 1),\n",
            "    ('cõi', 1),\n",
            "    ('ngƣời', 1),\n",
            "    ('năm', 1),\n",
            "    ('ta', 1),\n",
            "    ('trong', 1),\n",
            "    ('trăm', 1),\n",
            "    ('chữ', 2),\n",
            "    ('ghét', 1),\n",
            "    ('khéo', 1),\n",
            "    ('là', 1),\n",
            "    ('mệnh', 1),\n",
            "    ('nhau', 1),\n",
            "    ('tài', 1),\n",
            "    ('bể', 1),\n",
            "    ('cuộc', 1),\n",
            "    ('dâu', 1),\n",
            "    ('một', 1),\n",
            "    ('qua', 1),\n",
            "    ('trải', 1),\n",
            "    ('lòng', 1),\n",
            "    ('mà', 1),\n",
            "    ('những', 1),\n",
            "    ('thấy', 1),\n",
            "    ('trông', 1),\n",
            "    ('đau', 1),\n",
            "    ('điều', 1),\n",
            "    ('đớn', 1),\n",
            "    ('bỉ', 1),\n",
            "    ('gì', 1),\n",
            "    ('lạ', 1),\n",
            "    ('phong', 1),\n",
            "    ('sắc', 1),\n",
            "    ('tƣ', 1),\n",
            "    ('ghen', 1),\n",
            "    ('hồng', 1),\n",
            "    ('má', 1),\n",
            "    ('quen', 1),\n",
            "    ('thói', 1),\n",
            "    ('trời', 1),\n",
            "    ('xanh', 1),\n",
            "    ('đánh', 1)]\n"
          ]
        }
      ]
    },
    {
      "cell_type": "markdown",
      "metadata": {
        "id": "5M0XsyhkQbcM"
      },
      "source": [
        "### (A.2) Word of Bags with scikit-learn"
      ]
    },
    {
      "cell_type": "code",
      "source": [
        "doc_list = [\n",
        "\"Start spreading the news\",\n",
        "\"You're leaving today (tell him friend)\",\n",
        "\"I want to be a part of it, New York, New York\",\n",
        "\"Your vagabond shoes, they are longing to stray\",\n",
        "\"And steps around the heart of it, New York, New York\",\n",
        "\"Trăm năm trong cõi ngƣời ta\",\n",
        "\"Chữ tài chữ mệnh khéo là ghét nhau.\",\n",
        "\"Trải qua một cuộc bể dâu,\",\n",
        "\"Những điều trông thấy mà đau đớn lòng.\",\n",
        "\"Lạ gì bỉ sắc tƣ phong,\",\n",
        "\"Trời xanh quen thói má hồng đánh ghen.\"]"
      ],
      "metadata": {
        "id": "c2i_fN0TndA8"
      },
      "execution_count": 23,
      "outputs": []
    },
    {
      "cell_type": "code",
      "source": [
        "from sklearn.feature_extraction.text import CountVectorizer\n",
        "cv = CountVectorizer()\n",
        "cv_fit = cv.fit_transform(doc_list)\n",
        "word_list = cv.get_feature_names_out()\n",
        "count_list = cv_fit.toarray().sum(axis=0)\n",
        "pp.pprint( dict(zip(word_list,count_list)) )"
      ],
      "metadata": {
        "colab": {
          "base_uri": "https://localhost:8080/"
        },
        "id": "fj4AbY9eqS5q",
        "outputId": "2239a014-3848-4a4e-8845-01cb0c4b351d"
      },
      "execution_count": 24,
      "outputs": [
        {
          "output_type": "stream",
          "name": "stdout",
          "text": [
            "{   'and': 1,\n",
            "    'are': 1,\n",
            "    'around': 1,\n",
            "    'be': 1,\n",
            "    'bể': 1,\n",
            "    'bỉ': 1,\n",
            "    'chữ': 2,\n",
            "    'cuộc': 1,\n",
            "    'cõi': 1,\n",
            "    'dâu': 1,\n",
            "    'friend': 1,\n",
            "    'ghen': 1,\n",
            "    'ghét': 1,\n",
            "    'gì': 1,\n",
            "    'heart': 1,\n",
            "    'him': 1,\n",
            "    'hồng': 1,\n",
            "    'it': 2,\n",
            "    'khéo': 1,\n",
            "    'leaving': 1,\n",
            "    'longing': 1,\n",
            "    'là': 1,\n",
            "    'lòng': 1,\n",
            "    'lạ': 1,\n",
            "    'mà': 1,\n",
            "    'má': 1,\n",
            "    'mệnh': 1,\n",
            "    'một': 1,\n",
            "    'new': 4,\n",
            "    'news': 1,\n",
            "    'ngƣời': 1,\n",
            "    'nhau': 1,\n",
            "    'những': 1,\n",
            "    'năm': 1,\n",
            "    'of': 2,\n",
            "    'part': 1,\n",
            "    'phong': 1,\n",
            "    'qua': 1,\n",
            "    'quen': 1,\n",
            "    're': 1,\n",
            "    'shoes': 1,\n",
            "    'spreading': 1,\n",
            "    'start': 1,\n",
            "    'steps': 1,\n",
            "    'stray': 1,\n",
            "    'sắc': 1,\n",
            "    'ta': 1,\n",
            "    'tell': 1,\n",
            "    'the': 2,\n",
            "    'they': 1,\n",
            "    'thói': 1,\n",
            "    'thấy': 1,\n",
            "    'to': 2,\n",
            "    'today': 1,\n",
            "    'trong': 1,\n",
            "    'trông': 1,\n",
            "    'trăm': 1,\n",
            "    'trải': 1,\n",
            "    'trời': 1,\n",
            "    'tài': 1,\n",
            "    'tƣ': 1,\n",
            "    'vagabond': 1,\n",
            "    'want': 1,\n",
            "    'xanh': 1,\n",
            "    'york': 4,\n",
            "    'you': 1,\n",
            "    'your': 1,\n",
            "    'đau': 1,\n",
            "    'điều': 1,\n",
            "    'đánh': 1,\n",
            "    'đớn': 1}\n"
          ]
        }
      ]
    },
    {
      "cell_type": "code",
      "source": [
        "word_list"
      ],
      "metadata": {
        "id": "T0r6oyMXs4h4",
        "outputId": "4ce38f12-a52e-42ea-f811-87ee272ea5e3",
        "colab": {
          "base_uri": "https://localhost:8080/"
        }
      },
      "execution_count": 25,
      "outputs": [
        {
          "output_type": "execute_result",
          "data": {
            "text/plain": [
              "array(['and', 'are', 'around', 'be', 'bể', 'bỉ', 'chữ', 'cuộc', 'cõi',\n",
              "       'dâu', 'friend', 'ghen', 'ghét', 'gì', 'heart', 'him', 'hồng',\n",
              "       'it', 'khéo', 'leaving', 'longing', 'là', 'lòng', 'lạ', 'mà', 'má',\n",
              "       'mệnh', 'một', 'new', 'news', 'ngƣời', 'nhau', 'những', 'năm',\n",
              "       'of', 'part', 'phong', 'qua', 'quen', 're', 'shoes', 'spreading',\n",
              "       'start', 'steps', 'stray', 'sắc', 'ta', 'tell', 'the', 'they',\n",
              "       'thói', 'thấy', 'to', 'today', 'trong', 'trông', 'trăm', 'trải',\n",
              "       'trời', 'tài', 'tƣ', 'vagabond', 'want', 'xanh', 'york', 'you',\n",
              "       'your', 'đau', 'điều', 'đánh', 'đớn'], dtype=object)"
            ]
          },
          "metadata": {},
          "execution_count": 25
        }
      ]
    },
    {
      "cell_type": "code",
      "source": [
        "cv_fit.toarray()"
      ],
      "metadata": {
        "colab": {
          "base_uri": "https://localhost:8080/"
        },
        "id": "7hacPhRhsNSI",
        "outputId": "6f121be1-5a90-41be-f388-e3ab6b358ee8"
      },
      "execution_count": 26,
      "outputs": [
        {
          "output_type": "execute_result",
          "data": {
            "text/plain": [
              "array([[0, 0, 0, 0, 0, 0, 0, 0, 0, 0, 0, 0, 0, 0, 0, 0, 0, 0, 0, 0, 0, 0,\n",
              "        0, 0, 0, 0, 0, 0, 0, 1, 0, 0, 0, 0, 0, 0, 0, 0, 0, 0, 0, 1, 1, 0,\n",
              "        0, 0, 0, 0, 1, 0, 0, 0, 0, 0, 0, 0, 0, 0, 0, 0, 0, 0, 0, 0, 0, 0,\n",
              "        0, 0, 0, 0, 0],\n",
              "       [0, 0, 0, 0, 0, 0, 0, 0, 0, 0, 1, 0, 0, 0, 0, 1, 0, 0, 0, 1, 0, 0,\n",
              "        0, 0, 0, 0, 0, 0, 0, 0, 0, 0, 0, 0, 0, 0, 0, 0, 0, 1, 0, 0, 0, 0,\n",
              "        0, 0, 0, 1, 0, 0, 0, 0, 0, 1, 0, 0, 0, 0, 0, 0, 0, 0, 0, 0, 0, 1,\n",
              "        0, 0, 0, 0, 0],\n",
              "       [0, 0, 0, 1, 0, 0, 0, 0, 0, 0, 0, 0, 0, 0, 0, 0, 0, 1, 0, 0, 0, 0,\n",
              "        0, 0, 0, 0, 0, 0, 2, 0, 0, 0, 0, 0, 1, 1, 0, 0, 0, 0, 0, 0, 0, 0,\n",
              "        0, 0, 0, 0, 0, 0, 0, 0, 1, 0, 0, 0, 0, 0, 0, 0, 0, 0, 1, 0, 2, 0,\n",
              "        0, 0, 0, 0, 0],\n",
              "       [0, 1, 0, 0, 0, 0, 0, 0, 0, 0, 0, 0, 0, 0, 0, 0, 0, 0, 0, 0, 1, 0,\n",
              "        0, 0, 0, 0, 0, 0, 0, 0, 0, 0, 0, 0, 0, 0, 0, 0, 0, 0, 1, 0, 0, 0,\n",
              "        1, 0, 0, 0, 0, 1, 0, 0, 1, 0, 0, 0, 0, 0, 0, 0, 0, 1, 0, 0, 0, 0,\n",
              "        1, 0, 0, 0, 0],\n",
              "       [1, 0, 1, 0, 0, 0, 0, 0, 0, 0, 0, 0, 0, 0, 1, 0, 0, 1, 0, 0, 0, 0,\n",
              "        0, 0, 0, 0, 0, 0, 2, 0, 0, 0, 0, 0, 1, 0, 0, 0, 0, 0, 0, 0, 0, 1,\n",
              "        0, 0, 0, 0, 1, 0, 0, 0, 0, 0, 0, 0, 0, 0, 0, 0, 0, 0, 0, 0, 2, 0,\n",
              "        0, 0, 0, 0, 0],\n",
              "       [0, 0, 0, 0, 0, 0, 0, 0, 1, 0, 0, 0, 0, 0, 0, 0, 0, 0, 0, 0, 0, 0,\n",
              "        0, 0, 0, 0, 0, 0, 0, 0, 1, 0, 0, 1, 0, 0, 0, 0, 0, 0, 0, 0, 0, 0,\n",
              "        0, 0, 1, 0, 0, 0, 0, 0, 0, 0, 1, 0, 1, 0, 0, 0, 0, 0, 0, 0, 0, 0,\n",
              "        0, 0, 0, 0, 0],\n",
              "       [0, 0, 0, 0, 0, 0, 2, 0, 0, 0, 0, 0, 1, 0, 0, 0, 0, 0, 1, 0, 0, 1,\n",
              "        0, 0, 0, 0, 1, 0, 0, 0, 0, 1, 0, 0, 0, 0, 0, 0, 0, 0, 0, 0, 0, 0,\n",
              "        0, 0, 0, 0, 0, 0, 0, 0, 0, 0, 0, 0, 0, 0, 0, 1, 0, 0, 0, 0, 0, 0,\n",
              "        0, 0, 0, 0, 0],\n",
              "       [0, 0, 0, 0, 1, 0, 0, 1, 0, 1, 0, 0, 0, 0, 0, 0, 0, 0, 0, 0, 0, 0,\n",
              "        0, 0, 0, 0, 0, 1, 0, 0, 0, 0, 0, 0, 0, 0, 0, 1, 0, 0, 0, 0, 0, 0,\n",
              "        0, 0, 0, 0, 0, 0, 0, 0, 0, 0, 0, 0, 0, 1, 0, 0, 0, 0, 0, 0, 0, 0,\n",
              "        0, 0, 0, 0, 0],\n",
              "       [0, 0, 0, 0, 0, 0, 0, 0, 0, 0, 0, 0, 0, 0, 0, 0, 0, 0, 0, 0, 0, 0,\n",
              "        1, 0, 1, 0, 0, 0, 0, 0, 0, 0, 1, 0, 0, 0, 0, 0, 0, 0, 0, 0, 0, 0,\n",
              "        0, 0, 0, 0, 0, 0, 0, 1, 0, 0, 0, 1, 0, 0, 0, 0, 0, 0, 0, 0, 0, 0,\n",
              "        0, 1, 1, 0, 1],\n",
              "       [0, 0, 0, 0, 0, 1, 0, 0, 0, 0, 0, 0, 0, 1, 0, 0, 0, 0, 0, 0, 0, 0,\n",
              "        0, 1, 0, 0, 0, 0, 0, 0, 0, 0, 0, 0, 0, 0, 1, 0, 0, 0, 0, 0, 0, 0,\n",
              "        0, 1, 0, 0, 0, 0, 0, 0, 0, 0, 0, 0, 0, 0, 0, 0, 1, 0, 0, 0, 0, 0,\n",
              "        0, 0, 0, 0, 0],\n",
              "       [0, 0, 0, 0, 0, 0, 0, 0, 0, 0, 0, 1, 0, 0, 0, 0, 1, 0, 0, 0, 0, 0,\n",
              "        0, 0, 0, 1, 0, 0, 0, 0, 0, 0, 0, 0, 0, 0, 0, 0, 1, 0, 0, 0, 0, 0,\n",
              "        0, 0, 0, 0, 0, 0, 1, 0, 0, 0, 0, 0, 0, 0, 1, 0, 0, 0, 0, 1, 0, 0,\n",
              "        0, 0, 0, 1, 0]])"
            ]
          },
          "metadata": {},
          "execution_count": 26
        }
      ]
    },
    {
      "cell_type": "code",
      "execution_count": null,
      "metadata": {
        "id": "HbfilJoGQbDi"
      },
      "outputs": [],
      "source": []
    },
    {
      "cell_type": "markdown",
      "metadata": {
        "id": "yen15jcASwMa"
      },
      "source": [
        "### (B.1)  Bag of N-grams with Gensim"
      ]
    },
    {
      "cell_type": "code",
      "source": [
        "doc_list_Ngrams = [\n",
        "\"Start spreading the news\",\n",
        "\"You're leaving today (tell him friend)\",\n",
        "\"I want to be a part of it, New York, New York\",\n",
        "\"Your vagabond shoes, they are longing to stray\",\n",
        "\"And steps around the heart of it, New York, New York\",\n",
        "\"Trăm năm trong cõi ngƣời ta\",\n",
        "\"Chữ tài chữ mệnh khéo là ghét nhau.\",\n",
        "\"Trải qua một cuộc bể dâu,\",\n",
        "\"Những điều trông thấy mà đau đớn lòng.\",\n",
        "\"Lạ gì bỉ sắc tƣ phong,\",\n",
        "\"Trời xanh quen thói má hồng đánh ghen.\"]\n",
        "doc_tokenized_Ngrams = [simple_preprocess(doc) for doc in doc_list_Ngrams]\n",
        "doc_tokenized_Ngrams"
      ],
      "metadata": {
        "colab": {
          "base_uri": "https://localhost:8080/"
        },
        "id": "ApD5Yunp2229",
        "outputId": "7182f1a1-4393-43ef-b550-942eb5c76970"
      },
      "execution_count": 27,
      "outputs": [
        {
          "output_type": "execute_result",
          "data": {
            "text/plain": [
              "[['start', 'spreading', 'the', 'news'],\n",
              " ['you', 're', 'leaving', 'today', 'tell', 'him', 'friend'],\n",
              " ['want', 'to', 'be', 'part', 'of', 'it', 'new', 'york', 'new', 'york'],\n",
              " ['your', 'vagabond', 'shoes', 'they', 'are', 'longing', 'to', 'stray'],\n",
              " ['and',\n",
              "  'steps',\n",
              "  'around',\n",
              "  'the',\n",
              "  'heart',\n",
              "  'of',\n",
              "  'it',\n",
              "  'new',\n",
              "  'york',\n",
              "  'new',\n",
              "  'york'],\n",
              " ['trăm', 'năm', 'trong', 'cõi', 'ngƣời', 'ta'],\n",
              " ['chữ', 'tài', 'chữ', 'mệnh', 'khéo', 'là', 'ghét', 'nhau'],\n",
              " ['trải', 'qua', 'một', 'cuộc', 'bể', 'dâu'],\n",
              " ['những', 'điều', 'trông', 'thấy', 'mà', 'đau', 'đớn', 'lòng'],\n",
              " ['lạ', 'gì', 'bỉ', 'sắc', 'tƣ', 'phong'],\n",
              " ['trời', 'xanh', 'quen', 'thói', 'má', 'hồng', 'đánh', 'ghen']]"
            ]
          },
          "metadata": {},
          "execution_count": 27
        }
      ]
    },
    {
      "cell_type": "code",
      "source": [
        "from gensim.models.phrases import Phrases\n",
        "mydict = Dictionary()\n",
        "mycorpus_Ngrams = [mydict.doc2bow(doc, allow_update=True) for doc in doc_tokenized_Ngrams]\n",
        "mycorpus_Ngrams"
      ],
      "metadata": {
        "colab": {
          "base_uri": "https://localhost:8080/"
        },
        "id": "6cF6aLbHzfwz",
        "outputId": "b5cddac3-1c1c-420e-d047-7e0676980c7b"
      },
      "execution_count": 28,
      "outputs": [
        {
          "output_type": "execute_result",
          "data": {
            "text/plain": [
              "[[(0, 1), (1, 1), (2, 1), (3, 1)],\n",
              " [(4, 1), (5, 1), (6, 1), (7, 1), (8, 1), (9, 1), (10, 1)],\n",
              " [(11, 1), (12, 1), (13, 2), (14, 1), (15, 1), (16, 1), (17, 1), (18, 2)],\n",
              " [(16, 1), (19, 1), (20, 1), (21, 1), (22, 1), (23, 1), (24, 1), (25, 1)],\n",
              " [(3, 1),\n",
              "  (12, 1),\n",
              "  (13, 2),\n",
              "  (14, 1),\n",
              "  (18, 2),\n",
              "  (26, 1),\n",
              "  (27, 1),\n",
              "  (28, 1),\n",
              "  (29, 1)],\n",
              " [(30, 1), (31, 1), (32, 1), (33, 1), (34, 1), (35, 1)],\n",
              " [(36, 2), (37, 1), (38, 1), (39, 1), (40, 1), (41, 1), (42, 1)],\n",
              " [(43, 1), (44, 1), (45, 1), (46, 1), (47, 1), (48, 1)],\n",
              " [(49, 1), (50, 1), (51, 1), (52, 1), (53, 1), (54, 1), (55, 1), (56, 1)],\n",
              " [(57, 1), (58, 1), (59, 1), (60, 1), (61, 1), (62, 1)],\n",
              " [(63, 1), (64, 1), (65, 1), (66, 1), (67, 1), (68, 1), (69, 1), (70, 1)]]"
            ]
          },
          "metadata": {},
          "execution_count": 28
        }
      ]
    },
    {
      "cell_type": "code",
      "execution_count": 29,
      "metadata": {
        "id": "4m58sd7QelIi",
        "colab": {
          "base_uri": "https://localhost:8080/"
        },
        "outputId": "f78f037d-74fe-42e2-c19a-df023485dcc7"
      },
      "outputs": [
        {
          "output_type": "stream",
          "name": "stdout",
          "text": [
            "FrozenPhrases<4 phrases, min_count=1, threshold=2>\n",
            "['start', 'spreading', 'the', 'news']\n",
            "['you', 're', 'leaving', 'today', 'tell', 'him', 'friend']\n",
            "['want', 'to', 'be', 'part', 'of it', 'new york', 'new york']\n",
            "['your', 'vagabond', 'shoes', 'they', 'are', 'longing', 'to', 'stray']\n",
            "['and', 'steps', 'around', 'the', 'heart', 'of it', 'new york', 'new york']\n",
            "['trăm', 'năm', 'trong', 'cõi', 'ngƣời', 'ta']\n",
            "['chữ', 'tài', 'chữ', 'mệnh', 'khéo', 'là', 'ghét', 'nhau']\n",
            "['trải', 'qua', 'một', 'cuộc', 'bể', 'dâu']\n",
            "['những', 'điều', 'trông', 'thấy', 'mà', 'đau', 'đớn', 'lòng']\n",
            "['lạ', 'gì', 'bỉ', 'sắc', 'tƣ', 'phong']\n",
            "['trời', 'xanh', 'quen', 'thói', 'má', 'hồng', 'đánh', 'ghen']\n"
          ]
        }
      ],
      "source": [
        "from gensim.models import Phrases\n",
        "from gensim.models.phrases import Phraser\n",
        "\n",
        "# Build the bigram models\n",
        "bigram = gensim.models.phrases.Phrases(doc_tokenized_Ngrams, min_count=3, threshold=10)\n",
        "bigram = Phrases(doc_tokenized_Ngrams, min_count=1, threshold=2, delimiter=' ')\n",
        "bigram_phraser = Phraser(bigram)\n",
        "print(bigram_phraser)\n",
        "\n",
        "for sent in doc_tokenized_Ngrams:\n",
        "    tokens_ = bigram_phraser[sent]\n",
        "    print(tokens_)"
      ]
    },
    {
      "cell_type": "code",
      "execution_count": 30,
      "metadata": {
        "id": "7mSfnVtpelSw",
        "colab": {
          "base_uri": "https://localhost:8080/"
        },
        "outputId": "c8f36bc7-310e-4005-b9df-dc6d57615be1"
      },
      "outputs": [
        {
          "output_type": "stream",
          "name": "stdout",
          "text": [
            "[]\n",
            "[]\n",
            "[]\n",
            "[]\n",
            "[]\n",
            "[]\n",
            "[]\n",
            "[]\n",
            "[]\n",
            "[]\n",
            "[]\n"
          ]
        }
      ],
      "source": [
        "from gensim.models import Phrases\n",
        "\n",
        "bigram = Phrases(doc_tokenized_Ngrams, min_count=1, delimiter=' ')\n",
        "trigram = Phrases(bigram[doc_tokenized_Ngrams], min_count=1, delimiter=' ')\n",
        "\n",
        "for sent in doc_tokenized_Ngrams:\n",
        "    bigrams_ = [b for b in bigram[sent] if b.count(' ') == 1]\n",
        "    trigrams_ = [t for t in trigram[bigram[sent]] if t.count(' ') == 2]\n",
        "\n",
        "    print(trigrams_)"
      ]
    },
    {
      "cell_type": "markdown",
      "metadata": {
        "id": "kZAwwEXUS9lA"
      },
      "source": [
        "### (B.2) Bag of N-grams with scikit-learn"
      ]
    },
    {
      "cell_type": "code",
      "source": [
        "doc_list = [\n",
        "\"Start spreading the news\",\n",
        "\"You're leaving today (tell him friend)\",\n",
        "\"I want to be a part of it, New York, New York\",\n",
        "\"Your vagabond shoes, they are longing to stray\",\n",
        "\"And steps around the heart of it, New York, New York\",\n",
        "\"Trăm năm trong cõi ngƣời ta\",\n",
        "\"Chữ tài chữ mệnh khéo là ghét nhau.\",\n",
        "\"Trải qua một cuộc bể dâu,\",\n",
        "\"Những điều trông thấy mà đau đớn lòng.\",\n",
        "\"Lạ gì bỉ sắc tƣ phong,\",\n",
        "\"Trời xanh quen thói má hồng đánh ghen.\"]"
      ],
      "metadata": {
        "id": "_ILS7H_QKwX5"
      },
      "execution_count": 31,
      "outputs": []
    },
    {
      "cell_type": "code",
      "execution_count": 32,
      "metadata": {
        "colab": {
          "base_uri": "https://localhost:8080/",
          "height": 75
        },
        "id": "C2EuLGz_Su0U",
        "outputId": "a3af028d-fa47-4efe-e0ad-abc1f7c9031c"
      },
      "outputs": [
        {
          "output_type": "execute_result",
          "data": {
            "text/plain": [
              "CountVectorizer(ngram_range=(2, 2))"
            ],
            "text/html": [
              "<style>#sk-container-id-1 {color: black;background-color: white;}#sk-container-id-1 pre{padding: 0;}#sk-container-id-1 div.sk-toggleable {background-color: white;}#sk-container-id-1 label.sk-toggleable__label {cursor: pointer;display: block;width: 100%;margin-bottom: 0;padding: 0.3em;box-sizing: border-box;text-align: center;}#sk-container-id-1 label.sk-toggleable__label-arrow:before {content: \"▸\";float: left;margin-right: 0.25em;color: #696969;}#sk-container-id-1 label.sk-toggleable__label-arrow:hover:before {color: black;}#sk-container-id-1 div.sk-estimator:hover label.sk-toggleable__label-arrow:before {color: black;}#sk-container-id-1 div.sk-toggleable__content {max-height: 0;max-width: 0;overflow: hidden;text-align: left;background-color: #f0f8ff;}#sk-container-id-1 div.sk-toggleable__content pre {margin: 0.2em;color: black;border-radius: 0.25em;background-color: #f0f8ff;}#sk-container-id-1 input.sk-toggleable__control:checked~div.sk-toggleable__content {max-height: 200px;max-width: 100%;overflow: auto;}#sk-container-id-1 input.sk-toggleable__control:checked~label.sk-toggleable__label-arrow:before {content: \"▾\";}#sk-container-id-1 div.sk-estimator input.sk-toggleable__control:checked~label.sk-toggleable__label {background-color: #d4ebff;}#sk-container-id-1 div.sk-label input.sk-toggleable__control:checked~label.sk-toggleable__label {background-color: #d4ebff;}#sk-container-id-1 input.sk-hidden--visually {border: 0;clip: rect(1px 1px 1px 1px);clip: rect(1px, 1px, 1px, 1px);height: 1px;margin: -1px;overflow: hidden;padding: 0;position: absolute;width: 1px;}#sk-container-id-1 div.sk-estimator {font-family: monospace;background-color: #f0f8ff;border: 1px dotted black;border-radius: 0.25em;box-sizing: border-box;margin-bottom: 0.5em;}#sk-container-id-1 div.sk-estimator:hover {background-color: #d4ebff;}#sk-container-id-1 div.sk-parallel-item::after {content: \"\";width: 100%;border-bottom: 1px solid gray;flex-grow: 1;}#sk-container-id-1 div.sk-label:hover label.sk-toggleable__label {background-color: #d4ebff;}#sk-container-id-1 div.sk-serial::before {content: \"\";position: absolute;border-left: 1px solid gray;box-sizing: border-box;top: 0;bottom: 0;left: 50%;z-index: 0;}#sk-container-id-1 div.sk-serial {display: flex;flex-direction: column;align-items: center;background-color: white;padding-right: 0.2em;padding-left: 0.2em;position: relative;}#sk-container-id-1 div.sk-item {position: relative;z-index: 1;}#sk-container-id-1 div.sk-parallel {display: flex;align-items: stretch;justify-content: center;background-color: white;position: relative;}#sk-container-id-1 div.sk-item::before, #sk-container-id-1 div.sk-parallel-item::before {content: \"\";position: absolute;border-left: 1px solid gray;box-sizing: border-box;top: 0;bottom: 0;left: 50%;z-index: -1;}#sk-container-id-1 div.sk-parallel-item {display: flex;flex-direction: column;z-index: 1;position: relative;background-color: white;}#sk-container-id-1 div.sk-parallel-item:first-child::after {align-self: flex-end;width: 50%;}#sk-container-id-1 div.sk-parallel-item:last-child::after {align-self: flex-start;width: 50%;}#sk-container-id-1 div.sk-parallel-item:only-child::after {width: 0;}#sk-container-id-1 div.sk-dashed-wrapped {border: 1px dashed gray;margin: 0 0.4em 0.5em 0.4em;box-sizing: border-box;padding-bottom: 0.4em;background-color: white;}#sk-container-id-1 div.sk-label label {font-family: monospace;font-weight: bold;display: inline-block;line-height: 1.2em;}#sk-container-id-1 div.sk-label-container {text-align: center;}#sk-container-id-1 div.sk-container {/* jupyter's `normalize.less` sets `[hidden] { display: none; }` but bootstrap.min.css set `[hidden] { display: none !important; }` so we also need the `!important` here to be able to override the default hidden behavior on the sphinx rendered scikit-learn.org. See: https://github.com/scikit-learn/scikit-learn/issues/21755 */display: inline-block !important;position: relative;}#sk-container-id-1 div.sk-text-repr-fallback {display: none;}</style><div id=\"sk-container-id-1\" class=\"sk-top-container\"><div class=\"sk-text-repr-fallback\"><pre>CountVectorizer(ngram_range=(2, 2))</pre><b>In a Jupyter environment, please rerun this cell to show the HTML representation or trust the notebook. <br />On GitHub, the HTML representation is unable to render, please try loading this page with nbviewer.org.</b></div><div class=\"sk-container\" hidden><div class=\"sk-item\"><div class=\"sk-estimator sk-toggleable\"><input class=\"sk-toggleable__control sk-hidden--visually\" id=\"sk-estimator-id-1\" type=\"checkbox\" checked><label for=\"sk-estimator-id-1\" class=\"sk-toggleable__label sk-toggleable__label-arrow\">CountVectorizer</label><div class=\"sk-toggleable__content\"><pre>CountVectorizer(ngram_range=(2, 2))</pre></div></div></div></div></div>"
            ]
          },
          "metadata": {},
          "execution_count": 32
        }
      ],
      "source": [
        "# look at sequences of tokens of minimum length 2 and maximum length 2\n",
        "bigram_vectorizer = CountVectorizer(ngram_range=(2, 2))\n",
        "bigram_vectorizer.fit(doc_list)"
      ]
    },
    {
      "cell_type": "code",
      "source": [
        "from sklearn.feature_extraction.text import CountVectorizer\n",
        "ngram_vectorizer = CountVectorizer(ngram_range=(2, 2))\n",
        "ngram_fit = ngram_vectorizer.fit_transform(doc_list)\n",
        "word_list = ngram_vectorizer.get_feature_names_out()\n",
        "count_list = ngram_fit.toarray().sum(axis=0)\n",
        "pp.pprint( dict(zip(word_list,count_list)) )"
      ],
      "metadata": {
        "colab": {
          "base_uri": "https://localhost:8080/"
        },
        "id": "19rCFc6V33mD",
        "outputId": "a01e409c-ffb2-4877-bd73-bcf7e14ed6d3"
      },
      "execution_count": 33,
      "outputs": [
        {
          "output_type": "stream",
          "name": "stdout",
          "text": [
            "{   'and steps': 1,\n",
            "    'are longing': 1,\n",
            "    'around the': 1,\n",
            "    'be part': 1,\n",
            "    'bể dâu': 1,\n",
            "    'bỉ sắc': 1,\n",
            "    'chữ mệnh': 1,\n",
            "    'chữ tài': 1,\n",
            "    'cuộc bể': 1,\n",
            "    'cõi ngƣời': 1,\n",
            "    'ghét nhau': 1,\n",
            "    'gì bỉ': 1,\n",
            "    'heart of': 1,\n",
            "    'him friend': 1,\n",
            "    'hồng đánh': 1,\n",
            "    'it new': 2,\n",
            "    'khéo là': 1,\n",
            "    'leaving today': 1,\n",
            "    'longing to': 1,\n",
            "    'là ghét': 1,\n",
            "    'lạ gì': 1,\n",
            "    'mà đau': 1,\n",
            "    'má hồng': 1,\n",
            "    'mệnh khéo': 1,\n",
            "    'một cuộc': 1,\n",
            "    'new york': 4,\n",
            "    'ngƣời ta': 1,\n",
            "    'những điều': 1,\n",
            "    'năm trong': 1,\n",
            "    'of it': 2,\n",
            "    'part of': 1,\n",
            "    'qua một': 1,\n",
            "    'quen thói': 1,\n",
            "    're leaving': 1,\n",
            "    'shoes they': 1,\n",
            "    'spreading the': 1,\n",
            "    'start spreading': 1,\n",
            "    'steps around': 1,\n",
            "    'sắc tƣ': 1,\n",
            "    'tell him': 1,\n",
            "    'the heart': 1,\n",
            "    'the news': 1,\n",
            "    'they are': 1,\n",
            "    'thói má': 1,\n",
            "    'thấy mà': 1,\n",
            "    'to be': 1,\n",
            "    'to stray': 1,\n",
            "    'today tell': 1,\n",
            "    'trong cõi': 1,\n",
            "    'trông thấy': 1,\n",
            "    'trăm năm': 1,\n",
            "    'trải qua': 1,\n",
            "    'trời xanh': 1,\n",
            "    'tài chữ': 1,\n",
            "    'tƣ phong': 1,\n",
            "    'vagabond shoes': 1,\n",
            "    'want to': 1,\n",
            "    'xanh quen': 1,\n",
            "    'york new': 2,\n",
            "    'you re': 1,\n",
            "    'your vagabond': 1,\n",
            "    'đau đớn': 1,\n",
            "    'điều trông': 1,\n",
            "    'đánh ghen': 1,\n",
            "    'đớn lòng': 1}\n"
          ]
        }
      ]
    },
    {
      "cell_type": "code",
      "source": [
        "from sklearn.feature_extraction.text import CountVectorizer\n",
        "ngram_vectorizer = CountVectorizer(ngram_range=(3, 3))\n",
        "ngram_fit = ngram_vectorizer.fit_transform(doc_list)\n",
        "word_list = ngram_vectorizer.get_feature_names_out()\n",
        "count_list = ngram_fit.toarray().sum(axis=0)\n",
        "pp.pprint( dict(zip(word_list,count_list)) )"
      ],
      "metadata": {
        "colab": {
          "base_uri": "https://localhost:8080/"
        },
        "id": "NDCgXZ-N33pC",
        "outputId": "3159c1d8-41fb-4046-acf6-a47d3c660d88"
      },
      "execution_count": 34,
      "outputs": [
        {
          "output_type": "stream",
          "name": "stdout",
          "text": [
            "{   'and steps around': 1,\n",
            "    'are longing to': 1,\n",
            "    'around the heart': 1,\n",
            "    'be part of': 1,\n",
            "    'bỉ sắc tƣ': 1,\n",
            "    'chữ mệnh khéo': 1,\n",
            "    'chữ tài chữ': 1,\n",
            "    'cuộc bể dâu': 1,\n",
            "    'cõi ngƣời ta': 1,\n",
            "    'gì bỉ sắc': 1,\n",
            "    'heart of it': 1,\n",
            "    'hồng đánh ghen': 1,\n",
            "    'it new york': 2,\n",
            "    'khéo là ghét': 1,\n",
            "    'leaving today tell': 1,\n",
            "    'longing to stray': 1,\n",
            "    'là ghét nhau': 1,\n",
            "    'lạ gì bỉ': 1,\n",
            "    'mà đau đớn': 1,\n",
            "    'má hồng đánh': 1,\n",
            "    'mệnh khéo là': 1,\n",
            "    'một cuộc bể': 1,\n",
            "    'new york new': 2,\n",
            "    'những điều trông': 1,\n",
            "    'năm trong cõi': 1,\n",
            "    'of it new': 2,\n",
            "    'part of it': 1,\n",
            "    'qua một cuộc': 1,\n",
            "    'quen thói má': 1,\n",
            "    're leaving today': 1,\n",
            "    'shoes they are': 1,\n",
            "    'spreading the news': 1,\n",
            "    'start spreading the': 1,\n",
            "    'steps around the': 1,\n",
            "    'sắc tƣ phong': 1,\n",
            "    'tell him friend': 1,\n",
            "    'the heart of': 1,\n",
            "    'they are longing': 1,\n",
            "    'thói má hồng': 1,\n",
            "    'thấy mà đau': 1,\n",
            "    'to be part': 1,\n",
            "    'today tell him': 1,\n",
            "    'trong cõi ngƣời': 1,\n",
            "    'trông thấy mà': 1,\n",
            "    'trăm năm trong': 1,\n",
            "    'trải qua một': 1,\n",
            "    'trời xanh quen': 1,\n",
            "    'tài chữ mệnh': 1,\n",
            "    'vagabond shoes they': 1,\n",
            "    'want to be': 1,\n",
            "    'xanh quen thói': 1,\n",
            "    'york new york': 2,\n",
            "    'you re leaving': 1,\n",
            "    'your vagabond shoes': 1,\n",
            "    'đau đớn lòng': 1,\n",
            "    'điều trông thấy': 1}\n"
          ]
        }
      ]
    },
    {
      "cell_type": "markdown",
      "source": [
        "### (B.4) Bag of N-grams with NLTK"
      ],
      "metadata": {
        "id": "Pr6VzPUpe-oP"
      }
    },
    {
      "cell_type": "code",
      "source": [
        "from nltk.util import bigrams, trigrams\n",
        "flat_list = []\n",
        "for sublist in doc_tokenized:\n",
        "    for item in sublist:\n",
        "        flat_list.append(item)\n",
        "flat_list"
      ],
      "metadata": {
        "colab": {
          "base_uri": "https://localhost:8080/"
        },
        "id": "saeAydt_6aWG",
        "outputId": "6aeded27-e5b7-48b3-f885-5d76eb8630fd"
      },
      "execution_count": 35,
      "outputs": [
        {
          "output_type": "execute_result",
          "data": {
            "text/plain": [
              "['start',\n",
              " 'spreading',\n",
              " 'the',\n",
              " 'news',\n",
              " 'you',\n",
              " 're',\n",
              " 'leaving',\n",
              " 'today',\n",
              " 'tell',\n",
              " 'him',\n",
              " 'friend',\n",
              " 'want',\n",
              " 'to',\n",
              " 'be',\n",
              " 'part',\n",
              " 'of',\n",
              " 'it',\n",
              " 'new',\n",
              " 'york',\n",
              " 'new',\n",
              " 'york',\n",
              " 'your',\n",
              " 'vagabond',\n",
              " 'shoes',\n",
              " 'they',\n",
              " 'are',\n",
              " 'longing',\n",
              " 'to',\n",
              " 'stray',\n",
              " 'and',\n",
              " 'steps',\n",
              " 'around',\n",
              " 'the',\n",
              " 'heart',\n",
              " 'of',\n",
              " 'it',\n",
              " 'new',\n",
              " 'york',\n",
              " 'new',\n",
              " 'york',\n",
              " 'trăm',\n",
              " 'năm',\n",
              " 'trong',\n",
              " 'cõi',\n",
              " 'ngƣời',\n",
              " 'ta',\n",
              " 'chữ',\n",
              " 'tài',\n",
              " 'chữ',\n",
              " 'mệnh',\n",
              " 'khéo',\n",
              " 'là',\n",
              " 'ghét',\n",
              " 'nhau',\n",
              " 'trải',\n",
              " 'qua',\n",
              " 'một',\n",
              " 'cuộc',\n",
              " 'bể',\n",
              " 'dâu',\n",
              " 'những',\n",
              " 'điều',\n",
              " 'trông',\n",
              " 'thấy',\n",
              " 'mà',\n",
              " 'đau',\n",
              " 'đớn',\n",
              " 'lòng',\n",
              " 'lạ',\n",
              " 'gì',\n",
              " 'bỉ',\n",
              " 'sắc',\n",
              " 'tƣ',\n",
              " 'phong',\n",
              " 'trời',\n",
              " 'xanh',\n",
              " 'quen',\n",
              " 'thói',\n",
              " 'má',\n",
              " 'hồng',\n",
              " 'đánh',\n",
              " 'ghen']"
            ]
          },
          "metadata": {},
          "execution_count": 35
        }
      ]
    },
    {
      "cell_type": "code",
      "source": [
        "from nltk.util import bigrams, trigrams\n",
        "flat_list = []\n",
        "for sublist in doc_tokenized:\n",
        "    for item in sublist:\n",
        "        flat_list.append(item)\n",
        "\n",
        "nltk_bigrams = list(bigrams(flat_list))\n",
        "nltk_bigrams"
      ],
      "metadata": {
        "colab": {
          "base_uri": "https://localhost:8080/"
        },
        "id": "OXLXlO6IRAIH",
        "outputId": "38326707-697a-4a57-d2cd-60399545a0f8"
      },
      "execution_count": 36,
      "outputs": [
        {
          "output_type": "execute_result",
          "data": {
            "text/plain": [
              "[('start', 'spreading'),\n",
              " ('spreading', 'the'),\n",
              " ('the', 'news'),\n",
              " ('news', 'you'),\n",
              " ('you', 're'),\n",
              " ('re', 'leaving'),\n",
              " ('leaving', 'today'),\n",
              " ('today', 'tell'),\n",
              " ('tell', 'him'),\n",
              " ('him', 'friend'),\n",
              " ('friend', 'want'),\n",
              " ('want', 'to'),\n",
              " ('to', 'be'),\n",
              " ('be', 'part'),\n",
              " ('part', 'of'),\n",
              " ('of', 'it'),\n",
              " ('it', 'new'),\n",
              " ('new', 'york'),\n",
              " ('york', 'new'),\n",
              " ('new', 'york'),\n",
              " ('york', 'your'),\n",
              " ('your', 'vagabond'),\n",
              " ('vagabond', 'shoes'),\n",
              " ('shoes', 'they'),\n",
              " ('they', 'are'),\n",
              " ('are', 'longing'),\n",
              " ('longing', 'to'),\n",
              " ('to', 'stray'),\n",
              " ('stray', 'and'),\n",
              " ('and', 'steps'),\n",
              " ('steps', 'around'),\n",
              " ('around', 'the'),\n",
              " ('the', 'heart'),\n",
              " ('heart', 'of'),\n",
              " ('of', 'it'),\n",
              " ('it', 'new'),\n",
              " ('new', 'york'),\n",
              " ('york', 'new'),\n",
              " ('new', 'york'),\n",
              " ('york', 'trăm'),\n",
              " ('trăm', 'năm'),\n",
              " ('năm', 'trong'),\n",
              " ('trong', 'cõi'),\n",
              " ('cõi', 'ngƣời'),\n",
              " ('ngƣời', 'ta'),\n",
              " ('ta', 'chữ'),\n",
              " ('chữ', 'tài'),\n",
              " ('tài', 'chữ'),\n",
              " ('chữ', 'mệnh'),\n",
              " ('mệnh', 'khéo'),\n",
              " ('khéo', 'là'),\n",
              " ('là', 'ghét'),\n",
              " ('ghét', 'nhau'),\n",
              " ('nhau', 'trải'),\n",
              " ('trải', 'qua'),\n",
              " ('qua', 'một'),\n",
              " ('một', 'cuộc'),\n",
              " ('cuộc', 'bể'),\n",
              " ('bể', 'dâu'),\n",
              " ('dâu', 'những'),\n",
              " ('những', 'điều'),\n",
              " ('điều', 'trông'),\n",
              " ('trông', 'thấy'),\n",
              " ('thấy', 'mà'),\n",
              " ('mà', 'đau'),\n",
              " ('đau', 'đớn'),\n",
              " ('đớn', 'lòng'),\n",
              " ('lòng', 'lạ'),\n",
              " ('lạ', 'gì'),\n",
              " ('gì', 'bỉ'),\n",
              " ('bỉ', 'sắc'),\n",
              " ('sắc', 'tƣ'),\n",
              " ('tƣ', 'phong'),\n",
              " ('phong', 'trời'),\n",
              " ('trời', 'xanh'),\n",
              " ('xanh', 'quen'),\n",
              " ('quen', 'thói'),\n",
              " ('thói', 'má'),\n",
              " ('má', 'hồng'),\n",
              " ('hồng', 'đánh'),\n",
              " ('đánh', 'ghen')]"
            ]
          },
          "metadata": {},
          "execution_count": 36
        }
      ]
    },
    {
      "cell_type": "code",
      "source": [
        "nltk_trigrams = list(trigrams(flat_list))\n",
        "nltk_trigrams"
      ],
      "metadata": {
        "colab": {
          "base_uri": "https://localhost:8080/"
        },
        "id": "SBhEEfMWe2cv",
        "outputId": "61f90dc9-bf7b-4d18-9d2d-f102a8165d0d"
      },
      "execution_count": 37,
      "outputs": [
        {
          "output_type": "execute_result",
          "data": {
            "text/plain": [
              "[('start', 'spreading', 'the'),\n",
              " ('spreading', 'the', 'news'),\n",
              " ('the', 'news', 'you'),\n",
              " ('news', 'you', 're'),\n",
              " ('you', 're', 'leaving'),\n",
              " ('re', 'leaving', 'today'),\n",
              " ('leaving', 'today', 'tell'),\n",
              " ('today', 'tell', 'him'),\n",
              " ('tell', 'him', 'friend'),\n",
              " ('him', 'friend', 'want'),\n",
              " ('friend', 'want', 'to'),\n",
              " ('want', 'to', 'be'),\n",
              " ('to', 'be', 'part'),\n",
              " ('be', 'part', 'of'),\n",
              " ('part', 'of', 'it'),\n",
              " ('of', 'it', 'new'),\n",
              " ('it', 'new', 'york'),\n",
              " ('new', 'york', 'new'),\n",
              " ('york', 'new', 'york'),\n",
              " ('new', 'york', 'your'),\n",
              " ('york', 'your', 'vagabond'),\n",
              " ('your', 'vagabond', 'shoes'),\n",
              " ('vagabond', 'shoes', 'they'),\n",
              " ('shoes', 'they', 'are'),\n",
              " ('they', 'are', 'longing'),\n",
              " ('are', 'longing', 'to'),\n",
              " ('longing', 'to', 'stray'),\n",
              " ('to', 'stray', 'and'),\n",
              " ('stray', 'and', 'steps'),\n",
              " ('and', 'steps', 'around'),\n",
              " ('steps', 'around', 'the'),\n",
              " ('around', 'the', 'heart'),\n",
              " ('the', 'heart', 'of'),\n",
              " ('heart', 'of', 'it'),\n",
              " ('of', 'it', 'new'),\n",
              " ('it', 'new', 'york'),\n",
              " ('new', 'york', 'new'),\n",
              " ('york', 'new', 'york'),\n",
              " ('new', 'york', 'trăm'),\n",
              " ('york', 'trăm', 'năm'),\n",
              " ('trăm', 'năm', 'trong'),\n",
              " ('năm', 'trong', 'cõi'),\n",
              " ('trong', 'cõi', 'ngƣời'),\n",
              " ('cõi', 'ngƣời', 'ta'),\n",
              " ('ngƣời', 'ta', 'chữ'),\n",
              " ('ta', 'chữ', 'tài'),\n",
              " ('chữ', 'tài', 'chữ'),\n",
              " ('tài', 'chữ', 'mệnh'),\n",
              " ('chữ', 'mệnh', 'khéo'),\n",
              " ('mệnh', 'khéo', 'là'),\n",
              " ('khéo', 'là', 'ghét'),\n",
              " ('là', 'ghét', 'nhau'),\n",
              " ('ghét', 'nhau', 'trải'),\n",
              " ('nhau', 'trải', 'qua'),\n",
              " ('trải', 'qua', 'một'),\n",
              " ('qua', 'một', 'cuộc'),\n",
              " ('một', 'cuộc', 'bể'),\n",
              " ('cuộc', 'bể', 'dâu'),\n",
              " ('bể', 'dâu', 'những'),\n",
              " ('dâu', 'những', 'điều'),\n",
              " ('những', 'điều', 'trông'),\n",
              " ('điều', 'trông', 'thấy'),\n",
              " ('trông', 'thấy', 'mà'),\n",
              " ('thấy', 'mà', 'đau'),\n",
              " ('mà', 'đau', 'đớn'),\n",
              " ('đau', 'đớn', 'lòng'),\n",
              " ('đớn', 'lòng', 'lạ'),\n",
              " ('lòng', 'lạ', 'gì'),\n",
              " ('lạ', 'gì', 'bỉ'),\n",
              " ('gì', 'bỉ', 'sắc'),\n",
              " ('bỉ', 'sắc', 'tƣ'),\n",
              " ('sắc', 'tƣ', 'phong'),\n",
              " ('tƣ', 'phong', 'trời'),\n",
              " ('phong', 'trời', 'xanh'),\n",
              " ('trời', 'xanh', 'quen'),\n",
              " ('xanh', 'quen', 'thói'),\n",
              " ('quen', 'thói', 'má'),\n",
              " ('thói', 'má', 'hồng'),\n",
              " ('má', 'hồng', 'đánh'),\n",
              " ('hồng', 'đánh', 'ghen')]"
            ]
          },
          "metadata": {},
          "execution_count": 37
        }
      ]
    },
    {
      "cell_type": "code",
      "source": [],
      "metadata": {
        "id": "Zyhg-FTve2f1"
      },
      "execution_count": null,
      "outputs": []
    },
    {
      "cell_type": "code",
      "source": [],
      "metadata": {
        "id": "u8MYrn4He2jN"
      },
      "execution_count": null,
      "outputs": []
    },
    {
      "cell_type": "markdown",
      "metadata": {
        "id": "z0pA-qC1Rer9"
      },
      "source": [
        "### (C.1) TF-IDF with Gensim"
      ]
    },
    {
      "cell_type": "code",
      "execution_count": 38,
      "metadata": {
        "id": "2bIKGLHARhfE"
      },
      "outputs": [],
      "source": [
        "import gensim\n",
        "import pprint\n",
        "from gensim.models import TfidfModel\n",
        "from gensim import corpora\n",
        "from gensim.utils import simple_preprocess"
      ]
    },
    {
      "cell_type": "code",
      "source": [
        "doc_tokenized = [simple_preprocess(doc) for doc in doc_list]\n",
        "dictionary = corpora.Dictionary()\n",
        "BoW_corpus = [dictionary.doc2bow(doc, allow_update=True) for doc in doc_tokenized]\n",
        "for doc in BoW_corpus:\n",
        "   print([[dictionary[id], freq] for id, freq in doc])\n",
        "import numpy as np\n",
        "tfidf = TfidfModel(BoW_corpus, smartirs='ntc')"
      ],
      "metadata": {
        "colab": {
          "base_uri": "https://localhost:8080/"
        },
        "id": "BEnBJVubsK7E",
        "outputId": "05fadf4f-75ae-427a-ca61-135bd0b246ca"
      },
      "execution_count": 39,
      "outputs": [
        {
          "output_type": "stream",
          "name": "stdout",
          "text": [
            "[['news', 1], ['spreading', 1], ['start', 1], ['the', 1]]\n",
            "[['friend', 1], ['him', 1], ['leaving', 1], ['re', 1], ['tell', 1], ['today', 1], ['you', 1]]\n",
            "[['be', 1], ['it', 1], ['new', 2], ['of', 1], ['part', 1], ['to', 1], ['want', 1], ['york', 2]]\n",
            "[['to', 1], ['are', 1], ['longing', 1], ['shoes', 1], ['stray', 1], ['they', 1], ['vagabond', 1], ['your', 1]]\n",
            "[['the', 1], ['it', 1], ['new', 2], ['of', 1], ['york', 2], ['and', 1], ['around', 1], ['heart', 1], ['steps', 1]]\n",
            "[['cõi', 1], ['ngƣời', 1], ['năm', 1], ['ta', 1], ['trong', 1], ['trăm', 1]]\n",
            "[['chữ', 2], ['ghét', 1], ['khéo', 1], ['là', 1], ['mệnh', 1], ['nhau', 1], ['tài', 1]]\n",
            "[['bể', 1], ['cuộc', 1], ['dâu', 1], ['một', 1], ['qua', 1], ['trải', 1]]\n",
            "[['lòng', 1], ['mà', 1], ['những', 1], ['thấy', 1], ['trông', 1], ['đau', 1], ['điều', 1], ['đớn', 1]]\n",
            "[['bỉ', 1], ['gì', 1], ['lạ', 1], ['phong', 1], ['sắc', 1], ['tƣ', 1]]\n",
            "[['ghen', 1], ['hồng', 1], ['má', 1], ['quen', 1], ['thói', 1], ['trời', 1], ['xanh', 1], ['đánh', 1]]\n"
          ]
        }
      ]
    },
    {
      "cell_type": "code",
      "source": [
        "BoW_corpus"
      ],
      "metadata": {
        "colab": {
          "base_uri": "https://localhost:8080/"
        },
        "id": "bexFvcjL_Hay",
        "outputId": "6ac00e84-645c-41ec-f2d2-30fe750227fd"
      },
      "execution_count": 40,
      "outputs": [
        {
          "output_type": "execute_result",
          "data": {
            "text/plain": [
              "[[(0, 1), (1, 1), (2, 1), (3, 1)],\n",
              " [(4, 1), (5, 1), (6, 1), (7, 1), (8, 1), (9, 1), (10, 1)],\n",
              " [(11, 1), (12, 1), (13, 2), (14, 1), (15, 1), (16, 1), (17, 1), (18, 2)],\n",
              " [(16, 1), (19, 1), (20, 1), (21, 1), (22, 1), (23, 1), (24, 1), (25, 1)],\n",
              " [(3, 1),\n",
              "  (12, 1),\n",
              "  (13, 2),\n",
              "  (14, 1),\n",
              "  (18, 2),\n",
              "  (26, 1),\n",
              "  (27, 1),\n",
              "  (28, 1),\n",
              "  (29, 1)],\n",
              " [(30, 1), (31, 1), (32, 1), (33, 1), (34, 1), (35, 1)],\n",
              " [(36, 2), (37, 1), (38, 1), (39, 1), (40, 1), (41, 1), (42, 1)],\n",
              " [(43, 1), (44, 1), (45, 1), (46, 1), (47, 1), (48, 1)],\n",
              " [(49, 1), (50, 1), (51, 1), (52, 1), (53, 1), (54, 1), (55, 1), (56, 1)],\n",
              " [(57, 1), (58, 1), (59, 1), (60, 1), (61, 1), (62, 1)],\n",
              " [(63, 1), (64, 1), (65, 1), (66, 1), (67, 1), (68, 1), (69, 1), (70, 1)]]"
            ]
          },
          "metadata": {},
          "execution_count": 40
        }
      ]
    },
    {
      "cell_type": "code",
      "source": [
        "# Get the tfidf transformed corpus,\n",
        "# then the vector of the third sentence.\n",
        "tfidf[BoW_corpus][4]"
      ],
      "metadata": {
        "colab": {
          "base_uri": "https://localhost:8080/"
        },
        "id": "PG8EVVIosetO",
        "outputId": "20bdf633-81cd-4efc-a50a-b995b78557d1"
      },
      "execution_count": 41,
      "outputs": [
        {
          "output_type": "execute_result",
          "data": {
            "text/plain": [
              "[(3, 0.2312891994230274),\n",
              " (12, 0.2312891994230274),\n",
              " (13, 0.4625783988460548),\n",
              " (14, 0.2312891994230274),\n",
              " (18, 0.4625783988460548),\n",
              " (26, 0.32076407550285524),\n",
              " (27, 0.32076407550285524),\n",
              " (28, 0.32076407550285524),\n",
              " (29, 0.32076407550285524)]"
            ]
          },
          "metadata": {},
          "execution_count": 41
        }
      ]
    },
    {
      "cell_type": "markdown",
      "metadata": {
        "id": "-eKdB5SqSN4l"
      },
      "source": [
        "### (C.2) TD-IDF with Scikit-learn"
      ]
    },
    {
      "cell_type": "code",
      "execution_count": 42,
      "metadata": {
        "colab": {
          "base_uri": "https://localhost:8080/",
          "height": 75
        },
        "id": "h1KXMUQ8SR8e",
        "outputId": "caf4c5b8-875e-493b-e038-87672a57cc04"
      },
      "outputs": [
        {
          "output_type": "execute_result",
          "data": {
            "text/plain": [
              "TfidfVectorizer()"
            ],
            "text/html": [
              "<style>#sk-container-id-2 {color: black;background-color: white;}#sk-container-id-2 pre{padding: 0;}#sk-container-id-2 div.sk-toggleable {background-color: white;}#sk-container-id-2 label.sk-toggleable__label {cursor: pointer;display: block;width: 100%;margin-bottom: 0;padding: 0.3em;box-sizing: border-box;text-align: center;}#sk-container-id-2 label.sk-toggleable__label-arrow:before {content: \"▸\";float: left;margin-right: 0.25em;color: #696969;}#sk-container-id-2 label.sk-toggleable__label-arrow:hover:before {color: black;}#sk-container-id-2 div.sk-estimator:hover label.sk-toggleable__label-arrow:before {color: black;}#sk-container-id-2 div.sk-toggleable__content {max-height: 0;max-width: 0;overflow: hidden;text-align: left;background-color: #f0f8ff;}#sk-container-id-2 div.sk-toggleable__content pre {margin: 0.2em;color: black;border-radius: 0.25em;background-color: #f0f8ff;}#sk-container-id-2 input.sk-toggleable__control:checked~div.sk-toggleable__content {max-height: 200px;max-width: 100%;overflow: auto;}#sk-container-id-2 input.sk-toggleable__control:checked~label.sk-toggleable__label-arrow:before {content: \"▾\";}#sk-container-id-2 div.sk-estimator input.sk-toggleable__control:checked~label.sk-toggleable__label {background-color: #d4ebff;}#sk-container-id-2 div.sk-label input.sk-toggleable__control:checked~label.sk-toggleable__label {background-color: #d4ebff;}#sk-container-id-2 input.sk-hidden--visually {border: 0;clip: rect(1px 1px 1px 1px);clip: rect(1px, 1px, 1px, 1px);height: 1px;margin: -1px;overflow: hidden;padding: 0;position: absolute;width: 1px;}#sk-container-id-2 div.sk-estimator {font-family: monospace;background-color: #f0f8ff;border: 1px dotted black;border-radius: 0.25em;box-sizing: border-box;margin-bottom: 0.5em;}#sk-container-id-2 div.sk-estimator:hover {background-color: #d4ebff;}#sk-container-id-2 div.sk-parallel-item::after {content: \"\";width: 100%;border-bottom: 1px solid gray;flex-grow: 1;}#sk-container-id-2 div.sk-label:hover label.sk-toggleable__label {background-color: #d4ebff;}#sk-container-id-2 div.sk-serial::before {content: \"\";position: absolute;border-left: 1px solid gray;box-sizing: border-box;top: 0;bottom: 0;left: 50%;z-index: 0;}#sk-container-id-2 div.sk-serial {display: flex;flex-direction: column;align-items: center;background-color: white;padding-right: 0.2em;padding-left: 0.2em;position: relative;}#sk-container-id-2 div.sk-item {position: relative;z-index: 1;}#sk-container-id-2 div.sk-parallel {display: flex;align-items: stretch;justify-content: center;background-color: white;position: relative;}#sk-container-id-2 div.sk-item::before, #sk-container-id-2 div.sk-parallel-item::before {content: \"\";position: absolute;border-left: 1px solid gray;box-sizing: border-box;top: 0;bottom: 0;left: 50%;z-index: -1;}#sk-container-id-2 div.sk-parallel-item {display: flex;flex-direction: column;z-index: 1;position: relative;background-color: white;}#sk-container-id-2 div.sk-parallel-item:first-child::after {align-self: flex-end;width: 50%;}#sk-container-id-2 div.sk-parallel-item:last-child::after {align-self: flex-start;width: 50%;}#sk-container-id-2 div.sk-parallel-item:only-child::after {width: 0;}#sk-container-id-2 div.sk-dashed-wrapped {border: 1px dashed gray;margin: 0 0.4em 0.5em 0.4em;box-sizing: border-box;padding-bottom: 0.4em;background-color: white;}#sk-container-id-2 div.sk-label label {font-family: monospace;font-weight: bold;display: inline-block;line-height: 1.2em;}#sk-container-id-2 div.sk-label-container {text-align: center;}#sk-container-id-2 div.sk-container {/* jupyter's `normalize.less` sets `[hidden] { display: none; }` but bootstrap.min.css set `[hidden] { display: none !important; }` so we also need the `!important` here to be able to override the default hidden behavior on the sphinx rendered scikit-learn.org. See: https://github.com/scikit-learn/scikit-learn/issues/21755 */display: inline-block !important;position: relative;}#sk-container-id-2 div.sk-text-repr-fallback {display: none;}</style><div id=\"sk-container-id-2\" class=\"sk-top-container\"><div class=\"sk-text-repr-fallback\"><pre>TfidfVectorizer()</pre><b>In a Jupyter environment, please rerun this cell to show the HTML representation or trust the notebook. <br />On GitHub, the HTML representation is unable to render, please try loading this page with nbviewer.org.</b></div><div class=\"sk-container\" hidden><div class=\"sk-item\"><div class=\"sk-estimator sk-toggleable\"><input class=\"sk-toggleable__control sk-hidden--visually\" id=\"sk-estimator-id-2\" type=\"checkbox\" checked><label for=\"sk-estimator-id-2\" class=\"sk-toggleable__label sk-toggleable__label-arrow\">TfidfVectorizer</label><div class=\"sk-toggleable__content\"><pre>TfidfVectorizer()</pre></div></div></div></div></div>"
            ]
          },
          "metadata": {},
          "execution_count": 42
        }
      ],
      "source": [
        "from sklearn.feature_extraction.text import TfidfVectorizer\n",
        "tfidf_vectorizer = TfidfVectorizer()\n",
        "tfidf_vectorizer.fit(doc_list)"
      ]
    },
    {
      "cell_type": "code",
      "execution_count": 43,
      "metadata": {
        "colab": {
          "base_uri": "https://localhost:8080/"
        },
        "id": "y9A4sAANST5-",
        "outputId": "9a396037-676d-450e-9826-14f89494d34a"
      },
      "outputs": [
        {
          "output_type": "stream",
          "name": "stdout",
          "text": [
            "[[0.   0.   0.   0.   0.   0.   0.   0.   0.   0.   0.   0.   0.   0.\n",
            "  0.   0.   0.   0.   0.   0.   0.   0.   0.   0.   0.   0.   0.   0.\n",
            "  0.   0.52 0.   0.   0.   0.   0.   0.   0.   0.   0.   0.   0.   0.52\n",
            "  0.52 0.   0.   0.   0.   0.   0.44 0.   0.   0.   0.   0.   0.   0.\n",
            "  0.   0.   0.   0.   0.   0.   0.   0.   0.   0.   0.   0.   0.   0.\n",
            "  0.  ]\n",
            " [0.   0.   0.   0.   0.   0.   0.   0.   0.   0.   0.38 0.   0.   0.\n",
            "  0.   0.38 0.   0.   0.   0.38 0.   0.   0.   0.   0.   0.   0.   0.\n",
            "  0.   0.   0.   0.   0.   0.   0.   0.   0.   0.   0.   0.38 0.   0.\n",
            "  0.   0.   0.   0.   0.   0.38 0.   0.   0.   0.   0.   0.38 0.   0.\n",
            "  0.   0.   0.   0.   0.   0.   0.   0.   0.   0.38 0.   0.   0.   0.\n",
            "  0.  ]\n",
            " [0.   0.   0.   0.3  0.   0.   0.   0.   0.   0.   0.   0.   0.   0.\n",
            "  0.   0.   0.   0.26 0.   0.   0.   0.   0.   0.   0.   0.   0.   0.\n",
            "  0.51 0.   0.   0.   0.   0.   0.26 0.3  0.   0.   0.   0.   0.   0.\n",
            "  0.   0.   0.   0.   0.   0.   0.   0.   0.   0.   0.26 0.   0.   0.\n",
            "  0.   0.   0.   0.   0.   0.   0.3  0.   0.51 0.   0.   0.   0.   0.\n",
            "  0.  ]\n",
            " [0.   0.36 0.   0.   0.   0.   0.   0.   0.   0.   0.   0.   0.   0.\n",
            "  0.   0.   0.   0.   0.   0.   0.36 0.   0.   0.   0.   0.   0.   0.\n",
            "  0.   0.   0.   0.   0.   0.   0.   0.   0.   0.   0.   0.   0.36 0.\n",
            "  0.   0.   0.36 0.   0.   0.   0.   0.36 0.   0.   0.31 0.   0.   0.\n",
            "  0.   0.   0.   0.   0.   0.36 0.   0.   0.   0.   0.36 0.   0.   0.\n",
            "  0.  ]\n",
            " [0.29 0.   0.29 0.   0.   0.   0.   0.   0.   0.   0.   0.   0.   0.\n",
            "  0.29 0.   0.   0.25 0.   0.   0.   0.   0.   0.   0.   0.   0.   0.\n",
            "  0.49 0.   0.   0.   0.   0.   0.25 0.   0.   0.   0.   0.   0.   0.\n",
            "  0.   0.29 0.   0.   0.   0.   0.25 0.   0.   0.   0.   0.   0.   0.\n",
            "  0.   0.   0.   0.   0.   0.   0.   0.   0.49 0.   0.   0.   0.   0.\n",
            "  0.  ]\n",
            " [0.   0.   0.   0.   0.   0.   0.   0.   0.41 0.   0.   0.   0.   0.\n",
            "  0.   0.   0.   0.   0.   0.   0.   0.   0.   0.   0.   0.   0.   0.\n",
            "  0.   0.   0.41 0.   0.   0.41 0.   0.   0.   0.   0.   0.   0.   0.\n",
            "  0.   0.   0.   0.   0.41 0.   0.   0.   0.   0.   0.   0.   0.41 0.\n",
            "  0.41 0.   0.   0.   0.   0.   0.   0.   0.   0.   0.   0.   0.   0.\n",
            "  0.  ]\n",
            " [0.   0.   0.   0.   0.   0.   0.63 0.   0.   0.   0.   0.   0.32 0.\n",
            "  0.   0.   0.   0.   0.32 0.   0.   0.32 0.   0.   0.   0.   0.32 0.\n",
            "  0.   0.   0.   0.32 0.   0.   0.   0.   0.   0.   0.   0.   0.   0.\n",
            "  0.   0.   0.   0.   0.   0.   0.   0.   0.   0.   0.   0.   0.   0.\n",
            "  0.   0.   0.   0.32 0.   0.   0.   0.   0.   0.   0.   0.   0.   0.\n",
            "  0.  ]\n",
            " [0.   0.   0.   0.   0.41 0.   0.   0.41 0.   0.41 0.   0.   0.   0.\n",
            "  0.   0.   0.   0.   0.   0.   0.   0.   0.   0.   0.   0.   0.   0.41\n",
            "  0.   0.   0.   0.   0.   0.   0.   0.   0.   0.41 0.   0.   0.   0.\n",
            "  0.   0.   0.   0.   0.   0.   0.   0.   0.   0.   0.   0.   0.   0.\n",
            "  0.   0.41 0.   0.   0.   0.   0.   0.   0.   0.   0.   0.   0.   0.\n",
            "  0.  ]\n",
            " [0.   0.   0.   0.   0.   0.   0.   0.   0.   0.   0.   0.   0.   0.\n",
            "  0.   0.   0.   0.   0.   0.   0.   0.   0.35 0.   0.35 0.   0.   0.\n",
            "  0.   0.   0.   0.   0.35 0.   0.   0.   0.   0.   0.   0.   0.   0.\n",
            "  0.   0.   0.   0.   0.   0.   0.   0.   0.   0.35 0.   0.   0.   0.35\n",
            "  0.   0.   0.   0.   0.   0.   0.   0.   0.   0.   0.   0.35 0.35 0.\n",
            "  0.35]\n",
            " [0.   0.   0.   0.   0.   0.41 0.   0.   0.   0.   0.   0.   0.   0.41\n",
            "  0.   0.   0.   0.   0.   0.   0.   0.   0.   0.41 0.   0.   0.   0.\n",
            "  0.   0.   0.   0.   0.   0.   0.   0.   0.41 0.   0.   0.   0.   0.\n",
            "  0.   0.   0.   0.41 0.   0.   0.   0.   0.   0.   0.   0.   0.   0.\n",
            "  0.   0.   0.   0.   0.41 0.   0.   0.   0.   0.   0.   0.   0.   0.\n",
            "  0.  ]\n",
            " [0.   0.   0.   0.   0.   0.   0.   0.   0.   0.   0.   0.35 0.   0.\n",
            "  0.   0.   0.35 0.   0.   0.   0.   0.   0.   0.   0.   0.35 0.   0.\n",
            "  0.   0.   0.   0.   0.   0.   0.   0.   0.   0.   0.35 0.   0.   0.\n",
            "  0.   0.   0.   0.   0.   0.   0.   0.   0.35 0.   0.   0.   0.   0.\n",
            "  0.   0.   0.35 0.   0.   0.   0.   0.35 0.   0.   0.   0.   0.   0.35\n",
            "  0.  ]]\n"
          ]
        }
      ],
      "source": [
        "import numpy as np\n",
        "np.set_printoptions(precision=2)\n",
        "\n",
        "print(tfidf_vectorizer.transform(doc_list).toarray())"
      ]
    },
    {
      "cell_type": "code",
      "execution_count": 44,
      "metadata": {
        "id": "zNyCAHQPSWHT",
        "colab": {
          "base_uri": "https://localhost:8080/"
        },
        "outputId": "68ad1ac5-a54f-494f-a527-0eed37d857e5"
      },
      "outputs": [
        {
          "output_type": "execute_result",
          "data": {
            "text/plain": [
              "array(['and', 'are', 'around', 'be', 'bể', 'bỉ', 'chữ', 'cuộc', 'cõi',\n",
              "       'dâu', 'friend', 'ghen', 'ghét', 'gì', 'heart', 'him', 'hồng',\n",
              "       'it', 'khéo', 'leaving', 'longing', 'là', 'lòng', 'lạ', 'mà', 'má',\n",
              "       'mệnh', 'một', 'new', 'news', 'ngƣời', 'nhau', 'những', 'năm',\n",
              "       'of', 'part', 'phong', 'qua', 'quen', 're', 'shoes', 'spreading',\n",
              "       'start', 'steps', 'stray', 'sắc', 'ta', 'tell', 'the', 'they',\n",
              "       'thói', 'thấy', 'to', 'today', 'trong', 'trông', 'trăm', 'trải',\n",
              "       'trời', 'tài', 'tƣ', 'vagabond', 'want', 'xanh', 'york', 'you',\n",
              "       'your', 'đau', 'điều', 'đánh', 'đớn'], dtype=object)"
            ]
          },
          "metadata": {},
          "execution_count": 44
        }
      ],
      "source": [
        "tfidf_vectorizer.get_feature_names_out()"
      ]
    },
    {
      "cell_type": "code",
      "execution_count": 45,
      "metadata": {
        "id": "n_T8sDxTSYGi",
        "colab": {
          "base_uri": "https://localhost:8080/"
        },
        "outputId": "5dc9c876-0017-48ce-ac89-081aa7e36fc9"
      },
      "outputs": [
        {
          "output_type": "execute_result",
          "data": {
            "text/plain": [
              "array([0.29, 0.  , 0.29, 0.  , 0.  , 0.  , 0.  , 0.  , 0.  , 0.  , 0.  ,\n",
              "       0.  , 0.  , 0.  , 0.29, 0.  , 0.  , 0.25, 0.  , 0.  , 0.  , 0.  ,\n",
              "       0.  , 0.  , 0.  , 0.  , 0.  , 0.  , 0.49, 0.  , 0.  , 0.  , 0.  ,\n",
              "       0.  , 0.25, 0.  , 0.  , 0.  , 0.  , 0.  , 0.  , 0.  , 0.  , 0.29,\n",
              "       0.  , 0.  , 0.  , 0.  , 0.25, 0.  , 0.  , 0.  , 0.  , 0.  , 0.  ,\n",
              "       0.  , 0.  , 0.  , 0.  , 0.  , 0.  , 0.  , 0.  , 0.  , 0.49, 0.  ,\n",
              "       0.  , 0.  , 0.  , 0.  , 0.  ])"
            ]
          },
          "metadata": {},
          "execution_count": 45
        }
      ],
      "source": [
        "tfidf_vectorizer.transform(doc_list).toarray()[4]"
      ]
    },
    {
      "cell_type": "code",
      "source": [],
      "metadata": {
        "id": "rCPTydBAC3Zy"
      },
      "execution_count": null,
      "outputs": []
    },
    {
      "cell_type": "markdown",
      "source": [
        "ref: The Hand book of NLP with Gensim"
      ],
      "metadata": {
        "id": "m2nV-Qsvtu9h"
      }
    }
  ],
  "metadata": {
    "colab": {
      "provenance": [],
      "include_colab_link": true
    },
    "kernelspec": {
      "display_name": "Python 3",
      "name": "python3"
    },
    "language_info": {
      "name": "python"
    }
  },
  "nbformat": 4,
  "nbformat_minor": 0
}