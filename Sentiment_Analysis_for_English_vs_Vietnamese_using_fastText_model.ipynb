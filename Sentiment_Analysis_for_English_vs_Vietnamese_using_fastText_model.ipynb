{
  "nbformat": 4,
  "nbformat_minor": 0,
  "metadata": {
    "colab": {
      "provenance": [],
      "machine_shape": "hm",
      "gpuType": "T4",
      "authorship_tag": "ABX9TyM7IeYQGfGo38yFcwuTbak9",
      "include_colab_link": true
    },
    "kernelspec": {
      "name": "python3",
      "display_name": "Python 3"
    },
    "language_info": {
      "name": "python"
    },
    "accelerator": "GPU"
  },
  "cells": [
    {
      "cell_type": "markdown",
      "metadata": {
        "id": "view-in-github",
        "colab_type": "text"
      },
      "source": [
        "<a href=\"https://colab.research.google.com/github/HowardHNguyen/Natural_Language_Processing-NLP/blob/main/Sentiment_Analysis_for_English_vs_Vietnamese_using_fastText_model.ipynb\" target=\"_parent\"><img src=\"https://colab.research.google.com/assets/colab-badge.svg\" alt=\"Open In Colab\"/></a>"
      ]
    },
    {
      "cell_type": "markdown",
      "source": [
        "# Create a Textblob object from the sentence"
      ],
      "metadata": {
        "id": "tPiFSS1sNIaH"
      }
    },
    {
      "cell_type": "code",
      "execution_count": 2,
      "metadata": {
        "id": "Ri99b-61Mdmd"
      },
      "outputs": [],
      "source": [
        "from textblob import TextBlob"
      ]
    },
    {
      "cell_type": "markdown",
      "source": [
        "# Define the Sentiment Polarity"
      ],
      "metadata": {
        "id": "semMqyPWNPUP"
      }
    },
    {
      "cell_type": "code",
      "source": [
        "def add_sentiment_polarity(text):\n",
        "  \"\"\"\n",
        "  This function analyzes the sentiment of a sentence and returns a tuple containing\n",
        "  the sentence and its sentiment polarity score.\n",
        "  Args:\n",
        "      text: The sentence to be analyzed.\n",
        "  Returns:\n",
        "      A tuple containing the sentence and its sentiment polarity score (float).\n",
        "  \"\"\"\n",
        "  # Create a TextBlob object from the text\n",
        "  sentiment_analysis = TextBlob(text)\n",
        "\n",
        "  # Get the sentiment polarity score (ranges from -1 to 1)\n",
        "  polarity_score = sentiment_analysis.polarity\n",
        "\n",
        "  return text, polarity_score"
      ],
      "metadata": {
        "id": "_z633G9AMj5C"
      },
      "execution_count": 3,
      "outputs": []
    },
    {
      "cell_type": "markdown",
      "source": [
        "# Loading the sentences - English version"
      ],
      "metadata": {
        "id": "yq4NCQgdNYxh"
      }
    },
    {
      "cell_type": "code",
      "source": [
        "# Example usage\n",
        "sentences = [\n",
        "\"The aroma of freshly brewed coffee filled the air.\",\n",
        "\"The vibrant colors of the autumn leaves captivated me.\",\n",
        "\"The city skyline shimmered under the moonlight.\",\n",
        "\"The sound of waves crashing against the shore soothed my soul.\",\n",
        "\"The children's laughter echoed through the park.\",\n",
        "\"The historical landmark stood as a testament to a bygone era.\",\n",
        "\"The winding path led us deep into the lush forest.\",\n",
        "\"The chef meticulously plated the exquisite dish.\",\n",
        "\"The audience erupted in applause as the curtain fell.\",\n",
        "\"The old rocking chair creaked gently on the porch.\",\n",
        "\"The aroma of freshly baked cookies wafted from the kitchen.\",\n",
        "\"The crisp mountain air invigorated my senses.\",\n",
        "\"The bustling marketplace was a kaleidoscope of sights and sounds.\",\n",
        "\"The tranquil lake reflected the beauty of the surrounding mountains.\",\n",
        "\"The children built sandcastles on the beach with glee.\",\n",
        "\"The majestic castle stood proudly atop the hill.\",\n",
        "\"The winding road snaked through the rolling hills.\",\n",
        "\"The talented artist captured the essence of the subject in a single stroke.\",\n",
        "\"The play was a heartwarming story about love and loss.\",\n",
        "\"The antique clock ticked rhythmically on the mantelpiece.\",\n",
        "\"The aroma of freshly cut grass filled the air.\",\n",
        "\"The breathtaking view from the mountain peak left me speechless.\",\n",
        "\"The vibrant coral reefs teemed with colorful fish.\",\n",
        "\"The tranquil melody of the piano filled the room.\",\n",
        "\"The children were engrossed in a game of hide-and-seek.\",\n",
        "\"The ancient ruins whispered tales of a forgotten civilization.\",\n",
        "\"The winding river flowed serenely through the valley.\",\n",
        "\"The skilled carpenter crafted a beautiful wooden chest.\",\n",
        "\"The suspenseful thriller kept me on the edge of my seat.\",\n",
        "\"The antique rocking horse brought back childhood memories.\"\n",
        "  # ... other sentences\n",
        "]"
      ],
      "metadata": {
        "id": "Ae5JmgmPMuB2"
      },
      "execution_count": 4,
      "outputs": []
    },
    {
      "cell_type": "code",
      "source": [
        "# Process each sentence and store the results\n",
        "sentiment_data = []\n",
        "for sentence in sentences:\n",
        "  text, score = add_sentiment_polarity(sentence)\n",
        "  sentiment_data.append((text, score))"
      ],
      "metadata": {
        "id": "6mDHG8qOM19G"
      },
      "execution_count": 5,
      "outputs": []
    },
    {
      "cell_type": "markdown",
      "source": [
        "**Returns a tuple containing the original sentence and the sentiment score.**"
      ],
      "metadata": {
        "id": "73ZbaMjHNrQG"
      }
    },
    {
      "cell_type": "code",
      "source": [
        "# Print the sentiment data with sentence and polarity score\n",
        "for text, score in sentiment_data:\n",
        "  print(f\"{text} - Sentiment Score: {score:.2f}\")"
      ],
      "metadata": {
        "colab": {
          "base_uri": "https://localhost:8080/"
        },
        "id": "ffSM36-qM4fM",
        "outputId": "cc71f315-3e63-4040-c3df-7e5e5c624e87"
      },
      "execution_count": 6,
      "outputs": [
        {
          "output_type": "stream",
          "name": "stdout",
          "text": [
            "The aroma of freshly brewed coffee filled the air. - Sentiment Score: 0.35\n",
            "The vibrant colors of the autumn leaves captivated me. - Sentiment Score: 0.17\n",
            "The city skyline shimmered under the moonlight. - Sentiment Score: 0.00\n",
            "The sound of waves crashing against the shore soothed my soul. - Sentiment Score: 0.40\n",
            "The children's laughter echoed through the park. - Sentiment Score: 0.00\n",
            "The historical landmark stood as a testament to a bygone era. - Sentiment Score: 0.00\n",
            "The winding path led us deep into the lush forest. - Sentiment Score: 0.05\n",
            "The chef meticulously plated the exquisite dish. - Sentiment Score: 1.00\n",
            "The audience erupted in applause as the curtain fell. - Sentiment Score: 0.00\n",
            "The old rocking chair creaked gently on the porch. - Sentiment Score: 0.15\n",
            "The aroma of freshly baked cookies wafted from the kitchen. - Sentiment Score: 0.30\n",
            "The crisp mountain air invigorated my senses. - Sentiment Score: 0.25\n",
            "The bustling marketplace was a kaleidoscope of sights and sounds. - Sentiment Score: 0.00\n",
            "The tranquil lake reflected the beauty of the surrounding mountains. - Sentiment Score: 0.00\n",
            "The children built sandcastles on the beach with glee. - Sentiment Score: 0.00\n",
            "The majestic castle stood proudly atop the hill. - Sentiment Score: 0.80\n",
            "The winding road snaked through the rolling hills. - Sentiment Score: 0.00\n",
            "The talented artist captured the essence of the subject in a single stroke. - Sentiment Score: 0.15\n",
            "The play was a heartwarming story about love and loss. - Sentiment Score: 0.50\n",
            "The antique clock ticked rhythmically on the mantelpiece. - Sentiment Score: 0.00\n",
            "The aroma of freshly cut grass filled the air. - Sentiment Score: 0.35\n",
            "The breathtaking view from the mountain peak left me speechless. - Sentiment Score: 0.50\n",
            "The vibrant coral reefs teemed with colorful fish. - Sentiment Score: 0.23\n",
            "The tranquil melody of the piano filled the room. - Sentiment Score: 0.40\n",
            "The children were engrossed in a game of hide-and-seek. - Sentiment Score: -0.40\n",
            "The ancient ruins whispered tales of a forgotten civilization. - Sentiment Score: -0.15\n",
            "The winding river flowed serenely through the valley. - Sentiment Score: 0.00\n",
            "The skilled carpenter crafted a beautiful wooden chest. - Sentiment Score: 0.45\n",
            "The suspenseful thriller kept me on the edge of my seat. - Sentiment Score: 0.00\n",
            "The antique rocking horse brought back childhood memories. - Sentiment Score: 0.00\n"
          ]
        }
      ]
    },
    {
      "cell_type": "markdown",
      "source": [
        "# **Sentiment Analysis by fastText model**"
      ],
      "metadata": {
        "id": "MA1Pd8SVP3sI"
      }
    },
    {
      "cell_type": "code",
      "source": [
        "!pip install fasttext"
      ],
      "metadata": {
        "colab": {
          "base_uri": "https://localhost:8080/"
        },
        "id": "uSfCA5DqfxtP",
        "outputId": "2713d633-fa99-4dfa-8a00-c4743ce1a292"
      },
      "execution_count": 7,
      "outputs": [
        {
          "output_type": "stream",
          "name": "stdout",
          "text": [
            "Requirement already satisfied: fasttext in /usr/local/lib/python3.10/dist-packages (0.9.2)\n",
            "Requirement already satisfied: pybind11>=2.2 in /usr/local/lib/python3.10/dist-packages (from fasttext) (2.12.0)\n",
            "Requirement already satisfied: setuptools>=0.7.0 in /usr/local/lib/python3.10/dist-packages (from fasttext) (67.7.2)\n",
            "Requirement already satisfied: numpy in /usr/local/lib/python3.10/dist-packages (from fasttext) (1.25.2)\n"
          ]
        }
      ]
    },
    {
      "cell_type": "code",
      "source": [
        "#from vncorenlp import VnCoreNLP\n",
        "import fasttext"
      ],
      "metadata": {
        "id": "4Z06JzP5fxm4"
      },
      "execution_count": 8,
      "outputs": []
    },
    {
      "cell_type": "code",
      "source": [
        "from google.colab import drive\n",
        "drive.mount('/content/drive')"
      ],
      "metadata": {
        "colab": {
          "base_uri": "https://localhost:8080/"
        },
        "id": "uUUx7668fxf1",
        "outputId": "4a1735ca-87ef-44bc-f86d-17ac0fe80829"
      },
      "execution_count": 9,
      "outputs": [
        {
          "output_type": "stream",
          "name": "stdout",
          "text": [
            "Drive already mounted at /content/drive; to attempt to forcibly remount, call drive.mount(\"/content/drive\", force_remount=True).\n"
          ]
        }
      ]
    },
    {
      "cell_type": "markdown",
      "source": [
        "**Word vectors for 157 languages**\n",
        "\n",
        "https://fasttext.cc/docs/en/crawl-vectors.html"
      ],
      "metadata": {
        "id": "NPe3hzUbmIjB"
      }
    },
    {
      "cell_type": "code",
      "source": [
        "import fasttext.util\n",
        "fasttext.util.download_model('en', if_exists='ignore')"
      ],
      "metadata": {
        "colab": {
          "base_uri": "https://localhost:8080/",
          "height": 70
        },
        "id": "a1bI_4sZltil",
        "outputId": "6db828bc-dcb4-43df-a512-04da49299e44"
      },
      "execution_count": 12,
      "outputs": [
        {
          "output_type": "stream",
          "name": "stdout",
          "text": [
            "Downloading https://dl.fbaipublicfiles.com/fasttext/vectors-crawl/cc.en.300.bin.gz\n",
            "\n"
          ]
        },
        {
          "output_type": "execute_result",
          "data": {
            "text/plain": [
              "'cc.en.300.bin'"
            ],
            "application/vnd.google.colaboratory.intrinsic+json": {
              "type": "string"
            }
          },
          "metadata": {},
          "execution_count": 12
        }
      ]
    },
    {
      "cell_type": "code",
      "source": [
        "# Load pre-trained FastText model for sentiment analysis - English version\n",
        "model = fasttext.load_model('cc.en.300.bin')"
      ],
      "metadata": {
        "id": "SKwEYYIBwQ8u",
        "outputId": "8f6a7e80-c682-4cd0-f903-fa890aad95d9",
        "colab": {
          "base_uri": "https://localhost:8080/"
        }
      },
      "execution_count": 13,
      "outputs": [
        {
          "output_type": "stream",
          "name": "stderr",
          "text": [
            "Warning : `load_model` does not return WordVectorModel or SupervisedModel any more, but a `FastText` object which is very similar.\n"
          ]
        }
      ]
    },
    {
      "cell_type": "code",
      "source": [
        "model.get_dimension()"
      ],
      "metadata": {
        "id": "8N2aYGnfvZxa",
        "outputId": "c8f2ea54-7b2c-4b5d-e13f-30829674b2fa",
        "colab": {
          "base_uri": "https://localhost:8080/"
        }
      },
      "execution_count": 14,
      "outputs": [
        {
          "output_type": "execute_result",
          "data": {
            "text/plain": [
              "300"
            ]
          },
          "metadata": {},
          "execution_count": 14
        }
      ]
    },
    {
      "cell_type": "code",
      "source": [
        "# Load pre-trained FastText model for sentiment analysis\n",
        "# Replace '/path/to/pretrained_model.bin' with the path to your pre-trained FastText model\n",
        "#model_path = 'https://dl.fbaipublicfiles.com/fasttext/vectors-crawl/cc.vi.300.bin'\n",
        "#model = fasttext.load_model(model_path)"
      ],
      "metadata": {
        "id": "kSmABE_ggqSh"
      },
      "execution_count": null,
      "outputs": []
    },
    {
      "cell_type": "code",
      "source": [
        "# Perform sentiment analysis\n",
        "sentiment_labels = []\n",
        "for sentence in sentences:\n",
        "    # Get sentence embedding\n",
        "    sentence_embedding = model.get_sentence_vector(sentence)\n",
        "    # Perform classification based on the embedding (example: positive if the first dimension is greater than 0)\n",
        "    if sentence_embedding[0] > 0:\n",
        "        sentiment_labels.append('positive')\n",
        "    else:\n",
        "        sentiment_labels.append('negative')"
      ],
      "metadata": {
        "id": "5uaNlFBU3j8m"
      },
      "execution_count": 15,
      "outputs": []
    },
    {
      "cell_type": "code",
      "source": [
        "# Display sentiment labels for each sentence\n",
        "for sentence, label in zip(sentences, sentiment_labels):\n",
        "    print(\"Sentence:\", sentence)\n",
        "    print(\"Sentiment:\", label)\n",
        "    print()"
      ],
      "metadata": {
        "id": "NBuBEpdBv0jv",
        "outputId": "5a024924-1acf-4d40-b0e8-233a63e19269",
        "colab": {
          "base_uri": "https://localhost:8080/"
        }
      },
      "execution_count": 16,
      "outputs": [
        {
          "output_type": "stream",
          "name": "stdout",
          "text": [
            "Sentence: The aroma of freshly brewed coffee filled the air.\n",
            "Sentiment: negative\n",
            "\n",
            "Sentence: The vibrant colors of the autumn leaves captivated me.\n",
            "Sentiment: negative\n",
            "\n",
            "Sentence: The city skyline shimmered under the moonlight.\n",
            "Sentiment: negative\n",
            "\n",
            "Sentence: The sound of waves crashing against the shore soothed my soul.\n",
            "Sentiment: positive\n",
            "\n",
            "Sentence: The children's laughter echoed through the park.\n",
            "Sentiment: negative\n",
            "\n",
            "Sentence: The historical landmark stood as a testament to a bygone era.\n",
            "Sentiment: negative\n",
            "\n",
            "Sentence: The winding path led us deep into the lush forest.\n",
            "Sentiment: negative\n",
            "\n",
            "Sentence: The chef meticulously plated the exquisite dish.\n",
            "Sentiment: negative\n",
            "\n",
            "Sentence: The audience erupted in applause as the curtain fell.\n",
            "Sentiment: negative\n",
            "\n",
            "Sentence: The old rocking chair creaked gently on the porch.\n",
            "Sentiment: positive\n",
            "\n",
            "Sentence: The aroma of freshly baked cookies wafted from the kitchen.\n",
            "Sentiment: negative\n",
            "\n",
            "Sentence: The crisp mountain air invigorated my senses.\n",
            "Sentiment: negative\n",
            "\n",
            "Sentence: The bustling marketplace was a kaleidoscope of sights and sounds.\n",
            "Sentiment: positive\n",
            "\n",
            "Sentence: The tranquil lake reflected the beauty of the surrounding mountains.\n",
            "Sentiment: positive\n",
            "\n",
            "Sentence: The children built sandcastles on the beach with glee.\n",
            "Sentiment: positive\n",
            "\n",
            "Sentence: The majestic castle stood proudly atop the hill.\n",
            "Sentiment: negative\n",
            "\n",
            "Sentence: The winding road snaked through the rolling hills.\n",
            "Sentiment: negative\n",
            "\n",
            "Sentence: The talented artist captured the essence of the subject in a single stroke.\n",
            "Sentiment: negative\n",
            "\n",
            "Sentence: The play was a heartwarming story about love and loss.\n",
            "Sentiment: positive\n",
            "\n",
            "Sentence: The antique clock ticked rhythmically on the mantelpiece.\n",
            "Sentiment: positive\n",
            "\n",
            "Sentence: The aroma of freshly cut grass filled the air.\n",
            "Sentiment: negative\n",
            "\n",
            "Sentence: The breathtaking view from the mountain peak left me speechless.\n",
            "Sentiment: negative\n",
            "\n",
            "Sentence: The vibrant coral reefs teemed with colorful fish.\n",
            "Sentiment: positive\n",
            "\n",
            "Sentence: The tranquil melody of the piano filled the room.\n",
            "Sentiment: negative\n",
            "\n",
            "Sentence: The children were engrossed in a game of hide-and-seek.\n",
            "Sentiment: positive\n",
            "\n",
            "Sentence: The ancient ruins whispered tales of a forgotten civilization.\n",
            "Sentiment: negative\n",
            "\n",
            "Sentence: The winding river flowed serenely through the valley.\n",
            "Sentiment: negative\n",
            "\n",
            "Sentence: The skilled carpenter crafted a beautiful wooden chest.\n",
            "Sentiment: positive\n",
            "\n",
            "Sentence: The suspenseful thriller kept me on the edge of my seat.\n",
            "Sentiment: negative\n",
            "\n",
            "Sentence: The antique rocking horse brought back childhood memories.\n",
            "Sentiment: positive\n",
            "\n"
          ]
        }
      ]
    },
    {
      "cell_type": "markdown",
      "source": [
        "# Add Sentiment Polarity Scores to English dataframe"
      ],
      "metadata": {
        "id": "60451Cux_CA1"
      }
    },
    {
      "cell_type": "code",
      "source": [
        "import pandas as pd\n",
        "import fasttext"
      ],
      "metadata": {
        "id": "xNpX9facgqOv"
      },
      "execution_count": 17,
      "outputs": []
    },
    {
      "cell_type": "code",
      "source": [
        "# load the pretrain English model from fastText\n",
        "model = fasttext.load_model('cc.en.300.bin')"
      ],
      "metadata": {
        "id": "R6kUhc0i_ap3",
        "outputId": "14a8fe28-db98-4401-9e6f-2a4b32621c23",
        "colab": {
          "base_uri": "https://localhost:8080/"
        }
      },
      "execution_count": null,
      "outputs": [
        {
          "output_type": "stream",
          "name": "stderr",
          "text": [
            "Warning : `load_model` does not return WordVectorModel or SupervisedModel any more, but a `FastText` object which is very similar.\n"
          ]
        }
      ]
    },
    {
      "cell_type": "code",
      "source": [
        "# load the English text file\n",
        "en_text_file =  pd.read_csv('/content/drive/MyDrive/data/en_text_100.csv')"
      ],
      "metadata": {
        "id": "xRI-4hgm_ajI"
      },
      "execution_count": 18,
      "outputs": []
    },
    {
      "cell_type": "code",
      "source": [
        "# calculate sentiment polarity scores for each sentence\n",
        "sentiment_polarity_scores = []\n",
        "for sentence in en_text_file['sentence']:\n",
        "    # Get sentence embedding\n",
        "    sentence_embedding = model.get_sentence_vector(sentence)\n",
        "    # Calculate polarity score (e.g., using the dot product of the embedding with a positive/negative vector)\n",
        "    # For simplicity, let's use the dot product with a positive/negative unit vector\n",
        "    positive_vector = [1, 0, 0]  # Positive unit vector\n",
        "    negative_vector = [-1, 0, 0]  # Negative unit vector\n",
        "    positive_score = sum(x * y for x, y in zip(sentence_embedding, positive_vector))\n",
        "    negative_score = sum(x * y for x, y in zip(sentence_embedding, negative_vector))\n",
        "    polarity_score = positive_score - negative_score\n",
        "    sentiment_polarity_scores.append(polarity_score)"
      ],
      "metadata": {
        "id": "8MHykWMy_Bp8"
      },
      "execution_count": 19,
      "outputs": []
    },
    {
      "cell_type": "code",
      "source": [
        "# add sentiment polarity scores as a new column in the dataframe\n",
        "en_text_file['sentiment_polarity_score'] = sentiment_polarity_scores"
      ],
      "metadata": {
        "id": "IVTF63ke_BmZ"
      },
      "execution_count": 20,
      "outputs": []
    },
    {
      "cell_type": "code",
      "source": [
        "en_text_file.head()"
      ],
      "metadata": {
        "id": "L1-kT1bSA__L",
        "outputId": "0bf7ce60-5763-4627-9403-767fbcac9dcf",
        "colab": {
          "base_uri": "https://localhost:8080/",
          "height": 206
        }
      },
      "execution_count": 21,
      "outputs": [
        {
          "output_type": "execute_result",
          "data": {
            "text/plain": [
              "                                            sentence  sentiment_polarity_score\n",
              "0  The aroma of freshly brewed coffee filled the ...                 -0.037620\n",
              "1  The vibrant colors of the autumn leaves captiv...                 -0.004688\n",
              "2    The city skyline shimmered under the moonlight.                 -0.070902\n",
              "3  The sound of waves crashing against the shore ...                  0.005799\n",
              "4   The children's laughter echoed through the park.                 -0.013347"
            ],
            "text/html": [
              "\n",
              "  <div id=\"df-06e5f8d2-804a-48c0-ba0a-284d2ba7c7cb\" class=\"colab-df-container\">\n",
              "    <div>\n",
              "<style scoped>\n",
              "    .dataframe tbody tr th:only-of-type {\n",
              "        vertical-align: middle;\n",
              "    }\n",
              "\n",
              "    .dataframe tbody tr th {\n",
              "        vertical-align: top;\n",
              "    }\n",
              "\n",
              "    .dataframe thead th {\n",
              "        text-align: right;\n",
              "    }\n",
              "</style>\n",
              "<table border=\"1\" class=\"dataframe\">\n",
              "  <thead>\n",
              "    <tr style=\"text-align: right;\">\n",
              "      <th></th>\n",
              "      <th>sentence</th>\n",
              "      <th>sentiment_polarity_score</th>\n",
              "    </tr>\n",
              "  </thead>\n",
              "  <tbody>\n",
              "    <tr>\n",
              "      <th>0</th>\n",
              "      <td>The aroma of freshly brewed coffee filled the ...</td>\n",
              "      <td>-0.037620</td>\n",
              "    </tr>\n",
              "    <tr>\n",
              "      <th>1</th>\n",
              "      <td>The vibrant colors of the autumn leaves captiv...</td>\n",
              "      <td>-0.004688</td>\n",
              "    </tr>\n",
              "    <tr>\n",
              "      <th>2</th>\n",
              "      <td>The city skyline shimmered under the moonlight.</td>\n",
              "      <td>-0.070902</td>\n",
              "    </tr>\n",
              "    <tr>\n",
              "      <th>3</th>\n",
              "      <td>The sound of waves crashing against the shore ...</td>\n",
              "      <td>0.005799</td>\n",
              "    </tr>\n",
              "    <tr>\n",
              "      <th>4</th>\n",
              "      <td>The children's laughter echoed through the park.</td>\n",
              "      <td>-0.013347</td>\n",
              "    </tr>\n",
              "  </tbody>\n",
              "</table>\n",
              "</div>\n",
              "    <div class=\"colab-df-buttons\">\n",
              "\n",
              "  <div class=\"colab-df-container\">\n",
              "    <button class=\"colab-df-convert\" onclick=\"convertToInteractive('df-06e5f8d2-804a-48c0-ba0a-284d2ba7c7cb')\"\n",
              "            title=\"Convert this dataframe to an interactive table.\"\n",
              "            style=\"display:none;\">\n",
              "\n",
              "  <svg xmlns=\"http://www.w3.org/2000/svg\" height=\"24px\" viewBox=\"0 -960 960 960\">\n",
              "    <path d=\"M120-120v-720h720v720H120Zm60-500h600v-160H180v160Zm220 220h160v-160H400v160Zm0 220h160v-160H400v160ZM180-400h160v-160H180v160Zm440 0h160v-160H620v160ZM180-180h160v-160H180v160Zm440 0h160v-160H620v160Z\"/>\n",
              "  </svg>\n",
              "    </button>\n",
              "\n",
              "  <style>\n",
              "    .colab-df-container {\n",
              "      display:flex;\n",
              "      gap: 12px;\n",
              "    }\n",
              "\n",
              "    .colab-df-convert {\n",
              "      background-color: #E8F0FE;\n",
              "      border: none;\n",
              "      border-radius: 50%;\n",
              "      cursor: pointer;\n",
              "      display: none;\n",
              "      fill: #1967D2;\n",
              "      height: 32px;\n",
              "      padding: 0 0 0 0;\n",
              "      width: 32px;\n",
              "    }\n",
              "\n",
              "    .colab-df-convert:hover {\n",
              "      background-color: #E2EBFA;\n",
              "      box-shadow: 0px 1px 2px rgba(60, 64, 67, 0.3), 0px 1px 3px 1px rgba(60, 64, 67, 0.15);\n",
              "      fill: #174EA6;\n",
              "    }\n",
              "\n",
              "    .colab-df-buttons div {\n",
              "      margin-bottom: 4px;\n",
              "    }\n",
              "\n",
              "    [theme=dark] .colab-df-convert {\n",
              "      background-color: #3B4455;\n",
              "      fill: #D2E3FC;\n",
              "    }\n",
              "\n",
              "    [theme=dark] .colab-df-convert:hover {\n",
              "      background-color: #434B5C;\n",
              "      box-shadow: 0px 1px 3px 1px rgba(0, 0, 0, 0.15);\n",
              "      filter: drop-shadow(0px 1px 2px rgba(0, 0, 0, 0.3));\n",
              "      fill: #FFFFFF;\n",
              "    }\n",
              "  </style>\n",
              "\n",
              "    <script>\n",
              "      const buttonEl =\n",
              "        document.querySelector('#df-06e5f8d2-804a-48c0-ba0a-284d2ba7c7cb button.colab-df-convert');\n",
              "      buttonEl.style.display =\n",
              "        google.colab.kernel.accessAllowed ? 'block' : 'none';\n",
              "\n",
              "      async function convertToInteractive(key) {\n",
              "        const element = document.querySelector('#df-06e5f8d2-804a-48c0-ba0a-284d2ba7c7cb');\n",
              "        const dataTable =\n",
              "          await google.colab.kernel.invokeFunction('convertToInteractive',\n",
              "                                                    [key], {});\n",
              "        if (!dataTable) return;\n",
              "\n",
              "        const docLinkHtml = 'Like what you see? Visit the ' +\n",
              "          '<a target=\"_blank\" href=https://colab.research.google.com/notebooks/data_table.ipynb>data table notebook</a>'\n",
              "          + ' to learn more about interactive tables.';\n",
              "        element.innerHTML = '';\n",
              "        dataTable['output_type'] = 'display_data';\n",
              "        await google.colab.output.renderOutput(dataTable, element);\n",
              "        const docLink = document.createElement('div');\n",
              "        docLink.innerHTML = docLinkHtml;\n",
              "        element.appendChild(docLink);\n",
              "      }\n",
              "    </script>\n",
              "  </div>\n",
              "\n",
              "\n",
              "<div id=\"df-8bec4286-408f-4193-b264-53eb112f6e04\">\n",
              "  <button class=\"colab-df-quickchart\" onclick=\"quickchart('df-8bec4286-408f-4193-b264-53eb112f6e04')\"\n",
              "            title=\"Suggest charts\"\n",
              "            style=\"display:none;\">\n",
              "\n",
              "<svg xmlns=\"http://www.w3.org/2000/svg\" height=\"24px\"viewBox=\"0 0 24 24\"\n",
              "     width=\"24px\">\n",
              "    <g>\n",
              "        <path d=\"M19 3H5c-1.1 0-2 .9-2 2v14c0 1.1.9 2 2 2h14c1.1 0 2-.9 2-2V5c0-1.1-.9-2-2-2zM9 17H7v-7h2v7zm4 0h-2V7h2v10zm4 0h-2v-4h2v4z\"/>\n",
              "    </g>\n",
              "</svg>\n",
              "  </button>\n",
              "\n",
              "<style>\n",
              "  .colab-df-quickchart {\n",
              "      --bg-color: #E8F0FE;\n",
              "      --fill-color: #1967D2;\n",
              "      --hover-bg-color: #E2EBFA;\n",
              "      --hover-fill-color: #174EA6;\n",
              "      --disabled-fill-color: #AAA;\n",
              "      --disabled-bg-color: #DDD;\n",
              "  }\n",
              "\n",
              "  [theme=dark] .colab-df-quickchart {\n",
              "      --bg-color: #3B4455;\n",
              "      --fill-color: #D2E3FC;\n",
              "      --hover-bg-color: #434B5C;\n",
              "      --hover-fill-color: #FFFFFF;\n",
              "      --disabled-bg-color: #3B4455;\n",
              "      --disabled-fill-color: #666;\n",
              "  }\n",
              "\n",
              "  .colab-df-quickchart {\n",
              "    background-color: var(--bg-color);\n",
              "    border: none;\n",
              "    border-radius: 50%;\n",
              "    cursor: pointer;\n",
              "    display: none;\n",
              "    fill: var(--fill-color);\n",
              "    height: 32px;\n",
              "    padding: 0;\n",
              "    width: 32px;\n",
              "  }\n",
              "\n",
              "  .colab-df-quickchart:hover {\n",
              "    background-color: var(--hover-bg-color);\n",
              "    box-shadow: 0 1px 2px rgba(60, 64, 67, 0.3), 0 1px 3px 1px rgba(60, 64, 67, 0.15);\n",
              "    fill: var(--button-hover-fill-color);\n",
              "  }\n",
              "\n",
              "  .colab-df-quickchart-complete:disabled,\n",
              "  .colab-df-quickchart-complete:disabled:hover {\n",
              "    background-color: var(--disabled-bg-color);\n",
              "    fill: var(--disabled-fill-color);\n",
              "    box-shadow: none;\n",
              "  }\n",
              "\n",
              "  .colab-df-spinner {\n",
              "    border: 2px solid var(--fill-color);\n",
              "    border-color: transparent;\n",
              "    border-bottom-color: var(--fill-color);\n",
              "    animation:\n",
              "      spin 1s steps(1) infinite;\n",
              "  }\n",
              "\n",
              "  @keyframes spin {\n",
              "    0% {\n",
              "      border-color: transparent;\n",
              "      border-bottom-color: var(--fill-color);\n",
              "      border-left-color: var(--fill-color);\n",
              "    }\n",
              "    20% {\n",
              "      border-color: transparent;\n",
              "      border-left-color: var(--fill-color);\n",
              "      border-top-color: var(--fill-color);\n",
              "    }\n",
              "    30% {\n",
              "      border-color: transparent;\n",
              "      border-left-color: var(--fill-color);\n",
              "      border-top-color: var(--fill-color);\n",
              "      border-right-color: var(--fill-color);\n",
              "    }\n",
              "    40% {\n",
              "      border-color: transparent;\n",
              "      border-right-color: var(--fill-color);\n",
              "      border-top-color: var(--fill-color);\n",
              "    }\n",
              "    60% {\n",
              "      border-color: transparent;\n",
              "      border-right-color: var(--fill-color);\n",
              "    }\n",
              "    80% {\n",
              "      border-color: transparent;\n",
              "      border-right-color: var(--fill-color);\n",
              "      border-bottom-color: var(--fill-color);\n",
              "    }\n",
              "    90% {\n",
              "      border-color: transparent;\n",
              "      border-bottom-color: var(--fill-color);\n",
              "    }\n",
              "  }\n",
              "</style>\n",
              "\n",
              "  <script>\n",
              "    async function quickchart(key) {\n",
              "      const quickchartButtonEl =\n",
              "        document.querySelector('#' + key + ' button');\n",
              "      quickchartButtonEl.disabled = true;  // To prevent multiple clicks.\n",
              "      quickchartButtonEl.classList.add('colab-df-spinner');\n",
              "      try {\n",
              "        const charts = await google.colab.kernel.invokeFunction(\n",
              "            'suggestCharts', [key], {});\n",
              "      } catch (error) {\n",
              "        console.error('Error during call to suggestCharts:', error);\n",
              "      }\n",
              "      quickchartButtonEl.classList.remove('colab-df-spinner');\n",
              "      quickchartButtonEl.classList.add('colab-df-quickchart-complete');\n",
              "    }\n",
              "    (() => {\n",
              "      let quickchartButtonEl =\n",
              "        document.querySelector('#df-8bec4286-408f-4193-b264-53eb112f6e04 button');\n",
              "      quickchartButtonEl.style.display =\n",
              "        google.colab.kernel.accessAllowed ? 'block' : 'none';\n",
              "    })();\n",
              "  </script>\n",
              "</div>\n",
              "\n",
              "    </div>\n",
              "  </div>\n"
            ],
            "application/vnd.google.colaboratory.intrinsic+json": {
              "type": "dataframe",
              "variable_name": "en_text_file",
              "summary": "{\n  \"name\": \"en_text_file\",\n  \"rows\": 100,\n  \"fields\": [\n    {\n      \"column\": \"sentence\",\n      \"properties\": {\n        \"dtype\": \"string\",\n        \"num_unique_values\": 100,\n        \"samples\": [\n          \"The tranquil melody of the harp soothed the restless crowd.\",\n          \"The tranquil melody of the flute filled the room with a sense of peace.\",\n          \"The aroma of freshly brewed tea filled the air.\"\n        ],\n        \"semantic_type\": \"\",\n        \"description\": \"\"\n      }\n    },\n    {\n      \"column\": \"sentiment_polarity_score\",\n      \"properties\": {\n        \"dtype\": \"number\",\n        \"std\": 0.032608402535226,\n        \"min\": -0.09414324909448624,\n        \"max\": 0.07639828324317932,\n        \"num_unique_values\": 100,\n        \"samples\": [\n          0.012186205945909023,\n          -0.008685293607413769,\n          -0.05588088557124138\n        ],\n        \"semantic_type\": \"\",\n        \"description\": \"\"\n      }\n    }\n  ]\n}"
            }
          },
          "metadata": {},
          "execution_count": 21
        }
      ]
    },
    {
      "cell_type": "markdown",
      "source": [
        "# Add new column for Sentiment values"
      ],
      "metadata": {
        "id": "xncYFsM0BzG5"
      }
    },
    {
      "cell_type": "code",
      "source": [
        "# define thresholds for sentiment classification\n",
        "positive_threshold = 0.02\n",
        "negative_threshold = -0.02"
      ],
      "metadata": {
        "id": "pJkZ0yhABxSO"
      },
      "execution_count": 22,
      "outputs": []
    },
    {
      "cell_type": "code",
      "source": [
        "# function to classify sentiment based on polarity score\n",
        "def classify_sentiment(polarity_score):\n",
        "    if polarity_score > positive_threshold:\n",
        "        return 'positive'\n",
        "    elif polarity_score < negative_threshold:\n",
        "        return 'negative'\n",
        "    else:\n",
        "        return 'neutral'"
      ],
      "metadata": {
        "id": "mJmY9rEgBxKh"
      },
      "execution_count": 23,
      "outputs": []
    },
    {
      "cell_type": "code",
      "source": [
        "# apply sentiment classfication to each row in the dataframe\n",
        "en_text_file['sentiment'] = en_text_file['sentiment_polarity_score'].apply(classify_sentiment)"
      ],
      "metadata": {
        "id": "mk4MAXNNA_0e"
      },
      "execution_count": 24,
      "outputs": []
    },
    {
      "cell_type": "code",
      "source": [
        "en_text_file.head(5)"
      ],
      "metadata": {
        "colab": {
          "base_uri": "https://localhost:8080/",
          "height": 206
        },
        "id": "QeaqKT4OP_jp",
        "outputId": "ff9c5d94-0422-4f85-8112-5e566060a4b9"
      },
      "execution_count": 25,
      "outputs": [
        {
          "output_type": "execute_result",
          "data": {
            "text/plain": [
              "                                            sentence  \\\n",
              "0  The aroma of freshly brewed coffee filled the ...   \n",
              "1  The vibrant colors of the autumn leaves captiv...   \n",
              "2    The city skyline shimmered under the moonlight.   \n",
              "3  The sound of waves crashing against the shore ...   \n",
              "4   The children's laughter echoed through the park.   \n",
              "\n",
              "   sentiment_polarity_score sentiment  \n",
              "0                 -0.037620  negative  \n",
              "1                 -0.004688   neutral  \n",
              "2                 -0.070902  negative  \n",
              "3                  0.005799   neutral  \n",
              "4                 -0.013347   neutral  "
            ],
            "text/html": [
              "\n",
              "  <div id=\"df-b094ce50-6d7d-4343-9e72-96fd9f997b16\" class=\"colab-df-container\">\n",
              "    <div>\n",
              "<style scoped>\n",
              "    .dataframe tbody tr th:only-of-type {\n",
              "        vertical-align: middle;\n",
              "    }\n",
              "\n",
              "    .dataframe tbody tr th {\n",
              "        vertical-align: top;\n",
              "    }\n",
              "\n",
              "    .dataframe thead th {\n",
              "        text-align: right;\n",
              "    }\n",
              "</style>\n",
              "<table border=\"1\" class=\"dataframe\">\n",
              "  <thead>\n",
              "    <tr style=\"text-align: right;\">\n",
              "      <th></th>\n",
              "      <th>sentence</th>\n",
              "      <th>sentiment_polarity_score</th>\n",
              "      <th>sentiment</th>\n",
              "    </tr>\n",
              "  </thead>\n",
              "  <tbody>\n",
              "    <tr>\n",
              "      <th>0</th>\n",
              "      <td>The aroma of freshly brewed coffee filled the ...</td>\n",
              "      <td>-0.037620</td>\n",
              "      <td>negative</td>\n",
              "    </tr>\n",
              "    <tr>\n",
              "      <th>1</th>\n",
              "      <td>The vibrant colors of the autumn leaves captiv...</td>\n",
              "      <td>-0.004688</td>\n",
              "      <td>neutral</td>\n",
              "    </tr>\n",
              "    <tr>\n",
              "      <th>2</th>\n",
              "      <td>The city skyline shimmered under the moonlight.</td>\n",
              "      <td>-0.070902</td>\n",
              "      <td>negative</td>\n",
              "    </tr>\n",
              "    <tr>\n",
              "      <th>3</th>\n",
              "      <td>The sound of waves crashing against the shore ...</td>\n",
              "      <td>0.005799</td>\n",
              "      <td>neutral</td>\n",
              "    </tr>\n",
              "    <tr>\n",
              "      <th>4</th>\n",
              "      <td>The children's laughter echoed through the park.</td>\n",
              "      <td>-0.013347</td>\n",
              "      <td>neutral</td>\n",
              "    </tr>\n",
              "  </tbody>\n",
              "</table>\n",
              "</div>\n",
              "    <div class=\"colab-df-buttons\">\n",
              "\n",
              "  <div class=\"colab-df-container\">\n",
              "    <button class=\"colab-df-convert\" onclick=\"convertToInteractive('df-b094ce50-6d7d-4343-9e72-96fd9f997b16')\"\n",
              "            title=\"Convert this dataframe to an interactive table.\"\n",
              "            style=\"display:none;\">\n",
              "\n",
              "  <svg xmlns=\"http://www.w3.org/2000/svg\" height=\"24px\" viewBox=\"0 -960 960 960\">\n",
              "    <path d=\"M120-120v-720h720v720H120Zm60-500h600v-160H180v160Zm220 220h160v-160H400v160Zm0 220h160v-160H400v160ZM180-400h160v-160H180v160Zm440 0h160v-160H620v160ZM180-180h160v-160H180v160Zm440 0h160v-160H620v160Z\"/>\n",
              "  </svg>\n",
              "    </button>\n",
              "\n",
              "  <style>\n",
              "    .colab-df-container {\n",
              "      display:flex;\n",
              "      gap: 12px;\n",
              "    }\n",
              "\n",
              "    .colab-df-convert {\n",
              "      background-color: #E8F0FE;\n",
              "      border: none;\n",
              "      border-radius: 50%;\n",
              "      cursor: pointer;\n",
              "      display: none;\n",
              "      fill: #1967D2;\n",
              "      height: 32px;\n",
              "      padding: 0 0 0 0;\n",
              "      width: 32px;\n",
              "    }\n",
              "\n",
              "    .colab-df-convert:hover {\n",
              "      background-color: #E2EBFA;\n",
              "      box-shadow: 0px 1px 2px rgba(60, 64, 67, 0.3), 0px 1px 3px 1px rgba(60, 64, 67, 0.15);\n",
              "      fill: #174EA6;\n",
              "    }\n",
              "\n",
              "    .colab-df-buttons div {\n",
              "      margin-bottom: 4px;\n",
              "    }\n",
              "\n",
              "    [theme=dark] .colab-df-convert {\n",
              "      background-color: #3B4455;\n",
              "      fill: #D2E3FC;\n",
              "    }\n",
              "\n",
              "    [theme=dark] .colab-df-convert:hover {\n",
              "      background-color: #434B5C;\n",
              "      box-shadow: 0px 1px 3px 1px rgba(0, 0, 0, 0.15);\n",
              "      filter: drop-shadow(0px 1px 2px rgba(0, 0, 0, 0.3));\n",
              "      fill: #FFFFFF;\n",
              "    }\n",
              "  </style>\n",
              "\n",
              "    <script>\n",
              "      const buttonEl =\n",
              "        document.querySelector('#df-b094ce50-6d7d-4343-9e72-96fd9f997b16 button.colab-df-convert');\n",
              "      buttonEl.style.display =\n",
              "        google.colab.kernel.accessAllowed ? 'block' : 'none';\n",
              "\n",
              "      async function convertToInteractive(key) {\n",
              "        const element = document.querySelector('#df-b094ce50-6d7d-4343-9e72-96fd9f997b16');\n",
              "        const dataTable =\n",
              "          await google.colab.kernel.invokeFunction('convertToInteractive',\n",
              "                                                    [key], {});\n",
              "        if (!dataTable) return;\n",
              "\n",
              "        const docLinkHtml = 'Like what you see? Visit the ' +\n",
              "          '<a target=\"_blank\" href=https://colab.research.google.com/notebooks/data_table.ipynb>data table notebook</a>'\n",
              "          + ' to learn more about interactive tables.';\n",
              "        element.innerHTML = '';\n",
              "        dataTable['output_type'] = 'display_data';\n",
              "        await google.colab.output.renderOutput(dataTable, element);\n",
              "        const docLink = document.createElement('div');\n",
              "        docLink.innerHTML = docLinkHtml;\n",
              "        element.appendChild(docLink);\n",
              "      }\n",
              "    </script>\n",
              "  </div>\n",
              "\n",
              "\n",
              "<div id=\"df-2efa4618-eff5-4b95-9e2c-c368be789977\">\n",
              "  <button class=\"colab-df-quickchart\" onclick=\"quickchart('df-2efa4618-eff5-4b95-9e2c-c368be789977')\"\n",
              "            title=\"Suggest charts\"\n",
              "            style=\"display:none;\">\n",
              "\n",
              "<svg xmlns=\"http://www.w3.org/2000/svg\" height=\"24px\"viewBox=\"0 0 24 24\"\n",
              "     width=\"24px\">\n",
              "    <g>\n",
              "        <path d=\"M19 3H5c-1.1 0-2 .9-2 2v14c0 1.1.9 2 2 2h14c1.1 0 2-.9 2-2V5c0-1.1-.9-2-2-2zM9 17H7v-7h2v7zm4 0h-2V7h2v10zm4 0h-2v-4h2v4z\"/>\n",
              "    </g>\n",
              "</svg>\n",
              "  </button>\n",
              "\n",
              "<style>\n",
              "  .colab-df-quickchart {\n",
              "      --bg-color: #E8F0FE;\n",
              "      --fill-color: #1967D2;\n",
              "      --hover-bg-color: #E2EBFA;\n",
              "      --hover-fill-color: #174EA6;\n",
              "      --disabled-fill-color: #AAA;\n",
              "      --disabled-bg-color: #DDD;\n",
              "  }\n",
              "\n",
              "  [theme=dark] .colab-df-quickchart {\n",
              "      --bg-color: #3B4455;\n",
              "      --fill-color: #D2E3FC;\n",
              "      --hover-bg-color: #434B5C;\n",
              "      --hover-fill-color: #FFFFFF;\n",
              "      --disabled-bg-color: #3B4455;\n",
              "      --disabled-fill-color: #666;\n",
              "  }\n",
              "\n",
              "  .colab-df-quickchart {\n",
              "    background-color: var(--bg-color);\n",
              "    border: none;\n",
              "    border-radius: 50%;\n",
              "    cursor: pointer;\n",
              "    display: none;\n",
              "    fill: var(--fill-color);\n",
              "    height: 32px;\n",
              "    padding: 0;\n",
              "    width: 32px;\n",
              "  }\n",
              "\n",
              "  .colab-df-quickchart:hover {\n",
              "    background-color: var(--hover-bg-color);\n",
              "    box-shadow: 0 1px 2px rgba(60, 64, 67, 0.3), 0 1px 3px 1px rgba(60, 64, 67, 0.15);\n",
              "    fill: var(--button-hover-fill-color);\n",
              "  }\n",
              "\n",
              "  .colab-df-quickchart-complete:disabled,\n",
              "  .colab-df-quickchart-complete:disabled:hover {\n",
              "    background-color: var(--disabled-bg-color);\n",
              "    fill: var(--disabled-fill-color);\n",
              "    box-shadow: none;\n",
              "  }\n",
              "\n",
              "  .colab-df-spinner {\n",
              "    border: 2px solid var(--fill-color);\n",
              "    border-color: transparent;\n",
              "    border-bottom-color: var(--fill-color);\n",
              "    animation:\n",
              "      spin 1s steps(1) infinite;\n",
              "  }\n",
              "\n",
              "  @keyframes spin {\n",
              "    0% {\n",
              "      border-color: transparent;\n",
              "      border-bottom-color: var(--fill-color);\n",
              "      border-left-color: var(--fill-color);\n",
              "    }\n",
              "    20% {\n",
              "      border-color: transparent;\n",
              "      border-left-color: var(--fill-color);\n",
              "      border-top-color: var(--fill-color);\n",
              "    }\n",
              "    30% {\n",
              "      border-color: transparent;\n",
              "      border-left-color: var(--fill-color);\n",
              "      border-top-color: var(--fill-color);\n",
              "      border-right-color: var(--fill-color);\n",
              "    }\n",
              "    40% {\n",
              "      border-color: transparent;\n",
              "      border-right-color: var(--fill-color);\n",
              "      border-top-color: var(--fill-color);\n",
              "    }\n",
              "    60% {\n",
              "      border-color: transparent;\n",
              "      border-right-color: var(--fill-color);\n",
              "    }\n",
              "    80% {\n",
              "      border-color: transparent;\n",
              "      border-right-color: var(--fill-color);\n",
              "      border-bottom-color: var(--fill-color);\n",
              "    }\n",
              "    90% {\n",
              "      border-color: transparent;\n",
              "      border-bottom-color: var(--fill-color);\n",
              "    }\n",
              "  }\n",
              "</style>\n",
              "\n",
              "  <script>\n",
              "    async function quickchart(key) {\n",
              "      const quickchartButtonEl =\n",
              "        document.querySelector('#' + key + ' button');\n",
              "      quickchartButtonEl.disabled = true;  // To prevent multiple clicks.\n",
              "      quickchartButtonEl.classList.add('colab-df-spinner');\n",
              "      try {\n",
              "        const charts = await google.colab.kernel.invokeFunction(\n",
              "            'suggestCharts', [key], {});\n",
              "      } catch (error) {\n",
              "        console.error('Error during call to suggestCharts:', error);\n",
              "      }\n",
              "      quickchartButtonEl.classList.remove('colab-df-spinner');\n",
              "      quickchartButtonEl.classList.add('colab-df-quickchart-complete');\n",
              "    }\n",
              "    (() => {\n",
              "      let quickchartButtonEl =\n",
              "        document.querySelector('#df-2efa4618-eff5-4b95-9e2c-c368be789977 button');\n",
              "      quickchartButtonEl.style.display =\n",
              "        google.colab.kernel.accessAllowed ? 'block' : 'none';\n",
              "    })();\n",
              "  </script>\n",
              "</div>\n",
              "\n",
              "    </div>\n",
              "  </div>\n"
            ],
            "application/vnd.google.colaboratory.intrinsic+json": {
              "type": "dataframe",
              "variable_name": "en_text_file",
              "summary": "{\n  \"name\": \"en_text_file\",\n  \"rows\": 100,\n  \"fields\": [\n    {\n      \"column\": \"sentence\",\n      \"properties\": {\n        \"dtype\": \"string\",\n        \"num_unique_values\": 100,\n        \"samples\": [\n          \"The tranquil melody of the harp soothed the restless crowd.\",\n          \"The tranquil melody of the flute filled the room with a sense of peace.\",\n          \"The aroma of freshly brewed tea filled the air.\"\n        ],\n        \"semantic_type\": \"\",\n        \"description\": \"\"\n      }\n    },\n    {\n      \"column\": \"sentiment_polarity_score\",\n      \"properties\": {\n        \"dtype\": \"number\",\n        \"std\": 0.032608402535226,\n        \"min\": -0.09414324909448624,\n        \"max\": 0.07639828324317932,\n        \"num_unique_values\": 100,\n        \"samples\": [\n          0.012186205945909023,\n          -0.008685293607413769,\n          -0.05588088557124138\n        ],\n        \"semantic_type\": \"\",\n        \"description\": \"\"\n      }\n    },\n    {\n      \"column\": \"sentiment\",\n      \"properties\": {\n        \"dtype\": \"category\",\n        \"num_unique_values\": 3,\n        \"samples\": [\n          \"negative\",\n          \"neutral\",\n          \"positive\"\n        ],\n        \"semantic_type\": \"\",\n        \"description\": \"\"\n      }\n    }\n  ]\n}"
            }
          },
          "metadata": {},
          "execution_count": 25
        }
      ]
    },
    {
      "cell_type": "code",
      "source": [
        "# Save the updated DataFrame to a new CSV file\n",
        "en_text_file.to_csv('/content/drive/MyDrive/data/final_english_text_file.csv', index=False)"
      ],
      "metadata": {
        "id": "ph_FFqsKdcwr"
      },
      "execution_count": 26,
      "outputs": []
    },
    {
      "cell_type": "code",
      "source": [
        "import matplotlib.pyplot as plt"
      ],
      "metadata": {
        "id": "kftedtTwQX61"
      },
      "execution_count": 27,
      "outputs": []
    },
    {
      "cell_type": "code",
      "source": [
        "# plot histogram of sentiment polarity scores to analyze the distribution of the\n",
        "# sentiment polarity score in the dataset\n",
        "plt.hist(en_text_file['sentiment_polarity_score'], bins=20, color='skyblue', edgecolor='black')\n",
        "plt.title('Distribution of Sentiment Polarity Scores')\n",
        "plt.xlabel('Sentiment Polarity Score')\n",
        "plt.ylabel('Frequency')\n",
        "\n",
        "# Add vertical lines at -0.02 and 0.02 - neutral range.\n",
        "plt.axvline(x=-0.02, color='r', linestyle='--', label='-0.02')\n",
        "plt.axvline(x=0.02, color='g', linestyle='--', label='0.02')\n",
        "\n",
        "plt.legend()  # Show legend\n",
        "plt.grid(True)\n",
        "plt.show()"
      ],
      "metadata": {
        "id": "i9k1oNDWCo1Q",
        "colab": {
          "base_uri": "https://localhost:8080/",
          "height": 472
        },
        "outputId": "0862e4c8-c670-4509-f7b4-2405629bae94"
      },
      "execution_count": 28,
      "outputs": [
        {
          "output_type": "display_data",
          "data": {
            "text/plain": [
              "<Figure size 640x480 with 1 Axes>"
            ],
            "image/png": "[encoded data removed]"
          },
          "metadata": {}
        }
      ]
    },
    {
      "cell_type": "code",
      "source": [
        "# coun the number of occurances of each sentiment label\n",
        "sentiment_counts = en_text_file['sentiment'].value_counts()"
      ],
      "metadata": {
        "id": "wE14csqqQZp6"
      },
      "execution_count": 29,
      "outputs": []
    },
    {
      "cell_type": "markdown",
      "source": [
        "**To show the percentages on each bar:**\n",
        "1. We calculate the total count by summing all the counts in the sentiment_counts Series.\n",
        "2. We use this total count to compute the percentage of each sentiment label relative to the total count.\n",
        "3. We annotate each bar with its correct percentage value, ensuring that the percentages sum up to 100%."
      ],
      "metadata": {
        "id": "R8SHzVpQTQ_D"
      }
    },
    {
      "cell_type": "code",
      "source": [
        "plt.figure(figsize=(8, 6))\n",
        "ax = sentiment_counts.plot(kind='bar', color=['green', 'red', 'brown'])\n",
        "plt.title('Distribution of Sentiment Labels')\n",
        "plt.xlabel('Sentiment')\n",
        "plt.ylabel('Count')\n",
        "plt.xticks(rotation=0)  # Rotate x-axis labels\n",
        "\n",
        "# Calculate total count\n",
        "total = float(sum(sentiment_counts))\n",
        "\n",
        "# Annotate each bar with its percentage value\n",
        "for p in ax.patches:\n",
        "    percentage = '{:.1f}%'.format(100 * p.get_height()/total)\n",
        "    x = p.get_x() + p.get_width() / 2 - 0.05\n",
        "    y = p.get_height() + 0.5\n",
        "    ax.annotate(percentage, (x, y), size=12)\n",
        "\n",
        "plt.tight_layout()\n",
        "plt.show()"
      ],
      "metadata": {
        "colab": {
          "base_uri": "https://localhost:8080/",
          "height": 607
        },
        "id": "sLGW1Vj3RVbl",
        "outputId": "6617c08c-153d-447e-8d81-c6137b649e82"
      },
      "execution_count": 30,
      "outputs": [
        {
          "output_type": "display_data",
          "data": {
            "text/plain": [
              "<Figure size 800x600 with 1 Axes>"
            ],
            "image/png": "[encoded data removed]"
          },
          "metadata": {}
        }
      ]
    },
    {
      "cell_type": "markdown",
      "source": [
        "# Conclusion:\n",
        "In the sample dataset of 100 records, we have 57% negative, 24% neutral, and 19% positive on the sentiment polarity score analysis."
      ],
      "metadata": {
        "id": "0T91cx2KUBn9"
      }
    },
    {
      "cell_type": "markdown",
      "source": [
        "Now, we analyze the similarity and differences between the sentiment polarity scores of Vietnamese and English texts by using various statistical and visualization techniques:"
      ],
      "metadata": {
        "id": "WkNsl-14EzzR"
      }
    },
    {
      "cell_type": "code",
      "source": [
        "import pandas as pd\n",
        "import matplotlib.pyplot as plt\n",
        "import seaborn as sns\n",
        "from scipy import stats\n",
        "from scipy.stats import ttest_ind"
      ],
      "metadata": {
        "id": "AoDuoS0tE0Wn"
      },
      "execution_count": 31,
      "outputs": []
    },
    {
      "cell_type": "code",
      "source": [
        "from google.colab import drive\n",
        "drive.mount('/content/drive')"
      ],
      "metadata": {
        "colab": {
          "base_uri": "https://localhost:8080/"
        },
        "id": "Mt4A-N-7FupX",
        "outputId": "da3dd9bd-6a1b-4f22-8d36-f999ee80f9d9"
      },
      "execution_count": null,
      "outputs": [
        {
          "output_type": "stream",
          "name": "stdout",
          "text": [
            "Drive already mounted at /content/drive; to attempt to forcibly remount, call drive.mount(\"/content/drive\", force_remount=True).\n"
          ]
        }
      ]
    },
    {
      "cell_type": "code",
      "source": [
        "# load vi and en datasets\n",
        "vi_text_file = pd.read_csv('/content/drive/MyDrive/data/final_vietnamese_text_file.csv')\n",
        "en_text_file = pd.read_csv('/content/drive/MyDrive/data/final_english_text_file.csv')"
      ],
      "metadata": {
        "id": "cMD5SEZ2E0-T"
      },
      "execution_count": 32,
      "outputs": []
    },
    {
      "cell_type": "code",
      "source": [
        "# descriptive statistics\n",
        "vi_stats = vi_text_file['sentiment_polarity_score'].describe()\n",
        "en_stats = en_text_file['sentiment_polarity_score'].describe()\n",
        "print(\"Vietnamese Statistics:\\n\", vi_stats)\n",
        "print(\"English Statistics:\\n\", en_stats)"
      ],
      "metadata": {
        "colab": {
          "base_uri": "https://localhost:8080/"
        },
        "id": "s1Om62vDE06c",
        "outputId": "c2c99be3-5270-4f37-e469-9396375db14f"
      },
      "execution_count": 33,
      "outputs": [
        {
          "output_type": "stream",
          "name": "stdout",
          "text": [
            "Vietnamese Statistics:\n",
            " count    100.000000\n",
            "mean      -0.028658\n",
            "std        0.034298\n",
            "min       -0.102682\n",
            "25%       -0.049703\n",
            "50%       -0.025539\n",
            "75%       -0.005781\n",
            "max        0.073980\n",
            "Name: sentiment_polarity_score, dtype: float64\n",
            "English Statistics:\n",
            " count    100.000000\n",
            "mean      -0.015106\n",
            "std        0.032608\n",
            "min       -0.094143\n",
            "25%       -0.037134\n",
            "50%       -0.013096\n",
            "75%        0.004970\n",
            "max        0.076398\n",
            "Name: sentiment_polarity_score, dtype: float64\n"
          ]
        }
      ]
    },
    {
      "cell_type": "code",
      "source": [
        "# histograms or density plots\n",
        "plt.figure(figsize=(10, 6))\n",
        "sns.histplot(vi_text_file['sentiment_polarity_score'], kde=True, color='skyblue', label='Vietnamese')\n",
        "sns.histplot(en_text_file['sentiment_polarity_score'], kde=True, color='salmon', label='English')\n",
        "plt.title('Distribution of Sentiment Polarity Scores')\n",
        "plt.xlabel('Sentiment Polarity Score')\n",
        "plt.ylabel('Density')\n",
        "plt.legend()\n",
        "plt.show()"
      ],
      "metadata": {
        "colab": {
          "base_uri": "https://localhost:8080/",
          "height": 564
        },
        "id": "kmR5nAx2E03K",
        "outputId": "9dabd7b7-ab26-4825-e3c7-69a2b573c42e"
      },
      "execution_count": 34,
      "outputs": [
        {
          "output_type": "display_data",
          "data": {
            "text/plain": [
              "<Figure size 1000x600 with 1 Axes>"
            ],
            "image/png": "[encoded data removed]"
          },
          "metadata": {}
        }
      ]
    },
    {
      "cell_type": "code",
      "source": [
        "# Scatter Plot\n",
        "plt.figure(figsize=(8, 6))\n",
        "plt.scatter(vi_text_file['sentiment_polarity_score'], vi_text_file.index, color='skyblue', label='Vietnamese')\n",
        "plt.scatter(en_text_file['sentiment_polarity_score'], en_text_file.index, color='salmon', label='English')\n",
        "plt.title('Scatter Plot of Sentiment Polarity Scores')\n",
        "plt.xlabel('Sentiment Polarity Score')\n",
        "plt.ylabel('Index')\n",
        "plt.legend()\n",
        "plt.grid(True)\n",
        "plt.show()"
      ],
      "metadata": {
        "colab": {
          "base_uri": "https://localhost:8080/",
          "height": 564
        },
        "id": "woS9rAx5Jk8K",
        "outputId": "d6cf771a-5f51-4821-818c-f3ebbd75bfdf"
      },
      "execution_count": 35,
      "outputs": [
        {
          "output_type": "display_data",
          "data": {
            "text/plain": [
              "<Figure size 800x600 with 1 Axes>"
            ],
            "image/png": "[encoded data removed]"
          },
          "metadata": {}
        }
      ]
    },
    {
      "cell_type": "code",
      "source": [
        "# Statistical Tests\n",
        "t_stat, p_value = stats.ttest_ind(vi_text_file['sentiment_polarity_score'], en_text_file['sentiment_polarity_score'])\n",
        "print(\"T-test Results:\")\n",
        "print(\"T-statistic:\", t_stat)\n",
        "print(\"P-value:\", p_value)"
      ],
      "metadata": {
        "colab": {
          "base_uri": "https://localhost:8080/"
        },
        "id": "TX2ONoO6IOvY",
        "outputId": "96056e7a-d009-4102-c5a8-55153329eecc"
      },
      "execution_count": 36,
      "outputs": [
        {
          "output_type": "stream",
          "name": "stdout",
          "text": [
            "T-test Results:\n",
            "T-statistic: -2.863744601293324\n",
            "P-value: 0.0046377561392775424\n"
          ]
        }
      ]
    },
    {
      "cell_type": "markdown",
      "source": [
        "The results of the t-test indicate that there is a statistically significant difference between the sentiment polarity scores of Vietnamese and English texts. The calculated t-statistic is -2.8637, and the p-value is approximately 0.0046.\n",
        "\n",
        "With a p-value less than the conventional significance level of 0.05, we reject the null hypothesis, which suggests that there is no difference between the means of the sentiment polarity scores in Vietnamese and English texts. Therefore, we conclude that there is indeed a significant difference in sentiment expression between the two languages."
      ],
      "metadata": {
        "id": "nqpBU3lUM9Br"
      }
    },
    {
      "cell_type": "code",
      "source": [
        "# Correlation Analysis\n",
        "correlation = vi_text_file['sentiment_polarity_score'].corr(en_text_file['sentiment_polarity_score'])\n",
        "print(\"\\nCorrelation Coefficient:\", correlation)"
      ],
      "metadata": {
        "colab": {
          "base_uri": "https://localhost:8080/"
        },
        "id": "DibTEA7fIUyL",
        "outputId": "5041a747-1b93-4371-d4bf-79d4cd78d432"
      },
      "execution_count": 37,
      "outputs": [
        {
          "output_type": "stream",
          "name": "stdout",
          "text": [
            "\n",
            "Correlation Coefficient: 0.07295195134272117\n"
          ]
        }
      ]
    },
    {
      "cell_type": "markdown",
      "source": [
        "The correlation coefficient of approximately 0.07295 suggests a very weak positive correlation between the sentiment polarity scores of the Vietnamese and English texts.\n",
        "\n",
        "This means that there is a slight tendency for the sentiment polarity scores of the Vietnamese text to increase as the sentiment polarity scores of the English text increase, and vice versa. However, the correlation is very weak, indicating that the relationship between the sentiment polarity scores of the two languages is not strong.\n",
        "\n",
        "This weak correlation further supports the notion that there are differences in sentiment expression between the original English text and its translated Vietnamese version. The weak correlation suggests that factors other than direct translation, such as linguistic and cultural nuances, context, and translation quality, may play significant roles in shaping the sentiment polarity scores of the two languages."
      ],
      "metadata": {
        "id": "PXBoMIZoMsp3"
      }
    },
    {
      "cell_type": "markdown",
      "source": [
        "# Conclusion"
      ],
      "metadata": {
        "id": "mySmt76EMumZ"
      }
    },
    {
      "cell_type": "markdown",
      "source": [
        "The significant difference in sentiment polarity scores between the two languages could be attributed to various factors such as differences in language structure, cultural nuances, or translation quality.\n",
        "\n",
        "Here are some considerations for interpreting the results:\n",
        "\n",
        "Language Structure: Vietnamese and English have different linguistic structures, including grammar, syntax, and vocabulary. These differences can influence the expression of sentiment and the way sentiments are perceived by speakers of each language.\n",
        "\n",
        "Cultural Nuances: Cultural differences between English-speaking and Vietnamese-speaking populations may lead to variations in the interpretation and expression of sentiment. Certain sentiments or expressions may be more prevalent or nuanced in one culture compared to the other.\n",
        "\n",
        "Translation Quality: The quality of translation can impact the fidelity of sentiment expression. Translating sentiments from one language to another may not always capture the full nuance or context, leading to discrepancies in sentiment polarity scores between the original and translated texts.\n",
        "\n",
        "Contextual Differences: Sentiment expression can be influenced by the specific context in which the text is written or interpreted. Differences in cultural, social, or contextual factors between English and Vietnamese texts may contribute to variations in sentiment polarity scores.\n",
        "\n",
        "Given these considerations, further analysis may involve examining specific linguistic or cultural features that contribute to differences in sentiment expression between the original English text and its translated Vietnamese version. Additionally, investigating the quality of translation and its impact on sentiment analysis could provide valuable insights into the observed differences in sentiment polarity scores."
      ],
      "metadata": {
        "id": "RjLB6yZINGIr"
      }
    },
    {
      "cell_type": "code",
      "source": [
        "plt.figure(figsize=(8, 6))\n",
        "sns.boxplot(data=en_text_file['sentiment_polarity_score'], color='salmon', notch=True)\n",
        "plt.title('Box Plot of Sentiment Polarity Scores (English)')\n",
        "plt.ylabel('Sentiment Polarity Score')\n",
        "plt.show()"
      ],
      "metadata": {
        "colab": {
          "base_uri": "https://localhost:8080/",
          "height": 526
        },
        "id": "FJEmj51yIYPn",
        "outputId": "21d5d0fa-35bd-4afb-f85b-abd77e8828de"
      },
      "execution_count": 38,
      "outputs": [
        {
          "output_type": "display_data",
          "data": {
            "text/plain": [
              "<Figure size 800x600 with 1 Axes>"
            ],
            "image/png": "[encoded data removed]"
          },
          "metadata": {}
        }
      ]
    },
    {
      "cell_type": "code",
      "source": [
        "plt.figure(figsize=(8, 6))\n",
        "sns.boxplot(data=vi_text_file['sentiment_polarity_score'], color='green', notch=True)\n",
        "plt.title('Box Plot of Sentiment Polarity Scores (Vietnamese)')\n",
        "plt.ylabel('Sentiment Polarity Score')\n",
        "plt.show()"
      ],
      "metadata": {
        "colab": {
          "base_uri": "https://localhost:8080/",
          "height": 526
        },
        "id": "NfOQXoERN2Bf",
        "outputId": "59a63ca1-52b9-47d4-81de-9c33aef2c153"
      },
      "execution_count": 39,
      "outputs": [
        {
          "output_type": "display_data",
          "data": {
            "text/plain": [
              "<Figure size 800x600 with 1 Axes>"
            ],
            "image/png": "[encoded data removed]"
          },
          "metadata": {}
        }
      ]
    },
    {
      "cell_type": "code",
      "source": [
        "import pandas as pd\n",
        "import matplotlib.pyplot as plt\n",
        "import seaborn as sns"
      ],
      "metadata": {
        "id": "zD0oYlHwQzjJ"
      },
      "execution_count": 40,
      "outputs": []
    },
    {
      "cell_type": "code",
      "source": [
        "# add language column to vi and en datasets\n",
        "vi_text_file['language'] = 'Vietnamese'\n",
        "en_text_file['language'] = 'English'"
      ],
      "metadata": {
        "id": "o9FQ8dVcQ6Cy"
      },
      "execution_count": 41,
      "outputs": []
    },
    {
      "cell_type": "code",
      "source": [
        "# concatenate the two datasets\n",
        "combine_data = pd.concat([vi_text_file, en_text_file])"
      ],
      "metadata": {
        "id": "mvOwTgKBNQ3G"
      },
      "execution_count": 42,
      "outputs": []
    },
    {
      "cell_type": "code",
      "source": [
        "# export this conbimed_data file\n",
        "combine_data.to_csv('/content/drive/MyDrive/data/vi_en_combined_data.csv', index=False)"
      ],
      "metadata": {
        "id": "GB6wMaieUVvE"
      },
      "execution_count": 43,
      "outputs": []
    },
    {
      "cell_type": "code",
      "source": [
        "# read the combined dataset\n",
        "combined_data = pd.read_csv('/content/drive/MyDrive/data/vi_en_combined_data.csv')"
      ],
      "metadata": {
        "id": "rctg93iEUr9n"
      },
      "execution_count": 44,
      "outputs": []
    },
    {
      "cell_type": "code",
      "source": [
        "# To check if the variable combined_data exists in the global scope\n",
        "print('combine_data' in globals())"
      ],
      "metadata": {
        "colab": {
          "base_uri": "https://localhost:8080/"
        },
        "id": "S1DbbdmcSawo",
        "outputId": "a688eb37-e1c8-4043-e2c0-d90fe5d7f4ca"
      },
      "execution_count": 45,
      "outputs": [
        {
          "output_type": "stream",
          "name": "stdout",
          "text": [
            "True\n"
          ]
        }
      ]
    },
    {
      "cell_type": "code",
      "source": [
        "# Plot box plots side-by-side\n",
        "plt.figure(figsize=(8, 6))\n",
        "sns.boxplot(x='language', y='sentiment_polarity_score', data=combined_data, palette={'Vietnamese': 'skyblue', 'English': 'salmon'}, notch=True)\n",
        "plt.xlabel('Language')\n",
        "plt.ylabel('Sentiment Polarity Score')\n",
        "plt.title('Box Plot of Sentiment Polarity Scores')\n",
        "plt.tight_layout()\n",
        "plt.show()"
      ],
      "metadata": {
        "colab": {
          "base_uri": "https://localhost:8080/",
          "height": 714
        },
        "id": "AcvjpmkgOUQ4",
        "outputId": "605b8b0b-de6f-4782-9f0e-7c1a148319a5"
      },
      "execution_count": 46,
      "outputs": [
        {
          "output_type": "stream",
          "name": "stderr",
          "text": [
            "<ipython-input-46-9ad0e1045db3>:3: FutureWarning: \n",
            "\n",
            "Passing `palette` without assigning `hue` is deprecated and will be removed in v0.14.0. Assign the `x` variable to `hue` and set `legend=False` for the same effect.\n",
            "\n",
            "  sns.boxplot(x='language', y='sentiment_polarity_score', data=combined_data, palette={'Vietnamese': 'skyblue', 'English': 'salmon'}, notch=True)\n"
          ]
        },
        {
          "output_type": "display_data",
          "data": {
            "text/plain": [
              "<Figure size 800x600 with 1 Axes>"
            ],
            "image/png": "[encoded data removed]"
          },
          "metadata": {}
        }
      ]
    },
    {
      "cell_type": "code",
      "source": [],
      "metadata": {
        "id": "HRQnn_VvU0Rh"
      },
      "execution_count": null,
      "outputs": []
    }
  ]
}