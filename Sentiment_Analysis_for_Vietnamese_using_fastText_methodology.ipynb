{
  "nbformat": 4,
  "nbformat_minor": 0,
  "metadata": {
    "colab": {
      "provenance": [],
      "machine_shape": "hm",
      "gpuType": "A100",
      "authorship_tag": "ABX9TyPtcy6AlDAMPB1OFZyP0mRr",
      "include_colab_link": true
    },
    "kernelspec": {
      "name": "python3",
      "display_name": "Python 3"
    },
    "language_info": {
      "name": "python"
    },
    "accelerator": "GPU"
  },
  "cells": [
    {
      "cell_type": "markdown",
      "metadata": {
        "id": "view-in-github",
        "colab_type": "text"
      },
      "source": [
        "<a href=\"https://colab.research.google.com/github/HowardHNguyen/Natural_Language_Processing-NLP/blob/main/Sentiment_Analysis_for_Vietnamese_using_fastText_methodology.ipynb\" target=\"_parent\"><img src=\"https://colab.research.google.com/assets/colab-badge.svg\" alt=\"Open In Colab\"/></a>"
      ]
    },
    {
      "cell_type": "markdown",
      "source": [
        "# Create a Textblob object from the sentence"
      ],
      "metadata": {
        "id": "tPiFSS1sNIaH"
      }
    },
    {
      "cell_type": "code",
      "execution_count": 1,
      "metadata": {
        "id": "Ri99b-61Mdmd"
      },
      "outputs": [],
      "source": [
        "from textblob import TextBlob"
      ]
    },
    {
      "cell_type": "markdown",
      "source": [
        "# Define the Sentiment Polarity"
      ],
      "metadata": {
        "id": "semMqyPWNPUP"
      }
    },
    {
      "cell_type": "code",
      "source": [
        "def add_sentiment_polarity(text):\n",
        "  \"\"\"\n",
        "  This function analyzes the sentiment of a sentence and returns a tuple containing\n",
        "  the sentence and its sentiment polarity score.\n",
        "\n",
        "  Args:\n",
        "      text: The sentence to be analyzed.\n",
        "\n",
        "  Returns:\n",
        "      A tuple containing the sentence and its sentiment polarity score (float).\n",
        "  \"\"\"\n",
        "  # Create a TextBlob object from the text\n",
        "  sentiment_analysis = TextBlob(text)\n",
        "\n",
        "  # Get the sentiment polarity score (ranges from -1 to 1)\n",
        "  polarity_score = sentiment_analysis.polarity\n",
        "\n",
        "  return text, polarity_score"
      ],
      "metadata": {
        "id": "_z633G9AMj5C"
      },
      "execution_count": 2,
      "outputs": []
    },
    {
      "cell_type": "markdown",
      "source": [
        "# Loading the sentences - English version"
      ],
      "metadata": {
        "id": "yq4NCQgdNYxh"
      }
    },
    {
      "cell_type": "code",
      "source": [
        "# Example usage\n",
        "sentences = [\n",
        "  \"The aroma of freshly brewed coffee permeated the air.\",\n",
        "  \"The clear blue sky was dotted with fluffy white clouds.\",\n",
        "\"The sparkling lights of the city created a magical scene at night.\",\n",
        "\"The soothing sound of waves crashing on the shore brought a sense of relaxation.\",\n",
        "\"Children played happily in the park.\",\n",
        "\"The ancient ruins told the story of a bygone era.\",\n",
        "\"The winding path led us through the dense forest.\",\n",
        "\"The chef carefully arranged the food into a work of art on the plate.\",\n",
        "\"The moving play about love and loss brought tears to the audience's eyes.\",\n",
        "\"The antique clock ticked quietly on the warm mantel.\",\n",
        "\"The smell of freshly baked cookies wafted through the kitchen.\",\n",
        "\"The fresh mountain air invigorated the senses.\",\n",
        "\"The bustling market was a cacophony of sights and sounds.\",\n",
        "\"The still lake reflected the majestic beauty of the mountains.\",\n",
        "\"Children excitedly built sandcastles on the sunny beach.\",\n",
        "\"The magnificent architecture of the ancient palace awed visitors.\",\n",
        "\"The winding road meandered through the lush green hills.\",\n",
        "\"The talented artist captured the essence of the subject with a few simple strokes.\",\n",
        "\"The enchanting fairy tale transported the reader to a magical world.\",\n",
        "\"The antique grandfather clock ticked steadily on the bookshelf.\",\n",
        "\"The scent of freshly cut grass filled the air.\",\n",
        "\"The breathtaking view from the top of the mountain left visitors speechless.\",\n",
        "\"The colorful coral reef was home to a myriad of fish.\",\n",
        "\"The melodious music of the piano created a relaxing atmosphere.\",\n",
        "\"Children were engrossed in a game of hide-and-seek in the garden.\",\n",
        "\"The ancient ruins were a testament to a glorious civilization.\",\n",
        "\"The winding river flowed peacefully through the golden rice fields.\",\n",
        "\"The skilled craftsman meticulously weaved each bamboo basket.\",\n",
        "\"The terrifying horror movie made the audience's hearts race.\",\n",
        "\"The old swing gently swayed on the porch.\"\n",
        "  # ... other sentences\n",
        "]"
      ],
      "metadata": {
        "id": "Ae5JmgmPMuB2"
      },
      "execution_count": 6,
      "outputs": []
    },
    {
      "cell_type": "code",
      "source": [
        "# Process each sentence and store the results\n",
        "sentiment_data = []\n",
        "for sentence in sentences:\n",
        "  text, score = add_sentiment_polarity(sentence)\n",
        "  sentiment_data.append((text, score))"
      ],
      "metadata": {
        "id": "6mDHG8qOM19G"
      },
      "execution_count": 7,
      "outputs": []
    },
    {
      "cell_type": "markdown",
      "source": [
        "# Returns a tuple containing the original sentence and the sentiment score."
      ],
      "metadata": {
        "id": "73ZbaMjHNrQG"
      }
    },
    {
      "cell_type": "code",
      "source": [
        "# Print the sentiment data with sentence and polarity score\n",
        "for text, score in sentiment_data:\n",
        "  print(f\"{text} - Sentiment Score: {score:.2f}\")"
      ],
      "metadata": {
        "colab": {
          "base_uri": "https://localhost:8080/"
        },
        "id": "ffSM36-qM4fM",
        "outputId": "809a5f6c-ae2e-4370-96de-ec95d8264167"
      },
      "execution_count": 8,
      "outputs": [
        {
          "output_type": "stream",
          "name": "stdout",
          "text": [
            "The aroma of freshly brewed coffee permeated the air. - Sentiment Score: 0.30\n",
            "The clear blue sky was dotted with fluffy white clouds. - Sentiment Score: -0.02\n",
            "The sparkling lights of the city created a magical scene at night. - Sentiment Score: 0.50\n",
            "The soothing sound of waves crashing on the shore brought a sense of relaxation. - Sentiment Score: 0.40\n",
            "Children played happily in the park. - Sentiment Score: 0.80\n",
            "The ancient ruins told the story of a bygone era. - Sentiment Score: -0.15\n",
            "The winding path led us through the dense forest. - Sentiment Score: 0.00\n",
            "The chef carefully arranged the food into a work of art on the plate. - Sentiment Score: -0.10\n",
            "The moving play about love and loss brought tears to the audience's eyes. - Sentiment Score: 0.50\n",
            "The antique clock ticked quietly on the warm mantel. - Sentiment Score: 0.30\n",
            "The smell of freshly baked cookies wafted through the kitchen. - Sentiment Score: 0.30\n",
            "The fresh mountain air invigorated the senses. - Sentiment Score: 0.30\n",
            "The bustling market was a cacophony of sights and sounds. - Sentiment Score: 0.00\n",
            "The still lake reflected the majestic beauty of the mountains. - Sentiment Score: 0.00\n",
            "Children excitedly built sandcastles on the sunny beach. - Sentiment Score: 0.38\n",
            "The magnificent architecture of the ancient palace awed visitors. - Sentiment Score: 1.00\n",
            "The winding road meandered through the lush green hills. - Sentiment Score: -0.05\n",
            "The talented artist captured the essence of the subject with a few simple strokes. - Sentiment Score: 0.08\n",
            "The enchanting fairy tale transported the reader to a magical world. - Sentiment Score: 0.50\n",
            "The antique grandfather clock ticked steadily on the bookshelf. - Sentiment Score: 0.17\n",
            "The scent of freshly cut grass filled the air. - Sentiment Score: 0.35\n",
            "The breathtaking view from the top of the mountain left visitors speechless. - Sentiment Score: 0.50\n",
            "The colorful coral reef was home to a myriad of fish. - Sentiment Score: 0.30\n",
            "The melodious music of the piano created a relaxing atmosphere. - Sentiment Score: 0.00\n",
            "Children were engrossed in a game of hide-and-seek in the garden. - Sentiment Score: -0.40\n",
            "The ancient ruins were a testament to a glorious civilization. - Sentiment Score: -0.15\n",
            "The winding river flowed peacefully through the golden rice fields. - Sentiment Score: 0.28\n",
            "The skilled craftsman meticulously weaved each bamboo basket. - Sentiment Score: 0.50\n",
            "The terrifying horror movie made the audience's hearts race. - Sentiment Score: -1.00\n",
            "The old swing gently swayed on the porch. - Sentiment Score: 0.15\n"
          ]
        }
      ]
    },
    {
      "cell_type": "markdown",
      "source": [
        "# **ANALYSIS FOR VIETNAMESE VERSION**"
      ],
      "metadata": {
        "id": "MA1Pd8SVP3sI"
      }
    },
    {
      "cell_type": "markdown",
      "source": [
        "TextBlob currently doesn't offer built-in support for Vietnamese sentiment analysis. However,we can use some Python code that outlines a possible approach using an alternative library \"voga\" along with TextBlob for English sentiment analysis:"
      ],
      "metadata": {
        "id": "L408Z0YIQCif"
      }
    },
    {
      "cell_type": "code",
      "source": [
        "!pip install vncorenlp"
      ],
      "metadata": {
        "colab": {
          "base_uri": "https://localhost:8080/"
        },
        "id": "WzaHDFuBQO0q",
        "outputId": "6c1b8c86-6a39-472e-9edd-5f118a1a0df6"
      },
      "execution_count": 1,
      "outputs": [
        {
          "output_type": "stream",
          "name": "stdout",
          "text": [
            "Collecting vncorenlp\n",
            "  Downloading vncorenlp-1.0.3.tar.gz (2.6 MB)\n",
            "\u001b[2K     \u001b[90m━━━━━━━━━━━━━━━━━━━━━━━━━━━━━━━━━━━━━━━━\u001b[0m \u001b[32m2.6/2.6 MB\u001b[0m \u001b[31m17.0 MB/s\u001b[0m eta \u001b[36m0:00:00\u001b[0m\n",
            "\u001b[?25h  Preparing metadata (setup.py) ... \u001b[?25l\u001b[?25hdone\n",
            "Requirement already satisfied: requests in /usr/local/lib/python3.10/dist-packages (from vncorenlp) (2.31.0)\n",
            "Requirement already satisfied: charset-normalizer<4,>=2 in /usr/local/lib/python3.10/dist-packages (from requests->vncorenlp) (3.3.2)\n",
            "Requirement already satisfied: idna<4,>=2.5 in /usr/local/lib/python3.10/dist-packages (from requests->vncorenlp) (3.6)\n",
            "Requirement already satisfied: urllib3<3,>=1.21.1 in /usr/local/lib/python3.10/dist-packages (from requests->vncorenlp) (2.0.7)\n",
            "Requirement already satisfied: certifi>=2017.4.17 in /usr/local/lib/python3.10/dist-packages (from requests->vncorenlp) (2024.2.2)\n",
            "Building wheels for collected packages: vncorenlp\n",
            "  Building wheel for vncorenlp (setup.py) ... \u001b[?25l\u001b[?25hdone\n",
            "  Created wheel for vncorenlp: filename=vncorenlp-1.0.3-py3-none-any.whl size=2645932 sha256=5d009550fadf2f16d56dd7fe461eee4e092e297af3fd22dc1953f01f49b94f6b\n",
            "  Stored in directory: /root/.cache/pip/wheels/5d/d9/b3/41f6c6b1ab758561fd4aab55dc0480b9d7a131c6aaa573a3fa\n",
            "Successfully built vncorenlp\n",
            "Installing collected packages: vncorenlp\n",
            "Successfully installed vncorenlp-1.0.3\n"
          ]
        }
      ]
    },
    {
      "cell_type": "code",
      "source": [
        "!pip install fasttext"
      ],
      "metadata": {
        "colab": {
          "base_uri": "https://localhost:8080/"
        },
        "id": "uSfCA5DqfxtP",
        "outputId": "883418a9-1902-4e28-f595-a0a671d39ab0"
      },
      "execution_count": 2,
      "outputs": [
        {
          "output_type": "stream",
          "name": "stdout",
          "text": [
            "Collecting fasttext\n",
            "  Downloading fasttext-0.9.2.tar.gz (68 kB)\n",
            "\u001b[?25l     \u001b[90m━━━━━━━━━━━━━━━━━━━━━━━━━━━━━━━━━━━━━━━━\u001b[0m \u001b[32m0.0/68.8 kB\u001b[0m \u001b[31m?\u001b[0m eta \u001b[36m-:--:--\u001b[0m\r\u001b[2K     \u001b[90m━━━━━━━━━━━━━━━━━━━━━━━━━━━━━━━━━━━━━━━━\u001b[0m \u001b[32m68.8/68.8 kB\u001b[0m \u001b[31m2.3 MB/s\u001b[0m eta \u001b[36m0:00:00\u001b[0m\n",
            "\u001b[?25h  Preparing metadata (setup.py) ... \u001b[?25l\u001b[?25hdone\n",
            "Collecting pybind11>=2.2 (from fasttext)\n",
            "  Using cached pybind11-2.12.0-py3-none-any.whl (234 kB)\n",
            "Requirement already satisfied: setuptools>=0.7.0 in /usr/local/lib/python3.10/dist-packages (from fasttext) (67.7.2)\n",
            "Requirement already satisfied: numpy in /usr/local/lib/python3.10/dist-packages (from fasttext) (1.25.2)\n",
            "Building wheels for collected packages: fasttext\n",
            "  Building wheel for fasttext (setup.py) ... \u001b[?25l\u001b[?25hdone\n",
            "  Created wheel for fasttext: filename=fasttext-0.9.2-cp310-cp310-linux_x86_64.whl size=4227150 sha256=aaaa6cd5e0cc728f3a0fcde1b7d4974f8065c76c5b7e6ae1f980e559e4a20812\n",
            "  Stored in directory: /root/.cache/pip/wheels/a5/13/75/f811c84a8ab36eedbaef977a6a58a98990e8e0f1967f98f394\n",
            "Successfully built fasttext\n",
            "Installing collected packages: pybind11, fasttext\n",
            "Successfully installed fasttext-0.9.2 pybind11-2.12.0\n"
          ]
        }
      ]
    },
    {
      "cell_type": "code",
      "source": [
        "from vncorenlp import VnCoreNLP\n",
        "import fasttext"
      ],
      "metadata": {
        "id": "4Z06JzP5fxm4"
      },
      "execution_count": 3,
      "outputs": []
    },
    {
      "cell_type": "code",
      "source": [
        "from google.colab import drive\n",
        "drive.mount('/content/drive')"
      ],
      "metadata": {
        "colab": {
          "base_uri": "https://localhost:8080/"
        },
        "id": "uUUx7668fxf1",
        "outputId": "fa075a61-3481-49e2-ecdb-26bbd839520a"
      },
      "execution_count": 4,
      "outputs": [
        {
          "output_type": "stream",
          "name": "stdout",
          "text": [
            "Mounted at /content/drive\n"
          ]
        }
      ]
    },
    {
      "cell_type": "code",
      "source": [
        "# Load VnCoreNLP tokenizer\n",
        "vncorenlp_path = '/content/drive/MyDrive/data/vncorenlp/VnCoreNLP-1.2.jar'  # Specify the path to the jar file\n",
        "annotator = VnCoreNLP(vncorenlp_path)"
      ],
      "metadata": {
        "id": "8BjAPxM9gRvl"
      },
      "execution_count": 5,
      "outputs": []
    },
    {
      "cell_type": "code",
      "source": [
        "# Vietnamese sentences\n",
        "vietnamese_sentences = [\n",
        "    \"Mùi hương cà phê tươi mới pha chế lan tỏa trong không khí.\",\n",
        "\"Bầu trời xanh thẳm điểm những đám mây bông xốp\",\n",
        "\"Ánh đèn lấp lánh của thành phố lung linh huyền ảo về đêm\",\n",
        "\"Tiếng sóng biển vỗ rì rào trên bờ cát mang lại cảm giác thư thái.\",\n",
        "\"Trẻ em nô đùa vui vẻ trong công viên.\",\n",
        "\"Phế tích cổ kính kể câu chuyện về một thời đại đã qua.\",\n",
        "\"Con đường mòn dẫn chúng ta xuyên qua khu rừng rậm rạp.\",\n",
        "\"Đầu bếp tỉ mỉ bày trí món ăn nghệ thuật trên đĩa.\",\n",
        "\"Vở kịch cảm động về tình yêu và sự mất mát lấy nước mắt khán giả.\",\n",
        "\"Đồng hồ cổ tích tắc nhịp nhàng trên lò sưởi ấm áp.\",\n",
        "\"Mùi thơm bánh quy mới nướng lan tỏa khắp bếp.\",\n",
        "\"Không khí trong lành của núi rừng đánh thức các giác quan.\",\n",
        "\"Khu chợ nhộn nhịp với đủ loại hàng hóa và âm thanh sôi động.\",\n",
        "\"Mặt hồ lặng sóng phản chiếu vẻ đẹp hùng vĩ của những ngọn núi.\",\n",
        "\"Trẻ em hân hoan xây lâu đài cát trên bãi biển đầy nắng.\",\n",
        "\"Kiến trúc nguy nga của cung điện cổ kính khiến du khách trầm trồ.\",\n",
        "\"Con đường quanh co uốn lượn qua những quả đồi xanh mướt.\",\n",
        "\"Họa sĩ tài ba chỉ cần vài nét vẽ đã truyền tải được cảm xúc của bức tranh.\",\n",
        "\"Câu chuyện cổ tích kỳ diệu đưa người đọc đến một thế giới thần tiên.\",\n",
        "\"Chiếc đồng hồ quả lắc cổ tích tắc nhịp nhàng trên kệ sách.\",\n",
        "\"Mùi hương cỏ mới cắt lan tỏa khắp cánh đồng.\",\n",
        "\"Cảnh quan ngoạn mục từ đỉnh núi hùng vĩ khiến du khách choáng ngợp.\",\n",
        "\"Rạn san hô đầy màu sắc là nơi trú ngụ của muôn vàn loài cá.\",\n",
        "\"Âm nhạc du dương của đàn piano tạo cảm giác thư giãn.\",\n",
        "\"Trẻ em đang say mê trò chơi trốn tìm trong khu vườn.\",\n",
        "\"Những tàn tích cổ xưa là minh chứng cho một nền văn minh rực rỡ.\",\n",
        "\"Dòng sông uốn khúc chảy hiền hòa qua những cánh đồng lúa chín vàng.\",\n",
        "\"Thợ thủ công lành nghề tỉ mỉ đan lát từng chiếc giỏ tre.\",\n",
        "\"Bộ phim kinh dị rùng rợn khiến khán giả thót tim.\",\n",
        "\"Chiếc võng cũ đung đưa nhẹ nhàng trên hiên nhà.\"\n",
        "]"
      ],
      "metadata": {
        "id": "4rFs2C_Egqc2"
      },
      "execution_count": 26,
      "outputs": []
    },
    {
      "cell_type": "code",
      "source": [
        "# Tokenize the sentences\n",
        "tokenized_sentences = []\n",
        "for sentence in vietnamese_sentences:\n",
        "    tokens = annotator.tokenize(sentence)[0]\n",
        "    tokenized_sentence = \" \".join(tokens)\n",
        "    tokenized_sentences.append(tokenized_sentence)"
      ],
      "metadata": {
        "id": "KDaiLxBc0oXc"
      },
      "execution_count": 27,
      "outputs": []
    },
    {
      "cell_type": "markdown",
      "source": [
        "**Word vectors for 157 languages**\n",
        "\n",
        "https://fasttext.cc/docs/en/crawl-vectors.html"
      ],
      "metadata": {
        "id": "NPe3hzUbmIjB"
      }
    },
    {
      "cell_type": "code",
      "source": [
        "import fasttext.util\n",
        "fasttext.util.download_model('vi', if_exists='ignore')"
      ],
      "metadata": {
        "colab": {
          "base_uri": "https://localhost:8080/",
          "height": 35
        },
        "id": "a1bI_4sZltil",
        "outputId": "560ba1bf-1e4a-460c-9f49-b4e8c6f6581f"
      },
      "execution_count": 23,
      "outputs": [
        {
          "output_type": "execute_result",
          "data": {
            "text/plain": [
              "'cc.vi.300.bin'"
            ],
            "application/vnd.google.colaboratory.intrinsic+json": {
              "type": "string"
            }
          },
          "metadata": {},
          "execution_count": 23
        }
      ]
    },
    {
      "cell_type": "code",
      "source": [
        "# Load the pre-trained Vietnamese model from fastText\n",
        "model = fasttext.load_model('/content/drive/MyDrive/data/vncorenlp/cc.vi.300.bin')"
      ],
      "metadata": {
        "colab": {
          "base_uri": "https://localhost:8080/"
        },
        "id": "SKwEYYIBwQ8u",
        "outputId": "fc5a9ea6-c6b0-493b-8c42-dae38a45ece8"
      },
      "execution_count": 24,
      "outputs": [
        {
          "output_type": "stream",
          "name": "stderr",
          "text": [
            "Warning : `load_model` does not return WordVectorModel or SupervisedModel any more, but a `FastText` object which is very similar.\n"
          ]
        }
      ]
    },
    {
      "cell_type": "code",
      "source": [
        "model.get_dimension()"
      ],
      "metadata": {
        "colab": {
          "base_uri": "https://localhost:8080/"
        },
        "id": "8N2aYGnfvZxa",
        "outputId": "f7eac411-04e7-4544-b81b-d7a59ff037e9"
      },
      "execution_count": 25,
      "outputs": [
        {
          "output_type": "execute_result",
          "data": {
            "text/plain": [
              "300"
            ]
          },
          "metadata": {},
          "execution_count": 25
        }
      ]
    },
    {
      "cell_type": "code",
      "source": [
        "# Load pre-trained FastText model for sentiment analysis\n",
        "# Replace '/path/to/pretrained_model.bin' with the path to your pre-trained FastText model\n",
        "#model_path = 'https://dl.fbaipublicfiles.com/fasttext/vectors-crawl/cc.vi.300.bin'\n",
        "#model = fasttext.load_model(model_path)"
      ],
      "metadata": {
        "id": "kSmABE_ggqSh"
      },
      "execution_count": 52,
      "outputs": []
    },
    {
      "cell_type": "code",
      "source": [
        "# Perform sentiment analysis\n",
        "sentiment_labels = []\n",
        "for sentence in vietnamese_sentences:\n",
        "    # Get sentence embedding\n",
        "    sentence_embedding = model.get_sentence_vector(sentence)\n",
        "    # Perform classification based on the embedding (example: positive if the first dimension is greater than 0)\n",
        "    if sentence_embedding[0] > 0:\n",
        "        sentiment_labels.append('positive')\n",
        "    else:\n",
        "        sentiment_labels.append('negative')"
      ],
      "metadata": {
        "id": "5uaNlFBU3j8m"
      },
      "execution_count": 29,
      "outputs": []
    },
    {
      "cell_type": "code",
      "source": [
        "# Display sentiment labels for each sentence\n",
        "for sentence, label in zip(vietnamese_sentences, sentiment_labels):\n",
        "    print(\"Sentence:\", sentence)\n",
        "    print(\"Sentiment:\", label)\n",
        "    print()"
      ],
      "metadata": {
        "colab": {
          "base_uri": "https://localhost:8080/"
        },
        "id": "NBuBEpdBv0jv",
        "outputId": "c525f190-d2f5-4c08-ccbb-742117c8e90d"
      },
      "execution_count": 30,
      "outputs": [
        {
          "output_type": "stream",
          "name": "stdout",
          "text": [
            "Sentence: Mùi hương cà phê tươi mới pha chế lan tỏa trong không khí.\n",
            "Sentiment: negative\n",
            "\n",
            "Sentence: Bầu trời xanh thẳm điểm những đám mây bông xốp\n",
            "Sentiment: negative\n",
            "\n",
            "Sentence: Ánh đèn lấp lánh của thành phố lung linh huyền ảo về đêm\n",
            "Sentiment: negative\n",
            "\n",
            "Sentence: Tiếng sóng biển vỗ rì rào trên bờ cát mang lại cảm giác thư thái.\n",
            "Sentiment: negative\n",
            "\n",
            "Sentence: Trẻ em nô đùa vui vẻ trong công viên.\n",
            "Sentiment: negative\n",
            "\n",
            "Sentence: Phế tích cổ kính kể câu chuyện về một thời đại đã qua.\n",
            "Sentiment: negative\n",
            "\n",
            "Sentence: Con đường mòn dẫn chúng ta xuyên qua khu rừng rậm rạp.\n",
            "Sentiment: negative\n",
            "\n",
            "Sentence: Đầu bếp tỉ mỉ bày trí món ăn nghệ thuật trên đĩa.\n",
            "Sentiment: negative\n",
            "\n",
            "Sentence: Vở kịch cảm động về tình yêu và sự mất mát lấy nước mắt khán giả.\n",
            "Sentiment: negative\n",
            "\n",
            "Sentence: Đồng hồ cổ tích tắc nhịp nhàng trên lò sưởi ấm áp.\n",
            "Sentiment: positive\n",
            "\n",
            "Sentence: Mùi thơm bánh quy mới nướng lan tỏa khắp bếp.\n",
            "Sentiment: positive\n",
            "\n",
            "Sentence: Không khí trong lành của núi rừng đánh thức các giác quan.\n",
            "Sentiment: negative\n",
            "\n",
            "Sentence: Khu chợ nhộn nhịp với đủ loại hàng hóa và âm thanh sôi động.\n",
            "Sentiment: negative\n",
            "\n",
            "Sentence: Mặt hồ lặng sóng phản chiếu vẻ đẹp hùng vĩ của những ngọn núi.\n",
            "Sentiment: negative\n",
            "\n",
            "Sentence: Trẻ em hân hoan xây lâu đài cát trên bãi biển đầy nắng.\n",
            "Sentiment: negative\n",
            "\n",
            "Sentence: Kiến trúc nguy nga của cung điện cổ kính khiến du khách trầm trồ.\n",
            "Sentiment: negative\n",
            "\n",
            "Sentence: Con đường quanh co uốn lượn qua những quả đồi xanh mướt.\n",
            "Sentiment: negative\n",
            "\n",
            "Sentence: Họa sĩ tài ba chỉ cần vài nét vẽ đã truyền tải được cảm xúc của bức tranh.\n",
            "Sentiment: negative\n",
            "\n",
            "Sentence: Câu chuyện cổ tích kỳ diệu đưa người đọc đến một thế giới thần tiên.\n",
            "Sentiment: negative\n",
            "\n",
            "Sentence: Chiếc đồng hồ quả lắc cổ tích tắc nhịp nhàng trên kệ sách.\n",
            "Sentiment: negative\n",
            "\n",
            "Sentence: Mùi hương cỏ mới cắt lan tỏa khắp cánh đồng.\n",
            "Sentiment: positive\n",
            "\n",
            "Sentence: Cảnh quan ngoạn mục từ đỉnh núi hùng vĩ khiến du khách choáng ngợp.\n",
            "Sentiment: positive\n",
            "\n",
            "Sentence: Rạn san hô đầy màu sắc là nơi trú ngụ của muôn vàn loài cá.\n",
            "Sentiment: negative\n",
            "\n",
            "Sentence: Âm nhạc du dương của đàn piano tạo cảm giác thư giãn.\n",
            "Sentiment: positive\n",
            "\n",
            "Sentence: Trẻ em đang say mê trò chơi trốn tìm trong khu vườn.\n",
            "Sentiment: negative\n",
            "\n",
            "Sentence: Những tàn tích cổ xưa là minh chứng cho một nền văn minh rực rỡ.\n",
            "Sentiment: negative\n",
            "\n",
            "Sentence: Dòng sông uốn khúc chảy hiền hòa qua những cánh đồng lúa chín vàng.\n",
            "Sentiment: positive\n",
            "\n",
            "Sentence: Thợ thủ công lành nghề tỉ mỉ đan lát từng chiếc giỏ tre.\n",
            "Sentiment: negative\n",
            "\n",
            "Sentence: Bộ phim kinh dị rùng rợn khiến khán giả thót tim.\n",
            "Sentiment: negative\n",
            "\n",
            "Sentence: Chiếc võng cũ đung đưa nhẹ nhàng trên hiên nhà.\n",
            "Sentiment: negative\n",
            "\n"
          ]
        }
      ]
    },
    {
      "cell_type": "markdown",
      "source": [
        "# Add Sentiment Polarity Scores to Vietnamese dataframe"
      ],
      "metadata": {
        "id": "60451Cux_CA1"
      }
    },
    {
      "cell_type": "code",
      "source": [
        "import pandas as pd\n",
        "import fasttext"
      ],
      "metadata": {
        "id": "xNpX9facgqOv"
      },
      "execution_count": 31,
      "outputs": []
    },
    {
      "cell_type": "code",
      "source": [
        "# load the pretrain Vietnamese model from fastText\n",
        "model = fasttext.load_model('/content/drive/MyDrive/data/vncorenlp/cc.vi.300.bin')"
      ],
      "metadata": {
        "colab": {
          "base_uri": "https://localhost:8080/"
        },
        "id": "R6kUhc0i_ap3",
        "outputId": "ded47d00-87aa-4ca7-d9b4-b52fed565336"
      },
      "execution_count": 32,
      "outputs": [
        {
          "output_type": "stream",
          "name": "stderr",
          "text": [
            "Warning : `load_model` does not return WordVectorModel or SupervisedModel any more, but a `FastText` object which is very similar.\n"
          ]
        }
      ]
    },
    {
      "cell_type": "code",
      "source": [
        "# load the Vietnamese text file\n",
        "vi_text_file =  pd.read_csv('/content/drive/MyDrive/data/vi_text_100.csv')"
      ],
      "metadata": {
        "id": "xRI-4hgm_ajI"
      },
      "execution_count": 34,
      "outputs": []
    },
    {
      "cell_type": "code",
      "source": [
        "# calculate sentiment polarity scores for each sentence\n",
        "sentiment_polarity_scores = []\n",
        "for sentence in vi_text_file['sentence']:\n",
        "    # Get sentence embedding\n",
        "    sentence_embedding = model.get_sentence_vector(sentence)\n",
        "    # Calculate polarity score (e.g., using the dot product of the embedding with a positive/negative vector)\n",
        "    # For simplicity, let's use the dot product with a positive/negative unit vector\n",
        "    positive_vector = [1, 0, 0]  # Positive unit vector\n",
        "    negative_vector = [-1, 0, 0]  # Negative unit vector\n",
        "    positive_score = sum(x * y for x, y in zip(sentence_embedding, positive_vector))\n",
        "    negative_score = sum(x * y for x, y in zip(sentence_embedding, negative_vector))\n",
        "    polarity_score = positive_score - negative_score\n",
        "    sentiment_polarity_scores.append(polarity_score)"
      ],
      "metadata": {
        "id": "8MHykWMy_Bp8"
      },
      "execution_count": 35,
      "outputs": []
    },
    {
      "cell_type": "code",
      "source": [
        "# add sentiment polarity scores as a new column in the dataframe\n",
        "vi_text_file['sentiment_polarity_score'] = sentiment_polarity_scores"
      ],
      "metadata": {
        "id": "IVTF63ke_BmZ"
      },
      "execution_count": 36,
      "outputs": []
    },
    {
      "cell_type": "code",
      "source": [
        "vi_text_file.head()"
      ],
      "metadata": {
        "colab": {
          "base_uri": "https://localhost:8080/",
          "height": 206
        },
        "id": "L1-kT1bSA__L",
        "outputId": "342acaba-45ec-4f28-c03c-7a312abdf93c"
      },
      "execution_count": 37,
      "outputs": [
        {
          "output_type": "execute_result",
          "data": {
            "text/plain": [
              "                                            sentence  sentiment  \\\n",
              "0  Mùi hương cà phê tươi mới pha chế lan tỏa tron...        NaN   \n",
              "1         Màu sắc rực rỡ của lá mùa thu mê hoặc tôi.        NaN   \n",
              "2  Đường chân trời của thành phố lung linh dưới á...        NaN   \n",
              "3      Âm thanh sóng biển vỗ bờ xoa dịu tâm hồn tôi.        NaN   \n",
              "4   Tiếng cười của trẻ em vang vọng khắp công viên.         NaN   \n",
              "\n",
              "   sentiment_polarity_score  \n",
              "0                 -0.005781  \n",
              "1                 -0.051023  \n",
              "2                 -0.102682  \n",
              "3                  0.073980  \n",
              "4                 -0.016465  "
            ],
            "text/html": [
              "\n",
              "  <div id=\"df-40fea462-7627-4c8c-aec7-086d5d30c476\" class=\"colab-df-container\">\n",
              "    <div>\n",
              "<style scoped>\n",
              "    .dataframe tbody tr th:only-of-type {\n",
              "        vertical-align: middle;\n",
              "    }\n",
              "\n",
              "    .dataframe tbody tr th {\n",
              "        vertical-align: top;\n",
              "    }\n",
              "\n",
              "    .dataframe thead th {\n",
              "        text-align: right;\n",
              "    }\n",
              "</style>\n",
              "<table border=\"1\" class=\"dataframe\">\n",
              "  <thead>\n",
              "    <tr style=\"text-align: right;\">\n",
              "      <th></th>\n",
              "      <th>sentence</th>\n",
              "      <th>sentiment</th>\n",
              "      <th>sentiment_polarity_score</th>\n",
              "    </tr>\n",
              "  </thead>\n",
              "  <tbody>\n",
              "    <tr>\n",
              "      <th>0</th>\n",
              "      <td>Mùi hương cà phê tươi mới pha chế lan tỏa tron...</td>\n",
              "      <td>NaN</td>\n",
              "      <td>-0.005781</td>\n",
              "    </tr>\n",
              "    <tr>\n",
              "      <th>1</th>\n",
              "      <td>Màu sắc rực rỡ của lá mùa thu mê hoặc tôi.</td>\n",
              "      <td>NaN</td>\n",
              "      <td>-0.051023</td>\n",
              "    </tr>\n",
              "    <tr>\n",
              "      <th>2</th>\n",
              "      <td>Đường chân trời của thành phố lung linh dưới á...</td>\n",
              "      <td>NaN</td>\n",
              "      <td>-0.102682</td>\n",
              "    </tr>\n",
              "    <tr>\n",
              "      <th>3</th>\n",
              "      <td>Âm thanh sóng biển vỗ bờ xoa dịu tâm hồn tôi.</td>\n",
              "      <td>NaN</td>\n",
              "      <td>0.073980</td>\n",
              "    </tr>\n",
              "    <tr>\n",
              "      <th>4</th>\n",
              "      <td>Tiếng cười của trẻ em vang vọng khắp công viên.</td>\n",
              "      <td>NaN</td>\n",
              "      <td>-0.016465</td>\n",
              "    </tr>\n",
              "  </tbody>\n",
              "</table>\n",
              "</div>\n",
              "    <div class=\"colab-df-buttons\">\n",
              "\n",
              "  <div class=\"colab-df-container\">\n",
              "    <button class=\"colab-df-convert\" onclick=\"convertToInteractive('df-40fea462-7627-4c8c-aec7-086d5d30c476')\"\n",
              "            title=\"Convert this dataframe to an interactive table.\"\n",
              "            style=\"display:none;\">\n",
              "\n",
              "  <svg xmlns=\"http://www.w3.org/2000/svg\" height=\"24px\" viewBox=\"0 -960 960 960\">\n",
              "    <path d=\"M120-120v-720h720v720H120Zm60-500h600v-160H180v160Zm220 220h160v-160H400v160Zm0 220h160v-160H400v160ZM180-400h160v-160H180v160Zm440 0h160v-160H620v160ZM180-180h160v-160H180v160Zm440 0h160v-160H620v160Z\"/>\n",
              "  </svg>\n",
              "    </button>\n",
              "\n",
              "  <style>\n",
              "    .colab-df-container {\n",
              "      display:flex;\n",
              "      gap: 12px;\n",
              "    }\n",
              "\n",
              "    .colab-df-convert {\n",
              "      background-color: #E8F0FE;\n",
              "      border: none;\n",
              "      border-radius: 50%;\n",
              "      cursor: pointer;\n",
              "      display: none;\n",
              "      fill: #1967D2;\n",
              "      height: 32px;\n",
              "      padding: 0 0 0 0;\n",
              "      width: 32px;\n",
              "    }\n",
              "\n",
              "    .colab-df-convert:hover {\n",
              "      background-color: #E2EBFA;\n",
              "      box-shadow: 0px 1px 2px rgba(60, 64, 67, 0.3), 0px 1px 3px 1px rgba(60, 64, 67, 0.15);\n",
              "      fill: #174EA6;\n",
              "    }\n",
              "\n",
              "    .colab-df-buttons div {\n",
              "      margin-bottom: 4px;\n",
              "    }\n",
              "\n",
              "    [theme=dark] .colab-df-convert {\n",
              "      background-color: #3B4455;\n",
              "      fill: #D2E3FC;\n",
              "    }\n",
              "\n",
              "    [theme=dark] .colab-df-convert:hover {\n",
              "      background-color: #434B5C;\n",
              "      box-shadow: 0px 1px 3px 1px rgba(0, 0, 0, 0.15);\n",
              "      filter: drop-shadow(0px 1px 2px rgba(0, 0, 0, 0.3));\n",
              "      fill: #FFFFFF;\n",
              "    }\n",
              "  </style>\n",
              "\n",
              "    <script>\n",
              "      const buttonEl =\n",
              "        document.querySelector('#df-40fea462-7627-4c8c-aec7-086d5d30c476 button.colab-df-convert');\n",
              "      buttonEl.style.display =\n",
              "        google.colab.kernel.accessAllowed ? 'block' : 'none';\n",
              "\n",
              "      async function convertToInteractive(key) {\n",
              "        const element = document.querySelector('#df-40fea462-7627-4c8c-aec7-086d5d30c476');\n",
              "        const dataTable =\n",
              "          await google.colab.kernel.invokeFunction('convertToInteractive',\n",
              "                                                    [key], {});\n",
              "        if (!dataTable) return;\n",
              "\n",
              "        const docLinkHtml = 'Like what you see? Visit the ' +\n",
              "          '<a target=\"_blank\" href=https://colab.research.google.com/notebooks/data_table.ipynb>data table notebook</a>'\n",
              "          + ' to learn more about interactive tables.';\n",
              "        element.innerHTML = '';\n",
              "        dataTable['output_type'] = 'display_data';\n",
              "        await google.colab.output.renderOutput(dataTable, element);\n",
              "        const docLink = document.createElement('div');\n",
              "        docLink.innerHTML = docLinkHtml;\n",
              "        element.appendChild(docLink);\n",
              "      }\n",
              "    </script>\n",
              "  </div>\n",
              "\n",
              "\n",
              "<div id=\"df-6e697d4e-252a-4b2d-9c15-c4fe884fb893\">\n",
              "  <button class=\"colab-df-quickchart\" onclick=\"quickchart('df-6e697d4e-252a-4b2d-9c15-c4fe884fb893')\"\n",
              "            title=\"Suggest charts\"\n",
              "            style=\"display:none;\">\n",
              "\n",
              "<svg xmlns=\"http://www.w3.org/2000/svg\" height=\"24px\"viewBox=\"0 0 24 24\"\n",
              "     width=\"24px\">\n",
              "    <g>\n",
              "        <path d=\"M19 3H5c-1.1 0-2 .9-2 2v14c0 1.1.9 2 2 2h14c1.1 0 2-.9 2-2V5c0-1.1-.9-2-2-2zM9 17H7v-7h2v7zm4 0h-2V7h2v10zm4 0h-2v-4h2v4z\"/>\n",
              "    </g>\n",
              "</svg>\n",
              "  </button>\n",
              "\n",
              "<style>\n",
              "  .colab-df-quickchart {\n",
              "      --bg-color: #E8F0FE;\n",
              "      --fill-color: #1967D2;\n",
              "      --hover-bg-color: #E2EBFA;\n",
              "      --hover-fill-color: #174EA6;\n",
              "      --disabled-fill-color: #AAA;\n",
              "      --disabled-bg-color: #DDD;\n",
              "  }\n",
              "\n",
              "  [theme=dark] .colab-df-quickchart {\n",
              "      --bg-color: #3B4455;\n",
              "      --fill-color: #D2E3FC;\n",
              "      --hover-bg-color: #434B5C;\n",
              "      --hover-fill-color: #FFFFFF;\n",
              "      --disabled-bg-color: #3B4455;\n",
              "      --disabled-fill-color: #666;\n",
              "  }\n",
              "\n",
              "  .colab-df-quickchart {\n",
              "    background-color: var(--bg-color);\n",
              "    border: none;\n",
              "    border-radius: 50%;\n",
              "    cursor: pointer;\n",
              "    display: none;\n",
              "    fill: var(--fill-color);\n",
              "    height: 32px;\n",
              "    padding: 0;\n",
              "    width: 32px;\n",
              "  }\n",
              "\n",
              "  .colab-df-quickchart:hover {\n",
              "    background-color: var(--hover-bg-color);\n",
              "    box-shadow: 0 1px 2px rgba(60, 64, 67, 0.3), 0 1px 3px 1px rgba(60, 64, 67, 0.15);\n",
              "    fill: var(--button-hover-fill-color);\n",
              "  }\n",
              "\n",
              "  .colab-df-quickchart-complete:disabled,\n",
              "  .colab-df-quickchart-complete:disabled:hover {\n",
              "    background-color: var(--disabled-bg-color);\n",
              "    fill: var(--disabled-fill-color);\n",
              "    box-shadow: none;\n",
              "  }\n",
              "\n",
              "  .colab-df-spinner {\n",
              "    border: 2px solid var(--fill-color);\n",
              "    border-color: transparent;\n",
              "    border-bottom-color: var(--fill-color);\n",
              "    animation:\n",
              "      spin 1s steps(1) infinite;\n",
              "  }\n",
              "\n",
              "  @keyframes spin {\n",
              "    0% {\n",
              "      border-color: transparent;\n",
              "      border-bottom-color: var(--fill-color);\n",
              "      border-left-color: var(--fill-color);\n",
              "    }\n",
              "    20% {\n",
              "      border-color: transparent;\n",
              "      border-left-color: var(--fill-color);\n",
              "      border-top-color: var(--fill-color);\n",
              "    }\n",
              "    30% {\n",
              "      border-color: transparent;\n",
              "      border-left-color: var(--fill-color);\n",
              "      border-top-color: var(--fill-color);\n",
              "      border-right-color: var(--fill-color);\n",
              "    }\n",
              "    40% {\n",
              "      border-color: transparent;\n",
              "      border-right-color: var(--fill-color);\n",
              "      border-top-color: var(--fill-color);\n",
              "    }\n",
              "    60% {\n",
              "      border-color: transparent;\n",
              "      border-right-color: var(--fill-color);\n",
              "    }\n",
              "    80% {\n",
              "      border-color: transparent;\n",
              "      border-right-color: var(--fill-color);\n",
              "      border-bottom-color: var(--fill-color);\n",
              "    }\n",
              "    90% {\n",
              "      border-color: transparent;\n",
              "      border-bottom-color: var(--fill-color);\n",
              "    }\n",
              "  }\n",
              "</style>\n",
              "\n",
              "  <script>\n",
              "    async function quickchart(key) {\n",
              "      const quickchartButtonEl =\n",
              "        document.querySelector('#' + key + ' button');\n",
              "      quickchartButtonEl.disabled = true;  // To prevent multiple clicks.\n",
              "      quickchartButtonEl.classList.add('colab-df-spinner');\n",
              "      try {\n",
              "        const charts = await google.colab.kernel.invokeFunction(\n",
              "            'suggestCharts', [key], {});\n",
              "      } catch (error) {\n",
              "        console.error('Error during call to suggestCharts:', error);\n",
              "      }\n",
              "      quickchartButtonEl.classList.remove('colab-df-spinner');\n",
              "      quickchartButtonEl.classList.add('colab-df-quickchart-complete');\n",
              "    }\n",
              "    (() => {\n",
              "      let quickchartButtonEl =\n",
              "        document.querySelector('#df-6e697d4e-252a-4b2d-9c15-c4fe884fb893 button');\n",
              "      quickchartButtonEl.style.display =\n",
              "        google.colab.kernel.accessAllowed ? 'block' : 'none';\n",
              "    })();\n",
              "  </script>\n",
              "</div>\n",
              "\n",
              "    </div>\n",
              "  </div>\n"
            ],
            "application/vnd.google.colaboratory.intrinsic+json": {
              "type": "dataframe",
              "variable_name": "vi_text_file",
              "summary": "{\n  \"name\": \"vi_text_file\",\n  \"rows\": 100,\n  \"fields\": [\n    {\n      \"column\": \"sentence\",\n      \"properties\": {\n        \"dtype\": \"string\",\n        \"num_unique_values\": 98,\n        \"samples\": [\n          \"Tr\\u1ebb em \\u0111ang b\\u1eadn r\\u1ed9n x\\u00e2y d\\u1ef1ng m\\u1ed9t ph\\u00e1o \\u0111\\u00e0i b\\u1eb1ng ch\\u0103n v\\u00e0 g\\u1ed1i.\",\n          \"M\\u00e0u s\\u1eafc r\\u1ef1c r\\u1ee1 c\\u1ee7a ho\\u00e0ng h\\u00f4n nhu\\u1ed9m b\\u1ea7u tr\\u1eddi th\\u00e0nh nh\\u1eefng s\\u1eafc cam v\\u00e0 h\\u1ed3ng.\",\n          \"Con \\u0111\\u01b0\\u1eddng m\\u00f2n d\\u1eabn ch\\u00fang t\\u00f4i \\u0111\\u1ebfn m\\u1ed9t th\\u00e1c n\\u01b0\\u1edbc \\u1ea9n n\\u00e1u \\u0111\\u1ed5 xu\\u1ed1ng nh\\u1eefng t\\u1ea3ng \\u0111\\u00e1.\"\n        ],\n        \"semantic_type\": \"\",\n        \"description\": \"\"\n      }\n    },\n    {\n      \"column\": \"sentiment\",\n      \"properties\": {\n        \"dtype\": \"number\",\n        \"std\": null,\n        \"min\": null,\n        \"max\": null,\n        \"num_unique_values\": 0,\n        \"samples\": [],\n        \"semantic_type\": \"\",\n        \"description\": \"\"\n      }\n    },\n    {\n      \"column\": \"sentiment_polarity_score\",\n      \"properties\": {\n        \"dtype\": \"number\",\n        \"std\": 0.034297921528040995,\n        \"min\": -0.1026824340224266,\n        \"max\": 0.07398011535406113,\n        \"num_unique_values\": 98,\n        \"samples\": [],\n        \"semantic_type\": \"\",\n        \"description\": \"\"\n      }\n    }\n  ]\n}"
            }
          },
          "metadata": {},
          "execution_count": 37
        }
      ]
    },
    {
      "cell_type": "markdown",
      "source": [
        "# Add new column for Sentiment values"
      ],
      "metadata": {
        "id": "xncYFsM0BzG5"
      }
    },
    {
      "cell_type": "code",
      "source": [
        "# define thresholds for sentiment classification\n",
        "positive_threshold = 0.1\n",
        "negative_threshold = -0.1"
      ],
      "metadata": {
        "id": "pJkZ0yhABxSO"
      },
      "execution_count": 38,
      "outputs": []
    },
    {
      "cell_type": "code",
      "source": [
        "# function to classify sentiment based on polarity score\n",
        "def classify_sentiment(polarity_score):\n",
        "    if polarity_score > positive_threshold:\n",
        "        return 'positive'\n",
        "    elif polarity_score < negative_threshold:\n",
        "        return 'negative'\n",
        "    else:\n",
        "        return 'neutral'"
      ],
      "metadata": {
        "id": "mJmY9rEgBxKh"
      },
      "execution_count": 39,
      "outputs": []
    },
    {
      "cell_type": "code",
      "source": [
        "# apply sentiment classfication to each row in the dataframe\n",
        "vi_text_file['sentiment'] = vi_text_file['sentiment_polarity_score'].apply(classify_sentiment)"
      ],
      "metadata": {
        "id": "mk4MAXNNA_0e"
      },
      "execution_count": 40,
      "outputs": []
    },
    {
      "cell_type": "code",
      "source": [
        "vi_text_file.head()"
      ],
      "metadata": {
        "colab": {
          "base_uri": "https://localhost:8080/",
          "height": 206
        },
        "id": "QeaqKT4OP_jp",
        "outputId": "eeb19256-24c7-4556-bc64-1f03c1d8d3ac"
      },
      "execution_count": 41,
      "outputs": [
        {
          "output_type": "execute_result",
          "data": {
            "text/plain": [
              "                                            sentence sentiment  \\\n",
              "0  Mùi hương cà phê tươi mới pha chế lan tỏa tron...   neutral   \n",
              "1         Màu sắc rực rỡ của lá mùa thu mê hoặc tôi.   neutral   \n",
              "2  Đường chân trời của thành phố lung linh dưới á...  negative   \n",
              "3      Âm thanh sóng biển vỗ bờ xoa dịu tâm hồn tôi.   neutral   \n",
              "4   Tiếng cười của trẻ em vang vọng khắp công viên.    neutral   \n",
              "\n",
              "   sentiment_polarity_score  \n",
              "0                 -0.005781  \n",
              "1                 -0.051023  \n",
              "2                 -0.102682  \n",
              "3                  0.073980  \n",
              "4                 -0.016465  "
            ],
            "text/html": [
              "\n",
              "  <div id=\"df-6b9694b6-4d29-421b-bbe5-8c645b5be69f\" class=\"colab-df-container\">\n",
              "    <div>\n",
              "<style scoped>\n",
              "    .dataframe tbody tr th:only-of-type {\n",
              "        vertical-align: middle;\n",
              "    }\n",
              "\n",
              "    .dataframe tbody tr th {\n",
              "        vertical-align: top;\n",
              "    }\n",
              "\n",
              "    .dataframe thead th {\n",
              "        text-align: right;\n",
              "    }\n",
              "</style>\n",
              "<table border=\"1\" class=\"dataframe\">\n",
              "  <thead>\n",
              "    <tr style=\"text-align: right;\">\n",
              "      <th></th>\n",
              "      <th>sentence</th>\n",
              "      <th>sentiment</th>\n",
              "      <th>sentiment_polarity_score</th>\n",
              "    </tr>\n",
              "  </thead>\n",
              "  <tbody>\n",
              "    <tr>\n",
              "      <th>0</th>\n",
              "      <td>Mùi hương cà phê tươi mới pha chế lan tỏa tron...</td>\n",
              "      <td>neutral</td>\n",
              "      <td>-0.005781</td>\n",
              "    </tr>\n",
              "    <tr>\n",
              "      <th>1</th>\n",
              "      <td>Màu sắc rực rỡ của lá mùa thu mê hoặc tôi.</td>\n",
              "      <td>neutral</td>\n",
              "      <td>-0.051023</td>\n",
              "    </tr>\n",
              "    <tr>\n",
              "      <th>2</th>\n",
              "      <td>Đường chân trời của thành phố lung linh dưới á...</td>\n",
              "      <td>negative</td>\n",
              "      <td>-0.102682</td>\n",
              "    </tr>\n",
              "    <tr>\n",
              "      <th>3</th>\n",
              "      <td>Âm thanh sóng biển vỗ bờ xoa dịu tâm hồn tôi.</td>\n",
              "      <td>neutral</td>\n",
              "      <td>0.073980</td>\n",
              "    </tr>\n",
              "    <tr>\n",
              "      <th>4</th>\n",
              "      <td>Tiếng cười của trẻ em vang vọng khắp công viên.</td>\n",
              "      <td>neutral</td>\n",
              "      <td>-0.016465</td>\n",
              "    </tr>\n",
              "  </tbody>\n",
              "</table>\n",
              "</div>\n",
              "    <div class=\"colab-df-buttons\">\n",
              "\n",
              "  <div class=\"colab-df-container\">\n",
              "    <button class=\"colab-df-convert\" onclick=\"convertToInteractive('df-6b9694b6-4d29-421b-bbe5-8c645b5be69f')\"\n",
              "            title=\"Convert this dataframe to an interactive table.\"\n",
              "            style=\"display:none;\">\n",
              "\n",
              "  <svg xmlns=\"http://www.w3.org/2000/svg\" height=\"24px\" viewBox=\"0 -960 960 960\">\n",
              "    <path d=\"M120-120v-720h720v720H120Zm60-500h600v-160H180v160Zm220 220h160v-160H400v160Zm0 220h160v-160H400v160ZM180-400h160v-160H180v160Zm440 0h160v-160H620v160ZM180-180h160v-160H180v160Zm440 0h160v-160H620v160Z\"/>\n",
              "  </svg>\n",
              "    </button>\n",
              "\n",
              "  <style>\n",
              "    .colab-df-container {\n",
              "      display:flex;\n",
              "      gap: 12px;\n",
              "    }\n",
              "\n",
              "    .colab-df-convert {\n",
              "      background-color: #E8F0FE;\n",
              "      border: none;\n",
              "      border-radius: 50%;\n",
              "      cursor: pointer;\n",
              "      display: none;\n",
              "      fill: #1967D2;\n",
              "      height: 32px;\n",
              "      padding: 0 0 0 0;\n",
              "      width: 32px;\n",
              "    }\n",
              "\n",
              "    .colab-df-convert:hover {\n",
              "      background-color: #E2EBFA;\n",
              "      box-shadow: 0px 1px 2px rgba(60, 64, 67, 0.3), 0px 1px 3px 1px rgba(60, 64, 67, 0.15);\n",
              "      fill: #174EA6;\n",
              "    }\n",
              "\n",
              "    .colab-df-buttons div {\n",
              "      margin-bottom: 4px;\n",
              "    }\n",
              "\n",
              "    [theme=dark] .colab-df-convert {\n",
              "      background-color: #3B4455;\n",
              "      fill: #D2E3FC;\n",
              "    }\n",
              "\n",
              "    [theme=dark] .colab-df-convert:hover {\n",
              "      background-color: #434B5C;\n",
              "      box-shadow: 0px 1px 3px 1px rgba(0, 0, 0, 0.15);\n",
              "      filter: drop-shadow(0px 1px 2px rgba(0, 0, 0, 0.3));\n",
              "      fill: #FFFFFF;\n",
              "    }\n",
              "  </style>\n",
              "\n",
              "    <script>\n",
              "      const buttonEl =\n",
              "        document.querySelector('#df-6b9694b6-4d29-421b-bbe5-8c645b5be69f button.colab-df-convert');\n",
              "      buttonEl.style.display =\n",
              "        google.colab.kernel.accessAllowed ? 'block' : 'none';\n",
              "\n",
              "      async function convertToInteractive(key) {\n",
              "        const element = document.querySelector('#df-6b9694b6-4d29-421b-bbe5-8c645b5be69f');\n",
              "        const dataTable =\n",
              "          await google.colab.kernel.invokeFunction('convertToInteractive',\n",
              "                                                    [key], {});\n",
              "        if (!dataTable) return;\n",
              "\n",
              "        const docLinkHtml = 'Like what you see? Visit the ' +\n",
              "          '<a target=\"_blank\" href=https://colab.research.google.com/notebooks/data_table.ipynb>data table notebook</a>'\n",
              "          + ' to learn more about interactive tables.';\n",
              "        element.innerHTML = '';\n",
              "        dataTable['output_type'] = 'display_data';\n",
              "        await google.colab.output.renderOutput(dataTable, element);\n",
              "        const docLink = document.createElement('div');\n",
              "        docLink.innerHTML = docLinkHtml;\n",
              "        element.appendChild(docLink);\n",
              "      }\n",
              "    </script>\n",
              "  </div>\n",
              "\n",
              "\n",
              "<div id=\"df-9a0ab038-4354-4776-b96a-e73d7b327741\">\n",
              "  <button class=\"colab-df-quickchart\" onclick=\"quickchart('df-9a0ab038-4354-4776-b96a-e73d7b327741')\"\n",
              "            title=\"Suggest charts\"\n",
              "            style=\"display:none;\">\n",
              "\n",
              "<svg xmlns=\"http://www.w3.org/2000/svg\" height=\"24px\"viewBox=\"0 0 24 24\"\n",
              "     width=\"24px\">\n",
              "    <g>\n",
              "        <path d=\"M19 3H5c-1.1 0-2 .9-2 2v14c0 1.1.9 2 2 2h14c1.1 0 2-.9 2-2V5c0-1.1-.9-2-2-2zM9 17H7v-7h2v7zm4 0h-2V7h2v10zm4 0h-2v-4h2v4z\"/>\n",
              "    </g>\n",
              "</svg>\n",
              "  </button>\n",
              "\n",
              "<style>\n",
              "  .colab-df-quickchart {\n",
              "      --bg-color: #E8F0FE;\n",
              "      --fill-color: #1967D2;\n",
              "      --hover-bg-color: #E2EBFA;\n",
              "      --hover-fill-color: #174EA6;\n",
              "      --disabled-fill-color: #AAA;\n",
              "      --disabled-bg-color: #DDD;\n",
              "  }\n",
              "\n",
              "  [theme=dark] .colab-df-quickchart {\n",
              "      --bg-color: #3B4455;\n",
              "      --fill-color: #D2E3FC;\n",
              "      --hover-bg-color: #434B5C;\n",
              "      --hover-fill-color: #FFFFFF;\n",
              "      --disabled-bg-color: #3B4455;\n",
              "      --disabled-fill-color: #666;\n",
              "  }\n",
              "\n",
              "  .colab-df-quickchart {\n",
              "    background-color: var(--bg-color);\n",
              "    border: none;\n",
              "    border-radius: 50%;\n",
              "    cursor: pointer;\n",
              "    display: none;\n",
              "    fill: var(--fill-color);\n",
              "    height: 32px;\n",
              "    padding: 0;\n",
              "    width: 32px;\n",
              "  }\n",
              "\n",
              "  .colab-df-quickchart:hover {\n",
              "    background-color: var(--hover-bg-color);\n",
              "    box-shadow: 0 1px 2px rgba(60, 64, 67, 0.3), 0 1px 3px 1px rgba(60, 64, 67, 0.15);\n",
              "    fill: var(--button-hover-fill-color);\n",
              "  }\n",
              "\n",
              "  .colab-df-quickchart-complete:disabled,\n",
              "  .colab-df-quickchart-complete:disabled:hover {\n",
              "    background-color: var(--disabled-bg-color);\n",
              "    fill: var(--disabled-fill-color);\n",
              "    box-shadow: none;\n",
              "  }\n",
              "\n",
              "  .colab-df-spinner {\n",
              "    border: 2px solid var(--fill-color);\n",
              "    border-color: transparent;\n",
              "    border-bottom-color: var(--fill-color);\n",
              "    animation:\n",
              "      spin 1s steps(1) infinite;\n",
              "  }\n",
              "\n",
              "  @keyframes spin {\n",
              "    0% {\n",
              "      border-color: transparent;\n",
              "      border-bottom-color: var(--fill-color);\n",
              "      border-left-color: var(--fill-color);\n",
              "    }\n",
              "    20% {\n",
              "      border-color: transparent;\n",
              "      border-left-color: var(--fill-color);\n",
              "      border-top-color: var(--fill-color);\n",
              "    }\n",
              "    30% {\n",
              "      border-color: transparent;\n",
              "      border-left-color: var(--fill-color);\n",
              "      border-top-color: var(--fill-color);\n",
              "      border-right-color: var(--fill-color);\n",
              "    }\n",
              "    40% {\n",
              "      border-color: transparent;\n",
              "      border-right-color: var(--fill-color);\n",
              "      border-top-color: var(--fill-color);\n",
              "    }\n",
              "    60% {\n",
              "      border-color: transparent;\n",
              "      border-right-color: var(--fill-color);\n",
              "    }\n",
              "    80% {\n",
              "      border-color: transparent;\n",
              "      border-right-color: var(--fill-color);\n",
              "      border-bottom-color: var(--fill-color);\n",
              "    }\n",
              "    90% {\n",
              "      border-color: transparent;\n",
              "      border-bottom-color: var(--fill-color);\n",
              "    }\n",
              "  }\n",
              "</style>\n",
              "\n",
              "  <script>\n",
              "    async function quickchart(key) {\n",
              "      const quickchartButtonEl =\n",
              "        document.querySelector('#' + key + ' button');\n",
              "      quickchartButtonEl.disabled = true;  // To prevent multiple clicks.\n",
              "      quickchartButtonEl.classList.add('colab-df-spinner');\n",
              "      try {\n",
              "        const charts = await google.colab.kernel.invokeFunction(\n",
              "            'suggestCharts', [key], {});\n",
              "      } catch (error) {\n",
              "        console.error('Error during call to suggestCharts:', error);\n",
              "      }\n",
              "      quickchartButtonEl.classList.remove('colab-df-spinner');\n",
              "      quickchartButtonEl.classList.add('colab-df-quickchart-complete');\n",
              "    }\n",
              "    (() => {\n",
              "      let quickchartButtonEl =\n",
              "        document.querySelector('#df-9a0ab038-4354-4776-b96a-e73d7b327741 button');\n",
              "      quickchartButtonEl.style.display =\n",
              "        google.colab.kernel.accessAllowed ? 'block' : 'none';\n",
              "    })();\n",
              "  </script>\n",
              "</div>\n",
              "\n",
              "    </div>\n",
              "  </div>\n"
            ],
            "application/vnd.google.colaboratory.intrinsic+json": {
              "type": "dataframe",
              "variable_name": "vi_text_file",
              "summary": "{\n  \"name\": \"vi_text_file\",\n  \"rows\": 100,\n  \"fields\": [\n    {\n      \"column\": \"sentence\",\n      \"properties\": {\n        \"dtype\": \"string\",\n        \"num_unique_values\": 98,\n        \"samples\": [\n          \"Tr\\u1ebb em \\u0111ang b\\u1eadn r\\u1ed9n x\\u00e2y d\\u1ef1ng m\\u1ed9t ph\\u00e1o \\u0111\\u00e0i b\\u1eb1ng ch\\u0103n v\\u00e0 g\\u1ed1i.\",\n          \"M\\u00e0u s\\u1eafc r\\u1ef1c r\\u1ee1 c\\u1ee7a ho\\u00e0ng h\\u00f4n nhu\\u1ed9m b\\u1ea7u tr\\u1eddi th\\u00e0nh nh\\u1eefng s\\u1eafc cam v\\u00e0 h\\u1ed3ng.\",\n          \"Con \\u0111\\u01b0\\u1eddng m\\u00f2n d\\u1eabn ch\\u00fang t\\u00f4i \\u0111\\u1ebfn m\\u1ed9t th\\u00e1c n\\u01b0\\u1edbc \\u1ea9n n\\u00e1u \\u0111\\u1ed5 xu\\u1ed1ng nh\\u1eefng t\\u1ea3ng \\u0111\\u00e1.\"\n        ],\n        \"semantic_type\": \"\",\n        \"description\": \"\"\n      }\n    },\n    {\n      \"column\": \"sentiment\",\n      \"properties\": {\n        \"dtype\": \"category\",\n        \"num_unique_values\": 2,\n        \"samples\": [\n          \"negative\",\n          \"neutral\"\n        ],\n        \"semantic_type\": \"\",\n        \"description\": \"\"\n      }\n    },\n    {\n      \"column\": \"sentiment_polarity_score\",\n      \"properties\": {\n        \"dtype\": \"number\",\n        \"std\": 0.034297921528040995,\n        \"min\": -0.1026824340224266,\n        \"max\": 0.07398011535406113,\n        \"num_unique_values\": 98,\n        \"samples\": [\n          -0.0396459624171257,\n          -0.0673276036977768\n        ],\n        \"semantic_type\": \"\",\n        \"description\": \"\"\n      }\n    }\n  ]\n}"
            }
          },
          "metadata": {},
          "execution_count": 41
        }
      ]
    },
    {
      "cell_type": "code",
      "source": [
        "# Save the updated DataFrame to a new CSV file\n",
        "vi_text_file.to_csv('/content/drive/MyDrive/data/final_vietnamese_text_file.csv', index=False)"
      ],
      "metadata": {
        "id": "i9k1oNDWCo1Q"
      },
      "execution_count": 42,
      "outputs": []
    },
    {
      "cell_type": "code",
      "source": [],
      "metadata": {
        "id": "seJ4DVSBGJ98"
      },
      "execution_count": null,
      "outputs": []
    }
  ]
}